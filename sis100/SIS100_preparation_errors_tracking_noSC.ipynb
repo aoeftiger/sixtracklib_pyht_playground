{
 "cells": [
  {
   "cell_type": "code",
   "execution_count": 1,
   "metadata": {},
   "outputs": [],
   "source": [
    "import numpy as np\n",
    "import matplotlib.pyplot as plt\n",
    "%matplotlib inline\n",
    "\n",
    "import seaborn as sns\n",
    "sns.set_context('talk', font_scale=1.2, rc={'lines.linewidth': 3})\n",
    "sns.set_style('whitegrid',\n",
    "              {'grid.linestyle': ':', 'grid.color': 'red', 'axes.edgecolor': '0.5',\n",
    "               'axes.linewidth': 1.2, 'legend.frameon': True})\n"
   ]
  },
  {
   "cell_type": "code",
   "execution_count": 2,
   "metadata": {},
   "outputs": [],
   "source": [
    "from scipy.constants import e, m_p, c\n",
    "\n",
    "from scipy.constants import physical_constants"
   ]
  },
  {
   "cell_type": "code",
   "execution_count": 3,
   "metadata": {},
   "outputs": [],
   "source": [
    "from cpymad.madx import Madx\n",
    "\n",
    "import pysixtracklib as pyst"
   ]
  },
  {
   "cell_type": "code",
   "execution_count": 4,
   "metadata": {},
   "outputs": [],
   "source": [
    "nmass = physical_constants['atomic mass constant energy equivalent in MeV'][0] * 1e-3\n",
    "nmass = 0.931494061 # MAD-X value"
   ]
  },
  {
   "cell_type": "markdown",
   "metadata": {},
   "source": [
    "### $\\implies$ hard coded apertures in PySixTrackLib!!!"
   ]
  },
  {
   "cell_type": "code",
   "execution_count": 5,
   "metadata": {},
   "outputs": [
    {
     "name": "stdout",
     "output_type": "stream",
     "text": [
      "\n",
      "  ++++++++++++++++++++++++++++++++++++++++++++\n",
      "  +     MAD-X 5.04.02  (64 bit, Linux)       +\n",
      "  + Support: mad@cern.ch, http://cern.ch/mad +\n",
      "  + Release   date: 2018.10.03               +\n",
      "  + Execution date: 2019.05.29 11:16:53      +\n",
      "  ++++++++++++++++++++++++++++++++++++++++++++\n"
     ]
    }
   ],
   "source": [
    "madx = Madx()\n",
    "madx.options.echo = False\n",
    "# madx.options.warn = False\n",
    "# madx.options.info = False"
   ]
  },
  {
   "cell_type": "code",
   "execution_count": 6,
   "metadata": {},
   "outputs": [],
   "source": [
    "madxwarn = madx.options.warn\n",
    "madx.options.warn = False\n",
    "madx.call('./SIS100_RF_220618_9slices.thin.seq')\n",
    "madx.options.warn = madxwarn"
   ]
  },
  {
   "cell_type": "code",
   "execution_count": 7,
   "metadata": {},
   "outputs": [
    {
     "data": {
      "text/plain": [
       "True"
      ]
     },
     "execution_count": 7,
     "metadata": {},
     "output_type": "execute_result"
    }
   ],
   "source": [
    "madx.command.beam(particle='ion', mass=238*nmass, charge=28, energy=238*0.2+238*nmass)"
   ]
  },
  {
   "cell_type": "code",
   "execution_count": 8,
   "metadata": {},
   "outputs": [
    {
     "data": {
      "text/plain": [
       "1.2147088300115314"
      ]
     },
     "execution_count": 8,
     "metadata": {},
     "output_type": "execute_result"
    }
   ],
   "source": [
    "(238*0.2 + 238*nmass)/(238*nmass)"
   ]
  },
  {
   "cell_type": "code",
   "execution_count": 9,
   "metadata": {},
   "outputs": [
    {
     "name": "stdout",
     "output_type": "stream",
     "text": [
      "beam->gamma        =         1.21470883 ;\n"
     ]
    },
    {
     "data": {
      "text/plain": [
       "True"
      ]
     },
     "execution_count": 9,
     "metadata": {},
     "output_type": "execute_result"
    }
   ],
   "source": [
    "madx.command.value('beam->gamma')"
   ]
  },
  {
   "cell_type": "code",
   "execution_count": 10,
   "metadata": {},
   "outputs": [
    {
     "data": {
      "text/plain": [
       "0.5676897891526991"
      ]
     },
     "execution_count": 10,
     "metadata": {},
     "output_type": "execute_result"
    }
   ],
   "source": [
    "np.sqrt(1 - 1.21470883**-2)"
   ]
  },
  {
   "cell_type": "code",
   "execution_count": 11,
   "metadata": {},
   "outputs": [
    {
     "name": "stdout",
     "output_type": "stream",
     "text": [
      "beam->beta         =       0.5676897892 ;\n"
     ]
    },
    {
     "data": {
      "text/plain": [
       "True"
      ]
     },
     "execution_count": 11,
     "metadata": {},
     "output_type": "execute_result"
    }
   ],
   "source": [
    "madx.command.value('beam->beta')"
   ]
  },
  {
   "cell_type": "code",
   "execution_count": 12,
   "metadata": {},
   "outputs": [],
   "source": [
    "# madxwarn = madx.options.warn\n",
    "# madxinfo = madx.options.info\n",
    "# madx.options.warn = False\n",
    "# madx.options.info = False\n",
    "# madx.call('./OpticsYEH_BeamParameters.str')\n",
    "# madx.options.warn = madxwarn\n",
    "# madx.options.info = madxinfo"
   ]
  },
  {
   "cell_type": "code",
   "execution_count": 13,
   "metadata": {},
   "outputs": [],
   "source": [
    "madx.call('Coll+Errors+BeamDistr.madx')"
   ]
  },
  {
   "cell_type": "code",
   "execution_count": 14,
   "metadata": {},
   "outputs": [],
   "source": [
    "#madx.call('Beam, sequence=SIS100RING, particle=U28, charge=charge_proj, mass=mass_proj, energy=energy_tot;')"
   ]
  },
  {
   "cell_type": "code",
   "execution_count": 15,
   "metadata": {},
   "outputs": [],
   "source": [
    "madx.use(sequence='sis100ring')"
   ]
  },
  {
   "cell_type": "markdown",
   "metadata": {},
   "source": [
    "uncomment and call this to create the error file if it is not already there:"
   ]
  },
  {
   "cell_type": "code",
   "execution_count": 16,
   "metadata": {},
   "outputs": [],
   "source": [
    "# madx.call(file='track-noSpCh.madx')"
   ]
  },
  {
   "cell_type": "code",
   "execution_count": 17,
   "metadata": {},
   "outputs": [],
   "source": [
    "madx.options.info = True\n",
    "madx.options.warn = True\n",
    "madx.options.echo = True"
   ]
  },
  {
   "cell_type": "code",
   "execution_count": 18,
   "metadata": {},
   "outputs": [
    {
     "name": "stdout",
     "output_type": "stream",
     "text": [
      "++++++ info: seqedit - number of elements installed:  0\n",
      "++++++ info: seqedit - number of elements moved:      0\n",
      "++++++ info: seqedit - number of elements removed:    1631\n",
      "++++++ info: seqedit - number of elements replaced:   0\n",
      "++++++ warning: ignored, unknown command or element: (null)\n",
      "++++++ info: seqedit - number of elements installed:  0\n",
      "++++++ info: seqedit - number of elements moved:      0\n",
      "++++++ info: seqedit - number of elements removed:    272\n",
      "++++++ info: seqedit - number of elements replaced:   0\n"
     ]
    },
    {
     "data": {
      "text/plain": [
       "True"
      ]
     },
     "execution_count": 18,
     "metadata": {},
     "output_type": "execute_result"
    }
   ],
   "source": [
    "madx.input('''\n",
    "select, flag=seqedit, class=collimator;\n",
    "select, flag=seqedit, class=hmonitor;\n",
    "select, flag=seqedit, class=vmonitor;\n",
    "select, flag=seqedit, class=kicker;\n",
    "select, flag=seqedit, class=tkicker;\n",
    "select, flag=seqedit, class=dipedge;\n",
    "select, flag=seqedit, class=elseparator;\n",
    "\n",
    "seqedit, sequence=SIS100RING;\n",
    "    remove, element=selected;\n",
    "    flatten;\n",
    "endedit;\n",
    "\n",
    "select, flag=seqedit, class=marker;\n",
    "seqedit, sequence=SIS100RING;\n",
    "    remove, element=selected;\n",
    "    install, element=SIS100RING$START, s=0;\n",
    "    flatten;\n",
    "endedit;\n",
    "''')"
   ]
  },
  {
   "cell_type": "code",
   "execution_count": 19,
   "metadata": {},
   "outputs": [],
   "source": [
    "madx.use(sequence='sis100ring')"
   ]
  },
  {
   "cell_type": "code",
   "execution_count": 20,
   "metadata": {},
   "outputs": [
    {
     "name": "stdout",
     "output_type": "stream",
     "text": [
      "START MATCHING\n",
      "\n",
      "number of sequences: 1\n",
      "sequence name: sis100ring\n",
      "number of variables:    2\n",
      "user given constraints: 2\n",
      "total constraints:      2\n",
      "\n",
      "START LMDIF:\n",
      "\n",
      "\n",
      "MATCH SUMMARY\n",
      "\n",
      "Node_Name                  Constraint   Type  Target Value       Final Value        Penalty\n",
      "--------------------------------------------------------------------------------------------------\n",
      "\n",
      "\n",
      "Final Penalty Function =   9.76233322e-14\n",
      "\n",
      "\n",
      "\n",
      "\n",
      "\n",
      "Variable                 Final Value  Initial Value Lower Limit  Upper Limit \n",
      "--------------------------------------------------------------------------------\n",
      "kqf                       2.80423e-01  2.81561e-01 -1.00000e+20  1.00000e+20\n",
      "kqd                      -2.80318e-01 -2.80530e-01 -1.00000e+20  1.00000e+20\n",
      "\n",
      "END MATCH SUMMARY\n",
      "\n",
      "VARIABLE \"TAR\" SET TO   9.76233322e-14\n"
     ]
    },
    {
     "data": {
      "text/plain": [
       "True"
      ]
     },
     "execution_count": 20,
     "metadata": {},
     "output_type": "execute_result"
    }
   ],
   "source": [
    "madx.input('''\n",
    "match, sequence=SIS100RING;\n",
    "global, sequence=SIS100RING, q1=18+0.84, q2=18+0.73;\n",
    "vary, name=kqf, step=0.00001;\n",
    "vary, name=kqd, step=0.00001;\n",
    "lmdif, calls=500, tolerance=1.0e-10;\n",
    "endmatch;\n",
    "''')"
   ]
  },
  {
   "cell_type": "code",
   "execution_count": 21,
   "metadata": {},
   "outputs": [
    {
     "name": "stdout",
     "output_type": "stream",
     "text": [
      "enter Twiss module\n",
      "\n",
      "++++++ table: summ\n",
      "\n",
      "            length             orbit5               alfa            gammatr \n",
      "            1083.6                 -0     0.004027068361        15.75815976 \n",
      "\n",
      "                q1                dq1            betxmax              dxmax \n",
      "       18.83999997       -39.72125434        20.22078028        3.058964118 \n",
      "\n",
      "             dxrms             xcomax             xcorms                 q2 \n",
      "       1.354219469                  0                  0        18.73000001 \n",
      "\n",
      "               dq2            betymax              dymax              dyrms \n",
      "       -39.6969035        20.17629495                  0                  0 \n",
      "\n",
      "            ycomax             ycorms             deltap            synch_1 \n",
      "                 0                  0                  0                  0 \n",
      "\n",
      "           synch_2            synch_3            synch_4            synch_5 \n",
      "                 0                  0                  0                  0 \n",
      "\n",
      "            nflips \n",
      "                 0 \n"
     ]
    }
   ],
   "source": [
    "twiss = madx.twiss();"
   ]
  },
  {
   "cell_type": "markdown",
   "metadata": {},
   "source": [
    "# add magnet errors to actual lattice definition"
   ]
  },
  {
   "cell_type": "code",
   "execution_count": 22,
   "metadata": {},
   "outputs": [
    {
     "name": "stdout",
     "output_type": "stream",
     "text": [
      "Want to make named table: errors\n"
     ]
    }
   ],
   "source": [
    "filename_error_table = \"./errors_84_73_1\"\n",
    "\n",
    "madx.command.readtable(file=filename_error_table, table=\"errors\")\n",
    "errors = madx.table.errors"
   ]
  },
  {
   "cell_type": "code",
   "execution_count": 23,
   "metadata": {},
   "outputs": [],
   "source": [
    "# add multipole order errors to lattice:\n",
    "relevant_errs = [category for category in errors.keys() \n",
    "                 if any(errors[category]) and category != 'name'\n",
    "                 and category[:1] == 'k' and category[-1:] == 'l']\n",
    "\n",
    "for el_idx, elem_name in enumerate(errors.name):\n",
    "    el = madx.elements[elem_name]\n",
    "    for category in relevant_errs:\n",
    "        err_val = errors[category][el_idx]\n",
    "        if not err_val:\n",
    "            continue\n",
    "\n",
    "        if not 's' in category:\n",
    "            # normal knl component\n",
    "            order = int(category[1:-1])\n",
    "            try:\n",
    "                el.knl[order] += err_val\n",
    "            except IndexError:\n",
    "                el.knl[order] = err_val\n",
    "        else:\n",
    "            # skew ksl component\n",
    "            order = int(category[1:-2])\n",
    "            try:\n",
    "                el.ksl[order] += err_val\n",
    "            except IndexError:\n",
    "                el.ksl[order] = err_val"
   ]
  },
  {
   "cell_type": "code",
   "execution_count": 24,
   "metadata": {},
   "outputs": [],
   "source": [
    "madx.use(sequence='SIS100RING')"
   ]
  },
  {
   "cell_type": "code",
   "execution_count": 25,
   "metadata": {},
   "outputs": [
    {
     "name": "stdout",
     "output_type": "stream",
     "text": [
      "++++++ warning: SAVE makes all previous USE invalid !  \n"
     ]
    },
    {
     "data": {
      "text/plain": [
       "True"
      ]
     },
     "execution_count": 25,
     "metadata": {},
     "output_type": "execute_result"
    }
   ],
   "source": [
    "madx.command.save(sequence='sis100ring', file=filename_error_table + '_full-lattice.seq')"
   ]
  },
  {
   "cell_type": "code",
   "execution_count": 26,
   "metadata": {},
   "outputs": [
    {
     "name": "stdout",
     "output_type": "stream",
     "text": [
      "\n",
      "  Number of warnings: 2\n",
      "2 in C and 0 in Fortran\n",
      "\n",
      "  ++++++++++++++++++++++++++++++++++++++++++++\n",
      "  +          MAD-X finished normally         +\n",
      "  ++++++++++++++++++++++++++++++++++++++++++++\n"
     ]
    },
    {
     "data": {
      "text/plain": [
       "True"
      ]
     },
     "execution_count": 26,
     "metadata": {},
     "output_type": "execute_result"
    }
   ],
   "source": [
    "madx.command.stop()"
   ]
  },
  {
   "cell_type": "markdown",
   "metadata": {},
   "source": [
    "### $\\implies$ missing dx, dy and dphi errors still!"
   ]
  },
  {
   "cell_type": "markdown",
   "metadata": {},
   "source": [
    "# read in lattice with errors in full definition"
   ]
  },
  {
   "cell_type": "code",
   "execution_count": 27,
   "metadata": {},
   "outputs": [],
   "source": [
    "filename_error_table = \"./errors_84_73_1\""
   ]
  },
  {
   "cell_type": "code",
   "execution_count": 28,
   "metadata": {},
   "outputs": [
    {
     "name": "stdout",
     "output_type": "stream",
     "text": [
      "\n",
      "  ++++++++++++++++++++++++++++++++++++++++++++\n",
      "  +     MAD-X 5.04.02  (64 bit, Linux)       +\n",
      "  + Support: mad@cern.ch, http://cern.ch/mad +\n",
      "  + Release   date: 2018.10.03               +\n",
      "  + Execution date: 2019.05.29 11:17:46      +\n",
      "  ++++++++++++++++++++++++++++++++++++++++++++\n"
     ]
    }
   ],
   "source": [
    "madx = Madx()\n",
    "madx.options.echo = False\n",
    "# madx.options.warn = False\n",
    "# madx.options.info = False"
   ]
  },
  {
   "cell_type": "code",
   "execution_count": 29,
   "metadata": {},
   "outputs": [],
   "source": [
    "madxwarn = madx.options.warn\n",
    "madx.options.warn = False\n",
    "madx.call(file=filename_error_table + '_full-lattice.seq')\n",
    "madx.options.warn = madxwarn"
   ]
  },
  {
   "cell_type": "code",
   "execution_count": 30,
   "metadata": {},
   "outputs": [
    {
     "data": {
      "text/plain": [
       "True"
      ]
     },
     "execution_count": 30,
     "metadata": {},
     "output_type": "execute_result"
    }
   ],
   "source": [
    "madx.command.beam(particle='ion', mass=238*nmass, charge=28, energy=238*0.2+238*nmass)"
   ]
  },
  {
   "cell_type": "code",
   "execution_count": 31,
   "metadata": {},
   "outputs": [],
   "source": [
    "madx.use(sequence='SIS100RING')"
   ]
  },
  {
   "cell_type": "code",
   "execution_count": 32,
   "metadata": {},
   "outputs": [
    {
     "name": "stdout",
     "output_type": "stream",
     "text": [
      "enter Twiss module\n",
      "\n",
      "++++++ table: summ\n",
      "\n",
      "            length             orbit5               alfa            gammatr \n",
      "            1083.6                 -0     0.004026716913        15.75884742 \n",
      "\n",
      "                q1                dq1            betxmax              dxmax \n",
      "       18.84004946       -36.61323035        20.24439745        3.066526854 \n",
      "\n",
      "             dxrms             xcomax             xcorms                 q2 \n",
      "       1.353969808                  0                  0        18.73003552 \n",
      "\n",
      "               dq2            betymax              dymax              dyrms \n",
      "      -42.57489919        20.23824339      0.03748494188      0.01268944322 \n",
      "\n",
      "            ycomax             ycorms             deltap            synch_1 \n",
      "                 0                  0                  0                  0 \n",
      "\n",
      "           synch_2            synch_3            synch_4            synch_5 \n",
      "                 0                  0                  0                  0 \n",
      "\n",
      "            nflips \n",
      "                 0 \n"
     ]
    }
   ],
   "source": [
    "twiss = madx.twiss();"
   ]
  },
  {
   "cell_type": "code",
   "execution_count": 33,
   "metadata": {},
   "outputs": [],
   "source": [
    "sis100 = madx.sequence.sis100ring"
   ]
  },
  {
   "cell_type": "code",
   "execution_count": 34,
   "metadata": {},
   "outputs": [
    {
     "data": {
      "text/plain": [
       "['marker', 'marker']"
      ]
     },
     "execution_count": 34,
     "metadata": {},
     "output_type": "execute_result"
    }
   ],
   "source": [
    "[f.name for f in map(lambda x: x.base_type, sis100.expanded_elements) \n",
    " if 'drift' != f.name and 'multipole' != f.name and 'rfcavity' != f.name]"
   ]
  },
  {
   "cell_type": "markdown",
   "metadata": {},
   "source": [
    "# done, go to PySTL"
   ]
  },
  {
   "cell_type": "code",
   "execution_count": 35,
   "metadata": {},
   "outputs": [],
   "source": [
    "elements = pyst.Elements.from_mad(sis100)"
   ]
  },
  {
   "cell_type": "code",
   "execution_count": 36,
   "metadata": {},
   "outputs": [
    {
     "data": {
      "text/plain": [
       "3607"
      ]
     },
     "execution_count": 36,
     "metadata": {},
     "output_type": "execute_result"
    }
   ],
   "source": [
    "len(elements.get_elements())"
   ]
  },
  {
   "cell_type": "code",
   "execution_count": 37,
   "metadata": {},
   "outputs": [],
   "source": [
    "nturns = 20000 #2**16\n",
    "elements.BeamMonitor(num_stores=nturns);"
   ]
  },
  {
   "cell_type": "code",
   "execution_count": 38,
   "metadata": {},
   "outputs": [],
   "source": [
    "p0c = 238*0.2 * 1e9"
   ]
  },
  {
   "cell_type": "code",
   "execution_count": 39,
   "metadata": {},
   "outputs": [],
   "source": [
    "npart = 1000\n",
    "particles = pyst.Particles.from_ref(npart, p0c=p0c, q0=28, mass0=238*nmass*1e9)"
   ]
  },
  {
   "cell_type": "code",
   "execution_count": 40,
   "metadata": {},
   "outputs": [],
   "source": [
    "epsx_rms_fin = 35e-6 / 4 # geometrical emittances\n",
    "epsy_rms_fin = 15e-6 / 4\n",
    "\n",
    "epsx_gauss = epsx_rms_fin #* 1.778\n",
    "epsy_gauss = epsy_rms_fin #* 1.82\n",
    "\n",
    "sig_z = 58 / 4. # in m\n",
    "sig_dp = 0.5e-3"
   ]
  },
  {
   "cell_type": "code",
   "execution_count": 41,
   "metadata": {},
   "outputs": [],
   "source": [
    "np.random.seed(987654321)\n",
    "\n",
    "x = np.random.normal(\n",
    "    loc=0, scale=np.sqrt(twiss['betx'][0] * epsx_gauss), size=npart)\n",
    "xp = np.random.normal(\n",
    "     loc=0, scale=np.sqrt(epsx_gauss / twiss['betx'][0]), size=npart)\n",
    "xp += -twiss['alfx'][0] / twiss['betx'][0] * x\n",
    "\n",
    "y = np.random.normal(\n",
    "    loc=0, scale=np.sqrt(twiss['bety'][0] * epsy_gauss), size=npart)\n",
    "yp = np.random.normal(\n",
    "     loc=0, scale=np.sqrt(epsy_gauss / twiss['bety'][0]), size=npart)\n",
    "yp += -twiss['alfy'][0] / twiss['bety'][0] * y\n",
    "\n",
    "z = np.random.normal(loc=0, scale=sig_z, size=npart)\n",
    "dp = np.random.normal(loc=0, scale=sig_dp, size=npart)"
   ]
  },
  {
   "cell_type": "code",
   "execution_count": 42,
   "metadata": {},
   "outputs": [
    {
     "data": {
      "image/png": "[encoded data removed]",
      "text/plain": [
       "<Figure size 1080x360 with 3 Axes>"
      ]
     },
     "metadata": {
      "needs_background": "light"
     },
     "output_type": "display_data"
    }
   ],
   "source": [
    "fig, ax = plt.subplots(1, 3, figsize=(15, 5))\n",
    "\n",
    "plt.sca(ax[0])\n",
    "plt.title('$x-x\\'$')\n",
    "plt.scatter(x, xp)\n",
    "\n",
    "plt.sca(ax[1])\n",
    "plt.title('$y-y\\'$')\n",
    "plt.scatter(y, yp)\n",
    "\n",
    "plt.sca(ax[2])\n",
    "plt.title('$z-\\delta$')\n",
    "plt.scatter(z, dp)\n",
    "plt.tight_layout()"
   ]
  },
  {
   "cell_type": "code",
   "execution_count": 43,
   "metadata": {},
   "outputs": [],
   "source": [
    "particles.x *= 0\n",
    "particles.px *= 0\n",
    "particles.y *= 0\n",
    "particles.py *= 0\n",
    "particles.zeta *= 0\n",
    "particles.delta *= 0\n",
    "\n",
    "particles.x += x\n",
    "particles.px += xp\n",
    "particles.y += y\n",
    "particles.py += yp\n",
    "particles.zeta += z\n",
    "particles.delta += dp"
   ]
  },
  {
   "cell_type": "code",
   "execution_count": 44,
   "metadata": {},
   "outputs": [],
   "source": [
    "job = pyst.TrackJob(elements, particles, device=\"opencl:1.0\")"
   ]
  },
  {
   "cell_type": "code",
   "execution_count": 45,
   "metadata": {},
   "outputs": [
    {
     "data": {
      "text/plain": [
       "0"
      ]
     },
     "execution_count": 45,
     "metadata": {},
     "output_type": "execute_result"
    }
   ],
   "source": [
    "job.track(nturns)"
   ]
  },
  {
   "cell_type": "code",
   "execution_count": 46,
   "metadata": {},
   "outputs": [],
   "source": [
    "job.collect()"
   ]
  },
  {
   "cell_type": "code",
   "execution_count": 47,
   "metadata": {},
   "outputs": [],
   "source": [
    "rec_x = job.output.particles[0].x\n",
    "rec_y = job.output.particles[0].y"
   ]
  },
  {
   "cell_type": "code",
   "execution_count": 48,
   "metadata": {},
   "outputs": [
    {
     "data": {
      "text/plain": [
       "[<matplotlib.lines.Line2D at 0x7fa03c931a58>]"
      ]
     },
     "execution_count": 48,
     "metadata": {},
     "output_type": "execute_result"
    },
    {
     "data": {
      "image/png": "[encoded data removed]",
      "text/plain": [
       "<Figure size 432x288 with 1 Axes>"
      ]
     },
     "metadata": {
      "needs_background": "light"
     },
     "output_type": "display_data"
    }
   ],
   "source": [
    "plt.plot(rec_x[1::npart])\n",
    "plt.plot(rec_y[1::npart])"
   ]
  },
  {
   "cell_type": "code",
   "execution_count": 49,
   "metadata": {},
   "outputs": [],
   "source": [
    "pbuffer = job.particles_buffer.get_object(0)"
   ]
  },
  {
   "cell_type": "code",
   "execution_count": 50,
   "metadata": {},
   "outputs": [
    {
     "data": {
      "image/png": "[encoded data removed]",
      "text/plain": [
       "<Figure size 432x288 with 1 Axes>"
      ]
     },
     "metadata": {
      "needs_background": "light"
     },
     "output_type": "display_data"
    }
   ],
   "source": [
    "plt.hist(pbuffer.state, bins=2);\n",
    "plt.ylabel('no. particles')\n",
    "plt.xticks(ticks=[0.25, 0.75], labels=['dead', 'alive']);"
   ]
  },
  {
   "cell_type": "code",
   "execution_count": 51,
   "metadata": {},
   "outputs": [
    {
     "data": {
      "image/png": "[encoded data removed]",
      "text/plain": [
       "<Figure size 432x288 with 1 Axes>"
      ]
     },
     "metadata": {
      "needs_background": "light"
     },
     "output_type": "display_data"
    }
   ],
   "source": [
    "plt.title('fixed global aperture')\n",
    "plt.hist(pbuffer.at_element[~pbuffer.state.astype(bool)]);\n",
    "plt.ylabel('no. particles')\n",
    "plt.xlabel('no. element of loss');"
   ]
  },
  {
   "cell_type": "code",
   "execution_count": 52,
   "metadata": {},
   "outputs": [
    {
     "name": "stderr",
     "output_type": "stream",
     "text": [
      "/opt/sixtracklib/virenv/lib/python3.7/site-packages/matplotlib/ticker.py:2241: UserWarning: Data has no positive values, and therefore cannot be log-scaled.\n",
      "  \"Data has no positive values, and therefore cannot be \"\n"
     ]
    },
    {
     "data": {
      "image/png": "[encoded data removed]",
      "text/plain": [
       "<Figure size 432x288 with 1 Axes>"
      ]
     },
     "metadata": {
      "needs_background": "light"
     },
     "output_type": "display_data"
    }
   ],
   "source": [
    "plt.hist(pbuffer.at_turn[~pbuffer.state.astype(bool)], bins=25);\n",
    "plt.yscale('log')\n",
    "plt.ylabel('no. particles')\n",
    "plt.xlabel('turn number of loss');"
   ]
  },
  {
   "cell_type": "code",
   "execution_count": 53,
   "metadata": {},
   "outputs": [],
   "source": [
    "Qx = twiss.summary['q1']\n",
    "qx = Qx % 1\n",
    "qx = qx if qx < 0.5 else 1 - qx\n",
    "\n",
    "Qy = twiss.summary['q2']\n",
    "qy = Qy % 1\n",
    "qy = qy if qy < 0.5 else 1 - qy"
   ]
  },
  {
   "cell_type": "code",
   "execution_count": 54,
   "metadata": {},
   "outputs": [
    {
     "data": {
      "image/png": "[encoded data removed]",
      "text/plain": [
       "<Figure size 1080x360 with 2 Axes>"
      ]
     },
     "metadata": {
      "needs_background": "light"
     },
     "output_type": "display_data"
    }
   ],
   "source": [
    "fig, ax = plt.subplots(1, 2, figsize=(15, 5))\n",
    "\n",
    "plt.sca(ax[0])\n",
    "plt.title('horizontal plane')\n",
    "plt.plot(\n",
    "    np.fft.rfftfreq(len(rec_x[1::npart])),\n",
    "    np.sum(np.abs(np.fft.rfft(rec_x.reshape(nturns, npart).T, axis=1)), axis=0),\n",
    "    label=r'incoherent spectrum $x$'\n",
    ")\n",
    "plt.axvline(qx, color='darkorange', zorder=-1,\n",
    "            label='TWISS tune $(1-q_x)$')\n",
    "plt.xlim(qx - 0.05, qx + 0.01)\n",
    "plt.legend()\n",
    "\n",
    "plt.sca(ax[1])\n",
    "plt.title('vertical plane')\n",
    "plt.plot(\n",
    "    np.fft.rfftfreq(len(rec_y[1::npart])),\n",
    "    np.sum(np.abs(np.fft.rfft(rec_y.reshape(nturns, npart).T, axis=1)), axis=0),\n",
    "    label=r'incoherent spectrum $y$'\n",
    ")\n",
    "plt.axvline(qy, color='darkorange', zorder=-1,\n",
    "            label='TWISS tune $(1-q_y)$')\n",
    "plt.xlim(qy - 0.01, qy + 0.04)\n",
    "plt.legend()\n",
    "\n",
    "plt.suptitle('SIS100: single particle tracking in PySixTrackLib', y=1.06, fontsize=26);\n",
    "# plt.savefig('./pystl_sis100_tunes.pdf', bbox_inches='tight')"
   ]
  },
  {
   "cell_type": "markdown",
   "metadata": {},
   "source": [
    "# what happens without momentum spread?"
   ]
  },
  {
   "cell_type": "code",
   "execution_count": 35,
   "metadata": {},
   "outputs": [],
   "source": [
    "elements = pyst.Elements.from_mad(sis100)"
   ]
  },
  {
   "cell_type": "code",
   "execution_count": 36,
   "metadata": {},
   "outputs": [],
   "source": [
    "nturns = 20000 #2**16\n",
    "elements.BeamMonitor(num_stores=nturns);"
   ]
  },
  {
   "cell_type": "code",
   "execution_count": 37,
   "metadata": {},
   "outputs": [],
   "source": [
    "p0c = 238*0.2 * 1e9"
   ]
  },
  {
   "cell_type": "code",
   "execution_count": 38,
   "metadata": {},
   "outputs": [],
   "source": [
    "npart = 1000\n",
    "particles = pyst.Particles.from_ref(npart, p0c=p0c, q0=28, mass0=238*nmass*1e9)"
   ]
  },
  {
   "cell_type": "code",
   "execution_count": 39,
   "metadata": {},
   "outputs": [],
   "source": [
    "epsx_rms_fin = 35e-6 / 4 # geometrical emittances\n",
    "epsy_rms_fin = 15e-6 / 4\n",
    "\n",
    "epsx_gauss = epsx_rms_fin #* 1.778\n",
    "epsy_gauss = epsy_rms_fin #* 1.82\n",
    "\n",
    "sig_z = 0 # 58 / 4. # in m\n",
    "sig_dp = 0 # 0.5e-3"
   ]
  },
  {
   "cell_type": "code",
   "execution_count": 40,
   "metadata": {},
   "outputs": [],
   "source": [
    "np.random.seed(987654321)\n",
    "\n",
    "x = np.random.normal(\n",
    "    loc=0, scale=np.sqrt(twiss['betx'][0] * epsx_gauss), size=npart)\n",
    "xp = np.random.normal(\n",
    "     loc=0, scale=np.sqrt(epsx_gauss / twiss['betx'][0]), size=npart)\n",
    "xp += -twiss['alfx'][0] / twiss['betx'][0] * x\n",
    "\n",
    "y = np.random.normal(\n",
    "    loc=0, scale=np.sqrt(twiss['bety'][0] * epsy_gauss), size=npart)\n",
    "yp = np.random.normal(\n",
    "     loc=0, scale=np.sqrt(epsy_gauss / twiss['bety'][0]), size=npart)\n",
    "yp += -twiss['alfy'][0] / twiss['bety'][0] * y\n",
    "\n",
    "z = np.random.normal(loc=0, scale=sig_z, size=npart)\n",
    "dp = np.random.normal(loc=0, scale=sig_dp, size=npart)"
   ]
  },
  {
   "cell_type": "code",
   "execution_count": 41,
   "metadata": {},
   "outputs": [
    {
     "data": {
      "image/png": "[encoded data removed]",
      "text/plain": [
       "<Figure size 1080x360 with 3 Axes>"
      ]
     },
     "metadata": {
      "needs_background": "light"
     },
     "output_type": "display_data"
    }
   ],
   "source": [
    "fig, ax = plt.subplots(1, 3, figsize=(15, 5))\n",
    "\n",
    "plt.sca(ax[0])\n",
    "plt.title('$x-x\\'$')\n",
    "plt.scatter(x, xp)\n",
    "\n",
    "plt.sca(ax[1])\n",
    "plt.title('$y-y\\'$')\n",
    "plt.scatter(y, yp)\n",
    "\n",
    "plt.sca(ax[2])\n",
    "plt.title('$z-\\delta$')\n",
    "plt.scatter(z, dp)\n",
    "plt.tight_layout()"
   ]
  },
  {
   "cell_type": "code",
   "execution_count": 42,
   "metadata": {},
   "outputs": [],
   "source": [
    "particles.x *= 0\n",
    "particles.px *= 0\n",
    "particles.y *= 0\n",
    "particles.py *= 0\n",
    "particles.zeta *= 0\n",
    "particles.delta *= 0\n",
    "\n",
    "particles.x += x\n",
    "particles.px += xp\n",
    "particles.y += y\n",
    "particles.py += yp\n",
    "particles.zeta += z\n",
    "particles.delta += dp"
   ]
  },
  {
   "cell_type": "code",
   "execution_count": 43,
   "metadata": {},
   "outputs": [],
   "source": [
    "job = pyst.TrackJob(elements, particles, device=\"opencl:1.0\")"
   ]
  },
  {
   "cell_type": "code",
   "execution_count": 44,
   "metadata": {},
   "outputs": [
    {
     "data": {
      "text/plain": [
       "0"
      ]
     },
     "execution_count": 44,
     "metadata": {},
     "output_type": "execute_result"
    }
   ],
   "source": [
    "job.track(nturns)"
   ]
  },
  {
   "cell_type": "code",
   "execution_count": 45,
   "metadata": {},
   "outputs": [],
   "source": [
    "job.collect()"
   ]
  },
  {
   "cell_type": "code",
   "execution_count": 46,
   "metadata": {},
   "outputs": [],
   "source": [
    "rec_x = job.output.particles[0].x\n",
    "rec_y = job.output.particles[0].y"
   ]
  },
  {
   "cell_type": "code",
   "execution_count": 47,
   "metadata": {},
   "outputs": [],
   "source": [
    "Qx = twiss.summary['q1']\n",
    "qx = Qx % 1\n",
    "qx = qx if qx < 0.5 else 1 - qx\n",
    "\n",
    "Qy = twiss.summary['q2']\n",
    "qy = Qy % 1\n",
    "qy = qy if qy < 0.5 else 1 - qy"
   ]
  },
  {
   "cell_type": "code",
   "execution_count": 48,
   "metadata": {},
   "outputs": [
    {
     "data": {
      "text/plain": [
       "Text(0.5, 1.06, 'SIS100: single particle tracking in PySixTrackLib')"
      ]
     },
     "execution_count": 48,
     "metadata": {},
     "output_type": "execute_result"
    },
    {
     "data": {
      "image/png": "[encoded data removed]",
      "text/plain": [
       "<Figure size 1080x360 with 2 Axes>"
      ]
     },
     "metadata": {
      "needs_background": "light"
     },
     "output_type": "display_data"
    }
   ],
   "source": [
    "fig, ax = plt.subplots(1, 2, figsize=(15, 5))\n",
    "\n",
    "plt.sca(ax[0])\n",
    "plt.title('horizontal plane')\n",
    "plt.plot(\n",
    "    np.fft.rfftfreq(len(rec_x[1::npart])),\n",
    "    np.sum(np.abs(np.fft.rfft(rec_x.reshape(nturns, npart).T, axis=1)), axis=0),\n",
    "    label=r'incoherent spectrum $x$'\n",
    ")\n",
    "plt.axvline(qx, color='darkorange', zorder=-1,\n",
    "            label='TWISS tune $(1-q_x)$')\n",
    "plt.xlim(qx - 0.05, qx + 0.05)\n",
    "plt.legend()\n",
    "\n",
    "plt.sca(ax[1])\n",
    "plt.title('vertical plane')\n",
    "plt.plot(\n",
    "    np.fft.rfftfreq(len(rec_y[1::npart])),\n",
    "    np.sum(np.abs(np.fft.rfft(rec_y.reshape(nturns, npart).T, axis=1)), axis=0),\n",
    "    label=r'incoherent spectrum $y$'\n",
    ")\n",
    "plt.axvline(qy, color='darkorange', zorder=-1,\n",
    "            label='TWISS tune $(1-q_y)$')\n",
    "plt.xlim(qy - 0.01, qy + 0.1)\n",
    "plt.legend()\n",
    "\n",
    "plt.suptitle('SIS100: single particle tracking in PySixTrackLib', y=1.06, fontsize=26)\n",
    "# plt.savefig('./pystl_sis100_tunes.pdf', bbox_inches='tight')"
   ]
  },
  {
   "cell_type": "code",
   "execution_count": 49,
   "metadata": {},
   "outputs": [
    {
     "name": "stdout",
     "output_type": "stream",
     "text": [
      "beam->gamma        =         1.21470883 ;\n"
     ]
    },
    {
     "data": {
      "text/plain": [
       "True"
      ]
     },
     "execution_count": 49,
     "metadata": {},
     "output_type": "execute_result"
    }
   ],
   "source": [
    "madx.command.value('beam->gamma;')"
   ]
  },
  {
   "cell_type": "code",
   "execution_count": 50,
   "metadata": {},
   "outputs": [],
   "source": [
    "pbuffer = job.particles_buffer.get_object(0)"
   ]
  },
  {
   "cell_type": "code",
   "execution_count": 51,
   "metadata": {},
   "outputs": [
    {
     "data": {
      "text/plain": [
       "array([1.02279024, 1.02279024, 1.02279024, 1.02279024, 1.02279024,\n",
       "       1.02279024, 1.02279024, 1.02279024, 1.02279024, 1.02279024,\n",
       "       1.02279024, 1.02279024, 1.02279024, 1.02279024, 1.02279024,\n",
       "       1.02279024, 1.02279024, 1.02279024, 1.02279024, 1.02279024,\n",
       "       1.02279024, 1.02279024, 1.02279024, 1.02279024, 1.02279024,\n",
       "       1.02279024, 1.02279024, 1.02279024, 1.02279024, 1.02279024,\n",
       "       1.02279024, 1.02279024, 1.02279024, 1.02279024, 1.02279024,\n",
       "       1.02279024, 1.02279024, 1.02279024, 1.02279024, 1.02279024,\n",
       "       1.02279024, 1.02279024, 1.02279024, 1.02279024, 1.02279024,\n",
       "       1.02279024, 1.02279024, 1.02279024, 1.02279024, 1.02279024,\n",
       "       1.02279024, 1.02279024, 1.02279024, 1.02279024, 1.02279024,\n",
       "       1.02279024, 1.02279024, 1.02279024, 1.02279024, 1.02279024,\n",
       "       1.02279024, 1.02279024, 1.02279024, 1.02279024, 1.02279024,\n",
       "       1.02279024, 1.02279024, 1.02279024, 1.02279024, 1.02279024,\n",
       "       1.02279024, 1.02279024, 1.02279024, 1.02279024, 1.02279024,\n",
       "       1.02279024, 1.02279024, 1.02279024, 1.02279024, 1.02279024,\n",
       "       1.02279024, 1.02279024, 1.02279024, 1.02279024, 1.02279024,\n",
       "       1.02279024, 1.02279024, 1.02279024, 1.02279024, 1.02279024,\n",
       "       1.02279024, 1.02279024, 1.02279024, 1.02279024, 1.02279024,\n",
       "       1.02279024, 1.02279024, 1.02279024, 1.02279024, 1.02279024,\n",
       "       1.02279024, 1.02279024, 1.02279024, 1.02279024, 1.02279024,\n",
       "       1.02279024, 1.02279024, 1.02279024, 1.02279024, 1.02279024,\n",
       "       1.02279024, 1.02279024, 1.02279024, 1.02279024, 1.02279024,\n",
       "       1.02279024, 1.02279024, 1.02279024, 1.02279024, 1.02279024,\n",
       "       1.02279024, 1.02279024, 1.02279024, 1.02279024, 1.02279024,\n",
       "       1.02279024, 1.02279024, 1.02279024, 1.02279024, 1.02279024,\n",
       "       1.02279024, 1.02279024, 1.02279024, 1.02279024, 1.02279024,\n",
       "       1.02279024, 1.02279024, 1.02279024, 1.02279024, 1.02279024,\n",
       "       1.02279024, 1.02279024, 1.02279024, 1.02279024, 1.02279024,\n",
       "       1.02279024, 1.02279024, 1.02279024, 1.02279024, 1.02279024,\n",
       "       1.02279024, 1.02279024, 1.02279024, 1.02279024, 1.02279024,\n",
       "       1.02279024, 1.02279024, 1.02279024, 1.02279024, 1.02279024,\n",
       "       1.02279024, 1.02279024, 1.02279024, 1.02279024, 1.02279024,\n",
       "       1.02279024, 1.02279024, 1.02279024, 1.02279024, 1.02279024,\n",
       "       1.02279024, 1.02279024, 1.02279024, 1.02279024, 1.02279024,\n",
       "       1.02279024, 1.02279024, 1.02279024, 1.02279024, 1.02279024,\n",
       "       1.02279024, 1.02279024, 1.02279024, 1.02279024, 1.02279024,\n",
       "       1.02279024, 1.02279024, 1.02279024, 1.02279024, 1.02279024,\n",
       "       1.02279024, 1.02279024, 1.02279024, 1.02279024, 1.02279024,\n",
       "       1.02279024, 1.02279024, 1.02279024, 1.02279024, 1.02279024,\n",
       "       1.02279024, 1.02279024, 1.02279024, 1.02279024, 1.02279024,\n",
       "       1.02279024, 1.02279024, 1.02279024, 1.02279024, 1.02279024,\n",
       "       1.02279024, 1.02279024, 1.02279024, 1.02279024, 1.02279024,\n",
       "       1.02279024, 1.02279024, 1.02279024, 1.02279024, 1.02279024,\n",
       "       1.02279024, 1.02279024, 1.02279024, 1.02279024, 1.02279024,\n",
       "       1.02279024, 1.02279024, 1.02279024, 1.02279024, 1.02279024,\n",
       "       1.02279024, 1.02279024, 1.02279024, 1.02279024, 1.02279024,\n",
       "       1.02279024, 1.02279024, 1.02279024, 1.02279024, 1.02279024,\n",
       "       1.02279024, 1.02279024, 1.02279024, 1.02279024, 1.02279024,\n",
       "       1.02279024, 1.02279024, 1.02279024, 1.02279024, 1.02279024,\n",
       "       1.02279024, 1.02279024, 1.02279024, 1.02279024, 1.02279024,\n",
       "       1.02279024, 1.02279024, 1.02279024, 1.02279024, 1.02279024,\n",
       "       1.02279024, 1.02279024, 1.02279024, 1.02279024, 1.02279024,\n",
       "       1.02279024, 1.02279024, 1.02279024, 1.02279024, 1.02279024,\n",
       "       1.02279024, 1.02279024, 1.02279024, 1.02279024, 1.02279024,\n",
       "       1.02279024, 1.02279024, 1.02279024, 1.02279024, 1.02279024,\n",
       "       1.02279024, 1.02279024, 1.02279024, 1.02279024, 1.02279024,\n",
       "       1.02279024, 1.02279024, 1.02279024, 1.02279024, 1.02279024,\n",
       "       1.02279024, 1.02279024, 1.02279024, 1.02279024, 1.02279024,\n",
       "       1.02279024, 1.02279024, 1.02279024, 1.02279024, 1.02279024,\n",
       "       1.02279024, 1.02279024, 1.02279024, 1.02279024, 1.02279024,\n",
       "       1.02279024, 1.02279024, 1.02279024, 1.02279024, 1.02279024,\n",
       "       1.02279024, 1.02279024, 1.02279024, 1.02279024, 1.02279024,\n",
       "       1.02279024, 1.02279024, 1.02279024, 1.02279024, 1.02279024,\n",
       "       1.02279024, 1.02279024, 1.02279024, 1.02279024, 1.02279024,\n",
       "       1.02279024, 1.02279024, 1.02279024, 1.02279024, 1.02279024,\n",
       "       1.02279024, 1.02279024, 1.02279024, 1.02279024, 1.02279024,\n",
       "       1.02279024, 1.02279024, 1.02279024, 1.02279024, 1.02279024,\n",
       "       1.02279024, 1.02279024, 1.02279024, 1.02279024, 1.02279024,\n",
       "       1.02279024, 1.02279024, 1.02279024, 1.02279024, 1.02279024,\n",
       "       1.02279024, 1.02279024, 1.02279024, 1.02279024, 1.02279024,\n",
       "       1.02279024, 1.02279024, 1.02279024, 1.02279024, 1.02279024,\n",
       "       1.02279024, 1.02279024, 1.02279024, 1.02279024, 1.02279024,\n",
       "       1.02279024, 1.02279024, 1.02279024, 1.02279024, 1.02279024,\n",
       "       1.02279024, 1.02279024, 1.02279024, 1.02279024, 1.02279024,\n",
       "       1.02279024, 1.02279024, 1.02279024, 1.02279024, 1.02279024,\n",
       "       1.02279024, 1.02279024, 1.02279024, 1.02279024, 1.02279024,\n",
       "       1.02279024, 1.02279024, 1.02279024, 1.02279024, 1.02279024,\n",
       "       1.02279024, 1.02279024, 1.02279024, 1.02279024, 1.02279024,\n",
       "       1.02279024, 1.02279024, 1.02279024, 1.02279024, 1.02279024,\n",
       "       1.02279024, 1.02279024, 1.02279024, 1.02279024, 1.02279024,\n",
       "       1.02279024, 1.02279024, 1.02279024, 1.02279024, 1.02279024,\n",
       "       1.02279024, 1.02279024, 1.02279024, 1.02279024, 1.02279024,\n",
       "       1.02279024, 1.02279024, 1.02279024, 1.02279024, 1.02279024,\n",
       "       1.02279024, 1.02279024, 1.02279024, 1.02279024, 1.02279024,\n",
       "       1.02279024, 1.02279024, 1.02279024, 1.02279024, 1.02279024,\n",
       "       1.02279024, 1.02279024, 1.02279024, 1.02279024, 1.02279024,\n",
       "       1.02279024, 1.02279024, 1.02279024, 1.02279024, 1.02279024,\n",
       "       1.02279024, 1.02279024, 1.02279024, 1.02279024, 1.02279024,\n",
       "       1.02279024, 1.02279024, 1.02279024, 1.02279024, 1.02279024,\n",
       "       1.02279024, 1.02279024, 1.02279024, 1.02279024, 1.02279024,\n",
       "       1.02279024, 1.02279024, 1.02279024, 1.02279024, 1.02279024,\n",
       "       1.02279024, 1.02279024, 1.02279024, 1.02279024, 1.02279024,\n",
       "       1.02279024, 1.02279024, 1.02279024, 1.02279024, 1.02279024,\n",
       "       1.02279024, 1.02279024, 1.02279024, 1.02279024, 1.02279024,\n",
       "       1.02279024, 1.02279024, 1.02279024, 1.02279024, 1.02279024,\n",
       "       1.02279024, 1.02279024, 1.02279024, 1.02279024, 1.02279024,\n",
       "       1.02279024, 1.02279024, 1.02279024, 1.02279024, 1.02279024,\n",
       "       1.02279024, 1.02279024, 1.02279024, 1.02279024, 1.02279024,\n",
       "       1.02279024, 1.02279024, 1.02279024, 1.02279024, 1.02279024,\n",
       "       1.02279024, 1.02279024, 1.02279024, 1.02279024, 1.02279024,\n",
       "       1.02279024, 1.02279024, 1.02279024, 1.02279024, 1.02279024,\n",
       "       1.02279024, 1.02279024, 1.02279024, 1.02279024, 1.02279024,\n",
       "       1.02279024, 1.02279024, 1.02279024, 1.02279024, 1.02279024,\n",
       "       1.02279024, 1.02279024, 1.02279024, 1.02279024, 1.02279024,\n",
       "       1.02279024, 1.02279024, 1.02279024, 1.02279024, 1.02279024,\n",
       "       1.02279024, 1.02279024, 1.02279024, 1.02279024, 1.02279024,\n",
       "       1.02279024, 1.02279024, 1.02279024, 1.02279024, 1.02279024,\n",
       "       1.02279024, 1.02279024, 1.02279024, 1.02279024, 1.02279024,\n",
       "       1.02279024, 1.02279024, 1.02279024, 1.02279024, 1.02279024,\n",
       "       1.02279024, 1.02279024, 1.02279024, 1.02279024, 1.02279024,\n",
       "       1.02279024, 1.02279024, 1.02279024, 1.02279024, 1.02279024,\n",
       "       1.02279024, 1.02279024, 1.02279024, 1.02279024, 1.02279024,\n",
       "       1.02279024, 1.02279024, 1.02279024, 1.02279024, 1.02279024,\n",
       "       1.02279024, 1.02279024, 1.02279024, 1.02279024, 1.02279024,\n",
       "       1.02279024, 1.02279024, 1.02279024, 1.02279024, 1.02279024,\n",
       "       1.02279024, 1.02279024, 1.02279024, 1.02279024, 1.02279024,\n",
       "       1.02279024, 1.02279024, 1.02279024, 1.02279024, 1.02279024,\n",
       "       1.02279024, 1.02279024, 1.02279024, 1.02279024, 1.02279024,\n",
       "       1.02279024, 1.02279024, 1.02279024, 1.02279024, 1.02279024,\n",
       "       1.02279024, 1.02279024, 1.02279024, 1.02279024, 1.02279024,\n",
       "       1.02279024, 1.02279024, 1.02279024, 1.02279024, 1.02279024,\n",
       "       1.02279024, 1.02279024, 1.02279024, 1.02279024, 1.02279024,\n",
       "       1.02279024, 1.02279024, 1.02279024, 1.02279024, 1.02279024,\n",
       "       1.02279024, 1.02279024, 1.02279024, 1.02279024, 1.02279024,\n",
       "       1.02279024, 1.02279024, 1.02279024, 1.02279024, 1.02279024,\n",
       "       1.02279024, 1.02279024, 1.02279024, 1.02279024, 1.02279024,\n",
       "       1.02279024, 1.02279024, 1.02279024, 1.02279024, 1.02279024,\n",
       "       1.02279024, 1.02279024, 1.02279024, 1.02279024, 1.02279024,\n",
       "       1.02279024, 1.02279024, 1.02279024, 1.02279024, 1.02279024,\n",
       "       1.02279024, 1.02279024, 1.02279024, 1.02279024, 1.02279024,\n",
       "       1.02279024, 1.02279024, 1.02279024, 1.02279024, 1.02279024,\n",
       "       1.02279024, 1.02279024, 1.02279024, 1.02279024, 1.02279024,\n",
       "       1.02279024, 1.02279024, 1.02279024, 1.02279024, 1.02279024,\n",
       "       1.02279024, 1.02279024, 1.02279024, 1.02279024, 1.02279024,\n",
       "       1.02279024, 1.02279024, 1.02279024, 1.02279024, 1.02279024,\n",
       "       1.02279024, 1.02279024, 1.02279024, 1.02279024, 1.02279024,\n",
       "       1.02279024, 1.02279024, 1.02279024, 1.02279024, 1.02279024,\n",
       "       1.02279024, 1.02279024, 1.02279024, 1.02279024, 1.02279024,\n",
       "       1.02279024, 1.02279024, 1.02279024, 1.02279024, 1.02279024,\n",
       "       1.02279024, 1.02279024, 1.02279024, 1.02279024, 1.02279024,\n",
       "       1.02279024, 1.02279024, 1.02279024, 1.02279024, 1.02279024,\n",
       "       1.02279024, 1.02279024, 1.02279024, 1.02279024, 1.02279024,\n",
       "       1.02279024, 1.02279024, 1.02279024, 1.02279024, 1.02279024,\n",
       "       1.02279024, 1.02279024, 1.02279024, 1.02279024, 1.02279024,\n",
       "       1.02279024, 1.02279024, 1.02279024, 1.02279024, 1.02279024,\n",
       "       1.02279024, 1.02279024, 1.02279024, 1.02279024, 1.02279024,\n",
       "       1.02279024, 1.02279024, 1.02279024, 1.02279024, 1.02279024,\n",
       "       1.02279024, 1.02279024, 1.02279024, 1.02279024, 1.02279024,\n",
       "       1.02279024, 1.02279024, 1.02279024, 1.02279024, 1.02279024,\n",
       "       1.02279024, 1.02279024, 1.02279024, 1.02279024, 1.02279024,\n",
       "       1.02279024, 1.02279024, 1.02279024, 1.02279024, 1.02279024,\n",
       "       1.02279024, 1.02279024, 1.02279024, 1.02279024, 1.02279024,\n",
       "       1.02279024, 1.02279024, 1.02279024, 1.02279024, 1.02279024,\n",
       "       1.02279024, 1.02279024, 1.02279024, 1.02279024, 1.02279024,\n",
       "       1.02279024, 1.02279024, 1.02279024, 1.02279024, 1.02279024,\n",
       "       1.02279024, 1.02279024, 1.02279024, 1.02279024, 1.02279024,\n",
       "       1.02279024, 1.02279024, 1.02279024, 1.02279024, 1.02279024,\n",
       "       1.02279024, 1.02279024, 1.02279024, 1.02279024, 1.02279024,\n",
       "       1.02279024, 1.02279024, 1.02279024, 1.02279024, 1.02279024,\n",
       "       1.02279024, 1.02279024, 1.02279024, 1.02279024, 1.02279024,\n",
       "       1.02279024, 1.02279024, 1.02279024, 1.02279024, 1.02279024,\n",
       "       1.02279024, 1.02279024, 1.02279024, 1.02279024, 1.02279024,\n",
       "       1.02279024, 1.02279024, 1.02279024, 1.02279024, 1.02279024,\n",
       "       1.02279024, 1.02279024, 1.02279024, 1.02279024, 1.02279024,\n",
       "       1.02279024, 1.02279024, 1.02279024, 1.02279024, 1.02279024,\n",
       "       1.02279024, 1.02279024, 1.02279024, 1.02279024, 1.02279024,\n",
       "       1.02279024, 1.02279024, 1.02279024, 1.02279024, 1.02279024,\n",
       "       1.02279024, 1.02279024, 1.02279024, 1.02279024, 1.02279024,\n",
       "       1.02279024, 1.02279024, 1.02279024, 1.02279024, 1.02279024,\n",
       "       1.02279024, 1.02279024, 1.02279024, 1.02279024, 1.02279024,\n",
       "       1.02279024, 1.02279024, 1.02279024, 1.02279024, 1.02279024,\n",
       "       1.02279024, 1.02279024, 1.02279024, 1.02279024, 1.02279024,\n",
       "       1.02279024, 1.02279024, 1.02279024, 1.02279024, 1.02279024,\n",
       "       1.02279024, 1.02279024, 1.02279024, 1.02279024, 1.02279024,\n",
       "       1.02279024, 1.02279024, 1.02279024, 1.02279024, 1.02279024,\n",
       "       1.02279024, 1.02279024, 1.02279024, 1.02279024, 1.02279024,\n",
       "       1.02279024, 1.02279024, 1.02279024, 1.02279024, 1.02279024,\n",
       "       1.02279024, 1.02279024, 1.02279024, 1.02279024, 1.02279024,\n",
       "       1.02279024, 1.02279024, 1.02279024, 1.02279024, 1.02279024,\n",
       "       1.02279024, 1.02279024, 1.02279024, 1.02279024, 1.02279024,\n",
       "       1.02279024, 1.02279024, 1.02279024, 1.02279024, 1.02279024,\n",
       "       1.02279024, 1.02279024, 1.02279024, 1.02279024, 1.02279024,\n",
       "       1.02279024, 1.02279024, 1.02279024, 1.02279024, 1.02279024,\n",
       "       1.02279024, 1.02279024, 1.02279024, 1.02279024, 1.02279024,\n",
       "       1.02279024, 1.02279024, 1.02279024, 1.02279024, 1.02279024,\n",
       "       1.02279024, 1.02279024, 1.02279024, 1.02279024, 1.02279024,\n",
       "       1.02279024, 1.02279024, 1.02279024, 1.02279024, 1.02279024,\n",
       "       1.02279024, 1.02279024, 1.02279024, 1.02279024, 1.02279024,\n",
       "       1.02279024, 1.02279024, 1.02279024, 1.02279024, 1.02279024,\n",
       "       1.02279024, 1.02279024, 1.02279024, 1.02279024, 1.02279024,\n",
       "       1.02279024, 1.02279024, 1.02279024, 1.02279024, 1.02279024,\n",
       "       1.02279024, 1.02279024, 1.02279024, 1.02279024, 1.02279024,\n",
       "       1.02279024, 1.02279024, 1.02279024, 1.02279024, 1.02279024,\n",
       "       1.02279024, 1.02279024, 1.02279024, 1.02279024, 1.02279024,\n",
       "       1.02279024, 1.02279024, 1.02279024, 1.02279024, 1.02279024,\n",
       "       1.02279024, 1.02279024, 1.02279024, 1.02279024, 1.02279024,\n",
       "       1.02279024, 1.02279024, 1.02279024, 1.02279024, 1.02279024,\n",
       "       1.02279024, 1.02279024, 1.02279024, 1.02279024, 1.02279024,\n",
       "       1.02279024, 1.02279024, 1.02279024, 1.02279024, 1.02279024])"
      ]
     },
     "execution_count": 51,
     "metadata": {},
     "output_type": "execute_result"
    }
   ],
   "source": [
    "pbuffer.gamma0"
   ]
  },
  {
   "cell_type": "code",
   "execution_count": null,
   "metadata": {},
   "outputs": [],
   "source": []
  }
 ],
 "metadata": {
  "kernelspec": {
   "display_name": "Python 3",
   "language": "python",
   "name": "python3"
  },
  "language_info": {
   "codemirror_mode": {
    "name": "ipython",
    "version": 3
   },
   "file_extension": ".py",
   "mimetype": "text/x-python",
   "name": "python",
   "nbconvert_exporter": "python",
   "pygments_lexer": "ipython3",
   "version": "3.7.1"
  }
 },
 "nbformat": 4,
 "nbformat_minor": 2
}
