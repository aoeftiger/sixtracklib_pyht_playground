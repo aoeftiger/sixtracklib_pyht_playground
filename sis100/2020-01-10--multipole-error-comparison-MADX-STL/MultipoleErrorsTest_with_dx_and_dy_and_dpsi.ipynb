{
 "cells": [
  {
   "cell_type": "code",
   "execution_count": 1,
   "metadata": {},
   "outputs": [],
   "source": [
    "import numpy as np\n",
    "\n",
    "from scipy.constants import e, c\n",
    "\n",
    "from scipy.constants import physical_constants\n",
    "\n",
    "import os"
   ]
  },
  {
   "cell_type": "code",
   "execution_count": 2,
   "metadata": {},
   "outputs": [],
   "source": [
    "from cpymad.madx import Madx\n",
    "\n",
    "import sixtracklib as stl\n",
    "import pysixtrack"
   ]
  },
  {
   "cell_type": "markdown",
   "metadata": {},
   "source": [
    "# Versioning"
   ]
  },
  {
   "cell_type": "markdown",
   "metadata": {},
   "source": [
    "## SixTrackLib"
   ]
  },
  {
   "cell_type": "code",
   "execution_count": 3,
   "metadata": {},
   "outputs": [
    {
     "data": {
      "text/plain": [
       "'/home/oeftiger/gsi/git/sixtracklib_aoeftiger/python/sixtracklib'"
      ]
     },
     "execution_count": 3,
     "metadata": {},
     "output_type": "execute_result"
    }
   ],
   "source": [
    "f = os.path.dirname(stl.__file__)\n",
    "f"
   ]
  },
  {
   "cell_type": "code",
   "execution_count": 4,
   "metadata": {},
   "outputs": [
    {
     "name": "stdout",
     "output_type": "stream",
     "text": [
      "commit f42c420da20602c9c4c08172338ed3019bb20d25\r\n",
      "Merge: deff9373 20f49532\r\n",
      "Author: Adrian Oeftiger <a.oeftiger@gsi.de>\r\n",
      "Date:   Wed Jan 8 14:52:08 2020 +0100\r\n"
     ]
    }
   ],
   "source": [
    "!cd $f && git log | head -4"
   ]
  },
  {
   "cell_type": "markdown",
   "metadata": {},
   "source": [
    "## PySixTrack"
   ]
  },
  {
   "cell_type": "code",
   "execution_count": 5,
   "metadata": {},
   "outputs": [
    {
     "data": {
      "text/plain": [
       "'/home/oeftiger/gsi/git/pysixtrack/pysixtrack'"
      ]
     },
     "execution_count": 5,
     "metadata": {},
     "output_type": "execute_result"
    }
   ],
   "source": [
    "f = os.path.dirname(pysixtrack.__file__)\n",
    "f"
   ]
  },
  {
   "cell_type": "code",
   "execution_count": 6,
   "metadata": {},
   "outputs": [
    {
     "name": "stdout",
     "output_type": "stream",
     "text": [
      "commit a1c73d9578a20e404dff54e1330aebe77eb763d5\r\n",
      "Merge: 1d8f5db 4ce2927\r\n",
      "Author: Riccardo De Maria <riccardodemaria@gmail.com>\r\n",
      "Date:   Wed Jan 8 17:48:29 2020 +0100\r\n"
     ]
    }
   ],
   "source": [
    "!cd $f && git log | head -4"
   ]
  },
  {
   "cell_type": "markdown",
   "metadata": {},
   "source": [
    "# Parameters"
   ]
  },
  {
   "cell_type": "code",
   "execution_count": 7,
   "metadata": {},
   "outputs": [],
   "source": [
    "nmass = physical_constants['atomic mass constant energy equivalent in MeV'][0] * 1e-3\n",
    "# nmass = 0.931494061 # MAD-X value"
   ]
  },
  {
   "cell_type": "code",
   "execution_count": 8,
   "metadata": {},
   "outputs": [],
   "source": [
    "A = 238\n",
    "Q = 28\n",
    "\n",
    "Ekin_per_nucleon = 0.2e9 # in eV\n",
    "\n",
    "###\n",
    "\n",
    "mass = A * nmass * 1e9 * e / c**2 # in kg\n",
    "charge = Q * e # in Coul\n",
    "\n",
    "Ekin = Ekin_per_nucleon * A\n",
    "p0c = np.sqrt(Ekin**2 + 2*Ekin*mass/e * c**2) # in eV\n",
    "\n",
    "Etot = np.sqrt(p0c**2 + (mass/e)**2 * c**4) * 1e-9 # in GeV\n",
    "p0 = p0c / c * e # in SI units\n",
    "gamma = np.sqrt(1 + (p0 / (mass * c))**2)\n",
    "beta = np.sqrt(1 - gamma**-2)"
   ]
  },
  {
   "cell_type": "markdown",
   "metadata": {},
   "source": [
    "## MAD-X setup"
   ]
  },
  {
   "cell_type": "code",
   "execution_count": 9,
   "metadata": {},
   "outputs": [
    {
     "name": "stdout",
     "output_type": "stream",
     "text": [
      "\n",
      "  ++++++++++++++++++++++++++++++++++++++++++++\n",
      "  +     MAD-X 5.05.01  (64 bit, Linux)       +\n",
      "  + Support: mad@cern.ch, http://cern.ch/mad +\n",
      "  + Release   date: 2019.06.07               +\n",
      "  + Execution date: 2020.01.13 18:19:46      +\n",
      "  ++++++++++++++++++++++++++++++++++++++++++++\n"
     ]
    }
   ],
   "source": [
    "madx = Madx()\n",
    "madx.options.echo = False\n",
    "madx.options.warn = False"
   ]
  },
  {
   "cell_type": "code",
   "execution_count": 10,
   "metadata": {},
   "outputs": [
    {
     "data": {
      "text/plain": [
       "True"
      ]
     },
     "execution_count": 10,
     "metadata": {},
     "output_type": "execute_result"
    }
   ],
   "source": [
    "madx.input('''SET, format=\"22.14e\";''')"
   ]
  },
  {
   "cell_type": "code",
   "execution_count": 11,
   "metadata": {},
   "outputs": [
    {
     "data": {
      "text/plain": [
       "True"
      ]
     },
     "execution_count": 11,
     "metadata": {},
     "output_type": "execute_result"
    }
   ],
   "source": [
    "madx.input('''\n",
    "qf: multipole, knl={0, 0.3};\n",
    "\n",
    "testing: sequence, l = 1;\n",
    "qf, at = 0.5;\n",
    "endsequence;\n",
    "''')"
   ]
  },
  {
   "cell_type": "code",
   "execution_count": 12,
   "metadata": {},
   "outputs": [
    {
     "data": {
      "text/plain": [
       "True"
      ]
     },
     "execution_count": 12,
     "metadata": {},
     "output_type": "execute_result"
    }
   ],
   "source": [
    "madx.command.beam(\n",
    "    particle='ion', mass=A*nmass, charge=Q, energy=Etot)"
   ]
  },
  {
   "cell_type": "code",
   "execution_count": 13,
   "metadata": {},
   "outputs": [],
   "source": [
    "madx.use(sequence='testing')"
   ]
  },
  {
   "cell_type": "code",
   "execution_count": 14,
   "metadata": {},
   "outputs": [
    {
     "name": "stdout",
     "output_type": "stream",
     "text": [
      "enter Twiss module\n",
      "\n",
      "++++++ table: summ\n",
      "\n",
      "                length                 orbit5                   alfa                gammatr \n",
      "  1.00000000000000e+00  -0.00000000000000e+00   0.00000000000000e+00   0.00000000000000e+00 \n",
      "\n",
      "                    q1                    dq1                betxmax                  dxmax \n",
      "  1.31720858935157e-01   0.00000000000000e+00   1.57812500000000e+00   0.00000000000000e+00 \n",
      "\n",
      "                 dxrms                 xcomax                 xcorms                     q2 \n",
      "  0.00000000000000e+00   0.00000000000000e+00   0.00000000000000e+00   1.19637257107869e-01 \n",
      "\n",
      "                   dq2                betymax                  dymax                  dyrms \n",
      "  0.00000000000000e+00   2.47812500000000e+00   0.00000000000000e+00   0.00000000000000e+00 \n",
      "\n",
      "                ycomax                 ycorms                 deltap                synch_1 \n",
      "  0.00000000000000e+00   0.00000000000000e+00   0.00000000000000e+00   0.00000000000000e+00 \n",
      "\n",
      "               synch_2                synch_3                synch_4                synch_5 \n",
      "  0.00000000000000e+00   0.00000000000000e+00   0.00000000000000e+00   0.00000000000000e+00 \n",
      "\n",
      "                nflips \n",
      "  0.00000000000000e+00 \n"
     ]
    }
   ],
   "source": [
    "twiss_no_error = madx.twiss(betx=1, bety=1, dx=0, dy=0);"
   ]
  },
  {
   "cell_type": "code",
   "execution_count": 15,
   "metadata": {},
   "outputs": [],
   "source": [
    "q1_no_error = twiss_no_error.summary.q1"
   ]
  },
  {
   "cell_type": "code",
   "execution_count": 16,
   "metadata": {},
   "outputs": [
    {
     "data": {
      "text/plain": [
       "True"
      ]
     },
     "execution_count": 16,
     "metadata": {},
     "output_type": "execute_result"
    }
   ],
   "source": [
    "madx.select(flag='error', pattern='qf')"
   ]
  },
  {
   "cell_type": "code",
   "execution_count": 17,
   "metadata": {},
   "outputs": [
    {
     "name": "stdout",
     "output_type": "stream",
     "text": [
      "Assigned field errors to 1 elements\n"
     ]
    },
    {
     "data": {
      "text/plain": [
       "True"
      ]
     },
     "execution_count": 17,
     "metadata": {},
     "output_type": "execute_result"
    }
   ],
   "source": [
    "madx.command.efcomp(\n",
    "    dkn=[0, 1e-2, 5.006767857e-06, 0.01309999342, -0.1972873115, -73.9750876, -9.804122175],\n",
    "    dks=[0.0, -1.315727925e-05, 1.819912072e-05, -0.002619217458, 0.1995854548, 21.55489111, -919.2177798],\n",
    ")"
   ]
  },
  {
   "cell_type": "code",
   "execution_count": 18,
   "metadata": {},
   "outputs": [
    {
     "name": "stdout",
     "output_type": "stream",
     "text": [
      "Assigned alignment errors to 1 elements\n"
     ]
    },
    {
     "data": {
      "text/plain": [
       "True"
      ]
     },
     "execution_count": 18,
     "metadata": {},
     "output_type": "execute_result"
    }
   ],
   "source": [
    "madx.command.ealign(dx=1e-3, dy=-1e-3, dpsi=0.1)"
   ]
  },
  {
   "cell_type": "code",
   "execution_count": 19,
   "metadata": {},
   "outputs": [
    {
     "data": {
      "text/plain": [
       "qf: multipole, at=0.5, knl={0.0,0.3};"
      ]
     },
     "execution_count": 19,
     "metadata": {},
     "output_type": "execute_result"
    }
   ],
   "source": [
    "# qf = madx.sequence.testing.elements[1] \n",
    "### --> only \"elements\" does not work!! need \"expanded_elements\"\n",
    "qf = madx.sequence.testing.expanded_elements[2]\n",
    "qf"
   ]
  },
  {
   "cell_type": "code",
   "execution_count": 20,
   "metadata": {},
   "outputs": [
    {
     "data": {
      "text/plain": [
       "([0.0,\n",
       "  0.01,\n",
       "  5.006767857e-06,\n",
       "  0.01309999342,\n",
       "  -0.1972873115,\n",
       "  -73.9750876,\n",
       "  -9.804122175,\n",
       "  0.0,\n",
       "  0.0,\n",
       "  0.0,\n",
       "  0.0,\n",
       "  0.0,\n",
       "  0.0,\n",
       "  0.0,\n",
       "  0.0,\n",
       "  0.0,\n",
       "  0.0,\n",
       "  0.0,\n",
       "  0.0,\n",
       "  0.0,\n",
       "  0.0],\n",
       " [0.0,\n",
       "  -1.315727925e-05,\n",
       "  1.819912072e-05,\n",
       "  -0.002619217458,\n",
       "  0.1995854548,\n",
       "  21.55489111,\n",
       "  -919.2177798,\n",
       "  0.0,\n",
       "  0.0,\n",
       "  0.0,\n",
       "  0.0,\n",
       "  0.0,\n",
       "  0.0,\n",
       "  0.0,\n",
       "  0.0,\n",
       "  0.0,\n",
       "  0.0,\n",
       "  0.0,\n",
       "  0.0,\n",
       "  0.0,\n",
       "  0.0])"
      ]
     },
     "execution_count": 20,
     "metadata": {},
     "output_type": "execute_result"
    }
   ],
   "source": [
    "qf.field_errors.dkn, qf.field_errors.dks"
   ]
  },
  {
   "cell_type": "code",
   "execution_count": 21,
   "metadata": {},
   "outputs": [
    {
     "data": {
      "text/plain": [
       "0.001"
      ]
     },
     "execution_count": 21,
     "metadata": {},
     "output_type": "execute_result"
    }
   ],
   "source": [
    "qf.align_errors.dx"
   ]
  },
  {
   "cell_type": "code",
   "execution_count": 22,
   "metadata": {},
   "outputs": [
    {
     "data": {
      "text/plain": [
       "-0.001"
      ]
     },
     "execution_count": 22,
     "metadata": {},
     "output_type": "execute_result"
    }
   ],
   "source": [
    "qf.align_errors.dy"
   ]
  },
  {
   "cell_type": "code",
   "execution_count": 23,
   "metadata": {},
   "outputs": [
    {
     "data": {
      "text/plain": [
       "0.1"
      ]
     },
     "execution_count": 23,
     "metadata": {},
     "output_type": "execute_result"
    }
   ],
   "source": [
    "qf.align_errors.dpsi"
   ]
  },
  {
   "cell_type": "code",
   "execution_count": 24,
   "metadata": {},
   "outputs": [
    {
     "name": "stdout",
     "output_type": "stream",
     "text": [
      "enter Twiss module\n",
      "\n",
      "++++++ table: summ\n",
      "\n",
      "                length                 orbit5                   alfa                gammatr \n",
      "  1.00000000000000e+00  -0.00000000000000e+00   0.00000000000000e+00   0.00000000000000e+00 \n",
      "\n",
      "                    q1                    dq1                betxmax                  dxmax \n",
      "  1.31817273736839e-01   0.00000000000000e+00   1.57311844149584e+00   2.13336247602740e-04 \n",
      "\n",
      "                 dxrms                 xcomax                 xcorms                     q2 \n",
      "  1.34925689979659e-04   1.21108807760132e-04   7.65959354458981e-05   1.19576035085275e-01 \n",
      "\n",
      "                   dq2                betymax                  dymax                  dyrms \n",
      "  0.00000000000000e+00   2.48457241597610e+00   3.21846909795632e-04   2.03553858568191e-04 \n",
      "\n",
      "                ycomax                 ycorms                 deltap                synch_1 \n",
      "  1.82709201856848e-04   1.15555445467821e-04   0.00000000000000e+00   0.00000000000000e+00 \n",
      "\n",
      "               synch_2                synch_3                synch_4                synch_5 \n",
      "  0.00000000000000e+00   0.00000000000000e+00   0.00000000000000e+00   0.00000000000000e+00 \n",
      "\n",
      "                nflips \n",
      "  0.00000000000000e+00 \n"
     ]
    }
   ],
   "source": [
    "twiss_with_error = madx.twiss(betx=1, bety=1, dx=0, dy=0);"
   ]
  },
  {
   "cell_type": "code",
   "execution_count": 25,
   "metadata": {},
   "outputs": [],
   "source": [
    "q1_with_error = twiss_with_error.summary.q1"
   ]
  },
  {
   "cell_type": "markdown",
   "metadata": {},
   "source": [
    "$\\implies$ **The tune has changed with the additional quadrupole error:**"
   ]
  },
  {
   "cell_type": "code",
   "execution_count": 26,
   "metadata": {},
   "outputs": [
    {
     "data": {
      "text/plain": [
       "0.0007314276721764879"
      ]
     },
     "execution_count": 26,
     "metadata": {},
     "output_type": "execute_result"
    }
   ],
   "source": [
    "1 - q1_no_error / q1_with_error"
   ]
  },
  {
   "cell_type": "markdown",
   "metadata": {},
   "source": [
    "## MAD-X tracking"
   ]
  },
  {
   "cell_type": "code",
   "execution_count": 27,
   "metadata": {},
   "outputs": [
    {
     "name": "stdout",
     "output_type": "stream",
     "text": [
      "enter TRACK module\n",
      "one pass is on\n",
      "\n",
      "++++++ table: tracksumm\n",
      "\n",
      "    number       turn                      x                     px \n",
      "         1          0   1.00000000000000e-03   1.00000000000000e-06 \n",
      "         1          1   1.00092721250931e-03   8.64207412287082e-07 \n",
      "\n",
      "                     y                     py                      t                     pt \n",
      " -1.00000000000000e-03  -5.00000000000000e-07   1.00000000000000e-01   2.99999999999989e-03 \n",
      " -1.00055019488585e-03  -6.06194506773380e-07   1.06259314454161e-01   2.99999999999989e-03 \n",
      "\n",
      "                     s                      e \n",
      "  0.00000000000000e+00   0.00000000000000e+00 \n",
      "  1.00000000000000e+00   0.00000000000000e+00 \n",
      "exit TRACK module\n",
      "\n"
     ]
    },
    {
     "data": {
      "text/plain": [
       "True"
      ]
     },
     "execution_count": 27,
     "metadata": {},
     "output_type": "execute_result"
    }
   ],
   "source": [
    "madx.input('''\n",
    "TRACK, onepass, onetable, file=output.;\n",
    "\n",
    "START, x=1e-03, px=1e-06, y=-1e-03, py=-5e-07, t=0.1, pt=3e-03;\n",
    "!START, x=0e-03, px=0e-06, y=0e-03, py=0e-07, t=0.1, pt=3e-03;\n",
    "\n",
    "RUN, turns=1;\n",
    "\n",
    "ENDTRACK;\n",
    "''')"
   ]
  },
  {
   "cell_type": "code",
   "execution_count": 28,
   "metadata": {},
   "outputs": [],
   "source": [
    "headers = list(np.genfromtxt(\n",
    "    \"output.one\", skip_header=51, max_rows=1, dtype=str)[1:])\n",
    "\n",
    "initial_distribution_madx = np.genfromtxt(\n",
    "    \"output.one\", skip_header=54, max_rows=1, dtype=np.float64)\n",
    "\n",
    "final_distribution_madx = np.genfromtxt(\n",
    "    \"output.one\", skip_header=55, max_rows=1, dtype=np.float64)"
   ]
  },
  {
   "cell_type": "code",
   "execution_count": 29,
   "metadata": {},
   "outputs": [],
   "source": [
    "def get_betai(PT, mass=mass, p0=p0):\n",
    "    restmass = mass * c**2\n",
    "    restmass_sq = restmass**2\n",
    "    E0 = np.sqrt((p0 * c)**2 + restmass_sq)\n",
    "    \n",
    "    E = E0 + PT * p0 * c\n",
    "    gammai = E / restmass\n",
    "    betai = np.sqrt(1 - 1. / (gammai * gammai))\n",
    "    return betai"
   ]
  },
  {
   "cell_type": "code",
   "execution_count": 30,
   "metadata": {},
   "outputs": [],
   "source": [
    "pt_madx = final_distribution_madx[headers.index('PT')]\n",
    "betai = get_betai(pt_madx)\n",
    "\n",
    "x_madx = final_distribution_madx[headers.index('X')]\n",
    "px_madx = final_distribution_madx[headers.index('PX')]\n",
    "y_madx = final_distribution_madx[headers.index('Y')]\n",
    "py_madx = final_distribution_madx[headers.index('PY')]\n",
    "zeta_madx = final_distribution_madx[headers.index('T')] * betai\n",
    "delta_madx = np.sqrt(1 + 2 * pt_madx / beta + pt_madx**2) - 1"
   ]
  },
  {
   "cell_type": "markdown",
   "metadata": {},
   "source": [
    "## SixTrackLib setup"
   ]
  },
  {
   "cell_type": "code",
   "execution_count": 31,
   "metadata": {},
   "outputs": [
    {
     "name": "stdout",
     "output_type": "stream",
     "text": [
      "Want to make named table: errors\n"
     ]
    }
   ],
   "source": [
    "madx.esave(file='errors')\n",
    "madx.command.readtable(file='errors', table='errors')\n",
    "errors = madx.table.errors"
   ]
  },
  {
   "cell_type": "code",
   "execution_count": 32,
   "metadata": {},
   "outputs": [],
   "source": [
    "# PySixTrack, lattice transfer and preparation!\n",
    "\n",
    "pysixtrack_elements = pysixtrack.Line.from_madx_sequence(\n",
    "    madx.sequence.testing, exact_drift=True,\n",
    ")\n",
    "\n",
    "pysixtrack_elements.apply_madx_errors(errors)\n",
    "\n",
    "pysixtrack_elements.remove_zero_length_drifts(inplace=True);\n",
    "pysixtrack_elements.merge_consecutive_drifts(inplace=True);"
   ]
  },
  {
   "cell_type": "markdown",
   "metadata": {},
   "source": [
    "The PySixTrack multipole has a quadrupole component consisting of the sum of the MAD-X original quadrupole component (0.3) + the error (0.01):"
   ]
  },
  {
   "cell_type": "code",
   "execution_count": 33,
   "metadata": {},
   "outputs": [
    {
     "data": {
      "text/plain": [
       "[0.0,\n",
       " 0.31,\n",
       " 5.006767857e-06,\n",
       " 0.01309999342,\n",
       " -0.1972873115,\n",
       " -73.9750876,\n",
       " -9.804122175]"
      ]
     },
     "execution_count": 33,
     "metadata": {},
     "output_type": "execute_result"
    }
   ],
   "source": [
    "pysixtrack_elements.elements[3].knl"
   ]
  },
  {
   "cell_type": "code",
   "execution_count": 34,
   "metadata": {},
   "outputs": [
    {
     "data": {
      "text/plain": [
       "0.001"
      ]
     },
     "execution_count": 34,
     "metadata": {},
     "output_type": "execute_result"
    }
   ],
   "source": [
    "pysixtrack_elements.elements[1].dx"
   ]
  },
  {
   "cell_type": "code",
   "execution_count": 35,
   "metadata": {},
   "outputs": [
    {
     "data": {
      "text/plain": [
       "-0.001"
      ]
     },
     "execution_count": 35,
     "metadata": {},
     "output_type": "execute_result"
    }
   ],
   "source": [
    "pysixtrack_elements.elements[1].dy"
   ]
  },
  {
   "cell_type": "code",
   "execution_count": 36,
   "metadata": {},
   "outputs": [
    {
     "data": {
      "text/plain": [
       "5.729577951308232"
      ]
     },
     "execution_count": 36,
     "metadata": {},
     "output_type": "execute_result"
    }
   ],
   "source": [
    "pysixtrack_elements.elements[2].angle"
   ]
  },
  {
   "cell_type": "code",
   "execution_count": 37,
   "metadata": {},
   "outputs": [],
   "source": [
    "elements = stl.Elements.from_line(pysixtrack_elements)\n",
    "elements.BeamMonitor(num_stores=1);"
   ]
  },
  {
   "cell_type": "code",
   "execution_count": 38,
   "metadata": {},
   "outputs": [],
   "source": [
    "pysixtrack_particles = pysixtrack.Particles.from_madx_track(madx)"
   ]
  },
  {
   "cell_type": "code",
   "execution_count": 39,
   "metadata": {},
   "outputs": [],
   "source": [
    "# necessary to transfer to SixTrackLib with this version of PySixTrack\n",
    "pysixtrack_particles.state = np.array([1, 0])\n",
    "pysixtrack_particles.elemid = 0\n",
    "\n",
    "pysixtrack_particles.remove_lost_particles()"
   ]
  },
  {
   "cell_type": "code",
   "execution_count": 40,
   "metadata": {},
   "outputs": [],
   "source": [
    "particles = stl.ParticlesSet().Particles(num_particles=1)\n",
    "\n",
    "particles.from_pysixtrack(pysixtrack_particles, particle_index=0)"
   ]
  },
  {
   "cell_type": "code",
   "execution_count": 41,
   "metadata": {},
   "outputs": [],
   "source": [
    "trackjob = stl.TrackJob(elements, particles) #, device=\"opencl:0.0\")"
   ]
  },
  {
   "cell_type": "markdown",
   "metadata": {},
   "source": [
    "## SixTrackLib tracking"
   ]
  },
  {
   "cell_type": "code",
   "execution_count": 42,
   "metadata": {},
   "outputs": [],
   "source": [
    "trackjob.track_until(1)\n",
    "trackjob.collect()"
   ]
  },
  {
   "cell_type": "code",
   "execution_count": 43,
   "metadata": {},
   "outputs": [],
   "source": [
    "x = trackjob.output.particles[0].x[0]\n",
    "px = trackjob.output.particles[0].px[0]\n",
    "y = trackjob.output.particles[0].y[0]\n",
    "py = trackjob.output.particles[0].py[0]\n",
    "zeta = trackjob.output.particles[0].zeta[0]\n",
    "delta = trackjob.output.particles[0].delta[0]"
   ]
  },
  {
   "cell_type": "markdown",
   "metadata": {},
   "source": [
    "# evaluation SixTrackLib vs. MAD-X:"
   ]
  },
  {
   "cell_type": "code",
   "execution_count": 44,
   "metadata": {},
   "outputs": [
    {
     "name": "stdout",
     "output_type": "stream",
     "text": [
      "x error in %: -2.5996747630048217e-13\n"
     ]
    }
   ],
   "source": [
    "print ('x error in %: {}'.format(100 * (x - x_madx) / x))"
   ]
  },
  {
   "cell_type": "code",
   "execution_count": 45,
   "metadata": {},
   "outputs": [
    {
     "name": "stdout",
     "output_type": "stream",
     "text": [
      "px error in %: 1.5436998953699485e-12\n"
     ]
    }
   ],
   "source": [
    "print ('px error in %: {}'.format(100 * (px - px_madx) / px))"
   ]
  },
  {
   "cell_type": "code",
   "execution_count": 46,
   "metadata": {},
   "outputs": [
    {
     "name": "stdout",
     "output_type": "stream",
     "text": [
      "y error in %: 1.7337695648289925e-13\n"
     ]
    }
   ],
   "source": [
    "print ('y error in %: {}'.format(100 * (y - y_madx) / y))"
   ]
  },
  {
   "cell_type": "code",
   "execution_count": 47,
   "metadata": {},
   "outputs": [
    {
     "name": "stdout",
     "output_type": "stream",
     "text": [
      "py error in %: 6.46249238037989e-13\n"
     ]
    }
   ],
   "source": [
    "print ('py error in %: {}'.format(100 * (py - py_madx) / py))"
   ]
  },
  {
   "cell_type": "code",
   "execution_count": 48,
   "metadata": {},
   "outputs": [
    {
     "name": "stdout",
     "output_type": "stream",
     "text": [
      "zeta error in %: -1.2608368628817337e-13\n"
     ]
    }
   ],
   "source": [
    "print ('zeta error in %: {}'.format(100 * (zeta - zeta_madx) / zeta))"
   ]
  },
  {
   "cell_type": "code",
   "execution_count": 49,
   "metadata": {},
   "outputs": [
    {
     "name": "stdout",
     "output_type": "stream",
     "text": [
      "delta error in %: 0.0\n"
     ]
    }
   ],
   "source": [
    "print ('delta error in %: {}'.format(100 * (delta - delta_madx) / delta))"
   ]
  },
  {
   "cell_type": "code",
   "execution_count": 50,
   "metadata": {},
   "outputs": [
    {
     "data": {
      "text/plain": [
       "True"
      ]
     },
     "execution_count": 50,
     "metadata": {},
     "output_type": "execute_result"
    }
   ],
   "source": [
    "delta == delta_madx"
   ]
  }
 ],
 "metadata": {
  "kernelspec": {
   "display_name": "Python 3",
   "language": "python",
   "name": "python3"
  },
  "language_info": {
   "codemirror_mode": {
    "name": "ipython",
    "version": 3
   },
   "file_extension": ".py",
   "mimetype": "text/x-python",
   "name": "python",
   "nbconvert_exporter": "python",
   "pygments_lexer": "ipython3",
   "version": "3.7.4"
  }
 },
 "nbformat": 4,
 "nbformat_minor": 2
}
