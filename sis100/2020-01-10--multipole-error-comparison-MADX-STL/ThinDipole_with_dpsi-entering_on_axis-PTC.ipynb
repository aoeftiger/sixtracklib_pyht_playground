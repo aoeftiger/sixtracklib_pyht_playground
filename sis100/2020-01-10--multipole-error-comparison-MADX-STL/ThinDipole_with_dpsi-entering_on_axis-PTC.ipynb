{
 "cells": [
  {
   "cell_type": "code",
   "execution_count": 1,
   "metadata": {},
   "outputs": [],
   "source": [
    "import numpy as np\n",
    "\n",
    "from scipy.constants import e, c\n",
    "\n",
    "from scipy.constants import physical_constants\n",
    "\n",
    "import os"
   ]
  },
  {
   "cell_type": "code",
   "execution_count": 2,
   "metadata": {},
   "outputs": [],
   "source": [
    "from cpymad.madx import Madx\n",
    "\n",
    "import sixtracklib as stl\n",
    "import pysixtrack"
   ]
  },
  {
   "cell_type": "markdown",
   "metadata": {},
   "source": [
    "# Versioning"
   ]
  },
  {
   "cell_type": "markdown",
   "metadata": {},
   "source": [
    "## SixTrackLib"
   ]
  },
  {
   "cell_type": "code",
   "execution_count": 3,
   "metadata": {},
   "outputs": [
    {
     "data": {
      "text/plain": [
       "'/home/oeftiger/gsi/git/sixtracklib_aoeftiger/python/sixtracklib'"
      ]
     },
     "execution_count": 3,
     "metadata": {},
     "output_type": "execute_result"
    }
   ],
   "source": [
    "f = os.path.dirname(stl.__file__)\n",
    "f"
   ]
  },
  {
   "cell_type": "code",
   "execution_count": 4,
   "metadata": {},
   "outputs": [
    {
     "name": "stdout",
     "output_type": "stream",
     "text": [
      "commit f42c420da20602c9c4c08172338ed3019bb20d25\r\n",
      "Merge: deff9373 20f49532\r\n",
      "Author: Adrian Oeftiger <a.oeftiger@gsi.de>\r\n",
      "Date:   Wed Jan 8 14:52:08 2020 +0100\r\n"
     ]
    }
   ],
   "source": [
    "!cd $f && git log | head -4"
   ]
  },
  {
   "cell_type": "markdown",
   "metadata": {},
   "source": [
    "## PySixTrack"
   ]
  },
  {
   "cell_type": "code",
   "execution_count": 5,
   "metadata": {},
   "outputs": [
    {
     "data": {
      "text/plain": [
       "'/home/oeftiger/gsi/git/pysixtrack_aoeftiger/pysixtrack'"
      ]
     },
     "execution_count": 5,
     "metadata": {},
     "output_type": "execute_result"
    }
   ],
   "source": [
    "f = os.path.dirname(pysixtrack.__file__)\n",
    "f"
   ]
  },
  {
   "cell_type": "code",
   "execution_count": 6,
   "metadata": {},
   "outputs": [
    {
     "name": "stdout",
     "output_type": "stream",
     "text": [
      "commit a6174d4ae260ee22406c7ba7d3c1601cae2a37d8\r\n",
      "Author: Adrian Oeftiger <a.oeftiger@gsi.de>\r\n",
      "Date:   Wed Jan 15 15:42:00 2020 +0100\r\n",
      "\r\n"
     ]
    }
   ],
   "source": [
    "!cd $f && git log | head -4"
   ]
  },
  {
   "cell_type": "markdown",
   "metadata": {},
   "source": [
    "# Parameters"
   ]
  },
  {
   "cell_type": "code",
   "execution_count": 7,
   "metadata": {},
   "outputs": [],
   "source": [
    "nmass = physical_constants['atomic mass constant energy equivalent in MeV'][0] * 1e-3"
   ]
  },
  {
   "cell_type": "code",
   "execution_count": 8,
   "metadata": {},
   "outputs": [],
   "source": [
    "A = 238\n",
    "Q = 28\n",
    "\n",
    "Ekin_per_nucleon = 0.2e9 # in eV\n",
    "\n",
    "###\n",
    "\n",
    "mass = A * nmass * 1e9 * e / c**2 # in kg\n",
    "charge = Q * e # in Coul\n",
    "\n",
    "Ekin = Ekin_per_nucleon * A\n",
    "p0c = np.sqrt(Ekin**2 + 2*Ekin*mass/e * c**2) # in eV\n",
    "\n",
    "Etot = np.sqrt(p0c**2 + (mass/e)**2 * c**4) * 1e-9 # in GeV\n",
    "p0 = p0c / c * e # in SI units\n",
    "gamma = np.sqrt(1 + (p0 / (mass * c))**2)\n",
    "beta = np.sqrt(1 - gamma**-2)"
   ]
  },
  {
   "cell_type": "code",
   "execution_count": 9,
   "metadata": {},
   "outputs": [],
   "source": [
    "def get_betai(PT, mass=mass, p0=p0):\n",
    "    restmass = mass * c**2\n",
    "    restmass_sq = restmass**2\n",
    "    E0 = np.sqrt((p0 * c)**2 + restmass_sq)\n",
    "    \n",
    "    E = E0 + PT * p0 * c\n",
    "    gammai = E / restmass\n",
    "    betai = np.sqrt(1 - 1. / (gammai * gammai))\n",
    "    return betai"
   ]
  },
  {
   "cell_type": "markdown",
   "metadata": {},
   "source": [
    "## MAD-X setup"
   ]
  },
  {
   "cell_type": "code",
   "execution_count": 10,
   "metadata": {},
   "outputs": [
    {
     "name": "stdout",
     "output_type": "stream",
     "text": [
      "\n",
      "  ++++++++++++++++++++++++++++++++++++++++++++\n",
      "  +     MAD-X 5.05.01  (64 bit, Linux)       +\n",
      "  + Support: mad@cern.ch, http://cern.ch/mad +\n",
      "  + Release   date: 2019.06.07               +\n",
      "  + Execution date: 2020.01.29 14:05:20      +\n",
      "  ++++++++++++++++++++++++++++++++++++++++++++\n"
     ]
    }
   ],
   "source": [
    "madx = Madx()\n",
    "madx.options.echo = False\n",
    "madx.options.warn = False"
   ]
  },
  {
   "cell_type": "code",
   "execution_count": 11,
   "metadata": {},
   "outputs": [
    {
     "data": {
      "text/plain": [
       "True"
      ]
     },
     "execution_count": 11,
     "metadata": {},
     "output_type": "execute_result"
    }
   ],
   "source": [
    "madx.input('''SET, format=\"22.14e\";''')"
   ]
  },
  {
   "cell_type": "code",
   "execution_count": 12,
   "metadata": {},
   "outputs": [],
   "source": [
    "# madx.input('OPTION, THIN_FOC = false;')"
   ]
  },
  {
   "cell_type": "code",
   "execution_count": 13,
   "metadata": {},
   "outputs": [
    {
     "data": {
      "text/plain": [
       "True"
      ]
     },
     "execution_count": 13,
     "metadata": {},
     "output_type": "execute_result"
    }
   ],
   "source": [
    "madx.input('''\n",
    "qf: multipole, knl={1e-2};\n",
    "\n",
    "testing: sequence, l = 1;\n",
    "qf, at = 0.5;\n",
    "endsequence;\n",
    "''')"
   ]
  },
  {
   "cell_type": "code",
   "execution_count": 14,
   "metadata": {},
   "outputs": [
    {
     "data": {
      "text/plain": [
       "True"
      ]
     },
     "execution_count": 14,
     "metadata": {},
     "output_type": "execute_result"
    }
   ],
   "source": [
    "madx.command.beam(\n",
    "    particle='ion', mass=A*nmass, charge=Q, energy=Etot)"
   ]
  },
  {
   "cell_type": "code",
   "execution_count": 15,
   "metadata": {},
   "outputs": [],
   "source": [
    "madx.use(sequence='testing')"
   ]
  },
  {
   "cell_type": "code",
   "execution_count": 16,
   "metadata": {},
   "outputs": [
    {
     "name": "stdout",
     "output_type": "stream",
     "text": [
      "enter Twiss module\n",
      "\n",
      "++++++ table: summ\n",
      "\n",
      "                length                 orbit5                   alfa                gammatr \n",
      "  1.00000000000000e+00  -0.00000000000000e+00   0.00000000000000e+00   0.00000000000000e+00 \n",
      "\n",
      "                    q1                    dq1                betxmax                  dxmax \n",
      "  1.25000000000000e-01   0.00000000000000e+00   2.00000000000000e+00   8.80762727122517e-03 \n",
      "\n",
      "                 dxrms                 xcomax                 xcorms                     q2 \n",
      "  5.57043259177703e-03   0.00000000000000e+00   0.00000000000000e+00   1.25000000000000e-01 \n",
      "\n",
      "                   dq2                betymax                  dymax                  dyrms \n",
      "  0.00000000000000e+00   2.00000000000000e+00   0.00000000000000e+00   0.00000000000000e+00 \n",
      "\n",
      "                ycomax                 ycorms                 deltap                synch_1 \n",
      "  0.00000000000000e+00   0.00000000000000e+00   0.00000000000000e+00   0.00000000000000e+00 \n",
      "\n",
      "               synch_2                synch_3                synch_4                synch_5 \n",
      "  0.00000000000000e+00   0.00000000000000e+00   0.00000000000000e+00   0.00000000000000e+00 \n",
      "\n",
      "                nflips \n",
      "  0.00000000000000e+00 \n"
     ]
    }
   ],
   "source": [
    "twiss_no_error = madx.twiss(betx=1, bety=1, dx=0, dy=0);"
   ]
  },
  {
   "cell_type": "code",
   "execution_count": 17,
   "metadata": {},
   "outputs": [],
   "source": [
    "q1_no_error = twiss_no_error.summary.q1"
   ]
  },
  {
   "cell_type": "code",
   "execution_count": 18,
   "metadata": {},
   "outputs": [
    {
     "data": {
      "text/plain": [
       "True"
      ]
     },
     "execution_count": 18,
     "metadata": {},
     "output_type": "execute_result"
    }
   ],
   "source": [
    "madx.select(flag='error', pattern='qf')"
   ]
  },
  {
   "cell_type": "markdown",
   "metadata": {},
   "source": [
    "$\\implies$ make the horizontal dipole a vertical one by turning by $90\\deg$"
   ]
  },
  {
   "cell_type": "code",
   "execution_count": 19,
   "metadata": {},
   "outputs": [
    {
     "name": "stdout",
     "output_type": "stream",
     "text": [
      "Assigned alignment errors to 1 elements\n"
     ]
    },
    {
     "data": {
      "text/plain": [
       "True"
      ]
     },
     "execution_count": 19,
     "metadata": {},
     "output_type": "execute_result"
    }
   ],
   "source": [
    "madx.command.ealign(dpsi=np.pi/2)"
   ]
  },
  {
   "cell_type": "code",
   "execution_count": 20,
   "metadata": {},
   "outputs": [
    {
     "data": {
      "text/plain": [
       "qf: multipole, at=0.5, knl={0.01};"
      ]
     },
     "execution_count": 20,
     "metadata": {},
     "output_type": "execute_result"
    }
   ],
   "source": [
    "# qf = madx.sequence.testing.elements[1] \n",
    "### --> only \".elements\" does not work!! need \"expanded_elements\"\n",
    "qf = madx.sequence.testing.expanded_elements[2]\n",
    "qf"
   ]
  },
  {
   "cell_type": "code",
   "execution_count": 21,
   "metadata": {},
   "outputs": [
    {
     "data": {
      "text/plain": [
       "1.5707963267948966"
      ]
     },
     "execution_count": 21,
     "metadata": {},
     "output_type": "execute_result"
    }
   ],
   "source": [
    "qf.align_errors.dpsi"
   ]
  },
  {
   "cell_type": "code",
   "execution_count": 22,
   "metadata": {},
   "outputs": [
    {
     "name": "stdout",
     "output_type": "stream",
     "text": [
      "enter Twiss module\n",
      "\n",
      "++++++ table: summ\n",
      "\n",
      "                length                 orbit5                   alfa                gammatr \n",
      "  1.00000000000000e+00  -0.00000000000000e+00   0.00000000000000e+00   0.00000000000000e+00 \n",
      "\n",
      "                    q1                    dq1                betxmax                  dxmax \n",
      "  1.25003979039367e-01   0.00000000000000e+00   1.99990000583337e+00   3.46944695195361e-18 \n",
      "\n",
      "                 dxrms                 xcomax                 xcorms                     q2 \n",
      "  2.19427091786044e-18   5.00016667333360e-03   3.16238307364026e-03   1.25003979039367e-01 \n",
      "\n",
      "                   dq2                betymax                  dymax                  dyrms \n",
      "  0.00000000000000e+00   1.99990000583337e+00   8.80806767093869e-03   5.57071112501215e-03 \n",
      "\n",
      "                ycomax                 ycorms                 deltap                synch_1 \n",
      "  5.00041669208471e-03   3.16254119938251e-03   0.00000000000000e+00   0.00000000000000e+00 \n",
      "\n",
      "               synch_2                synch_3                synch_4                synch_5 \n",
      "  0.00000000000000e+00   0.00000000000000e+00   0.00000000000000e+00   0.00000000000000e+00 \n",
      "\n",
      "                nflips \n",
      "  2.00000000000000e+00 \n"
     ]
    }
   ],
   "source": [
    "twiss_with_error = madx.twiss(betx=1, bety=1, dx=0, dy=0);"
   ]
  },
  {
   "cell_type": "code",
   "execution_count": 23,
   "metadata": {},
   "outputs": [],
   "source": [
    "q1_with_error = twiss_with_error.summary.q1"
   ]
  },
  {
   "cell_type": "markdown",
   "metadata": {},
   "source": [
    "$\\implies$ **The tune has changed** (due to the weak focusing of the dipole?):"
   ]
  },
  {
   "cell_type": "code",
   "execution_count": 24,
   "metadata": {},
   "outputs": [
    {
     "data": {
      "text/plain": [
       "3.1831301671947365e-05"
      ]
     },
     "execution_count": 24,
     "metadata": {},
     "output_type": "execute_result"
    }
   ],
   "source": [
    "1 - q1_no_error / q1_with_error"
   ]
  },
  {
   "cell_type": "markdown",
   "metadata": {},
   "source": [
    "## MAD-X tracking"
   ]
  },
  {
   "cell_type": "markdown",
   "metadata": {},
   "source": [
    "Starting on-axis in the origin at (0,0,0,0,0,0), the particle gets a finite kick from the thin dipole and drifts away from the axis."
   ]
  },
  {
   "cell_type": "markdown",
   "metadata": {},
   "source": [
    "### Pure MAD-X thin-lens tracking:"
   ]
  },
  {
   "cell_type": "code",
   "execution_count": 25,
   "metadata": {},
   "outputs": [
    {
     "name": "stdout",
     "output_type": "stream",
     "text": [
      "enter TRACK module\n",
      "one pass is on\n",
      "\n",
      "++++++ table: tracksumm\n",
      "\n",
      "    number       turn                      x                     px \n",
      "         1          0   0.00000000000000e+00   0.00000000000000e+00 \n",
      "         1          1   5.00066682337395e-03   1.00003333466672e-02 \n",
      "\n",
      "                     y                     py                      t                     pt \n",
      "  0.00000000000000e+00   0.00000000000000e+00   0.00000000000000e+00   0.00000000000000e+00 \n",
      " -5.00091686713360e-03  -1.00008333841694e-02  -8.80997659244605e-05   0.00000000000000e+00 \n",
      "\n",
      "                     s                      e \n",
      "  0.00000000000000e+00   0.00000000000000e+00 \n",
      "  1.00000000000000e+00   0.00000000000000e+00 \n",
      "exit TRACK module\n",
      "\n"
     ]
    },
    {
     "data": {
      "text/plain": [
       "True"
      ]
     },
     "execution_count": 25,
     "metadata": {},
     "output_type": "execute_result"
    }
   ],
   "source": [
    "madx.input('''\n",
    "TRACK, onepass, onetable, file=output.;\n",
    "\n",
    "START, x=0, px=0, y=0, py=0, t=0, pt=0;\n",
    "\n",
    "RUN, turns=1;\n",
    "\n",
    "ENDTRACK;\n",
    "''')"
   ]
  },
  {
   "cell_type": "markdown",
   "metadata": {},
   "source": [
    "$\\implies$ the kick in `px` and `py` is not identical to $|k_0 l|$ but shows a $10^{-5}$ error -- **above** 0.01!"
   ]
  },
  {
   "cell_type": "code",
   "execution_count": 26,
   "metadata": {},
   "outputs": [],
   "source": [
    "headers = list(np.genfromtxt(\n",
    "    \"output.one\", skip_header=51, max_rows=1, dtype=str)[1:])\n",
    "\n",
    "initial_distribution_madx = np.genfromtxt(\n",
    "    \"output.one\", skip_header=54, max_rows=1, dtype=np.float64)\n",
    "\n",
    "final_distribution_madx = np.genfromtxt(\n",
    "    \"output.one\", skip_header=55, max_rows=1, dtype=np.float64)"
   ]
  },
  {
   "cell_type": "code",
   "execution_count": 27,
   "metadata": {},
   "outputs": [],
   "source": [
    "pt_madx = final_distribution_madx[headers.index('PT')]\n",
    "betai = get_betai(pt_madx)\n",
    "\n",
    "x_madx = final_distribution_madx[headers.index('X')]\n",
    "px_madx = final_distribution_madx[headers.index('PX')]\n",
    "y_madx = final_distribution_madx[headers.index('Y')]\n",
    "py_madx = final_distribution_madx[headers.index('PY')]\n",
    "zeta_madx = final_distribution_madx[headers.index('T')] * betai\n",
    "delta_madx = np.sqrt(1 + 2 * pt_madx / beta + pt_madx**2) - 1"
   ]
  },
  {
   "cell_type": "markdown",
   "metadata": {},
   "source": [
    "The $10^{-5}$ error is asymmetric between $x$ and $y$, plus both |`px`| and |`py`| come out higher than `k0l` (larger than 0.01)!"
   ]
  },
  {
   "cell_type": "code",
   "execution_count": 28,
   "metadata": {},
   "outputs": [
    {
     "data": {
      "text/plain": [
       "3.333466672006402e-05"
      ]
     },
     "execution_count": 28,
     "metadata": {},
     "output_type": "execute_result"
    }
   ],
   "source": [
    "abs(px_madx / qf.knl[0]) - 1"
   ]
  },
  {
   "cell_type": "code",
   "execution_count": 29,
   "metadata": {},
   "outputs": [
    {
     "data": {
      "text/plain": [
       "8.333841694008193e-05"
      ]
     },
     "execution_count": 29,
     "metadata": {},
     "output_type": "execute_result"
    }
   ],
   "source": [
    "abs(py_madx / qf.knl[0]) - 1"
   ]
  },
  {
   "cell_type": "markdown",
   "metadata": {},
   "source": [
    "$\\leadsto$ The error magnitude actually depends on the initial strength, if the dipole gets stronger, the error becomes larger!"
   ]
  },
  {
   "cell_type": "markdown",
   "metadata": {},
   "source": [
    "### Let us try the same with PTC tracking in MAD-X:"
   ]
  },
  {
   "cell_type": "code",
   "execution_count": 30,
   "metadata": {},
   "outputs": [
    {
     "name": "stdout",
     "output_type": "stream",
     "text": [
      "maxaccel is not present (keeping current value)\n",
      "exact_mis is found and its value is 0.000000\n",
      "radiation is not present (keeping current value)\n",
      "modulation is not present (keeping current value)\n",
      "stochastic is not present (keeping current value)\n",
      "envelope is not present (keeping current value)\n",
      "fringe is not present (keeping current value)\n",
      "totalpath is not present (keeping current value)\n",
      "time is not present (keeping current value)\n",
      "nocavity is not present (keeping current value)\n",
      "seed is not present (keeping current value)\n",
      "obs_points pro_ptc_setswitch Done\n",
      "Want to make named table: errors_read\n",
      "\n",
      "++++++ table: tracksumm\n",
      "\n",
      "    number       turn                      x                     px \n",
      "         1          0   0.00000000000000e+00   0.00000000000000e+00 \n",
      "         1          1   5.00025003542380e-03   9.99949997083301e-03 \n",
      "\n",
      "                     y                     py                      t                     pt \n",
      "  0.00000000000000e+00   0.00000000000000e+00  -0.00000000000000e+00   0.00000000000000e+00 \n",
      " -5.00075010209829e-03  -1.00005000041637e-02  -8.80894863554138e-05   0.00000000000000e+00 \n",
      "\n",
      "                     s                      e \n",
      "  0.00000000000000e+00   2.69295594705200e+02 \n",
      "  0.00000000000000e+00   2.69295594705200e+02 \n"
     ]
    },
    {
     "data": {
      "text/plain": [
       "True"
      ]
     },
     "execution_count": 30,
     "metadata": {},
     "output_type": "execute_result"
    }
   ],
   "source": [
    "madx.input('''\n",
    "PTC_CREATE_UNIVERSE;\n",
    "!!! exact=true here below means exact drifting, this doesn't affect the dipole kick!\n",
    "PTC_CREATE_LAYOUT, EXACT=true, METHOD=6;\n",
    "PTC_SETSWITCH, EXACT_MIS=false;\n",
    "''')\n",
    "\n",
    "madx.esave(file='errors')\n",
    "madx.command.readtable(file='errors', table='errors_read')\n",
    "\n",
    "madx.input('''\n",
    "PTC_READ_ERRORS;\n",
    "PTC_ALIGN;\n",
    "''')\n",
    "\n",
    "madx.input('''\n",
    "PTC_START, x=0, px=0, y=0, py=0, t=0, pt=0;\n",
    "PTC_TRACK, turns=1, onetable=true, icase=6, dump=false, ffile=1;\n",
    "PTC_TRACK_END;\n",
    "PTC_END;\n",
    "''')\n",
    "\n",
    "madx.input('''\n",
    "write, table=tracksumm, file=output_ptc_approx_mis.dat;\n",
    "''')"
   ]
  },
  {
   "cell_type": "markdown",
   "metadata": {},
   "source": [
    "$\\implies$ also in PTC, `px` does not amount to 0.01 (i.e. the `k0l` figure), it is off by a $10^{-5}$ difference..."
   ]
  },
  {
   "cell_type": "code",
   "execution_count": 31,
   "metadata": {},
   "outputs": [],
   "source": [
    "headers = list(np.genfromtxt(\n",
    "    \"output_ptc_approx_mis.dat\", skip_header=6, max_rows=1, dtype=str)[1:])\n",
    "\n",
    "initial_distribution_ptc_approx_mis = np.genfromtxt(\n",
    "    \"output_ptc_approx_mis.dat\", skip_header=8, max_rows=1, dtype=np.float64)\n",
    "\n",
    "final_distribution_ptc_approx_mis = np.genfromtxt(\n",
    "    \"output_ptc_approx_mis.dat\", skip_header=9, max_rows=1, dtype=np.float64)"
   ]
  },
  {
   "cell_type": "code",
   "execution_count": 32,
   "metadata": {},
   "outputs": [],
   "source": [
    "pt_ptc_approx = initial_distribution_ptc_approx_mis[headers.index('PT')]\n",
    "betai = get_betai(pt_ptc_approx)\n",
    "\n",
    "x_ptc_approx = final_distribution_ptc_approx_mis[headers.index('X')]\n",
    "px_ptc_approx = final_distribution_ptc_approx_mis[headers.index('PX')]\n",
    "y_ptc_approx = final_distribution_ptc_approx_mis[headers.index('Y')]\n",
    "py_ptc_approx = final_distribution_ptc_approx_mis[headers.index('PY')]\n",
    "zeta_ptc_approx = final_distribution_ptc_approx_mis[headers.index('T')] * betai\n",
    "delta_ptc_approx = np.sqrt(1 + 2 * pt_ptc_approx / beta + pt_ptc_approx**2) - 1"
   ]
  },
  {
   "cell_type": "markdown",
   "metadata": {},
   "source": [
    "The $10^{-5}$ error is symmetric in $x$ and $y$ and of **opposite** sign! (`px` is 0.0099994... and `py` is 0.0100005...)"
   ]
  },
  {
   "cell_type": "code",
   "execution_count": 33,
   "metadata": {},
   "outputs": [
    {
     "data": {
      "text/plain": [
       "-5.0002916699098954e-05"
      ]
     },
     "execution_count": 33,
     "metadata": {},
     "output_type": "execute_result"
    }
   ],
   "source": [
    "abs(px_ptc_approx / qf.knl[0]) - 1"
   ]
  },
  {
   "cell_type": "code",
   "execution_count": 34,
   "metadata": {},
   "outputs": [
    {
     "data": {
      "text/plain": [
       "5.000041636993302e-05"
      ]
     },
     "execution_count": 34,
     "metadata": {},
     "output_type": "execute_result"
    }
   ],
   "source": [
    "abs(py_ptc_approx / qf.knl[0]) - 1"
   ]
  },
  {
   "cell_type": "markdown",
   "metadata": {},
   "source": [
    "PTC offers an option for **exact misalignment errors**, let's try it and see the effect:"
   ]
  },
  {
   "cell_type": "code",
   "execution_count": 35,
   "metadata": {},
   "outputs": [
    {
     "name": "stdout",
     "output_type": "stream",
     "text": [
      "maxaccel is not present (keeping current value)\n",
      "exact_mis is found and its value is 1.000000\n",
      "radiation is not present (keeping current value)\n",
      "modulation is not present (keeping current value)\n",
      "stochastic is not present (keeping current value)\n",
      "envelope is not present (keeping current value)\n",
      "fringe is not present (keeping current value)\n",
      "totalpath is not present (keeping current value)\n",
      "time is not present (keeping current value)\n",
      "nocavity is not present (keeping current value)\n",
      "seed is not present (keeping current value)\n",
      "obs_points pro_ptc_setswitch Done\n",
      "Want to make named table: errors_read\n",
      "\n",
      "++++++ table: tracksumm\n",
      "\n",
      "    number       turn                      x                     px \n",
      "         1          0   0.00000000000000e+00   0.00000000000000e+00 \n",
      "         1          1   5.00016667333360e-03   9.99933334666654e-03 \n",
      "\n",
      "                     y                     py                      t                     pt \n",
      "  0.00000000000000e+00   0.00000000000000e+00  -0.00000000000000e+00   0.00000000000000e+00 \n",
      " -5.00041669208471e-03  -9.99983333416667e-03  -8.80821447964975e-05   0.00000000000000e+00 \n",
      "\n",
      "                     s                      e \n",
      "  0.00000000000000e+00   2.69295594705200e+02 \n",
      "  0.00000000000000e+00   2.69295594705200e+02 \n"
     ]
    },
    {
     "data": {
      "text/plain": [
       "True"
      ]
     },
     "execution_count": 35,
     "metadata": {},
     "output_type": "execute_result"
    }
   ],
   "source": [
    "madx.input('''\n",
    "PTC_CREATE_UNIVERSE;\n",
    "!!! exact=true here below means exact drifting, this doesn't affect the dipole kick!\n",
    "PTC_CREATE_LAYOUT, EXACT=true, METHOD=6;\n",
    "PTC_SETSWITCH, EXACT_MIS=true;                       !!! <<<\n",
    "''')\n",
    "\n",
    "madx.esave(file='errors')\n",
    "madx.command.readtable(file='errors', table='errors_read')\n",
    "\n",
    "madx.input('''\n",
    "PTC_READ_ERRORS;\n",
    "PTC_ALIGN;\n",
    "''')\n",
    "\n",
    "madx.input('''\n",
    "PTC_START, x=0, px=0, y=0, py=0, t=0, pt=0;\n",
    "PTC_TRACK, turns=1, onetable=true, icase=6, dump=false, ffile=1;\n",
    "PTC_TRACK_END;\n",
    "PTC_END;\n",
    "''')\n",
    "\n",
    "madx.input('''\n",
    "write, table=tracksumm, file=output_ptc_exact_mis.dat;\n",
    "''')"
   ]
  },
  {
   "cell_type": "markdown",
   "metadata": {},
   "source": [
    "$\\implies$ again, `px` amounts to slightly less than `k0l=0.01` but also `py` is smaller than `k0l` now as opposed to the approximated misalignment errors!"
   ]
  },
  {
   "cell_type": "code",
   "execution_count": 36,
   "metadata": {},
   "outputs": [],
   "source": [
    "headers = list(np.genfromtxt(\n",
    "    \"output_ptc_exact_mis.dat\", skip_header=6, max_rows=1, dtype=str)[1:])\n",
    "\n",
    "initial_distribution_ptc_exact_mis = np.genfromtxt(\n",
    "    \"output_ptc_exact_mis.dat\", skip_header=8, max_rows=1, dtype=np.float64)\n",
    "\n",
    "final_distribution_ptc_exact_mis = np.genfromtxt(\n",
    "    \"output_ptc_exact_mis.dat\", skip_header=9, max_rows=1, dtype=np.float64)"
   ]
  },
  {
   "cell_type": "code",
   "execution_count": 37,
   "metadata": {},
   "outputs": [],
   "source": [
    "pt_ptc_exact= initial_distribution_ptc_exact_mis[headers.index('PT')]\n",
    "betai = get_betai(pt_ptc_exact)\n",
    "\n",
    "x_ptc_exact = final_distribution_ptc_exact_mis[headers.index('X')]\n",
    "px_ptc_exact = final_distribution_ptc_exact_mis[headers.index('PX')]\n",
    "y_ptc_exact = final_distribution_ptc_exact_mis[headers.index('Y')]\n",
    "py_ptc_exact = final_distribution_ptc_exact_mis[headers.index('PY')]\n",
    "zeta_ptc_exact = final_distribution_ptc_exact_mis[headers.index('T')] * betai\n",
    "delta_ptc_exact = np.sqrt(1 + 2 * pt_ptc_exact / beta + pt_ptc_exact**2) - 1"
   ]
  },
  {
   "cell_type": "markdown",
   "metadata": {},
   "source": [
    "The $10^{-5}$ error is asymmetric in $x$ and $y$ and of the same sign, however both are negative while in MAD-X pure thin-lens tracking they are both positive!"
   ]
  },
  {
   "cell_type": "code",
   "execution_count": 38,
   "metadata": {},
   "outputs": [
    {
     "data": {
      "text/plain": [
       "-6.666533334598324e-05"
      ]
     },
     "execution_count": 38,
     "metadata": {},
     "output_type": "execute_result"
    }
   ],
   "source": [
    "abs(px_ptc_exact / qf.knl[0]) - 1"
   ]
  },
  {
   "cell_type": "code",
   "execution_count": 39,
   "metadata": {},
   "outputs": [
    {
     "data": {
      "text/plain": [
       "-1.6666583333102558e-05"
      ]
     },
     "execution_count": 39,
     "metadata": {},
     "output_type": "execute_result"
    }
   ],
   "source": [
    "abs(py_ptc_exact / qf.knl[0]) - 1"
   ]
  },
  {
   "cell_type": "markdown",
   "metadata": {},
   "source": [
    "## PySixTrack setup"
   ]
  },
  {
   "cell_type": "code",
   "execution_count": 40,
   "metadata": {},
   "outputs": [
    {
     "name": "stdout",
     "output_type": "stream",
     "text": [
      "Want to make named table: errors\n"
     ]
    }
   ],
   "source": [
    "madx.esave(file='errors')\n",
    "madx.command.readtable(file='errors', table='errors')\n",
    "errors = madx.table.errors"
   ]
  },
  {
   "cell_type": "code",
   "execution_count": 41,
   "metadata": {},
   "outputs": [],
   "source": [
    "# PySixTrack, lattice transfer and preparation!\n",
    "\n",
    "pysixtrack_elements = pysixtrack.Line.from_madx_sequence(\n",
    "    madx.sequence.testing, exact_drift=True,\n",
    ")\n",
    "\n",
    "pysixtrack_elements.apply_madx_errors(errors)\n",
    "\n",
    "pysixtrack_elements.remove_zero_length_drifts(inplace=True);\n",
    "pysixtrack_elements.merge_consecutive_drifts(inplace=True);"
   ]
  },
  {
   "cell_type": "markdown",
   "metadata": {},
   "source": [
    "The PySixTrack multipole contains only the dipole component:"
   ]
  },
  {
   "cell_type": "code",
   "execution_count": 42,
   "metadata": {},
   "outputs": [
    {
     "data": {
      "text/plain": [
       "[0.01]"
      ]
     },
     "execution_count": 42,
     "metadata": {},
     "output_type": "execute_result"
    }
   ],
   "source": [
    "pysixtrack_elements.elements[2].knl"
   ]
  },
  {
   "cell_type": "markdown",
   "metadata": {},
   "source": [
    "The `SRotation` wrapping the thin dipole applies the angle of $90\\deg$:"
   ]
  },
  {
   "cell_type": "code",
   "execution_count": 43,
   "metadata": {},
   "outputs": [
    {
     "data": {
      "text/plain": [
       "90.0000000000002"
      ]
     },
     "execution_count": 43,
     "metadata": {},
     "output_type": "execute_result"
    }
   ],
   "source": [
    "angle = pysixtrack_elements.elements[1].angle\n",
    "angle"
   ]
  },
  {
   "cell_type": "markdown",
   "metadata": {},
   "source": [
    "The thin dipole contains a curvature part which has also been rotated:"
   ]
  },
  {
   "cell_type": "code",
   "execution_count": 44,
   "metadata": {},
   "outputs": [
    {
     "data": {
      "text/plain": [
       "-3.4914813388431335e-17"
      ]
     },
     "execution_count": 44,
     "metadata": {},
     "output_type": "execute_result"
    }
   ],
   "source": [
    "pysixtrack_elements.elements[2].hxl"
   ]
  },
  {
   "cell_type": "code",
   "execution_count": 45,
   "metadata": {},
   "outputs": [
    {
     "data": {
      "text/plain": [
       "0.01"
      ]
     },
     "execution_count": 45,
     "metadata": {},
     "output_type": "execute_result"
    }
   ],
   "source": [
    "pysixtrack_elements.elements[2].hyl"
   ]
  },
  {
   "cell_type": "markdown",
   "metadata": {},
   "source": [
    "## PySixTrack tracking"
   ]
  },
  {
   "cell_type": "code",
   "execution_count": 46,
   "metadata": {},
   "outputs": [],
   "source": [
    "pysixtrack_particles = pysixtrack.Particles.from_madx_track(madx)"
   ]
  },
  {
   "cell_type": "code",
   "execution_count": 47,
   "metadata": {},
   "outputs": [],
   "source": [
    "# necessary to transfer to SixTrackLib with this version of PySixTrack\n",
    "pysixtrack_particles.state = np.array([1, 0])\n",
    "pysixtrack_particles.elemid = 0\n",
    "\n",
    "pysixtrack_particles.remove_lost_particles()"
   ]
  },
  {
   "cell_type": "code",
   "execution_count": 48,
   "metadata": {},
   "outputs": [],
   "source": [
    "## SixTrackLib stuff\n",
    "\n",
    "# elements = stl.Elements.from_line(pysixtrack_elements)\n",
    "# elements.BeamMonitor(num_stores=1);\n",
    "\n",
    "# particles = stl.ParticlesSet().Particles(num_particles=1)\n",
    "\n",
    "# particles.from_pysixtrack(pysixtrack_particles, particle_index=0)\n",
    "\n",
    "# trackjob = stl.TrackJob(elements, particles) #, device=\"opencl:0.0\")\n",
    "\n",
    "# trackjob.track_until(1)\n",
    "# trackjob.collect()\n",
    "\n",
    "# x = trackjob.output.particles[0].x[0]\n",
    "# px = trackjob.output.particles[0].px[0]\n",
    "# y = trackjob.output.particles[0].y[0]\n",
    "# py = trackjob.output.particles[0].py[0]\n",
    "# zeta = trackjob.output.particles[0].zeta[0]\n",
    "# delta = trackjob.output.particles[0].delta[0]\n",
    "\n",
    "# x, px, y, py, zeta, delta"
   ]
  },
  {
   "cell_type": "code",
   "execution_count": 49,
   "metadata": {},
   "outputs": [
    {
     "data": {
      "text/plain": [
       "        mass0   = 221695594.70520002\n",
       "        p0c     = 152876357.28239682\n",
       "        energy0 = 269295594.7052\n",
       "        beta0   = 0.5676897813711055\n",
       "        gamma0  = 1.2147088220823519\n",
       "        s       = [0.]\n",
       "        x       = [0.]\n",
       "        px      = [0.]\n",
       "        y       = [0.]\n",
       "        py      = [0.]\n",
       "        zeta    = [-0.]\n",
       "        delta   = [0.]\n",
       "        ptau    = [0.]\n",
       "        mratio  = 1.0\n",
       "        qratio  = 1.0\n",
       "        chi     = 1.0"
      ]
     },
     "execution_count": 49,
     "metadata": {},
     "output_type": "execute_result"
    }
   ],
   "source": [
    "pysixtrack_particles"
   ]
  },
  {
   "cell_type": "code",
   "execution_count": 50,
   "metadata": {},
   "outputs": [],
   "source": [
    "pysixtrack_elements.track(pysixtrack_particles)"
   ]
  },
  {
   "cell_type": "code",
   "execution_count": 51,
   "metadata": {},
   "outputs": [
    {
     "data": {
      "text/plain": [
       "        mass0   = 221695594.70520002\n",
       "        p0c     = 152876357.28239682\n",
       "        energy0 = 269295594.7052\n",
       "        beta0   = 0.5676897813711055\n",
       "        gamma0  = 1.2147088220823519\n",
       "        s       = [1.]\n",
       "        x       = [0.0050005]\n",
       "        px      = [0.01]\n",
       "        y       = [-0.0050005]\n",
       "        py      = [-0.01]\n",
       "        zeta    = [-5.00075013e-05]\n",
       "        delta   = [0.]\n",
       "        ptau    = [0.]\n",
       "        mratio  = 1.0\n",
       "        qratio  = 1.0\n",
       "        chi     = 1.0"
      ]
     },
     "execution_count": 51,
     "metadata": {},
     "output_type": "execute_result"
    }
   ],
   "source": [
    "pysixtrack_particles"
   ]
  },
  {
   "cell_type": "code",
   "execution_count": 52,
   "metadata": {},
   "outputs": [],
   "source": [
    "x = pysixtrack_particles.x[0]\n",
    "px = pysixtrack_particles.px[0]\n",
    "y = pysixtrack_particles.y[0]\n",
    "py = pysixtrack_particles.py[0]\n",
    "zeta = pysixtrack_particles.zeta[0]\n",
    "delta = pysixtrack_particles.delta[0]"
   ]
  },
  {
   "cell_type": "markdown",
   "metadata": {},
   "source": [
    "## evaluation PySixTrack vs. MAD-X:"
   ]
  },
  {
   "cell_type": "code",
   "execution_count": 53,
   "metadata": {},
   "outputs": [
    {
     "name": "stdout",
     "output_type": "stream",
     "text": [
      "x error in %: -0.0033346337152075295\n"
     ]
    }
   ],
   "source": [
    "print ('x error in %: {}'.format(100 * (x - x_madx) / x))"
   ]
  },
  {
   "cell_type": "code",
   "execution_count": 54,
   "metadata": {},
   "outputs": [
    {
     "name": "stdout",
     "output_type": "stream",
     "text": [
      "px error in %: -0.0033334666716538946\n"
     ]
    }
   ],
   "source": [
    "print ('px error in %: {}'.format(100 * (px - px_madx) / px))"
   ]
  },
  {
   "cell_type": "code",
   "execution_count": 55,
   "metadata": {},
   "outputs": [
    {
     "name": "stdout",
     "output_type": "stream",
     "text": [
      "y error in %: -0.008335008796041616\n"
     ]
    }
   ],
   "source": [
    "print ('y error in %: {}'.format(100 * (y - y_madx) / y))"
   ]
  },
  {
   "cell_type": "code",
   "execution_count": 56,
   "metadata": {},
   "outputs": [
    {
     "name": "stdout",
     "output_type": "stream",
     "text": [
      "py error in %: -0.008333841693998478\n"
     ]
    }
   ],
   "source": [
    "print ('py error in %: {}'.format(100 * (py - py_madx) / py))"
   ]
  },
  {
   "cell_type": "code",
   "execution_count": 57,
   "metadata": {},
   "outputs": [
    {
     "name": "stdout",
     "output_type": "stream",
     "text": [
      "zeta error in %: -0.011669461951892845\n"
     ]
    }
   ],
   "source": [
    "print ('zeta error in %: {}'.format(100 * (zeta - zeta_madx) / zeta))"
   ]
  },
  {
   "cell_type": "code",
   "execution_count": 58,
   "metadata": {},
   "outputs": [
    {
     "data": {
      "text/plain": [
       "True"
      ]
     },
     "execution_count": 58,
     "metadata": {},
     "output_type": "execute_result"
    }
   ],
   "source": [
    "delta == delta_madx"
   ]
  },
  {
   "cell_type": "markdown",
   "metadata": {},
   "source": [
    "## evaluation PySixTrack vs. PTC approx. misalignment errors:"
   ]
  },
  {
   "cell_type": "code",
   "execution_count": 59,
   "metadata": {},
   "outputs": [
    {
     "name": "stdout",
     "output_type": "stream",
     "text": [
      "x error in %: 0.0050002916702101925\n"
     ]
    }
   ],
   "source": [
    "print ('x error in %: {}'.format(100 * (x - x_ptc_approx) / x))"
   ]
  },
  {
   "cell_type": "code",
   "execution_count": 60,
   "metadata": {},
   "outputs": [
    {
     "name": "stdout",
     "output_type": "stream",
     "text": [
      "px error in %: 0.0050002916702519655\n"
     ]
    }
   ],
   "source": [
    "print ('px error in %: {}'.format(100 * (px - px_ptc_approx) / px))"
   ]
  },
  {
   "cell_type": "code",
   "execution_count": 61,
   "metadata": {},
   "outputs": [
    {
     "name": "stdout",
     "output_type": "stream",
     "text": [
      "y error in %: -0.005000041636580333\n"
     ]
    }
   ],
   "source": [
    "print ('y error in %: {}'.format(100 * (y - y_ptc_approx) / y))"
   ]
  },
  {
   "cell_type": "code",
   "execution_count": 62,
   "metadata": {},
   "outputs": [
    {
     "name": "stdout",
     "output_type": "stream",
     "text": [
      "py error in %: -0.005000041636993996\n"
     ]
    }
   ],
   "source": [
    "print ('py error in %: {}'.format(100 * (py - py_ptc_approx) / py))"
   ]
  },
  {
   "cell_type": "code",
   "execution_count": 63,
   "metadata": {},
   "outputs": [
    {
     "name": "stdout",
     "output_type": "stream",
     "text": [
      "zeta error in %: -5.353800275458143e-11\n"
     ]
    }
   ],
   "source": [
    "print ('zeta error in %: {}'.format(100 * (zeta - zeta_ptc_approx) / zeta))"
   ]
  },
  {
   "cell_type": "code",
   "execution_count": 64,
   "metadata": {},
   "outputs": [
    {
     "data": {
      "text/plain": [
       "True"
      ]
     },
     "execution_count": 64,
     "metadata": {},
     "output_type": "execute_result"
    }
   ],
   "source": [
    "delta == delta_ptc_approx"
   ]
  },
  {
   "cell_type": "markdown",
   "metadata": {},
   "source": [
    "## evaluation PySixTrack vs. PTC exact misalignment errors:"
   ]
  },
  {
   "cell_type": "code",
   "execution_count": 65,
   "metadata": {},
   "outputs": [
    {
     "name": "stdout",
     "output_type": "stream",
     "text": [
      "x error in %: 0.006667366741683106\n"
     ]
    }
   ],
   "source": [
    "print ('x error in %: {}'.format(100 * (x - x_ptc_exact) / x))"
   ]
  },
  {
   "cell_type": "code",
   "execution_count": 66,
   "metadata": {},
   "outputs": [
    {
     "name": "stdout",
     "output_type": "stream",
     "text": [
      "px error in %: 0.00666653333494802\n"
     ]
    }
   ],
   "source": [
    "print ('px error in %: {}'.format(100 * (px - px_ptc_exact) / px))"
   ]
  },
  {
   "cell_type": "code",
   "execution_count": 67,
   "metadata": {},
   "outputs": [
    {
     "name": "stdout",
     "output_type": "stream",
     "text": [
      "y error in %: 0.001667491781654366\n"
     ]
    }
   ],
   "source": [
    "print ('y error in %: {}'.format(100 * (y - y_ptc_exact) / y))"
   ]
  },
  {
   "cell_type": "code",
   "execution_count": 68,
   "metadata": {},
   "outputs": [
    {
     "name": "stdout",
     "output_type": "stream",
     "text": [
      "py error in %: 0.0016666583333053986\n"
     ]
    }
   ],
   "source": [
    "print ('py error in %: {}'.format(100 * (py - py_ptc_exact) / py))"
   ]
  },
  {
   "cell_type": "code",
   "execution_count": 69,
   "metadata": {},
   "outputs": [
    {
     "name": "stdout",
     "output_type": "stream",
     "text": [
      "zeta error in %: 0.008334205559468249\n"
     ]
    }
   ],
   "source": [
    "print ('zeta error in %: {}'.format(100 * (zeta - zeta_ptc_exact) / zeta))"
   ]
  },
  {
   "cell_type": "code",
   "execution_count": 70,
   "metadata": {},
   "outputs": [
    {
     "data": {
      "text/plain": [
       "True"
      ]
     },
     "execution_count": 70,
     "metadata": {},
     "output_type": "execute_result"
    }
   ],
   "source": [
    "delta == delta_ptc_exact"
   ]
  }
 ],
 "metadata": {
  "kernelspec": {
   "display_name": "Python 3",
   "language": "python",
   "name": "python3"
  },
  "language_info": {
   "codemirror_mode": {
    "name": "ipython",
    "version": 3
   },
   "file_extension": ".py",
   "mimetype": "text/x-python",
   "name": "python",
   "nbconvert_exporter": "python",
   "pygments_lexer": "ipython3",
   "version": "3.7.4"
  }
 },
 "nbformat": 4,
 "nbformat_minor": 2
}
