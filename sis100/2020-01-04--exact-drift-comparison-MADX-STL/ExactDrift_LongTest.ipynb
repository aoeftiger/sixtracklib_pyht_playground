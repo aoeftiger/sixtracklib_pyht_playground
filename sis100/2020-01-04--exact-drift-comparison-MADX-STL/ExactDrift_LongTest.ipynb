{
 "cells": [
  {
   "cell_type": "code",
   "execution_count": 1,
   "metadata": {},
   "outputs": [],
   "source": [
    "import numpy as np\n",
    "\n",
    "from scipy.constants import e, c\n",
    "\n",
    "from scipy.constants import physical_constants"
   ]
  },
  {
   "cell_type": "code",
   "execution_count": 2,
   "metadata": {},
   "outputs": [],
   "source": [
    "from cpymad.madx import Madx\n",
    "\n",
    "import sixtracklib as stl\n",
    "import pysixtrack"
   ]
  },
  {
   "cell_type": "markdown",
   "metadata": {},
   "source": [
    "# Versioning"
   ]
  },
  {
   "cell_type": "markdown",
   "metadata": {},
   "source": [
    "## SixTrackLib"
   ]
  },
  {
   "cell_type": "code",
   "execution_count": 3,
   "metadata": {},
   "outputs": [
    {
     "data": {
      "text/plain": [
       "'/home/oeftiger/gsi/git/sixtracklib/python/sixtracklib/__init__.py'"
      ]
     },
     "execution_count": 3,
     "metadata": {},
     "output_type": "execute_result"
    }
   ],
   "source": [
    "stl.__file__"
   ]
  },
  {
   "cell_type": "code",
   "execution_count": 4,
   "metadata": {},
   "outputs": [
    {
     "name": "stdout",
     "output_type": "stream",
     "text": [
      "commit 0539914c228a66820427b2c7d333725fcc02ebd7\r\n",
      "Merge: 00d1a3a7 af5af8ea\r\n",
      "Author: Martin Schwinzerl <martin.schwinzerl@cern.ch>\r\n",
      "Date:   Mon Dec 16 19:05:33 2019 +0100\r\n"
     ]
    }
   ],
   "source": [
    "!cd '/home/oeftiger/gsi/git/sixtracklib/python/sixtracklib/' && git log | head -4"
   ]
  },
  {
   "cell_type": "markdown",
   "metadata": {},
   "source": [
    "## PySixTrack"
   ]
  },
  {
   "cell_type": "code",
   "execution_count": 5,
   "metadata": {},
   "outputs": [
    {
     "data": {
      "text/plain": [
       "'/home/oeftiger/gsi/git/pysixtrack/pysixtrack/__init__.py'"
      ]
     },
     "execution_count": 5,
     "metadata": {},
     "output_type": "execute_result"
    }
   ],
   "source": [
    "pysixtrack.__file__"
   ]
  },
  {
   "cell_type": "code",
   "execution_count": 6,
   "metadata": {},
   "outputs": [
    {
     "name": "stdout",
     "output_type": "stream",
     "text": [
      "commit 3429831a7a2a578213f8bb7f1de3792715dad2bd\r\n",
      "Author: Riccardo De Maria <riccardodemaria@gmail.com>\r\n",
      "Date:   Wed Dec 18 18:04:48 2019 +0100\r\n",
      "\r\n"
     ]
    }
   ],
   "source": [
    "!cd '/home/oeftiger/gsi/git/pysixtrack/pysixtrack/' && git log | head -4"
   ]
  },
  {
   "cell_type": "markdown",
   "metadata": {},
   "source": [
    "# Parameters"
   ]
  },
  {
   "cell_type": "code",
   "execution_count": 7,
   "metadata": {},
   "outputs": [],
   "source": [
    "nmass = physical_constants['atomic mass constant energy equivalent in MeV'][0] * 1e-3\n",
    "# nmass = 0.931494061 # MAD-X value"
   ]
  },
  {
   "cell_type": "code",
   "execution_count": 8,
   "metadata": {},
   "outputs": [],
   "source": [
    "A = 238\n",
    "Q = 28\n",
    "\n",
    "Ekin_per_nucleon = 0.2e9 # in eV\n",
    "\n",
    "###\n",
    "\n",
    "mass = A * nmass * 1e9 * e / c**2 # in kg\n",
    "charge = Q * e # in Coul\n",
    "\n",
    "Ekin = Ekin_per_nucleon * A\n",
    "p0c = np.sqrt(Ekin**2 + 2*Ekin*mass/e * c**2) # in eV\n",
    "\n",
    "Etot = np.sqrt(p0c**2 + (mass/e)**2 * c**4) * 1e-9 # in GeV\n",
    "p0 = p0c / c * e # in SI units\n",
    "gamma = np.sqrt(1 + (p0 / (mass * c))**2)\n",
    "beta = np.sqrt(1 - gamma**-2)"
   ]
  },
  {
   "cell_type": "markdown",
   "metadata": {},
   "source": [
    "## MAD-X setup"
   ]
  },
  {
   "cell_type": "code",
   "execution_count": 9,
   "metadata": {},
   "outputs": [
    {
     "name": "stdout",
     "output_type": "stream",
     "text": [
      "\n",
      "  ++++++++++++++++++++++++++++++++++++++++++++\n",
      "  +     MAD-X 5.05.01  (64 bit, Linux)       +\n",
      "  + Support: mad@cern.ch, http://cern.ch/mad +\n",
      "  + Release   date: 2019.06.07               +\n",
      "  + Execution date: 2020.01.03 11:51:59      +\n",
      "  ++++++++++++++++++++++++++++++++++++++++++++\n"
     ]
    }
   ],
   "source": [
    "madx = Madx()\n",
    "madx.options.echo = False\n",
    "madx.options.warn = False"
   ]
  },
  {
   "cell_type": "code",
   "execution_count": 10,
   "metadata": {},
   "outputs": [
    {
     "data": {
      "text/plain": [
       "True"
      ]
     },
     "execution_count": 10,
     "metadata": {},
     "output_type": "execute_result"
    }
   ],
   "source": [
    "madx.input('''SET, format=\"22.14e\";''')"
   ]
  },
  {
   "cell_type": "code",
   "execution_count": 11,
   "metadata": {},
   "outputs": [
    {
     "data": {
      "text/plain": [
       "True"
      ]
     },
     "execution_count": 11,
     "metadata": {},
     "output_type": "execute_result"
    }
   ],
   "source": [
    "madx.input('''\n",
    "s: Marker;\n",
    "\n",
    "drifting: sequence, l = 1;\n",
    "s, at = 1;\n",
    "endsequence;\n",
    "''')"
   ]
  },
  {
   "cell_type": "code",
   "execution_count": 12,
   "metadata": {},
   "outputs": [
    {
     "data": {
      "text/plain": [
       "True"
      ]
     },
     "execution_count": 12,
     "metadata": {},
     "output_type": "execute_result"
    }
   ],
   "source": [
    "madx.command.beam(\n",
    "    particle='ion', mass=A*nmass, charge=Q, energy=Etot)"
   ]
  },
  {
   "cell_type": "code",
   "execution_count": 13,
   "metadata": {},
   "outputs": [],
   "source": [
    "madx.use(sequence='drifting')"
   ]
  },
  {
   "cell_type": "code",
   "execution_count": 14,
   "metadata": {},
   "outputs": [
    {
     "name": "stdout",
     "output_type": "stream",
     "text": [
      "enter Twiss module\n",
      "\n",
      "++++++ table: summ\n",
      "\n",
      "                length                 orbit5                   alfa                gammatr \n",
      "  1.00000000000000e+00  -0.00000000000000e+00   0.00000000000000e+00   0.00000000000000e+00 \n",
      "\n",
      "                    q1                    dq1                betxmax                  dxmax \n",
      "  1.25000000000000e-01   0.00000000000000e+00   2.00000000000000e+00   0.00000000000000e+00 \n",
      "\n",
      "                 dxrms                 xcomax                 xcorms                     q2 \n",
      "  0.00000000000000e+00   0.00000000000000e+00   0.00000000000000e+00   1.25000000000000e-01 \n",
      "\n",
      "                   dq2                betymax                  dymax                  dyrms \n",
      "  0.00000000000000e+00   2.00000000000000e+00   0.00000000000000e+00   0.00000000000000e+00 \n",
      "\n",
      "                ycomax                 ycorms                 deltap                synch_1 \n",
      "  0.00000000000000e+00   0.00000000000000e+00   0.00000000000000e+00   0.00000000000000e+00 \n",
      "\n",
      "               synch_2                synch_3                synch_4                synch_5 \n",
      "  0.00000000000000e+00   0.00000000000000e+00   0.00000000000000e+00   0.00000000000000e+00 \n",
      "\n",
      "                nflips \n",
      "  0.00000000000000e+00 \n"
     ]
    }
   ],
   "source": [
    "madx.twiss(betx=1, bety=1, dx=0, dy=0);"
   ]
  },
  {
   "cell_type": "markdown",
   "metadata": {},
   "source": [
    "## MAD-X tracking"
   ]
  },
  {
   "cell_type": "code",
   "execution_count": 15,
   "metadata": {},
   "outputs": [
    {
     "name": "stdout",
     "output_type": "stream",
     "text": [
      "enter TRACK module\n",
      "one pass is on\n",
      "\n",
      "++++++ table: tracksumm\n",
      "\n",
      "    number       turn                      x                     px \n",
      "         1          0   1.00000000000000e-03   1.00000000000000e-06 \n",
      "         1          1   1.00099475251863e-03   1.00000000000000e-06 \n",
      "\n",
      "                     y                     py                      t                     pt \n",
      " -1.00000000000000e-03  -5.00000000000000e-07   1.00000000000000e-01   2.99999999999989e-03 \n",
      " -1.00049737625931e-03  -5.00000000000000e-07   1.06259314454102e-01   2.99999999999989e-03 \n",
      "\n",
      "                     s                      e \n",
      "  0.00000000000000e+00   0.00000000000000e+00 \n",
      "  1.00000000000000e+00   0.00000000000000e+00 \n",
      "exit TRACK module\n",
      "\n"
     ]
    },
    {
     "data": {
      "text/plain": [
       "True"
      ]
     },
     "execution_count": 15,
     "metadata": {},
     "output_type": "execute_result"
    }
   ],
   "source": [
    "madx.input('''\n",
    "TRACK, onepass, onetable, file=output.;\n",
    "\n",
    "START, x=1e-03, px=1e-06, y=-1e-03, py=-5e-07, t=0.1, pt=3e-03;\n",
    "!START, x=0e-03, px=0e-06, y=0e-03, py=0e-07, t=0.1, pt=3e-03;\n",
    "\n",
    "RUN, turns=1;\n",
    "\n",
    "ENDTRACK;\n",
    "''')"
   ]
  },
  {
   "cell_type": "code",
   "execution_count": 16,
   "metadata": {},
   "outputs": [],
   "source": [
    "headers = list(np.genfromtxt(\n",
    "    \"output.one\", skip_header=51, max_rows=1, dtype=str)[1:])\n",
    "\n",
    "initial_distribution_madx = np.genfromtxt(\n",
    "    \"output.one\", skip_header=54, max_rows=1, dtype=np.float64)\n",
    "\n",
    "final_distribution_madx = np.genfromtxt(\n",
    "    \"output.one\", skip_header=55, max_rows=1, dtype=np.float64)"
   ]
  },
  {
   "cell_type": "code",
   "execution_count": 17,
   "metadata": {},
   "outputs": [],
   "source": [
    "def get_betai(PT, mass=mass, p0=p0):\n",
    "    restmass = mass * c**2\n",
    "    restmass_sq = restmass**2\n",
    "    E0 = np.sqrt((p0 * c)**2 + restmass_sq)\n",
    "    \n",
    "    E = E0 + PT * p0 * c\n",
    "    gammai = E / restmass\n",
    "    betai = np.sqrt(1 - 1. / (gammai * gammai))\n",
    "    return betai"
   ]
  },
  {
   "cell_type": "code",
   "execution_count": 18,
   "metadata": {},
   "outputs": [],
   "source": [
    "betai = get_betai(final_distribution_madx[headers.index('PT')])\n",
    "\n",
    "x_madx = final_distribution_madx[headers.index('X')]\n",
    "px_madx = final_distribution_madx[headers.index('PX')]\n",
    "y_madx = final_distribution_madx[headers.index('Y')]\n",
    "py_madx = final_distribution_madx[headers.index('PY')]\n",
    "zeta_madx = final_distribution_madx[headers.index('T')] * betai\n",
    "delta_madx = final_distribution_madx[headers.index('PT')] / betai"
   ]
  },
  {
   "cell_type": "markdown",
   "metadata": {},
   "source": [
    "## SixTrackLib setup"
   ]
  },
  {
   "cell_type": "code",
   "execution_count": 19,
   "metadata": {},
   "outputs": [],
   "source": [
    "# PySixTrack, lattice transfer and preparation!\n",
    "\n",
    "pysixtrack_elements = pysixtrack.Line.from_madx_sequence(\n",
    "    madx.sequence.drifting, exact_drift=True,\n",
    ")\n",
    "\n",
    "pysixtrack_elements.remove_zero_length_drifts(inplace=True);\n",
    "pysixtrack_elements.merge_consecutive_drifts(inplace=True);"
   ]
  },
  {
   "cell_type": "code",
   "execution_count": 20,
   "metadata": {},
   "outputs": [],
   "source": [
    "elements = stl.Elements.from_line(pysixtrack_elements)\n",
    "elements.BeamMonitor(num_stores=1);"
   ]
  },
  {
   "cell_type": "code",
   "execution_count": 21,
   "metadata": {},
   "outputs": [],
   "source": [
    "pysixtrack_particles = pysixtrack.Particles.from_madx_track(madx)"
   ]
  },
  {
   "cell_type": "code",
   "execution_count": 22,
   "metadata": {},
   "outputs": [],
   "source": [
    "# necessary to transfer to SixTrackLib with this version of PySixTrack\n",
    "pysixtrack_particles.state = np.array([1, 0])\n",
    "pysixtrack_particles.elemid = 0\n",
    "\n",
    "pysixtrack_particles.remove_lost_particles()"
   ]
  },
  {
   "cell_type": "code",
   "execution_count": 24,
   "metadata": {},
   "outputs": [],
   "source": [
    "particles = stl.ParticlesSet().Particles(num_particles=1)\n",
    "\n",
    "particles.from_pysixtrack(pysixtrack_particles, particle_index=0)"
   ]
  },
  {
   "cell_type": "code",
   "execution_count": 25,
   "metadata": {},
   "outputs": [],
   "source": [
    "trackjob = stl.TrackJob(elements, particles, device=\"opencl:0.0\")"
   ]
  },
  {
   "cell_type": "markdown",
   "metadata": {},
   "source": [
    "## SixTrackLib tracking"
   ]
  },
  {
   "cell_type": "code",
   "execution_count": 26,
   "metadata": {},
   "outputs": [],
   "source": [
    "trackjob.track_until(1)\n",
    "trackjob.collect()"
   ]
  },
  {
   "cell_type": "code",
   "execution_count": 27,
   "metadata": {},
   "outputs": [],
   "source": [
    "x = trackjob.output.particles[0].x[0]\n",
    "px = trackjob.output.particles[0].px[0]\n",
    "y = trackjob.output.particles[0].y[0]\n",
    "py = trackjob.output.particles[0].py[0]\n",
    "zeta = trackjob.output.particles[0].zeta[0]\n",
    "delta = trackjob.output.particles[0].delta[0]"
   ]
  },
  {
   "cell_type": "markdown",
   "metadata": {},
   "source": [
    "# evaluation SixTrackLib vs. MAD-X:"
   ]
  },
  {
   "cell_type": "code",
   "execution_count": 28,
   "metadata": {},
   "outputs": [
    {
     "name": "stdout",
     "output_type": "stream",
     "text": [
      "x error in %: -3.24937419429278e-13\n"
     ]
    }
   ],
   "source": [
    "print ('x error in %: {}'.format(100 * (x - x_madx) / x))"
   ]
  },
  {
   "cell_type": "code",
   "execution_count": 29,
   "metadata": {},
   "outputs": [
    {
     "name": "stdout",
     "output_type": "stream",
     "text": [
      "y error in %: 3.250989552433857e-13\n"
     ]
    }
   ],
   "source": [
    "print ('y error in %: {}'.format(100 * (y - y_madx) / y))"
   ]
  },
  {
   "cell_type": "code",
   "execution_count": 30,
   "metadata": {},
   "outputs": [
    {
     "name": "stdout",
     "output_type": "stream",
     "text": [
      "zeta error in %: 1.14621532989312e-14\n"
     ]
    }
   ],
   "source": [
    "print ('zeta error in %: {}'.format(100 * (zeta - zeta_madx) / zeta))"
   ]
  }
 ],
 "metadata": {
  "kernelspec": {
   "display_name": "Python 3",
   "language": "python",
   "name": "python3"
  },
  "language_info": {
   "codemirror_mode": {
    "name": "ipython",
    "version": 3
   },
   "file_extension": ".py",
   "mimetype": "text/x-python",
   "name": "python",
   "nbconvert_exporter": "python",
   "pygments_lexer": "ipython3",
   "version": "3.7.4"
  }
 },
 "nbformat": 4,
 "nbformat_minor": 2
}
