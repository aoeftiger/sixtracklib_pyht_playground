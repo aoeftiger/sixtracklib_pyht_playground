{
 "cells": [
  {
   "cell_type": "code",
   "execution_count": 1,
   "id": "c5773c93",
   "metadata": {},
   "outputs": [],
   "source": [
    "import numpy as np\n",
    "import matplotlib as mpl\n",
    "from matplotlib import pyplot as plt\n",
    "import matplotlib.colors as mcolors\n",
    "%matplotlib inline\n",
    "\n",
    "import seaborn as sns\n",
    "sns.set_context('talk', font_scale=1.2, rc={'lines.linewidth': 3})\n",
    "sns.set_style('ticks',\n",
    "              {'grid.linestyle': 'none', 'axes.edgecolor': '0',\n",
    "               'axes.linewidth': 1.2, 'legend.frameon': True,\n",
    "               'xtick.direction': 'out', 'ytick.direction': 'out',\n",
    "               'xtick.top': True, 'ytick.right': True,\n",
    "              })\n",
    "\n",
    "import sys"
   ]
  },
  {
   "cell_type": "code",
   "execution_count": 2,
   "id": "3e6426f8",
   "metadata": {},
   "outputs": [],
   "source": [
    "from cpymad.madx import Madx\n",
    "\n",
    "import sixtracklib as stl\n",
    "import pysixtrack"
   ]
  },
  {
   "cell_type": "code",
   "execution_count": 3,
   "id": "92462efd",
   "metadata": {},
   "outputs": [],
   "source": [
    "from scipy.constants import e, m_p, c\n",
    "\n",
    "from scipy.constants import physical_constants"
   ]
  },
  {
   "cell_type": "code",
   "execution_count": 4,
   "id": "0051e3cf",
   "metadata": {},
   "outputs": [
    {
     "name": "stdout",
     "output_type": "stream",
     "text": [
      "\n",
      "  ++++++++++++++++++++++++++++++++++++++++++++\n",
      "  +     MAD-X 5.07.00  (64 bit, Linux)       +\n",
      "  + Support: mad@cern.ch, http://cern.ch/mad +\n",
      "  + Release   date: 2021.05.03               +\n",
      "  + Execution date: 2021.12.02 15:02:12      +\n",
      "  ++++++++++++++++++++++++++++++++++++++++++++\n"
     ]
    }
   ],
   "source": [
    "madx = Madx(stdout=sys.stdout)\n",
    "madx.options.echo = False\n",
    "madx.options.warn = True\n",
    "madx.options.info = True"
   ]
  },
  {
   "cell_type": "code",
   "execution_count": 5,
   "id": "d3a66fa3",
   "metadata": {},
   "outputs": [
    {
     "name": "stdout",
     "output_type": "stream",
     "text": [
      "++++++ info: element redefined: driftdummy\n",
      "++++++ info: element redefined: driftdummy\n",
      "++++++ info: element redefined: driftdummy\n",
      "++++++ info: element redefined: driftdummy\n",
      "++++++ info: element redefined: driftdummy\n",
      "++++++ info: element redefined: driftdummy\n",
      "++++++ info: element redefined: driftdummy\n",
      "++++++ info: element redefined: driftdummy\n",
      "++++++ info: element redefined: driftdummy\n",
      "++++++ info: element redefined: driftdummy\n",
      "++++++ info: element redefined: driftdummy\n"
     ]
    }
   ],
   "source": [
    "madx.call('./SIS100RING_COLD.seq')"
   ]
  },
  {
   "cell_type": "code",
   "execution_count": 6,
   "id": "9a0e1d05",
   "metadata": {},
   "outputs": [],
   "source": [
    "nmass = physical_constants['atomic mass constant energy equivalent in MeV'][0] * 1e-3\n",
    "\n",
    "A = 238\n",
    "Q = 28\n",
    "\n",
    "Ekin_per_nucleon = 0.2e9 # in eV\n",
    "\n",
    "###\n",
    "\n",
    "mass = A * nmass * 1e9 * e / c**2 # in kg\n",
    "charge = Q * e # in Coul\n",
    "\n",
    "Ekin = Ekin_per_nucleon * A\n",
    "p0c = np.sqrt(Ekin**2 + 2*Ekin*mass/e * c**2) # in eV\n",
    "\n",
    "Etot = np.sqrt(p0c**2 + (mass/e)**2 * c**4) * 1e-9 # in GeV\n",
    "p0 = p0c / c * e # in SI units\n",
    "gamma = np.sqrt(1 + (p0 / (mass * c))**2)\n",
    "beta = np.sqrt(1 - gamma**-2)"
   ]
  },
  {
   "cell_type": "code",
   "execution_count": 8,
   "id": "f58a49b9",
   "metadata": {},
   "outputs": [
    {
     "data": {
      "text/plain": [
       "True"
      ]
     },
     "execution_count": 8,
     "metadata": {},
     "output_type": "execute_result"
    }
   ],
   "source": [
    "madx.command.beam(particle='ion', mass=A*nmass, charge=Q, energy=Etot)"
   ]
  },
  {
   "cell_type": "code",
   "execution_count": 9,
   "id": "2d2f28da",
   "metadata": {
    "scrolled": false
   },
   "outputs": [],
   "source": [
    "madx.call('./SIS100_VIRTUAL_SLOW.str')"
   ]
  },
  {
   "cell_type": "code",
   "execution_count": 10,
   "id": "bd7c4d34",
   "metadata": {},
   "outputs": [],
   "source": [
    "madx.use(sequence='sis100ring')"
   ]
  },
  {
   "cell_type": "code",
   "execution_count": 11,
   "id": "a245d41d",
   "metadata": {},
   "outputs": [
    {
     "name": "stdout",
     "output_type": "stream",
     "text": [
      "makethin: style chosen : teapot\n",
      "makethin: slicing sequence : sis100ring\n"
     ]
    }
   ],
   "source": [
    "assert madx.command.select(\n",
    "    flag='MAKETHIN',\n",
    "    class_='QUADRUPOLE',\n",
    "    slice_='9',\n",
    ")\n",
    "\n",
    "assert madx.command.select(\n",
    "    flag='MAKETHIN',\n",
    "    class_='SBEND',\n",
    "    slice_='9',\n",
    ")\n",
    "\n",
    "assert madx.command.makethin(\n",
    "    makedipedge=True,\n",
    "    style='teapot',\n",
    "    sequence='sis100ring',\n",
    ")"
   ]
  },
  {
   "cell_type": "code",
   "execution_count": 12,
   "id": "61165524",
   "metadata": {},
   "outputs": [],
   "source": [
    "madx.use(sequence='sis100ring')"
   ]
  },
  {
   "cell_type": "code",
   "execution_count": 13,
   "id": "ad275abd",
   "metadata": {},
   "outputs": [
    {
     "name": "stdout",
     "output_type": "stream",
     "text": [
      "enter Twiss module\n",
      "  \n",
      "iteration:   1 error:   0.000000E+00 deltap:   0.000000E+00\n",
      "orbit:   0.000000E+00  0.000000E+00  0.000000E+00  0.000000E+00  0.000000E+00  0.000000E+00\n",
      "\n",
      "++++++ table: summ\n",
      "\n",
      "            length             orbit5               alfa            gammatr \n",
      "            1083.6                 -0      0.00497433219        14.17857575 \n",
      "\n",
      "                q1                dq1            betxmax              dxmax \n",
      "       17.30946086       -35.56263243        19.70862817        2.655637569 \n",
      "\n",
      "             dxrms             xcomax             xcorms                 q2 \n",
      "       1.607893055                  0                  0        17.39944561 \n",
      "\n",
      "               dq2            betymax              dymax              dyrms \n",
      "      -35.57285912        19.78572019                 -0                  0 \n",
      "\n",
      "            ycomax             ycorms             deltap            synch_1 \n",
      "                 0                  0                  0                  0 \n",
      "\n",
      "           synch_2            synch_3            synch_4            synch_5 \n",
      "                 0                  0                  0                  0 \n",
      "\n",
      "           synch_6            synch_8             nflips \n",
      "                 0                  0                  0 \n"
     ]
    }
   ],
   "source": [
    "madx.twiss();"
   ]
  },
  {
   "cell_type": "code",
   "execution_count": 14,
   "id": "42d8e120",
   "metadata": {},
   "outputs": [
    {
     "data": {
      "text/plain": [
       "True"
      ]
     },
     "execution_count": 14,
     "metadata": {},
     "output_type": "execute_result"
    }
   ],
   "source": [
    "madx.input('''\n",
    "    eoption, add=false, seed=1; \n",
    "    select, flag=error, clear;\n",
    "    select, flag=error, pattern=\"qd11\\.\\.slice\";\n",
    "    select, flag=error, pattern=\"qd12\\.\\.slice\";\n",
    "    '''\n",
    ")"
   ]
  },
  {
   "cell_type": "code",
   "execution_count": 15,
   "id": "5cab8fb7",
   "metadata": {},
   "outputs": [
    {
     "data": {
      "text/plain": [
       "True"
      ]
     },
     "execution_count": 15,
     "metadata": {},
     "output_type": "execute_result"
    }
   ],
   "source": [
    "madx.input('SELECT, FLAG = ERROR, FULL;')"
   ]
  },
  {
   "cell_type": "code",
   "execution_count": 16,
   "id": "2eaa6442",
   "metadata": {},
   "outputs": [
    {
     "name": "stdout",
     "output_type": "stream",
     "text": [
      "Assigned field errors to 2980 elements\n"
     ]
    },
    {
     "data": {
      "text/plain": [
       "True"
      ]
     },
     "execution_count": 16,
     "metadata": {},
     "output_type": "execute_result"
    }
   ],
   "source": [
    "madx.input('''\n",
    "EFCOMP, radius=0.04, order=1, dknr:={0, 0, 0, 1e-4}, dksr:={0, 0, 0, 1e-18}; \n",
    "!need negligible a4 due to bug in pysixtrack\n",
    "''')"
   ]
  },
  {
   "cell_type": "code",
   "execution_count": 17,
   "id": "340bcfa4",
   "metadata": {},
   "outputs": [
    {
     "data": {
      "text/plain": [
       "True"
      ]
     },
     "execution_count": 17,
     "metadata": {},
     "output_type": "execute_result"
    }
   ],
   "source": [
    "madx.input('ESAVE, file=err;')"
   ]
  },
  {
   "cell_type": "code",
   "execution_count": 18,
   "id": "9c590169",
   "metadata": {},
   "outputs": [
    {
     "name": "stdout",
     "output_type": "stream",
     "text": [
      "enter Twiss module\n",
      "  \n",
      "iteration:   1 error:   0.000000E+00 deltap:   0.000000E+00\n",
      "orbit:   0.000000E+00  0.000000E+00  0.000000E+00  0.000000E+00  0.000000E+00  0.000000E+00\n",
      "\n",
      "++++++ table: summ\n",
      "\n",
      "            length             orbit5               alfa            gammatr \n",
      "            1083.6                 -0      0.00497433219        14.17857575 \n",
      "\n",
      "                q1                dq1            betxmax              dxmax \n",
      "       17.30946086       -35.56263243        19.70862817        2.655637569 \n",
      "\n",
      "             dxrms             xcomax             xcorms                 q2 \n",
      "       1.607893055                  0                  0        17.39944561 \n",
      "\n",
      "               dq2            betymax              dymax              dyrms \n",
      "      -35.57285912        19.78572019                 -0                  0 \n",
      "\n",
      "            ycomax             ycorms             deltap            synch_1 \n",
      "                 0                  0                  0                  0 \n",
      "\n",
      "           synch_2            synch_3            synch_4            synch_5 \n",
      "                 0                  0                  0                  0 \n",
      "\n",
      "           synch_6            synch_8             nflips \n",
      "                 0                  0                  0 \n"
     ]
    }
   ],
   "source": [
    "twiss = madx.twiss();"
   ]
  },
  {
   "cell_type": "code",
   "execution_count": 19,
   "id": "d1a1d367",
   "metadata": {},
   "outputs": [],
   "source": [
    "pysixtrack_elements = pysixtrack.Line.from_madx_sequence(\n",
    "    madx.sequence.sis100ring, exact_drift=True, apply_madx_errors=True\n",
    ")"
   ]
  },
  {
   "cell_type": "code",
   "execution_count": 20,
   "id": "ac8e3cf2",
   "metadata": {},
   "outputs": [],
   "source": [
    "pysixtrack_elements.remove_zero_length_drifts(inplace=True);\n",
    "pysixtrack_elements.merge_consecutive_drifts(inplace=True);"
   ]
  },
  {
   "cell_type": "code",
   "execution_count": 21,
   "id": "640c5cdb",
   "metadata": {},
   "outputs": [],
   "source": [
    "quads = [el for el, eln in zip(pysixtrack_elements.elements, pysixtrack_elements.element_names) if 'qd' in eln]"
   ]
  },
  {
   "cell_type": "code",
   "execution_count": 22,
   "id": "fb89df2f",
   "metadata": {},
   "outputs": [
    {
     "data": {
      "text/plain": [
       "Multipole(knl=[0.0, -0.028957920152517122, 0.0, -0.01085922005719392], ksl=[0.0, 0.0, 0.0, -1.0859220057193921e-16], hxl=0.0, hyl=0.0, length=0.13833333333333334)"
      ]
     },
     "execution_count": 22,
     "metadata": {},
     "output_type": "execute_result"
    }
   ],
   "source": [
    "quads[0]"
   ]
  },
  {
   "cell_type": "code",
   "execution_count": 23,
   "id": "521482cb",
   "metadata": {},
   "outputs": [],
   "source": [
    "elements = stl.Elements.from_line(pysixtrack_elements)"
   ]
  },
  {
   "cell_type": "code",
   "execution_count": 24,
   "id": "c8f063eb",
   "metadata": {},
   "outputs": [],
   "source": [
    "# nturns = 2**10\n",
    "# elements.BeamMonitor(num_stores=nturns);"
   ]
  },
  {
   "cell_type": "code",
   "execution_count": 25,
   "id": "82d22db7",
   "metadata": {},
   "outputs": [],
   "source": [
    "particles = stl.Particles.from_ref(\n",
    "    150, p0c=p0c, mass0=A*nmass*1e9, q0=Q)"
   ]
  },
  {
   "cell_type": "code",
   "execution_count": 26,
   "id": "dbde2ad2",
   "metadata": {},
   "outputs": [],
   "source": [
    "init_grid = np.linspace(0, 1e-2, 51, endpoint=True)[1:]\n",
    "particles.x[:50] += init_grid\n",
    "particles.y[50:100] += init_grid\n",
    "\n",
    "particles.x[100:150] += 1e-10\n",
    "particles.y[100:150] += init_grid"
   ]
  },
  {
   "cell_type": "code",
   "execution_count": 27,
   "id": "ca5d7806",
   "metadata": {},
   "outputs": [],
   "source": [
    "trackjob = stl.TrackJob(elements, particles, device=None)"
   ]
  },
  {
   "cell_type": "code",
   "execution_count": 28,
   "id": "2d128146",
   "metadata": {},
   "outputs": [],
   "source": [
    "trackjob.track_until(1) #nturns)\n",
    "trackjob.collect()"
   ]
  },
  {
   "cell_type": "code",
   "execution_count": 29,
   "id": "cfd119c4",
   "metadata": {},
   "outputs": [],
   "source": [
    "def rectify(tune):\n",
    "#     if tune < 0.5:\n",
    "#         return 1 - tune\n",
    "    return tune\n",
    "\n",
    "def compute_J(u, up, beta=twiss['betx'][0], alpha=twiss['alfx'][0]):\n",
    "    a = alpha\n",
    "    b = beta\n",
    "    g = (1 + a**2) / b\n",
    "    \n",
    "    return 0.5 * (g * u**2 + 2 * a * u * up + b * up**2)\n",
    "\n",
    "def compute_oneturn_tune(u, up, dp=None, beta=twiss['betx'][0], alpha=twiss['alfx'][0]):\n",
    "    u = u.astype(float)\n",
    "    up = up.astype(float)\n",
    "    if dp is None:\n",
    "        dp = np.zeros_like(u)\n",
    "    dp = dp.astype(float)\n",
    "    \n",
    "    a = alpha\n",
    "    b = beta\n",
    "    g = (1 + a**2) / b\n",
    "    \n",
    "    J = compute_J(u, up, b, a)\n",
    "    \n",
    "    phi0 = np.angle(\n",
    "        (u[0] / np.sqrt(b) / np.sqrt(2 * J[0])) +\n",
    "        1j * ((u[0] * a / np.sqrt(b) + up[0] * np.sqrt(b)) / np.sqrt(2 * J[0]))\n",
    "    )\n",
    "\n",
    "    phi1 = np.angle(\n",
    "        (u[1] / np.sqrt(b) / np.sqrt(2 * J[1])) +\n",
    "        1j * ((u[1] * a / np.sqrt(b) + up[1] * np.sqrt(b)) / np.sqrt(2 * J[1]))\n",
    "    )\n",
    "    \n",
    "    tunes = list(map(rectify, np.abs(phi1 - phi0) / (2 * np.pi)))\n",
    "    \n",
    "    return np.array(tunes)"
   ]
  },
  {
   "cell_type": "code",
   "execution_count": 30,
   "id": "60472134",
   "metadata": {},
   "outputs": [
    {
     "data": {
      "text/plain": [
       "array([0.30946106, 0.30946165, 0.30946264, 0.30946403, 0.30946581,\n",
       "       0.30946799, 0.30947056, 0.30947353, 0.30947689, 0.30948065,\n",
       "       0.30948481, 0.30948936, 0.30949431, 0.30949965, 0.30950539,\n",
       "       0.30951153, 0.30951806, 0.30952498, 0.30953231, 0.30954002,\n",
       "       0.30954814, 0.30955665, 0.30956555, 0.30957486, 0.30958455,\n",
       "       0.30959465, 0.30960514, 0.30961602, 0.3096273 , 0.30963898,\n",
       "       0.30965105, 0.30966352, 0.30967638, 0.30968964, 0.3097033 ,\n",
       "       0.30971735, 0.3097318 , 0.30974664, 0.30976188, 0.30977751,\n",
       "       0.30979354, 0.30980997, 0.30982679, 0.30984401, 0.30986162,\n",
       "       0.30987963, 0.30989804, 0.30991684, 0.30993604, 0.30995563])"
      ]
     },
     "execution_count": 30,
     "metadata": {},
     "output_type": "execute_result"
    }
   ],
   "source": [
    "Qx_x = compute_oneturn_tune(\n",
    "    np.vstack((init_grid, particles.x[:50])),\n",
    "    np.vstack((np.zeros(50), particles.px[:50])),\n",
    "    beta=twiss['betx'][0], alpha=twiss['alfx'][0])\n",
    "Qx_x"
   ]
  },
  {
   "cell_type": "code",
   "execution_count": 31,
   "id": "f50991b3",
   "metadata": {},
   "outputs": [
    {
     "data": {
      "text/plain": [
       "array([0.39944548, 0.3994451 , 0.39944445, 0.39944355, 0.39944239,\n",
       "       0.39944097, 0.39943929, 0.39943736, 0.39943516, 0.39943271,\n",
       "       0.39943001, 0.39942704, 0.39942381, 0.39942033, 0.39941659,\n",
       "       0.39941259, 0.39940833, 0.39940382, 0.39939905, 0.39939402,\n",
       "       0.39938873, 0.39938318, 0.39937738, 0.39937131, 0.39936499,\n",
       "       0.39935842, 0.39935158, 0.39934449, 0.39933713, 0.39932952,\n",
       "       0.39932165, 0.39931353, 0.39930514, 0.3992965 , 0.3992876 ,\n",
       "       0.39927844, 0.39926903, 0.39925935, 0.39924942, 0.39923923,\n",
       "       0.39922879, 0.39921808, 0.39920712, 0.3991959 , 0.39918442,\n",
       "       0.39917268, 0.39916068, 0.39914843, 0.39913592, 0.39912315])"
      ]
     },
     "execution_count": 31,
     "metadata": {},
     "output_type": "execute_result"
    }
   ],
   "source": [
    "Qy_y = compute_oneturn_tune(\n",
    "    np.vstack((init_grid, particles.y[50:100])),\n",
    "    np.vstack((np.zeros(50), particles.py[50:100])),\n",
    "    beta=twiss['bety'][0], alpha=twiss['alfy'][0])\n",
    "Qy_y"
   ]
  },
  {
   "cell_type": "code",
   "execution_count": 32,
   "id": "452f67aa",
   "metadata": {},
   "outputs": [
    {
     "data": {
      "text/plain": [
       "array([0.30946087, 0.30946089, 0.30946093, 0.30946098, 0.30946105,\n",
       "       0.30946114, 0.30946123, 0.30946135, 0.30946148, 0.30946162,\n",
       "       0.30946178, 0.30946196, 0.30946214, 0.30946235, 0.30946257,\n",
       "       0.3094628 , 0.30946306, 0.30946332, 0.3094636 , 0.3094639 ,\n",
       "       0.30946421, 0.30946453, 0.30946488, 0.30946523, 0.3094656 ,\n",
       "       0.30946599, 0.30946639, 0.30946681, 0.30946724, 0.30946769,\n",
       "       0.30946815, 0.30946863, 0.30946913, 0.30946963, 0.30947016,\n",
       "       0.3094707 , 0.30947125, 0.30947182, 0.3094724 , 0.309473  ,\n",
       "       0.30947362, 0.30947425, 0.30947489, 0.30947555, 0.30947623,\n",
       "       0.30947692, 0.30947763, 0.30947835, 0.30947909, 0.30947984])"
      ]
     },
     "execution_count": 32,
     "metadata": {},
     "output_type": "execute_result"
    }
   ],
   "source": [
    "Qx_y = compute_oneturn_tune(\n",
    "    np.vstack((init_grid, particles.x[100:150])),\n",
    "    np.vstack((np.zeros(50), particles.px[100:150])),\n",
    "    beta=twiss['betx'][0], alpha=twiss['alfx'][0])\n",
    "Qx_y"
   ]
  },
  {
   "cell_type": "code",
   "execution_count": 33,
   "id": "4a9a821a",
   "metadata": {},
   "outputs": [],
   "source": [
    "# for x in trackjob.output.particles[0].x.reshape((nturns, 150)).T[:50]:\n",
    "#     plt.plot(1 - np.fft.rfftfreq(nturns), np.abs(np.fft.rfft(x)) / max(np.abs(np.fft.rfft(x))))\n",
    "# plt.xlim(0.87, 0.89)"
   ]
  },
  {
   "cell_type": "code",
   "execution_count": 34,
   "id": "065c4588",
   "metadata": {},
   "outputs": [],
   "source": [
    "# for y in trackjob.output.particles[0].y.reshape((nturns, 150)).T[50:100]:\n",
    "#     plt.plot(1 - np.fft.rfftfreq(nturns), np.abs(np.fft.rfft(y)) / max(np.abs(np.fft.rfft(y))))\n",
    "# plt.xlim(0.79, 0.81)"
   ]
  },
  {
   "cell_type": "code",
   "execution_count": 35,
   "id": "5de73153",
   "metadata": {},
   "outputs": [],
   "source": [
    "Jx = compute_J(init_grid, np.zeros(50), beta=twiss['betx'][0], alpha=twiss['alfx'][0])\n",
    "Jy = compute_J(init_grid, np.zeros(50), beta=twiss['bety'][0], alpha=twiss['alfy'][0])"
   ]
  },
  {
   "cell_type": "code",
   "execution_count": 36,
   "id": "88050454",
   "metadata": {},
   "outputs": [
    {
     "data": {
      "text/plain": [
       "array([32.08789717,  0.30946086])"
      ]
     },
     "execution_count": 36,
     "metadata": {},
     "output_type": "execute_result"
    },
    {
     "data": {
      "image/png": "[encoded data removed]",
      "text/plain": [
       "<Figure size 432x288 with 1 Axes>"
      ]
     },
     "metadata": {},
     "output_type": "display_data"
    }
   ],
   "source": [
    "plt.plot(2 * Jx * 1e6, Qx_x)\n",
    "fit = np.polyfit(2 * Jx, Qx_x, deg=1)\n",
    "plt.plot(2 * Jx * 1e6, np.poly1d(fit)(2 * Jx), ls='--')\n",
    "plt.ticklabel_format(style='plain')\n",
    "plt.gca().get_yaxis().get_major_formatter().set_useOffset(False)\n",
    "plt.xlabel('$2J_x$ [mm.mrad]')\n",
    "plt.ylabel('$Q_x$')\n",
    "fit"
   ]
  },
  {
   "cell_type": "code",
   "execution_count": 37,
   "id": "1411a084",
   "metadata": {},
   "outputs": [
    {
     "data": {
      "text/plain": [
       "array([-20.86175719,   0.39944561])"
      ]
     },
     "execution_count": 37,
     "metadata": {},
     "output_type": "execute_result"
    },
    {
     "data": {
      "image/png": "[encoded data removed]",
      "text/plain": [
       "<Figure size 432x288 with 1 Axes>"
      ]
     },
     "metadata": {},
     "output_type": "display_data"
    }
   ],
   "source": [
    "plt.plot(2 * Jy * 1e6, Qy_y)\n",
    "fit = np.polyfit(2 * Jy, Qy_y, deg=1)\n",
    "plt.plot(2 * Jy * 1e6, np.poly1d(fit)(2 * Jy), ls='--')\n",
    "plt.xlabel('$2J_y$ [mm.mrad]')\n",
    "plt.ylabel('$Q_y$')\n",
    "fit"
   ]
  },
  {
   "cell_type": "code",
   "execution_count": 38,
   "id": "b5cc6a47",
   "metadata": {},
   "outputs": [
    {
     "data": {
      "text/plain": [
       "array([1.22741434, 0.30946086])"
      ]
     },
     "execution_count": 38,
     "metadata": {},
     "output_type": "execute_result"
    },
    {
     "data": {
      "image/png": "[encoded data removed]",
      "text/plain": [
       "<Figure size 432x288 with 1 Axes>"
      ]
     },
     "metadata": {},
     "output_type": "display_data"
    }
   ],
   "source": [
    "plt.plot(2 * Jy * 1e6, Qx_y)\n",
    "fit = np.polyfit(2 * Jy, Qx_y, deg=1)\n",
    "plt.plot(2 * Jy * 1e6, np.poly1d(fit)(2 * Jy), ls='--')\n",
    "plt.ticklabel_format(style='plain')\n",
    "plt.gca().get_yaxis().get_major_formatter().set_useOffset(False)\n",
    "plt.xlabel('$2J_y$ [mm.mrad]')\n",
    "plt.ylabel('$Q_x$')\n",
    "fit"
   ]
  }
 ],
 "metadata": {
  "kernelspec": {
   "display_name": "Python 3",
   "language": "python",
   "name": "python3"
  },
  "language_info": {
   "codemirror_mode": {
    "name": "ipython",
    "version": 3
   },
   "file_extension": ".py",
   "mimetype": "text/x-python",
   "name": "python",
   "nbconvert_exporter": "python",
   "pygments_lexer": "ipython3",
   "version": "3.7.3"
  }
 },
 "nbformat": 4,
 "nbformat_minor": 5
}
