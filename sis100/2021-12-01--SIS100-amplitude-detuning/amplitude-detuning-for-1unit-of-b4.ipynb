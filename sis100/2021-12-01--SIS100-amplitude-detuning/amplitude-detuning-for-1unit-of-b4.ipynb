{
 "cells": [
  {
   "cell_type": "code",
   "execution_count": 1,
   "id": "2805ead7",
   "metadata": {},
   "outputs": [],
   "source": [
    "import numpy as np\n",
    "import matplotlib as mpl\n",
    "from matplotlib import pyplot as plt\n",
    "import matplotlib.colors as mcolors\n",
    "%matplotlib inline\n",
    "\n",
    "import seaborn as sns\n",
    "sns.set_context('talk', font_scale=1.2, rc={'lines.linewidth': 3})\n",
    "sns.set_style('ticks',\n",
    "              {'grid.linestyle': 'none', 'axes.edgecolor': '0',\n",
    "               'axes.linewidth': 1.2, 'legend.frameon': True,\n",
    "               'xtick.direction': 'out', 'ytick.direction': 'out',\n",
    "               'xtick.top': True, 'ytick.right': True,\n",
    "              })\n",
    "\n",
    "import sys"
   ]
  },
  {
   "cell_type": "code",
   "execution_count": 2,
   "id": "88dfded7",
   "metadata": {},
   "outputs": [],
   "source": [
    "from cpymad.madx import Madx\n",
    "\n",
    "import sixtracklib as stl\n",
    "import pysixtrack"
   ]
  },
  {
   "cell_type": "code",
   "execution_count": 3,
   "id": "c497dd16",
   "metadata": {},
   "outputs": [],
   "source": [
    "from scipy.constants import e, m_p, c\n",
    "\n",
    "from scipy.constants import physical_constants"
   ]
  },
  {
   "cell_type": "code",
   "execution_count": 4,
   "id": "35fadccb",
   "metadata": {},
   "outputs": [
    {
     "name": "stdout",
     "output_type": "stream",
     "text": [
      "\n",
      "  ++++++++++++++++++++++++++++++++++++++++++++\n",
      "  +     MAD-X 5.07.00  (64 bit, Linux)       +\n",
      "  + Support: mad@cern.ch, http://cern.ch/mad +\n",
      "  + Release   date: 2021.05.03               +\n",
      "  + Execution date: 2021.12.01 18:53:31      +\n",
      "  ++++++++++++++++++++++++++++++++++++++++++++\n"
     ]
    }
   ],
   "source": [
    "madx = Madx(stdout=sys.stdout)\n",
    "madx.options.echo = False\n",
    "madx.options.warn = True\n",
    "madx.options.info = True"
   ]
  },
  {
   "cell_type": "code",
   "execution_count": 5,
   "id": "5c9b73aa",
   "metadata": {},
   "outputs": [
    {
     "name": "stdout",
     "output_type": "stream",
     "text": [
      "++++++ info: element redefined: driftdummy\n",
      "++++++ info: element redefined: driftdummy\n",
      "++++++ info: element redefined: driftdummy\n",
      "++++++ info: element redefined: driftdummy\n",
      "++++++ info: element redefined: driftdummy\n",
      "++++++ info: element redefined: driftdummy\n",
      "++++++ info: element redefined: driftdummy\n",
      "++++++ info: element redefined: driftdummy\n",
      "++++++ info: element redefined: driftdummy\n",
      "++++++ info: element redefined: driftdummy\n",
      "++++++ info: element redefined: driftdummy\n"
     ]
    }
   ],
   "source": [
    "madx.call('./SIS100RING_COLD.seq')"
   ]
  },
  {
   "cell_type": "code",
   "execution_count": 6,
   "id": "1fbc240e",
   "metadata": {},
   "outputs": [],
   "source": [
    "nmass = physical_constants['atomic mass constant energy equivalent in MeV'][0] * 1e-3\n",
    "\n",
    "A = 238\n",
    "Q = 28\n",
    "\n",
    "Ekin_per_nucleon = 0.2e9 # in eV\n",
    "\n",
    "###\n",
    "\n",
    "mass = A * nmass * 1e9 * e / c**2 # in kg\n",
    "charge = Q * e # in Coul\n",
    "\n",
    "Ekin = Ekin_per_nucleon * A\n",
    "p0c = np.sqrt(Ekin**2 + 2*Ekin*mass/e * c**2) # in eV\n",
    "\n",
    "Etot = np.sqrt(p0c**2 + (mass/e)**2 * c**4) * 1e-9 # in GeV\n",
    "p0 = p0c / c * e # in SI units\n",
    "gamma = np.sqrt(1 + (p0 / (mass * c))**2)\n",
    "beta = np.sqrt(1 - gamma**-2)"
   ]
  },
  {
   "cell_type": "code",
   "execution_count": 7,
   "id": "0bca8b5d",
   "metadata": {},
   "outputs": [
    {
     "data": {
      "text/plain": [
       "True"
      ]
     },
     "execution_count": 7,
     "metadata": {},
     "output_type": "execute_result"
    }
   ],
   "source": [
    "madx.command.beam(particle='ion', mass=A*nmass, charge=Q, energy=Etot)"
   ]
  },
  {
   "cell_type": "code",
   "execution_count": 8,
   "id": "7032022a",
   "metadata": {},
   "outputs": [],
   "source": [
    "madx.call('./SIS100_VIRTUAL_FAST.str')"
   ]
  },
  {
   "cell_type": "code",
   "execution_count": 9,
   "id": "bd3af034",
   "metadata": {},
   "outputs": [],
   "source": [
    "madx.use(sequence='sis100ring')"
   ]
  },
  {
   "cell_type": "code",
   "execution_count": 10,
   "id": "042fe5f8",
   "metadata": {},
   "outputs": [
    {
     "name": "stdout",
     "output_type": "stream",
     "text": [
      "makethin: style chosen : teapot\n",
      "makethin: slicing sequence : sis100ring\n"
     ]
    }
   ],
   "source": [
    "assert madx.command.select(\n",
    "    flag='MAKETHIN',\n",
    "    class_='QUADRUPOLE',\n",
    "    slice_='9',\n",
    ")\n",
    "\n",
    "assert madx.command.select(\n",
    "    flag='MAKETHIN',\n",
    "    class_='SBEND',\n",
    "    slice_='9',\n",
    ")\n",
    "\n",
    "assert madx.command.makethin(\n",
    "    makedipedge=True,\n",
    "    style='teapot',\n",
    "    sequence='sis100ring',\n",
    ")"
   ]
  },
  {
   "cell_type": "code",
   "execution_count": 11,
   "id": "41fe8a14",
   "metadata": {},
   "outputs": [],
   "source": [
    "madx.use(sequence='sis100ring')"
   ]
  },
  {
   "cell_type": "code",
   "execution_count": 12,
   "id": "29e98fc7",
   "metadata": {},
   "outputs": [
    {
     "name": "stdout",
     "output_type": "stream",
     "text": [
      "enter Twiss module\n",
      "  \n",
      "iteration:   1 error:   0.000000E+00 deltap:   0.000000E+00\n",
      "orbit:   0.000000E+00  0.000000E+00  0.000000E+00  0.000000E+00  0.000000E+00  0.000000E+00\n",
      "\n",
      "++++++ table: summ\n",
      "\n",
      "            length             orbit5               alfa            gammatr \n",
      "            1083.6                 -0     0.004194486952        15.44047214 \n",
      "\n",
      "                q1                dq1            betxmax              dxmax \n",
      "       18.87929937       -39.95355367        19.60918074        3.094408448 \n",
      "\n",
      "             dxrms             xcomax             xcorms                 q2 \n",
      "       1.369016592                  0                  0        18.79928904 \n",
      "\n",
      "               dq2            betymax              dymax              dyrms \n",
      "      -39.77610643        19.69631848                  0                  0 \n",
      "\n",
      "            ycomax             ycorms             deltap            synch_1 \n",
      "                 0                  0                  0                  0 \n",
      "\n",
      "           synch_2            synch_3            synch_4            synch_5 \n",
      "                 0                  0                  0                  0 \n",
      "\n",
      "           synch_6            synch_8             nflips \n",
      "                 0                  0                  0 \n"
     ]
    }
   ],
   "source": [
    "madx.twiss();"
   ]
  },
  {
   "cell_type": "code",
   "execution_count": 24,
   "id": "48b17d85",
   "metadata": {},
   "outputs": [
    {
     "data": {
      "text/plain": [
       "True"
      ]
     },
     "execution_count": 24,
     "metadata": {},
     "output_type": "execute_result"
    }
   ],
   "source": [
    "madx.input('''\n",
    "    eoption, add=false, seed = rand_seed; \n",
    "    select, flag=error, clear;\n",
    "    select, flag=error, pattern=qd11\\.\\.slice;\n",
    "    select, flag=error, pattern=qd12\\.\\.slice;\n",
    "    '''\n",
    ")"
   ]
  },
  {
   "cell_type": "code",
   "execution_count": 63,
   "id": "1338248a",
   "metadata": {},
   "outputs": [],
   "source": [
    "!rm -f err"
   ]
  },
  {
   "cell_type": "code",
   "execution_count": 85,
   "id": "5235165d",
   "metadata": {},
   "outputs": [
    {
     "name": "stdout",
     "output_type": "stream",
     "text": [
      "Replaced field errors for 2980 elements\n"
     ]
    },
    {
     "data": {
      "text/plain": [
       "True"
      ]
     },
     "execution_count": 85,
     "metadata": {},
     "output_type": "execute_result"
    }
   ],
   "source": [
    "madx.input('''\n",
    "EFCOMP, radius=0.04, order=1,  dknr:={0, 0, 0, 1e-4}, dksr={0, 0, 0, 1e-18}; \n",
    "!need negligible a4 due to bug in pysixtrack\n",
    "''')"
   ]
  },
  {
   "cell_type": "code",
   "execution_count": 86,
   "id": "962e3d4e",
   "metadata": {},
   "outputs": [
    {
     "data": {
      "text/plain": [
       "True"
      ]
     },
     "execution_count": 86,
     "metadata": {},
     "output_type": "execute_result"
    }
   ],
   "source": [
    "madx.input('ESAVE, file=err;')"
   ]
  },
  {
   "cell_type": "code",
   "execution_count": 87,
   "id": "3e3d2ab8",
   "metadata": {},
   "outputs": [
    {
     "name": "stdout",
     "output_type": "stream",
     "text": [
      "enter Twiss module\n",
      "  \n",
      "iteration:   1 error:   0.000000E+00 deltap:   0.000000E+00\n",
      "orbit:   0.000000E+00  0.000000E+00  0.000000E+00  0.000000E+00  0.000000E+00  0.000000E+00\n",
      "\n",
      "++++++ table: summ\n",
      "\n",
      "            length             orbit5               alfa            gammatr \n",
      "            1083.6                 -0     0.004194486952        15.44047214 \n",
      "\n",
      "                q1                dq1            betxmax              dxmax \n",
      "       18.87929937       -39.95355367        19.60918074        3.094408448 \n",
      "\n",
      "             dxrms             xcomax             xcorms                 q2 \n",
      "       1.369016592                  0                  0        18.79928904 \n",
      "\n",
      "               dq2            betymax              dymax              dyrms \n",
      "      -39.77610643        19.69631848                  0                  0 \n",
      "\n",
      "            ycomax             ycorms             deltap            synch_1 \n",
      "                 0                  0                  0                  0 \n",
      "\n",
      "           synch_2            synch_3            synch_4            synch_5 \n",
      "                 0                  0                  0                  0 \n",
      "\n",
      "           synch_6            synch_8             nflips \n",
      "                 0                  0                  0 \n"
     ]
    }
   ],
   "source": [
    "twiss = madx.twiss();"
   ]
  },
  {
   "cell_type": "code",
   "execution_count": 88,
   "id": "7a529a53",
   "metadata": {},
   "outputs": [],
   "source": [
    "pysixtrack_elements = pysixtrack.Line.from_madx_sequence(\n",
    "    madx.sequence.sis100ring, exact_drift=True, apply_madx_errors=True\n",
    ")"
   ]
  },
  {
   "cell_type": "code",
   "execution_count": 89,
   "id": "c398a79e",
   "metadata": {},
   "outputs": [],
   "source": [
    "pysixtrack_elements.remove_zero_length_drifts(inplace=True);\n",
    "pysixtrack_elements.merge_consecutive_drifts(inplace=True);"
   ]
  },
  {
   "cell_type": "code",
   "execution_count": 90,
   "id": "61e1e380",
   "metadata": {},
   "outputs": [],
   "source": [
    "quads = [el for el, eln in zip(pysixtrack_elements.elements, pysixtrack_elements.element_names) if 'qd' in eln]"
   ]
  },
  {
   "cell_type": "code",
   "execution_count": 91,
   "id": "18d16688",
   "metadata": {},
   "outputs": [
    {
     "data": {
      "text/plain": [
       "Multipole(knl=[0.0, -0.030992659613337747, 0.0, -0.011622247355001655], ksl=[0.0, 0.0, 0.0, -1.1622247355001655e-16], hxl=0.0, hyl=0.0, length=0.13833333333333334)"
      ]
     },
     "execution_count": 91,
     "metadata": {},
     "output_type": "execute_result"
    }
   ],
   "source": [
    "quads[0]"
   ]
  },
  {
   "cell_type": "code",
   "execution_count": 92,
   "id": "2b2820a1",
   "metadata": {},
   "outputs": [],
   "source": [
    "elements = stl.Elements.from_line(pysixtrack_elements)"
   ]
  },
  {
   "cell_type": "code",
   "execution_count": 93,
   "id": "55025353",
   "metadata": {},
   "outputs": [],
   "source": [
    "# nturns = 2**10\n",
    "# elements.BeamMonitor(num_stores=nturns);"
   ]
  },
  {
   "cell_type": "code",
   "execution_count": 94,
   "id": "0644eb50",
   "metadata": {},
   "outputs": [],
   "source": [
    "particles = stl.Particles.from_ref(\n",
    "    150, p0c=p0c, mass0=A*nmass*1e9, q0=Q)"
   ]
  },
  {
   "cell_type": "code",
   "execution_count": 95,
   "id": "7175643d",
   "metadata": {},
   "outputs": [],
   "source": [
    "init_grid = np.linspace(0, 1e-2, 51, endpoint=True)[1:]\n",
    "particles.x[:50] += init_grid\n",
    "particles.y[50:100] += init_grid\n",
    "\n",
    "particles.x[100:150] += 1e-10\n",
    "particles.y[100:150] += init_grid"
   ]
  },
  {
   "cell_type": "code",
   "execution_count": 96,
   "id": "4eaa61ca",
   "metadata": {},
   "outputs": [],
   "source": [
    "trackjob = stl.TrackJob(elements, particles, device=None)"
   ]
  },
  {
   "cell_type": "code",
   "execution_count": 97,
   "id": "de94c79b",
   "metadata": {},
   "outputs": [],
   "source": [
    "trackjob.track_until(1) #nturns)\n",
    "trackjob.collect()"
   ]
  },
  {
   "cell_type": "code",
   "execution_count": 98,
   "id": "f6dea859",
   "metadata": {},
   "outputs": [],
   "source": [
    "def rectify(tune):\n",
    "    if tune < 0.5:\n",
    "        return 1 - tune\n",
    "    return tune\n",
    "\n",
    "def compute_J(u, up, beta=twiss['betx'][0], alpha=twiss['alfx'][0]):\n",
    "    a = alpha\n",
    "    b = beta\n",
    "    g = (1 + a**2) / b\n",
    "    \n",
    "    return 0.5 * (g * u**2 + 2 * a * u * up + b * up**2)\n",
    "\n",
    "def compute_oneturn_tune(u, up, dp=None, beta=twiss['betx'][0], alpha=twiss['alfx'][0]):\n",
    "    u = u.astype(float)\n",
    "    up = up.astype(float)\n",
    "    if dp is None:\n",
    "        dp = np.zeros_like(u)\n",
    "    dp = dp.astype(float)\n",
    "    \n",
    "    a = alpha\n",
    "    b = beta\n",
    "    g = (1 + a**2) / b\n",
    "    \n",
    "    J = compute_J(u, up, b, a)\n",
    "    \n",
    "    phi0 = np.angle(\n",
    "        (u[0] / np.sqrt(b) / np.sqrt(2 * J[0])) +\n",
    "        1j * ((u[0] * a / np.sqrt(b) + up[0] * np.sqrt(b)) / np.sqrt(2 * J[0]))\n",
    "    )\n",
    "\n",
    "    phi1 = np.angle(\n",
    "        (u[1] / np.sqrt(b) / np.sqrt(2 * J[1])) +\n",
    "        1j * ((u[1] * a / np.sqrt(b) + up[1] * np.sqrt(b)) / np.sqrt(2 * J[1]))\n",
    "    )\n",
    "    \n",
    "    tunes = list(map(rectify, np.abs(phi1 - phi0) / (2 * np.pi)))\n",
    "    \n",
    "    return np.array(tunes)"
   ]
  },
  {
   "cell_type": "code",
   "execution_count": 99,
   "id": "2657d15d",
   "metadata": {},
   "outputs": [
    {
     "data": {
      "text/plain": [
       "array([0.87929962, 0.87930035, 0.87930158, 0.8793033 , 0.87930551,\n",
       "       0.87930821, 0.8793114 , 0.87931508, 0.87931925, 0.87932391,\n",
       "       0.87932907, 0.87933471, 0.87934085, 0.87934747, 0.87935459,\n",
       "       0.8793622 , 0.8793703 , 0.87937888, 0.87938796, 0.87939754,\n",
       "       0.8794076 , 0.87941815, 0.87942919, 0.87944073, 0.87945275,\n",
       "       0.87946527, 0.87947828, 0.87949177, 0.87950576, 0.87952024,\n",
       "       0.87953521, 0.87955067, 0.87956662, 0.87958306, 0.8796    ,\n",
       "       0.87961742, 0.87963533, 0.87965374, 0.87967263, 0.87969202,\n",
       "       0.8797119 , 0.87973226, 0.87975312, 0.87977447, 0.87979631,\n",
       "       0.87981864, 0.87984146, 0.87986478, 0.87988858, 0.87991287])"
      ]
     },
     "execution_count": 99,
     "metadata": {},
     "output_type": "execute_result"
    }
   ],
   "source": [
    "Qx_x = compute_oneturn_tune(\n",
    "    np.vstack((init_grid, particles.x[:50])),\n",
    "    np.vstack((np.zeros(50), particles.px[:50])),\n",
    "    beta=twiss['betx'][0], alpha=twiss['alfx'][0])\n",
    "Qx_x"
   ]
  },
  {
   "cell_type": "code",
   "execution_count": 100,
   "id": "e0b190c6",
   "metadata": {},
   "outputs": [
    {
     "data": {
      "text/plain": [
       "array([0.79928888, 0.79928842, 0.79928765, 0.79928657, 0.79928519,\n",
       "       0.79928349, 0.79928149, 0.79927918, 0.79927656, 0.79927363,\n",
       "       0.79927039, 0.79926685, 0.799263  , 0.79925884, 0.79925437,\n",
       "       0.79924959, 0.79924451, 0.79923911, 0.79923341, 0.7992274 ,\n",
       "       0.79922109, 0.79921446, 0.79920753, 0.79920028, 0.79919273,\n",
       "       0.79918488, 0.79917671, 0.79916823, 0.79915945, 0.79915036,\n",
       "       0.79914096, 0.79913125, 0.79912124, 0.79911091, 0.79910028,\n",
       "       0.79908934, 0.79907809, 0.79906653, 0.79905467, 0.7990425 ,\n",
       "       0.79903001, 0.79901722, 0.79900413, 0.79899072, 0.79897701,\n",
       "       0.79896298, 0.79894865, 0.79893401, 0.79891907, 0.79890381])"
      ]
     },
     "execution_count": 100,
     "metadata": {},
     "output_type": "execute_result"
    }
   ],
   "source": [
    "Qy_y = compute_oneturn_tune(\n",
    "    np.vstack((init_grid, particles.y[50:100])),\n",
    "    np.vstack((np.zeros(50), particles.py[50:100])),\n",
    "    beta=twiss['bety'][0], alpha=twiss['alfy'][0])\n",
    "Qy_y"
   ]
  },
  {
   "cell_type": "code",
   "execution_count": 101,
   "id": "d88991e4",
   "metadata": {},
   "outputs": [
    {
     "data": {
      "text/plain": [
       "array([0.87929937, 0.87929938, 0.87929939, 0.87929941, 0.87929943,\n",
       "       0.87929945, 0.87929948, 0.87929952, 0.87929956, 0.8792996 ,\n",
       "       0.87929965, 0.8792997 , 0.87929976, 0.87929982, 0.87929989,\n",
       "       0.87929996, 0.87930004, 0.87930012, 0.8793002 , 0.87930029,\n",
       "       0.87930039, 0.87930049, 0.87930059, 0.8793007 , 0.87930081,\n",
       "       0.87930093, 0.87930105, 0.87930118, 0.87930131, 0.87930144,\n",
       "       0.87930158, 0.87930172, 0.87930187, 0.87930203, 0.87930218,\n",
       "       0.87930234, 0.87930251, 0.87930268, 0.87930285, 0.87930303,\n",
       "       0.87930322, 0.8793034 , 0.8793036 , 0.87930379, 0.87930399,\n",
       "       0.8793042 , 0.8793044 , 0.87930462, 0.87930483, 0.87930506])"
      ]
     },
     "execution_count": 101,
     "metadata": {},
     "output_type": "execute_result"
    }
   ],
   "source": [
    "Qx_y = compute_oneturn_tune(\n",
    "    np.vstack((init_grid, particles.x[100:150])),\n",
    "    np.vstack((np.zeros(50), particles.px[100:150])),\n",
    "    beta=twiss['betx'][0], alpha=twiss['alfx'][0])\n",
    "Qx_y"
   ]
  },
  {
   "cell_type": "code",
   "execution_count": 102,
   "id": "8351f4cb",
   "metadata": {},
   "outputs": [],
   "source": [
    "# for x in trackjob.output.particles[0].x.reshape((nturns, 150)).T[:50]:\n",
    "#     plt.plot(1 - np.fft.rfftfreq(nturns), np.abs(np.fft.rfft(x)) / max(np.abs(np.fft.rfft(x))))\n",
    "# plt.xlim(0.87, 0.89)"
   ]
  },
  {
   "cell_type": "code",
   "execution_count": 103,
   "id": "07236156",
   "metadata": {},
   "outputs": [],
   "source": [
    "# for y in trackjob.output.particles[0].y.reshape((nturns, 150)).T[50:100]:\n",
    "#     plt.plot(1 - np.fft.rfftfreq(nturns), np.abs(np.fft.rfft(y)) / max(np.abs(np.fft.rfft(y))))\n",
    "# plt.xlim(0.79, 0.81)"
   ]
  },
  {
   "cell_type": "code",
   "execution_count": 104,
   "id": "115aeb28",
   "metadata": {},
   "outputs": [],
   "source": [
    "Jx = compute_J(init_grid, np.zeros(50), beta=twiss['betx'][0], alpha=twiss['alfx'][0])\n",
    "Jy = compute_J(init_grid, np.zeros(50), beta=twiss['bety'][0], alpha=twiss['alfy'][0])"
   ]
  },
  {
   "cell_type": "code",
   "execution_count": 105,
   "id": "e8be072f",
   "metadata": {},
   "outputs": [
    {
     "data": {
      "text/plain": [
       "array([35.3373254 ,  0.87929937])"
      ]
     },
     "execution_count": 105,
     "metadata": {},
     "output_type": "execute_result"
    },
    {
     "data": {
      "image/png": "[encoded data removed]",
      "text/plain": [
       "<Figure size 432x288 with 1 Axes>"
      ]
     },
     "metadata": {},
     "output_type": "display_data"
    }
   ],
   "source": [
    "plt.plot(2 * Jx * 1e6, Qx_x)\n",
    "fit = np.polyfit(2 * Jx, Qx_x, deg=1)\n",
    "plt.plot(2 * Jx * 1e6, np.poly1d(fit)(2 * Jx), ls='--')\n",
    "plt.ticklabel_format(style='plain')\n",
    "plt.gca().get_yaxis().get_major_formatter().set_useOffset(False)\n",
    "plt.xlabel('$2J_x$ [mm.mrad]')\n",
    "plt.ylabel('$Q_x$')\n",
    "fit"
   ]
  },
  {
   "cell_type": "code",
   "execution_count": 106,
   "id": "62bdbdcf",
   "metadata": {},
   "outputs": [
    {
     "data": {
      "text/plain": [
       "array([-22.40058187,   0.79928904])"
      ]
     },
     "execution_count": 106,
     "metadata": {},
     "output_type": "execute_result"
    },
    {
     "data": {
      "image/png": "[encoded data removed]",
      "text/plain": [
       "<Figure size 432x288 with 1 Axes>"
      ]
     },
     "metadata": {},
     "output_type": "display_data"
    }
   ],
   "source": [
    "plt.plot(2 * Jy * 1e6, Qy_y)\n",
    "fit = np.polyfit(2 * Jy, Qy_y, deg=1)\n",
    "plt.plot(2 * Jy * 1e6, np.poly1d(fit)(2 * Jy), ls='--')\n",
    "plt.xlabel('$2J_y$ [mm.mrad]')\n",
    "plt.ylabel('$Q_y$')\n",
    "fit"
   ]
  },
  {
   "cell_type": "code",
   "execution_count": 107,
   "id": "7feb4297",
   "metadata": {},
   "outputs": [
    {
     "data": {
      "text/plain": [
       "array([0.33129337, 0.87929938])"
      ]
     },
     "execution_count": 107,
     "metadata": {},
     "output_type": "execute_result"
    },
    {
     "data": {
      "image/png": "[encoded data removed]",
      "text/plain": [
       "<Figure size 432x288 with 1 Axes>"
      ]
     },
     "metadata": {},
     "output_type": "display_data"
    }
   ],
   "source": [
    "plt.plot(2 * Jy * 1e6, Qx_y)\n",
    "fit = np.polyfit(2 * Jy, Qx_y, deg=1)\n",
    "plt.plot(2 * Jy * 1e6, np.poly1d(fit)(2 * Jy), ls='--')\n",
    "plt.ticklabel_format(style='plain')\n",
    "plt.gca().get_yaxis().get_major_formatter().set_useOffset(False)\n",
    "plt.xlabel('$2J_y$ [mm.mrad]')\n",
    "plt.ylabel('$Q_x$')\n",
    "fit"
   ]
  }
 ],
 "metadata": {
  "kernelspec": {
   "display_name": "Python 3",
   "language": "python",
   "name": "python3"
  },
  "language_info": {
   "codemirror_mode": {
    "name": "ipython",
    "version": 3
   },
   "file_extension": ".py",
   "mimetype": "text/x-python",
   "name": "python",
   "nbconvert_exporter": "python",
   "pygments_lexer": "ipython3",
   "version": "3.7.3"
  }
 },
 "nbformat": 4,
 "nbformat_minor": 5
}
