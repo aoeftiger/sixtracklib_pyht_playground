{
 "cells": [
  {
   "cell_type": "code",
   "execution_count": 1,
   "metadata": {},
   "outputs": [],
   "source": [
    "import numpy as np\n",
    "import matplotlib.pyplot as plt\n",
    "%matplotlib inline\n",
    "\n",
    "import seaborn as sns\n",
    "sns.set_context('talk', font_scale=1.2, rc={'lines.linewidth': 3})\n",
    "sns.set_style('whitegrid',\n",
    "              {'grid.linestyle': ':', 'grid.color': 'red', 'axes.edgecolor': '0.5',\n",
    "               'axes.linewidth': 1.2, 'legend.frameon': True})\n",
    "\n",
    "import os\n",
    "import pickle\n",
    "\n",
    "import time"
   ]
  },
  {
   "cell_type": "code",
   "execution_count": 2,
   "metadata": {},
   "outputs": [],
   "source": [
    "from scipy.constants import e, m_p, c\n",
    "\n",
    "from scipy.constants import physical_constants"
   ]
  },
  {
   "cell_type": "code",
   "execution_count": 3,
   "metadata": {},
   "outputs": [],
   "source": [
    "from cpymad.madx import Madx\n",
    "\n",
    "import sixtracklib as pyst\n",
    "import pysixtrack"
   ]
  },
  {
   "cell_type": "code",
   "execution_count": 4,
   "metadata": {},
   "outputs": [
    {
     "name": "stdout",
     "output_type": "stream",
     "text": [
      "PyHEADTAIL v1.13.5\n",
      "\n",
      "\n"
     ]
    }
   ],
   "source": [
    "import sys\n",
    "sys.path.append('/home/oeftiger/gsi/git/python3/PyHEADTAIL/')\n",
    "from PyHEADTAIL.particles import generators"
   ]
  },
  {
   "cell_type": "code",
   "execution_count": 5,
   "metadata": {},
   "outputs": [],
   "source": [
    "nmass = physical_constants['atomic mass constant energy equivalent in MeV'][0] * 1e-3\n",
    "nmass = 0.931494061 # MAD-X value"
   ]
  },
  {
   "cell_type": "code",
   "execution_count": 6,
   "metadata": {},
   "outputs": [],
   "source": [
    "tune_range_qx = np.arange(18.55, 18.95 + 0.01, 0.01)\n",
    "tune_range_qy = tune_range_qx"
   ]
  },
  {
   "cell_type": "markdown",
   "metadata": {},
   "source": [
    "# prepare MAD-X error sequences"
   ]
  },
  {
   "cell_type": "code",
   "execution_count": 7,
   "metadata": {},
   "outputs": [],
   "source": [
    "# e_seed = 1\n",
    "\n",
    "# for qx in tune_range_qx:\n",
    "#     for qy in tune_range_qy:\n",
    "#         qqx, qqy = int(np.round((qx%1) * 100)), int(np.round((qy%1) * 100))\n",
    "        \n",
    "#         filename_error_table = \"./error_tables/errors_{qqx}_{qqy}_{eseed:d}\".format(\n",
    "#             qqx=qqx, qqy=qqy, eseed=e_seed)\n",
    "        \n",
    "#         if os.path.exists(filename_error_table):\n",
    "#             continue\n",
    "\n",
    "#         print ('\\n\\n\\n=== Preparing for Qx = {:.2f} and Qy = {:.2f} ===\\n\\n\\n'.format(qx, qy))"
   ]
  },
  {
   "cell_type": "markdown",
   "metadata": {},
   "source": [
    "# PySTL: read in lattice with errors in full definition"
   ]
  },
  {
   "cell_type": "code",
   "execution_count": 8,
   "metadata": {},
   "outputs": [],
   "source": [
    "nturns = 20000 #2**16\n",
    "npart = 1000\n",
    "\n",
    "A = 238\n",
    "Q = 28\n",
    "\n",
    "Ekin_per_nucleon = 0.2e9 # in eV\n",
    "\n",
    "###\n",
    "\n",
    "mass = A * nmass * 1e9 * e / c**2 # in kg\n",
    "charge = Q * e # in Coul\n",
    "\n",
    "Ekin = Ekin_per_nucleon * A\n",
    "p0c = np.sqrt(Ekin**2 + 2*Ekin*mass/e * c**2) # in eV\n",
    "\n",
    "Etot = np.sqrt(p0c**2 + (mass/e)**2 * c**4) * 1e-9 # in GeV\n",
    "p0 = p0c / c * e # in SI units\n",
    "gamma = np.sqrt(1 + (p0 / (mass * c))**2)\n",
    "beta = np.sqrt(1 - gamma**-2)\n"
   ]
  },
  {
   "cell_type": "code",
   "execution_count": 9,
   "metadata": {},
   "outputs": [],
   "source": [
    "epsx_rms_fin = 35e-6 / 4 # geometrical emittances\n",
    "epsy_rms_fin = 15e-6 / 4\n",
    "\n",
    "limit_n_rms_x = 2\n",
    "limit_n_rms_y = 2\n",
    "limit_n_rms_z = 3.4\n",
    "\n",
    "sig_z = 58 / 4. # in m\n",
    "sig_dp = 0.5e-3\n",
    "\n",
    "###\n",
    "\n",
    "epsx_gauss = epsx_rms_fin * 1.778\n",
    "epsy_gauss = epsy_rms_fin * 1.82\n",
    "\n",
    "epsn_x = epsx_gauss * beta * gamma\n",
    "epsn_y = epsy_gauss * beta * gamma\n",
    "\n",
    "beta_z = sig_z / sig_dp"
   ]
  },
  {
   "cell_type": "code",
   "execution_count": 10,
   "metadata": {},
   "outputs": [
    {
     "name": "stdout",
     "output_type": "stream",
     "text": [
      "\n",
      "  ++++++++++++++++++++++++++++++++++++++++++++\n",
      "  +     MAD-X 5.05.01  (64 bit, Linux)       +\n",
      "  + Support: mad@cern.ch, http://cern.ch/mad +\n",
      "  + Release   date: 2019.06.07               +\n",
      "  + Execution date: 2019.10.28 11:44:02      +\n",
      "  ++++++++++++++++++++++++++++++++++++++++++++\n",
      "START MATCHING\n",
      "\n",
      "number of sequences: 1\n",
      "sequence name: sis100ring\n",
      "number of variables:    2\n",
      "user given constraints: 2\n",
      "total constraints:      2\n",
      "\n",
      "START LMDIF:\n",
      "\n",
      "\n",
      "MATCH SUMMARY\n",
      "\n",
      "Node_Name                  Constraint   Type  Target Value       Final Value        Penalty\n",
      "--------------------------------------------------------------------------------------------------\n",
      "\n",
      "\n",
      "Final Penalty Function =   2.51160496e-15\n",
      "\n",
      "\n",
      "\n",
      "\n",
      "\n",
      "Variable                 Final Value  Initial Value Lower Limit  Upper Limit \n",
      "--------------------------------------------------------------------------------\n",
      "kqf                       2.77739e-01  2.81571e-01 -1.00000e+20  1.00000e+20\n",
      "kqd                      -2.77252e-01 -2.80616e-01 -1.00000e+20  1.00000e+20\n",
      "\n",
      "END MATCH SUMMARY\n",
      "\n",
      "VARIABLE \"TAR\" SET TO   2.51160496e-15\n",
      "enter Twiss module\n",
      "\n",
      "++++++ table: summ\n",
      "\n",
      "            length             orbit5               alfa            gammatr \n",
      "            1083.6                 -0     0.004222132091        15.38983954 \n",
      "\n",
      "                q1                dq1            betxmax              dxmax \n",
      "             18.55        -39.0819715        20.63607755        3.599474929 \n",
      "\n",
      "             dxrms             xcomax             xcorms                 q2 \n",
      "       1.496758878                  0                  0        18.55000001 \n",
      "\n",
      "               dq2            betymax              dymax              dyrms \n",
      "      -40.15816018        25.20896775                  0                  0 \n",
      "\n",
      "            ycomax             ycorms             deltap            synch_1 \n",
      "                 0                  0                  0                  0 \n",
      "\n",
      "           synch_2            synch_3            synch_4            synch_5 \n",
      "                 0                  0                  0                  0 \n",
      "\n",
      "            nflips \n",
      "                 0 \n",
      "Want to make named table: errors\n",
      "\n",
      "\n",
      "\n",
      "++++++++++++++++++++++++++++++\n",
      "*** ready for tracking ***\n",
      "\n",
      "\n"
     ]
    }
   ],
   "source": [
    "e_seed = 1\n",
    "\n",
    "qx = tune_range_qx[0]\n",
    "qy = tune_range_qy[0]\n",
    "\n",
    "qqx, qqy = int(np.round((qx%1) * 100)), int(np.round((qy%1) * 100))\n",
    "\n",
    "filename_error_table = \"./error_tables/errors_{qqx}_{qqy}_{eseed:d}\".format(\n",
    "            qqx=qqx, qqy=qqy, eseed=e_seed)\n",
    "\n",
    "madx = Madx()\n",
    "madx.options.echo = False\n",
    "madx.options.warn = False\n",
    "\n",
    "madx.call('./SIS100_RF_220618_9slices.thin.seq')\n",
    "\n",
    "madx.command.beam(particle='ion', mass=A*nmass, charge=Q, energy=Etot)\n",
    "\n",
    "madx.call('OpticsYEH_BeamParameters.str')\n",
    "madx.call('Coll+Errors+BeamDistr.madx')\n",
    "\n",
    "madx.input('''\n",
    "select, flag=seqedit, class=collimator;\n",
    "select, flag=seqedit, class=kicker;\n",
    "select, flag=seqedit, class=tkicker;\n",
    "select, flag=seqedit, class=elseparator;\n",
    "\n",
    "seqedit, sequence=SIS100RING;\n",
    "    remove, element=selected;\n",
    "    flatten;\n",
    "endedit;\n",
    "\n",
    "select, flag=seqedit, class=marker;\n",
    "seqedit, sequence=SIS100RING;\n",
    "    remove, element=selected;\n",
    "    install, element=SIS100RING$START, s=0;\n",
    "    flatten;\n",
    "endedit;\n",
    "''')\n",
    "\n",
    "madx.use(sequence='sis100ring')\n",
    "\n",
    "### --> first match, then add errors, then TWISS!\n",
    "\n",
    "madx.input('''\n",
    "    match, sequence=SIS100RING;\n",
    "    global, sequence=SIS100RING, q1={qx}, q2={qy};\n",
    "    vary, name=kqf, step=0.00001;\n",
    "    vary, name=kqd, step=0.00001;\n",
    "    lmdif, calls=500, tolerance=1.0e-10;\n",
    "    endmatch;\n",
    "'''.format(qx=qx, qy=qy)\n",
    ")\n",
    "\n",
    "madx.command.eoption(add=True, seed=1)\n",
    "madx.command.exec('EA_EFCOMP_MH()')\n",
    "for s in range(1, 10):\n",
    "    assert madx.command.exec(f'EA_rEFCOMP_QD({s},1)')\n",
    "\n",
    "twiss = madx.twiss();\n",
    "\n",
    "madx.command.select(flag='error', pattern='QD11..', class_='MULTIPOLE')\n",
    "madx.command.select(flag='error', pattern='QD12..', class_='MULTIPOLE')\n",
    "madx.command.select(flag='error', pattern='mh1', class_='MULTIPOLE')\n",
    "madx.command.select(flag='error', pattern='mh2', class_='MULTIPOLE')\n",
    "madx.command.esave(file=filename_error_table)\n",
    "\n",
    "madx.input('cavity_voltage = 58.2/1000/number_cavities;')\n",
    "\n",
    "madx.command.readtable(file=filename_error_table, table=\"errors\")\n",
    "errors = madx.table.errors\n",
    "\n",
    "sis100 = madx.sequence.sis100ring\n",
    "\n",
    "# particle initialisation from pyheadtail\n",
    "\n",
    "D_x_0 = twiss['dx'][0] * beta\n",
    "D_y_0 = twiss['dy'][0] * beta\n",
    "\n",
    "np.random.seed(0)\n",
    "\n",
    "pyht_beam = generators.generate_Gaussian6DTwiss(\n",
    "    npart, 1, charge, mass, twiss['s'][-1], gamma,\n",
    "    twiss['alfx'][0], twiss['alfy'][0], twiss['betx'][0], twiss['bety'][0],\n",
    "    1, epsn_x, epsn_y, 1,\n",
    "    dispersion_x=D_x_0 if D_x_0 else None,\n",
    "    dispersion_y=D_y_0 if D_y_0 else None,\n",
    "    limit_n_rms_x=limit_n_rms_x**2, limit_n_rms_y=limit_n_rms_y**2, \n",
    "    limit_n_rms_z=limit_n_rms_z**2,\n",
    ")\n",
    "\n",
    "distribution_z_uncut = generators.gaussian2D(\n",
    "    sig_z**2)\n",
    "is_accepted = generators.make_is_accepted_within_n_sigma(\n",
    "    epsn_rms=sig_z,\n",
    "    limit_n_rms=limit_n_rms_z,\n",
    ")\n",
    "distribution_z_cut = generators.cut_distribution(distribution_z_uncut, is_accepted)\n",
    "\n",
    "z, dp = distribution_z_cut(npart)\n",
    "pyht_beam.z, pyht_beam.dp = z, dp / beta_z\n",
    "\n",
    "### PySixTrack, lattice transfer and preparation!\n",
    "\n",
    "pysixtrack_elements, _ = pysixtrack.Line.from_madx_sequence(\n",
    "    sis100, exact_drift=True, install_apertures=True\n",
    ")\n",
    "\n",
    "pysixtrack_elements.remove_zero_length_drifts(inplace=True);\n",
    "pysixtrack_elements.merge_consecutive_drifts(inplace=True);\n",
    "\n",
    " # add alignment and multipole errors\n",
    "\n",
    "pysixtrack_elements.apply_madx_errors(error_table=errors)\n",
    "\n",
    "### Load lattice into SixTrackLib\n",
    "\n",
    "elements = pyst.Elements.from_line(pysixtrack_elements)\n",
    "elements.BeamMonitor(num_stores=nturns);\n",
    "\n",
    "### Transfer particles into SixTrackLib\n",
    "\n",
    "particles = pyst.Particles.from_ref(npart, p0c=p0c, mass0=A*nmass*1e9, q0=Q, state=1)\n",
    "\n",
    "particles.x[:] = pyht_beam.x\n",
    "particles.px[:] = pyht_beam.xp\n",
    "particles.y[:] = pyht_beam.y\n",
    "particles.py[:] = pyht_beam.yp\n",
    "particles.zeta[:] = pyht_beam.z\n",
    "particles.delta[:] = pyht_beam.dp\n",
    "\n",
    "particles.rpp[:] = 1. / (pyht_beam.dp + 1)\n",
    "\n",
    "restmass = mass * c**2\n",
    "restmass_sq = restmass**2\n",
    "E0 = np.sqrt((p0 * c)**2 + restmass_sq)\n",
    "p = p0 * (1 + pyht_beam.dp)\n",
    "E = np.sqrt((p * c)**2 + restmass_sq)\n",
    "particles.psigma[:] = (E - E0) / (beta * p0 * c)\n",
    "\n",
    "gammai = E / restmass\n",
    "betai = np.sqrt(1 - 1. / (gammai * gammai))\n",
    "particles.rvv[:] = betai / beta\n",
    "\n",
    "### prepare trackjob in SixTrackLib\n",
    "\n",
    "trackjob = pyst.CudaTrackJob(elements, particles)\n",
    "\n",
    "print ('\\n\\n\\n' + '+'*26 + '\\n*** ready for tracking ***\\n' + '+'*26 + '\\n')"
   ]
  },
  {
   "cell_type": "code",
   "execution_count": 11,
   "metadata": {},
   "outputs": [],
   "source": [
    "t0 = time.time()\n",
    "\n",
    "trackjob.track_until(nturns)\n",
    "trackjob.collect()\n",
    "\n",
    "store = {}\n",
    "filename_error_table = os.path.basename(filename_error_table)\n",
    "\n",
    "# statistics\n",
    "x = trackjob.output.particles[0].x.reshape((nturns, npart)).T\n",
    "store['std_x'] = np.mean(np.std(x, axis=0)[-50:])\n",
    "y = trackjob.output.particles[0].y.reshape((nturns, npart)).T\n",
    "store['std_y'] = np.mean(np.std(y, axis=0)[-50:])\n",
    "\n",
    "# losses\n",
    "pbuffer = trackjob.particles_buffer.get_object(0)\n",
    "np.save('results/' + filename_error_table + '_alive.npy', pbuffer.state)\n",
    "np.save('results/' + filename_error_table + '_lost_at_element.npy', \n",
    "        pbuffer.at_element[~pbuffer.state.astype(bool)])\n",
    "np.save('results/' + filename_error_table + '_lost_at_turn.npy',\n",
    "        pbuffer.at_turn[~pbuffer.state.astype(bool)])\n",
    "\n",
    "store['losses'] = np.sum(pbuffer.state)\n",
    "\n",
    "# finish job\n",
    "pickle.dump(store, open('results/' + filename_error_table + '_summary.p', 'wb'))\n",
    "\n",
    "!touch \"results/$filename_error_table\"_done\n",
    "\n",
    "del trackjob, elements, particles\n",
    "\n",
    "t1 = time.time()"
   ]
  },
  {
   "cell_type": "code",
   "execution_count": 12,
   "metadata": {},
   "outputs": [
    {
     "data": {
      "text/plain": [
       "33.21658913691839"
      ]
     },
     "execution_count": 12,
     "metadata": {},
     "output_type": "execute_result"
    }
   ],
   "source": [
    "(t1 - t0) / 60."
   ]
  },
  {
   "cell_type": "code",
   "execution_count": 14,
   "metadata": {},
   "outputs": [
    {
     "data": {
      "text/plain": [
       "712"
      ]
     },
     "execution_count": 14,
     "metadata": {},
     "output_type": "execute_result"
    }
   ],
   "source": [
    "np.sum(pbuffer.state)"
   ]
  },
  {
   "cell_type": "code",
   "execution_count": null,
   "metadata": {},
   "outputs": [],
   "source": []
  },
  {
   "cell_type": "code",
   "execution_count": 41,
   "metadata": {},
   "outputs": [
    {
     "name": "stdout",
     "output_type": "stream",
     "text": [
      "1match-2err.zip  track_55_55_1_20000_one  tracksumm_55_55_1_20000\r\n",
      "errors_55_55_1\t trackloss_55_55_1_2000   twiss_55_55_1\r\n",
      "matched_55_55_1  tracksumm_1.madx\r\n"
     ]
    }
   ],
   "source": [
    "!ls ./Vera_1match-2err_55_55/"
   ]
  },
  {
   "cell_type": "code",
   "execution_count": 52,
   "metadata": {},
   "outputs": [
    {
     "data": {
      "text/plain": [
       "array([[ 1.00000000e+00,  0.00000000e+00, -1.49495704e-02, ...,\n",
       "         2.86873274e-04,  0.00000000e+00,  0.00000000e+00],\n",
       "       [ 2.00000000e+00,  0.00000000e+00, -1.56963544e-02, ...,\n",
       "         2.83204003e-04,  0.00000000e+00,  0.00000000e+00],\n",
       "       [ 3.00000000e+00,  0.00000000e+00,  2.21776800e-02, ...,\n",
       "         3.34435334e-05,  0.00000000e+00,  0.00000000e+00],\n",
       "       ...,\n",
       "       [ 9.98000000e+02,  0.00000000e+00,  1.80188790e-02, ...,\n",
       "         2.13486304e-04,  0.00000000e+00,  0.00000000e+00],\n",
       "       [ 9.99000000e+02,  0.00000000e+00, -1.52037930e-02, ...,\n",
       "         8.33387393e-05,  0.00000000e+00,  0.00000000e+00],\n",
       "       [ 1.00000000e+03,  0.00000000e+00, -1.04522653e-02, ...,\n",
       "        -2.65525862e-04,  0.00000000e+00,  0.00000000e+00]])"
      ]
     },
     "execution_count": 52,
     "metadata": {},
     "output_type": "execute_result"
    }
   ],
   "source": [
    "np.genfromtxt('./Vera_1match-2err_55_55/tracksumm_55_55_1_20000', skip_header=8)[:1000]"
   ]
  },
  {
   "cell_type": "code",
   "execution_count": 55,
   "metadata": {},
   "outputs": [
    {
     "name": "stdout",
     "output_type": "stream",
     "text": [
      "*     NUMBER       TURN                  X                 PX                  Y                 PY                  T                 PT                  S                  E \r\n"
     ]
    }
   ],
   "source": [
    "!head -7 ./Vera_1match-2err_55_55/tracksumm_55_55_1_20000 | tail -1"
   ]
  },
  {
   "cell_type": "code",
   "execution_count": 45,
   "metadata": {},
   "outputs": [
    {
     "data": {
      "text/plain": [
       "array([[           nan,            nan,            nan, ...,\n",
       "                   nan,            nan,            nan],\n",
       "       [5.50000000e+01, 5.50000000e+01, 1.00000000e+00, ...,\n",
       "        5.10266004e-06, 5.10787475e-06, 7.95000000e+02],\n",
       "       [5.50000000e+01, 5.60000000e+01, 1.00000000e+00, ...,\n",
       "        8.18066600e-06, 4.36666198e-06, 9.86000000e+02],\n",
       "       ...,\n",
       "       [9.50000000e+01, 9.30000000e+01, 1.00000000e+00, ...,\n",
       "        1.57863354e-05, 3.99121279e-06, 8.97000000e+02],\n",
       "       [9.50000000e+01, 9.40000000e+01, 1.00000000e+00, ...,\n",
       "        1.33605337e-05, 3.83190357e-06, 6.96000000e+02],\n",
       "       [9.50000000e+01, 9.50000000e+01, 1.00000000e+00, ...,\n",
       "        6.88273417e-06, 4.73707620e-06, 3.33000000e+02]])"
      ]
     },
     "execution_count": 45,
     "metadata": {},
     "output_type": "execute_result"
    }
   ],
   "source": [
    "np.genfromtxt('./Vera_Tunes_Emittances.dat')"
   ]
  },
  {
   "cell_type": "code",
   "execution_count": null,
   "metadata": {},
   "outputs": [],
   "source": []
  },
  {
   "cell_type": "code",
   "execution_count": null,
   "metadata": {},
   "outputs": [],
   "source": []
  },
  {
   "cell_type": "code",
   "execution_count": null,
   "metadata": {},
   "outputs": [],
   "source": []
  },
  {
   "cell_type": "code",
   "execution_count": 56,
   "metadata": {},
   "outputs": [],
   "source": [
    "# e_seed = 1\n",
    "\n",
    "# for qx in tune_range_qx:\n",
    "#     for qy in tune_range_qy:\n",
    "#         qqx, qqy = int(np.round((qx%1) * 100)), int(np.round((qy%1) * 100))\n",
    "        \n",
    "#         filename_error_table = \"./errors_{qqx}_{qqy}_{eseed:d}\".format(\n",
    "#             qqx=qqx, qqy=qqy, eseed=e_seed)\n",
    "        \n",
    "#         if os.path.exists(filename_error_table + '_done'):\n",
    "#             continue\n",
    "        \n",
    "#         print ('\\n\\n\\n=== Running at Qx = {:.2f} and Qy = {:.2f} ===\\n\\n\\n'.format(qx, qy))\n",
    "        \n",
    "#         # read in MAD-X sequence with errors\n",
    "        \n",
    "#         madx = Madx()\n",
    "#         madx.options.echo = False\n",
    "#         madx.options.warn = False\n",
    "#         madx.options.info = False\n",
    "        \n",
    "#         madx.call(file=filename_error_table + '_full-lattice.seq')\n",
    "        \n",
    "#         madx.command.beam(particle='ion', mass=238*nmass, charge=28, energy=238*0.2+238*nmass)\n",
    "        \n",
    "#         madx.use(sequence='SIS100RING')\n",
    "        \n",
    "#         twiss = madx.twiss();\n",
    "        \n",
    "#         sis100 = madx.sequence.sis100ring\n",
    "        \n",
    "#         assert 2 == len(\n",
    "#             [f.name for f in map(lambda x: x.base_type, sis100.expanded_elements) \n",
    "#              if 'drift' != f.name and 'multipole' != f.name and 'rfcavity' != f.name])\n",
    "        \n",
    "#         # go to PySTL\n",
    "        \n",
    "#         elements = pyst.Elements.from_mad(sis100)\n",
    "\n",
    "#         elements.BeamMonitor(num_stores=nturns);\n",
    "\n",
    "#         particles = pyst.Particles.from_ref(npart, p0c=p0c, q0=28, mass0=238*nmass*1e9)\n",
    "        \n",
    "#         # matching\n",
    "\n",
    "#         np.random.seed(987654321)\n",
    "\n",
    "#         x = np.random.normal(\n",
    "#             loc=0, scale=np.sqrt(twiss['betx'][0] * epsx_gauss), size=npart)\n",
    "#         xp = np.random.normal(\n",
    "#              loc=0, scale=np.sqrt(epsx_gauss / twiss['betx'][0]), size=npart)\n",
    "#         xp += -twiss['alfx'][0] / twiss['betx'][0] * x\n",
    "\n",
    "#         y = np.random.normal(\n",
    "#             loc=0, scale=np.sqrt(twiss['bety'][0] * epsy_gauss), size=npart)\n",
    "#         yp = np.random.normal(\n",
    "#              loc=0, scale=np.sqrt(epsy_gauss / twiss['bety'][0]), size=npart)\n",
    "#         yp += -twiss['alfy'][0] / twiss['bety'][0] * y\n",
    "\n",
    "#         z = np.random.normal(loc=0, scale=sig_z, size=npart)\n",
    "#         dp = np.random.normal(loc=0, scale=sig_dp, size=npart)\n",
    "\n",
    "#         particles.x *= 0\n",
    "#         particles.px *= 0\n",
    "#         particles.y *= 0\n",
    "#         particles.py *= 0\n",
    "#         particles.zeta *= 0\n",
    "#         particles.delta *= 0\n",
    "\n",
    "#         particles.x += x\n",
    "#         particles.px += xp\n",
    "#         particles.y += y\n",
    "#         particles.py += yp\n",
    "#         particles.zeta += z\n",
    "#         particles.delta += dp\n",
    "        \n",
    "#         # PySTL job\n",
    "        \n",
    "#         job = pyst.TrackJob(elements, particles, device=pystl_device)\n",
    "\n",
    "#         job.track(nturns)\n",
    "\n",
    "#         job.collect()\n",
    "        \n",
    "#         # coordinates\n",
    "# #         np.save(filename_error_table + '_x.npy', job.output.particles[0].x)\n",
    "# #         np.save(filename_error_table + '_y.npy', job.output.particles[0].y)\n",
    "# #         np.save(filename_error_table + '_px.npy', job.output.particles[0].px)\n",
    "# #         np.save(filename_error_table + '_py.npy', job.output.particles[0].py)\n",
    "# #         np.save(filename_error_table + '_zeta.npy', job.output.particles[0].zeta)\n",
    "# #         np.save(filename_error_table + '_delta.npy', job.output.particles[0].delta)\n",
    "\n",
    "#         store = {}\n",
    "\n",
    "#         # statistics\n",
    "#         x = job.output.particles[0].x.reshape((nturns, npart)).T\n",
    "#         store['std_x'] = np.mean(np.std(x, axis=0)[-50:])\n",
    "#         y = job.output.particles[0].y.reshape((nturns, npart)).T\n",
    "#         store['std_y'] = np.mean(np.std(y, axis=0)[-50:])\n",
    "        \n",
    "#         # losses\n",
    "#         pbuffer = job.particles_buffer.get_object(0)\n",
    "#         np.save(filename_error_table + '_alive.npy', pbuffer.state)\n",
    "#         np.save(filename_error_table + '_lost_at_element.npy', \n",
    "#                 pbuffer.at_element[~pbuffer.state.astype(bool)])\n",
    "#         np.save(filename_error_table + '_lost_at_turn.npy',\n",
    "#                 pbuffer.at_turn[~pbuffer.state.astype(bool)])\n",
    "        \n",
    "#         store['losses'] = np.sum(pbuffer.state)\n",
    "        \n",
    "#         # finish job\n",
    "#         pickle.dump(store, open(filename_error_table + '_summary.p', 'wb'))\n",
    "\n",
    "#         !touch \"$filename_error_table\"_done\n",
    "        \n",
    "#         del job, elements, particles"
   ]
  }
 ],
 "metadata": {
  "kernelspec": {
   "display_name": "Python 3",
   "language": "python",
   "name": "python3"
  },
  "language_info": {
   "codemirror_mode": {
    "name": "ipython",
    "version": 3
   },
   "file_extension": ".py",
   "mimetype": "text/x-python",
   "name": "python",
   "nbconvert_exporter": "python",
   "pygments_lexer": "ipython3",
   "version": "3.7.4"
  }
 },
 "nbformat": 4,
 "nbformat_minor": 2
}
