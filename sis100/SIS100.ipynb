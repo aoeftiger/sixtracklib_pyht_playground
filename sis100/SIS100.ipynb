{
 "cells": [
  {
   "cell_type": "code",
   "execution_count": 1,
   "metadata": {},
   "outputs": [],
   "source": [
    "import numpy as np\n",
    "import matplotlib.pyplot as plt\n",
    "%matplotlib inline\n",
    "\n",
    "import seaborn as sns\n",
    "sns.set_context('talk', font_scale=1.2, rc={'lines.linewidth': 3})\n",
    "sns.set_style('whitegrid',\n",
    "              {'grid.linestyle': ':', 'grid.color': 'red', 'axes.edgecolor': '0.5',\n",
    "               'axes.linewidth': 1.2, 'legend.frameon': True})\n"
   ]
  },
  {
   "cell_type": "code",
   "execution_count": 2,
   "metadata": {},
   "outputs": [],
   "source": [
    "from scipy.constants import e, m_p, c"
   ]
  },
  {
   "cell_type": "code",
   "execution_count": 3,
   "metadata": {},
   "outputs": [],
   "source": [
    "from cpymad.madx import Madx\n",
    "\n",
    "import sixtracklib as pyst\n",
    "import pysixtrack"
   ]
  },
  {
   "cell_type": "code",
   "execution_count": 4,
   "metadata": {},
   "outputs": [
    {
     "name": "stdout",
     "output_type": "stream",
     "text": [
      "\n",
      "  ++++++++++++++++++++++++++++++++++++++++++++\n",
      "  +     MAD-X 5.05.01  (64 bit, Linux)       +\n",
      "  + Support: mad@cern.ch, http://cern.ch/mad +\n",
      "  + Release   date: 2019.06.07               +\n",
      "  + Execution date: 2019.10.24 17:33:16      +\n",
      "  ++++++++++++++++++++++++++++++++++++++++++++\n"
     ]
    }
   ],
   "source": [
    "madx = Madx()\n",
    "madx.options.echo = False\n",
    "madx.options.warn = False\n",
    "madx.options.info = False"
   ]
  },
  {
   "cell_type": "code",
   "execution_count": 5,
   "metadata": {},
   "outputs": [],
   "source": [
    "madx.call('./SIS100_RF_220618_9slices.thin.seq')"
   ]
  },
  {
   "cell_type": "code",
   "execution_count": 6,
   "metadata": {},
   "outputs": [],
   "source": [
    "from scipy.constants import physical_constants"
   ]
  },
  {
   "cell_type": "code",
   "execution_count": 7,
   "metadata": {},
   "outputs": [],
   "source": [
    "nmass = physical_constants['atomic mass constant energy equivalent in MeV'][0] * 1e-3\n",
    "nmass = 0.931494061 # MAD-X value"
   ]
  },
  {
   "cell_type": "code",
   "execution_count": 8,
   "metadata": {},
   "outputs": [],
   "source": [
    "A = 238\n",
    "Q = 28\n",
    "\n",
    "Ekin_per_nucleon = 0.2e9 # in eV\n",
    "\n",
    "###\n",
    "\n",
    "mass = A * nmass * 1e9 * e / c**2 # in kg\n",
    "charge = Q * e # in Coul\n",
    "\n",
    "Ekin = Ekin_per_nucleon * A\n",
    "p0c = np.sqrt(Ekin**2 + 2*Ekin*mass/e * c**2) # in eV\n",
    "\n",
    "Etot = np.sqrt(p0c**2 + (mass/e)**2 * c**4) * 1e-9 # in GeV\n",
    "p0 = p0c / c * e # in SI units\n",
    "gamma = np.sqrt(1 + (p0 / (mass * c))**2)\n",
    "beta = np.sqrt(1 - gamma**-2)"
   ]
  },
  {
   "cell_type": "code",
   "execution_count": 9,
   "metadata": {},
   "outputs": [
    {
     "data": {
      "text/plain": [
       "True"
      ]
     },
     "execution_count": 9,
     "metadata": {},
     "output_type": "execute_result"
    }
   ],
   "source": [
    "madx.command.beam(particle='ion', mass=A*nmass, charge=Q, energy=Etot)"
   ]
  },
  {
   "cell_type": "code",
   "execution_count": 10,
   "metadata": {},
   "outputs": [],
   "source": [
    "madx.call('./OpticsYEH_BeamParameters.str')"
   ]
  },
  {
   "cell_type": "code",
   "execution_count": 11,
   "metadata": {},
   "outputs": [],
   "source": [
    "madx.use(sequence='sis100ring')"
   ]
  },
  {
   "cell_type": "code",
   "execution_count": 12,
   "metadata": {},
   "outputs": [
    {
     "name": "stdout",
     "output_type": "stream",
     "text": [
      "START MATCHING\n",
      "\n",
      "number of sequences: 1\n",
      "sequence name: sis100ring\n",
      "number of variables:    2\n",
      "user given constraints: 2\n",
      "total constraints:      2\n",
      "\n",
      "START LMDIF:\n",
      "\n",
      "\n",
      "MATCH SUMMARY\n",
      "\n",
      "Node_Name                  Constraint   Type  Target Value       Final Value        Penalty\n",
      "--------------------------------------------------------------------------------------------------\n",
      "\n",
      "\n",
      "Final Penalty Function =   8.49283167e-16\n",
      "\n",
      "\n",
      "\n",
      "\n",
      "\n",
      "Variable                 Final Value  Initial Value Lower Limit  Upper Limit \n",
      "--------------------------------------------------------------------------------\n",
      "kqf                       2.80997e-01  2.81571e-01 -1.00000e+20  1.00000e+20\n",
      "kqd                      -2.79858e-01 -2.80616e-01 -1.00000e+20  1.00000e+20\n",
      "\n",
      "END MATCH SUMMARY\n",
      "\n",
      "VARIABLE \"TAR\" SET TO   8.49283167e-16\n"
     ]
    },
    {
     "data": {
      "text/plain": [
       "True"
      ]
     },
     "execution_count": 12,
     "metadata": {},
     "output_type": "execute_result"
    }
   ],
   "source": [
    "madx.input('''\n",
    "match, sequence=SIS100RING;\n",
    "global, sequence=SIS100RING, q1=18+0.84, q2=18+0.73;\n",
    "vary, name=kqf, step=0.00001;\n",
    "vary, name=kqd, step=0.00001;\n",
    "lmdif, calls=500, tolerance=1.0e-10;\n",
    "endmatch;\n",
    "''')"
   ]
  },
  {
   "cell_type": "code",
   "execution_count": 13,
   "metadata": {},
   "outputs": [
    {
     "name": "stdout",
     "output_type": "stream",
     "text": [
      "enter Twiss module\n",
      "\n",
      "++++++ table: summ\n",
      "\n",
      "            length             orbit5               alfa            gammatr \n",
      "            1083.6                 -0     0.004051660019        15.71026469 \n",
      "\n",
      "                q1                dq1            betxmax              dxmax \n",
      "             18.84       -39.80511805        19.95816218        3.140998962 \n",
      "\n",
      "             dxrms             xcomax             xcorms                 q2 \n",
      "        1.38648703                  0                  0              18.73 \n",
      "\n",
      "               dq2            betymax              dymax              dyrms \n",
      "      -39.71639486        21.30632346                  0                  0 \n",
      "\n",
      "            ycomax             ycorms             deltap            synch_1 \n",
      "                 0                  0                  0                  0 \n",
      "\n",
      "           synch_2            synch_3            synch_4            synch_5 \n",
      "                 0                  0                  0                  0 \n",
      "\n",
      "            nflips \n",
      "                 0 \n"
     ]
    }
   ],
   "source": [
    "twiss = madx.twiss();"
   ]
  },
  {
   "cell_type": "code",
   "execution_count": 14,
   "metadata": {},
   "outputs": [],
   "source": [
    "madx.use(sequence='SIS100RING')"
   ]
  },
  {
   "cell_type": "code",
   "execution_count": 15,
   "metadata": {},
   "outputs": [],
   "source": [
    "madx.input('''\n",
    "select, flag=seqedit, class=collimator;\n",
    "select, flag=seqedit, class=hmonitor;\n",
    "select, flag=seqedit, class=vmonitor;\n",
    "select, flag=seqedit, class=kicker;\n",
    "select, flag=seqedit, class=tkicker;\n",
    "! select, flag=seqedit, class=dipedge;\n",
    "select, flag=seqedit, class=elseparator;\n",
    "\n",
    "seqedit, sequence=SIS100RING;\n",
    "    remove, element=selected;\n",
    "    flatten;\n",
    "endedit;\n",
    "\n",
    "select, flag=seqedit, class=marker;\n",
    "seqedit, sequence=SIS100RING;\n",
    "    remove, element=selected;\n",
    "    install, element=SIS100RING$START, s=0;\n",
    "    flatten;\n",
    "endedit;\n",
    "''')\n",
    "\n",
    "madx.use(sequence='SIS100RING')"
   ]
  },
  {
   "cell_type": "code",
   "execution_count": 16,
   "metadata": {},
   "outputs": [],
   "source": [
    "sis100 = madx.sequence.sis100ring"
   ]
  },
  {
   "cell_type": "code",
   "execution_count": 17,
   "metadata": {},
   "outputs": [],
   "source": [
    "# np.unique([f.name for f in map(lambda x: x.base_type, sis100.expanded_elements) \n",
    "#  if 'drift' != f.name and 'multipole' != f.name and 'rfcavity' != f.name])"
   ]
  },
  {
   "cell_type": "code",
   "execution_count": 18,
   "metadata": {},
   "outputs": [],
   "source": [
    "pysixtrack_elements, _ = pysixtrack.Line.from_madx_sequence(\n",
    "    sis100, exact_drift=True, ignored_madtypes=[\n",
    "        'collimator', 'kicker', 'elseparator']\n",
    ")"
   ]
  },
  {
   "cell_type": "code",
   "execution_count": 19,
   "metadata": {},
   "outputs": [],
   "source": [
    "# pysixtrack_elements.remove_zero_length_drifts(inplace=True);"
   ]
  },
  {
   "cell_type": "code",
   "execution_count": 20,
   "metadata": {},
   "outputs": [],
   "source": [
    "# pysixtrack_particles = pysixtrack.Particles(p0c=p0c)\n",
    "\n",
    "# pysixtrack_particles.x += 1e-6\n",
    "\n",
    "# pysixtrack_elements.track(pysixtrack_particles)"
   ]
  },
  {
   "cell_type": "code",
   "execution_count": 21,
   "metadata": {},
   "outputs": [],
   "source": [
    "elements = pyst.Elements.from_line(pysixtrack_elements)"
   ]
  },
  {
   "cell_type": "code",
   "execution_count": 22,
   "metadata": {},
   "outputs": [
    {
     "data": {
      "text/plain": [
       "4039"
      ]
     },
     "execution_count": 22,
     "metadata": {},
     "output_type": "execute_result"
    }
   ],
   "source": [
    "len(elements.get_elements())"
   ]
  },
  {
   "cell_type": "markdown",
   "metadata": {},
   "source": [
    "$~$\n",
    "\n",
    "$~$\n",
    "\n",
    "$~$\n",
    "\n",
    "$~$"
   ]
  },
  {
   "cell_type": "code",
   "execution_count": 25,
   "metadata": {},
   "outputs": [],
   "source": [
    "nturns = 2**16\n",
    "elements.BeamMonitor(num_stores=nturns);"
   ]
  },
  {
   "cell_type": "code",
   "execution_count": 26,
   "metadata": {},
   "outputs": [],
   "source": [
    "npart = 1\n",
    "particles = pyst.Particles.from_ref(npart, p0c=p0c)"
   ]
  },
  {
   "cell_type": "code",
   "execution_count": 27,
   "metadata": {},
   "outputs": [],
   "source": [
    "particles.x += 1e-6\n",
    "particles.y += 1e-6"
   ]
  },
  {
   "cell_type": "code",
   "execution_count": 28,
   "metadata": {},
   "outputs": [],
   "source": [
    "job = pyst.TrackJob(elements, particles)"
   ]
  },
  {
   "cell_type": "code",
   "execution_count": 29,
   "metadata": {},
   "outputs": [
    {
     "data": {
      "text/plain": [
       "0"
      ]
     },
     "execution_count": 29,
     "metadata": {},
     "output_type": "execute_result"
    }
   ],
   "source": [
    "job.track_until(nturns)"
   ]
  },
  {
   "cell_type": "code",
   "execution_count": 30,
   "metadata": {},
   "outputs": [],
   "source": [
    "job.collect()"
   ]
  },
  {
   "cell_type": "code",
   "execution_count": 31,
   "metadata": {},
   "outputs": [],
   "source": [
    "rec_x = job.output.particles[0].x\n",
    "rec_y = job.output.particles[0].y"
   ]
  },
  {
   "cell_type": "code",
   "execution_count": 32,
   "metadata": {},
   "outputs": [
    {
     "data": {
      "text/plain": [
       "[<matplotlib.lines.Line2D at 0x7f388da75410>]"
      ]
     },
     "execution_count": 32,
     "metadata": {},
     "output_type": "execute_result"
    },
    {
     "data": {
      "image/png": "[encoded data removed]",
      "text/plain": [
       "<Figure size 432x288 with 1 Axes>"
      ]
     },
     "metadata": {
      "needs_background": "light"
     },
     "output_type": "display_data"
    }
   ],
   "source": [
    "plt.plot(rec_x)\n",
    "plt.plot(rec_y)"
   ]
  },
  {
   "cell_type": "code",
   "execution_count": 33,
   "metadata": {},
   "outputs": [],
   "source": [
    "Qx = twiss.summary['q1']\n",
    "qx = Qx % 1\n",
    "qx = qx if qx < 0.5 else 1 - qx\n",
    "\n",
    "Qy = twiss.summary['q2']\n",
    "qy = Qy % 1\n",
    "qy = qy if qy < 0.5 else 1 - qy"
   ]
  },
  {
   "cell_type": "code",
   "execution_count": 34,
   "metadata": {},
   "outputs": [
    {
     "data": {
      "image/png": "[encoded data removed]",
      "text/plain": [
       "<Figure size 1080x360 with 2 Axes>"
      ]
     },
     "metadata": {
      "needs_background": "light"
     },
     "output_type": "display_data"
    }
   ],
   "source": [
    "fig, ax = plt.subplots(1, 2, figsize=(15, 5))\n",
    "\n",
    "plt.sca(ax[0])\n",
    "plt.title('horizontal plane')\n",
    "plt.plot(\n",
    "    np.fft.rfftfreq(len(rec_x)),\n",
    "    np.abs(np.fft.rfft(rec_x)),\n",
    "    label=r'spectrum $x$ in PySTL'\n",
    ")\n",
    "plt.axvline(qx, color='darkorange', zorder=-1,\n",
    "            label='TWISS tune $(1-q_x)$')\n",
    "plt.xlim(qx - 0.0005, qx + 0.002)\n",
    "plt.legend()\n",
    "\n",
    "plt.sca(ax[1])\n",
    "plt.title('vertical plane')\n",
    "plt.plot(\n",
    "    np.fft.rfftfreq(len(rec_y)),\n",
    "    np.abs(np.fft.rfft(rec_y)),\n",
    "    label=r'spectrum $y$ in PySTL'\n",
    ")\n",
    "plt.axvline(qy, color='darkorange', zorder=-1,\n",
    "            label='TWISS tune $(1-q_y)$')\n",
    "plt.xlim(qy - 0.0005, qy + 0.002)\n",
    "plt.legend()\n",
    "\n",
    "plt.suptitle('SIS100: single particle tracking in PySixTrackLib', y=1.06, fontsize=26)\n",
    "plt.savefig('./pystl_sis100_tunes.pdf', bbox_inches='tight')"
   ]
  }
 ],
 "metadata": {
  "kernelspec": {
   "display_name": "Python 3",
   "language": "python",
   "name": "python3"
  },
  "language_info": {
   "codemirror_mode": {
    "name": "ipython",
    "version": 3
   },
   "file_extension": ".py",
   "mimetype": "text/x-python",
   "name": "python",
   "nbconvert_exporter": "python",
   "pygments_lexer": "ipython3",
   "version": "3.7.4"
  }
 },
 "nbformat": 4,
 "nbformat_minor": 2
}
