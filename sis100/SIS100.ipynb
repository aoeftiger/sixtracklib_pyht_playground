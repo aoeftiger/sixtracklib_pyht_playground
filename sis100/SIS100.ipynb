{
 "cells": [
  {
   "cell_type": "code",
   "execution_count": 97,
   "metadata": {},
   "outputs": [],
   "source": [
    "import numpy as np\n",
    "import matplotlib.pyplot as plt\n",
    "%matplotlib inline\n",
    "\n",
    "import seaborn as sns\n",
    "sns.set_context('talk', font_scale=1.2, rc={'lines.linewidth': 3})\n",
    "sns.set_style('whitegrid',\n",
    "              {'grid.linestyle': ':', 'grid.color': 'red', 'axes.edgecolor': '0.5',\n",
    "               'axes.linewidth': 1.2, 'legend.frameon': True})\n"
   ]
  },
  {
   "cell_type": "code",
   "execution_count": 2,
   "metadata": {},
   "outputs": [],
   "source": [
    "from scipy.constants import e, m_p, c"
   ]
  },
  {
   "cell_type": "code",
   "execution_count": 3,
   "metadata": {},
   "outputs": [],
   "source": [
    "from cpymad.madx import Madx\n",
    "\n",
    "import pysixtracklib as pyst"
   ]
  },
  {
   "cell_type": "code",
   "execution_count": 4,
   "metadata": {},
   "outputs": [
    {
     "name": "stdout",
     "output_type": "stream",
     "text": [
      "\n",
      "  ++++++++++++++++++++++++++++++++++++++++++++\n",
      "  +     MAD-X 5.04.02  (64 bit, Linux)       +\n",
      "  + Support: mad@cern.ch, http://cern.ch/mad +\n",
      "  + Release   date: 2018.10.03               +\n",
      "  + Execution date: 2019.05.21 15:49:08      +\n",
      "  ++++++++++++++++++++++++++++++++++++++++++++\n"
     ]
    }
   ],
   "source": [
    "madx = Madx()\n",
    "madx.options.echo = False\n",
    "# madx.options.warn = False\n",
    "# madx.options.info = False"
   ]
  },
  {
   "cell_type": "code",
   "execution_count": 5,
   "metadata": {},
   "outputs": [
    {
     "name": "stdout",
     "output_type": "stream",
     "text": [
      "sis100ring: sequence, l = 1083.6;\r",
      "\r\n",
      "endsequence;\r",
      "\r\n"
     ]
    }
   ],
   "source": [
    "!grep \"sequence\" ./SIS100_RF_220618_9slices.thin.seq"
   ]
  },
  {
   "cell_type": "code",
   "execution_count": 6,
   "metadata": {},
   "outputs": [
    {
     "name": "stdout",
     "output_type": "stream",
     "text": [
      "++++++ warning: implicit element re-definition ignored: startpoint\n",
      "++++++ warning: implicit element re-definition ignored: sector_1\n",
      "++++++ warning: implicit element re-definition ignored: cell_11\n",
      "++++++ warning: implicit element re-definition ignored: s11hcb1s_en\n",
      "++++++ warning: implicit element re-definition ignored: s11hcb1s_ex\n",
      "++++++ warning: implicit element re-definition ignored: cell_12\n",
      "++++++ warning: implicit element re-definition ignored: s12hcscv_en\n",
      "++++++ warning: implicit element re-definition ignored: s12hcscv_ex\n",
      "++++++ warning: implicit element re-definition ignored: s12hcsb2s_en\n",
      "++++++ warning: implicit element re-definition ignored: s12hcsb2s_ex\n",
      "++++++ warning: implicit element re-definition ignored: cell_13\n",
      "++++++ warning: implicit element re-definition ignored: cell_14\n",
      "++++++ warning: implicit element re-definition ignored: s14km1\n",
      "++++++ warning: implicit element re-definition ignored: cell_15\n",
      "++++++ warning: implicit element re-definition ignored: s15ds1_en\n",
      "++++++ warning: implicit element re-definition ignored: s15ds1_ex\n",
      "++++++ warning: implicit element re-definition ignored: cell_16\n",
      "++++++ warning: implicit element re-definition ignored: s16ds1_en\n",
      "++++++ warning: implicit element re-definition ignored: s16ds1_ex\n",
      "++++++ warning: implicit element re-definition ignored: cell_17\n",
      "++++++ warning: implicit element re-definition ignored: s17ds1_en\n",
      "++++++ warning: implicit element re-definition ignored: s17ds1_ex\n",
      "++++++ warning: implicit element re-definition ignored: cell_18\n",
      "++++++ warning: implicit element re-definition ignored: s18ds1_en\n",
      "++++++ warning: implicit element re-definition ignored: s18ds1_ex\n",
      "++++++ warning: implicit element re-definition ignored: cell_19\n",
      "++++++ warning: implicit element re-definition ignored: s19ds1_en\n",
      "++++++ warning: implicit element re-definition ignored: s19ds1_ex\n",
      "++++++ warning: implicit element re-definition ignored: cell_1a\n",
      "++++++ warning: implicit element re-definition ignored: s1ads1_en\n",
      "++++++ warning: implicit element re-definition ignored: s1ads1_ex\n",
      "++++++ warning: implicit element re-definition ignored: cell_1b\n",
      "++++++ warning: implicit element re-definition ignored: s1bds1_en\n",
      "++++++ warning: implicit element re-definition ignored: s1bds1_ex\n",
      "++++++ warning: implicit element re-definition ignored: cell_1c\n",
      "++++++ warning: implicit element re-definition ignored: s1cds1_en\n",
      "++++++ warning: implicit element re-definition ignored: s1cds1_ex\n",
      "++++++ warning: implicit element re-definition ignored: cell_1d\n",
      "++++++ warning: implicit element re-definition ignored: s1dds1_en\n",
      "++++++ warning: implicit element re-definition ignored: s1dds1_ex\n",
      "++++++ warning: implicit element re-definition ignored: cell_1e\n",
      "++++++ warning: implicit element re-definition ignored: s1ekm1\n",
      "++++++ warning: implicit element re-definition ignored: s1eds1_en\n",
      "++++++ warning: implicit element re-definition ignored: s1eds1_ex\n",
      "++++++ warning: implicit element re-definition ignored: sector_2\n",
      "++++++ warning: implicit element re-definition ignored: cell_21\n",
      "++++++ warning: implicit element re-definition ignored: cell_22\n",
      "++++++ warning: implicit element re-definition ignored: cell_23\n",
      "++++++ warning: implicit element re-definition ignored: cell_24\n",
      "++++++ warning: implicit element re-definition ignored: s24km1\n",
      "++++++ warning: implicit element re-definition ignored: cell_25\n",
      "++++++ warning: implicit element re-definition ignored: s25ds1_en\n",
      "++++++ warning: implicit element re-definition ignored: s25ds1_ex\n",
      "++++++ warning: implicit element re-definition ignored: cell_26\n",
      "++++++ warning: implicit element re-definition ignored: s26ds1_en\n",
      "++++++ warning: implicit element re-definition ignored: s26ds1_ex\n",
      "++++++ warning: implicit element re-definition ignored: cell_27\n",
      "++++++ warning: implicit element re-definition ignored: s27ds1_en\n",
      "++++++ warning: implicit element re-definition ignored: s27ds1_ex\n",
      "++++++ warning: implicit element re-definition ignored: cell_28\n",
      "++++++ warning: implicit element re-definition ignored: s28ds1_en\n",
      "++++++ warning: implicit element re-definition ignored: s28ds1_ex\n",
      "++++++ warning: implicit element re-definition ignored: cell_29\n",
      "++++++ warning: implicit element re-definition ignored: s29ds1_en\n",
      "++++++ warning: implicit element re-definition ignored: s29ds1_ex\n",
      "++++++ warning: implicit element re-definition ignored: cell_2a\n",
      "++++++ warning: implicit element re-definition ignored: s2ads1_en\n",
      "++++++ warning: implicit element re-definition ignored: s2ads1_ex\n",
      "++++++ warning: implicit element re-definition ignored: cell_2b\n",
      "++++++ warning: implicit element re-definition ignored: s2bds1_en\n",
      "++++++ warning: implicit element re-definition ignored: s2bds1_ex\n",
      "++++++ warning: implicit element re-definition ignored: cell_2c\n",
      "++++++ warning: implicit element re-definition ignored: s2cds1_en\n",
      "++++++ warning: implicit element re-definition ignored: s2cds1_ex\n",
      "++++++ warning: implicit element re-definition ignored: cell_2d\n",
      "++++++ warning: implicit element re-definition ignored: s2dds1_en\n",
      "++++++ warning: implicit element re-definition ignored: s2dds1_ex\n",
      "++++++ warning: implicit element re-definition ignored: cell_2e\n",
      "++++++ warning: implicit element re-definition ignored: s2ekm1\n",
      "++++++ warning: implicit element re-definition ignored: s2eds1_en\n",
      "++++++ warning: implicit element re-definition ignored: s2eds1_ex\n",
      "++++++ warning: implicit element re-definition ignored: sector_3\n",
      "++++++ warning: implicit element re-definition ignored: cell_31\n",
      "++++++ warning: implicit element re-definition ignored: cell_32\n",
      "++++++ warning: implicit element re-definition ignored: cell_33\n",
      "++++++ warning: implicit element re-definition ignored: cell_34\n",
      "++++++ warning: implicit element re-definition ignored: s34km1\n",
      "++++++ warning: implicit element re-definition ignored: cell_35\n",
      "++++++ warning: implicit element re-definition ignored: s35ds1_en\n",
      "++++++ warning: implicit element re-definition ignored: s35ds1_ex\n",
      "++++++ warning: implicit element re-definition ignored: cell_36\n",
      "++++++ warning: implicit element re-definition ignored: s36ds1_en\n",
      "++++++ warning: implicit element re-definition ignored: s36ds1_ex\n",
      "++++++ warning: implicit element re-definition ignored: cell_37\n",
      "++++++ warning: implicit element re-definition ignored: s37ds1_en\n",
      "++++++ warning: implicit element re-definition ignored: s37ds1_ex\n",
      "++++++ warning: implicit element re-definition ignored: cell_38\n",
      "++++++ warning: implicit element re-definition ignored: s38ds1_en\n",
      "++++++ warning: implicit element re-definition ignored: s38ds1_ex\n",
      "++++++ warning: implicit element re-definition ignored: cell_39\n",
      "++++++ warning: implicit element re-definition ignored: s39ds1_en\n",
      "++++++ warning: implicit element re-definition ignored: s39ds1_ex\n",
      "++++++ warning: implicit element re-definition ignored: cell_3a\n",
      "++++++ warning: implicit element re-definition ignored: s3ads1_en\n",
      "++++++ warning: implicit element re-definition ignored: s3ads1_ex\n",
      "++++++ warning: implicit element re-definition ignored: cell_3b\n",
      "++++++ warning: implicit element re-definition ignored: s3bds1_en\n",
      "++++++ warning: implicit element re-definition ignored: s3bds1_ex\n",
      "++++++ warning: implicit element re-definition ignored: cell_3c\n",
      "++++++ warning: implicit element re-definition ignored: s3cds1_en\n",
      "++++++ warning: implicit element re-definition ignored: s3cds1_ex\n",
      "++++++ warning: implicit element re-definition ignored: cell_3d\n",
      "++++++ warning: implicit element re-definition ignored: s3dds1_en\n",
      "++++++ warning: implicit element re-definition ignored: s3dds1_ex\n",
      "++++++ warning: implicit element re-definition ignored: cell_3e\n",
      "++++++ warning: implicit element re-definition ignored: s3ekm1\n",
      "++++++ warning: implicit element re-definition ignored: s3eds1_en\n",
      "++++++ warning: implicit element re-definition ignored: s3eds1_ex\n",
      "++++++ warning: implicit element re-definition ignored: sector_4\n",
      "++++++ warning: implicit element re-definition ignored: cell_41\n",
      "++++++ warning: implicit element re-definition ignored: cell_42\n",
      "++++++ warning: implicit element re-definition ignored: cell_43\n",
      "++++++ warning: implicit element re-definition ignored: cell_44\n",
      "++++++ warning: implicit element re-definition ignored: s44km1\n",
      "++++++ warning: implicit element re-definition ignored: cell_45\n",
      "++++++ warning: implicit element re-definition ignored: s45ds1_en\n",
      "++++++ warning: implicit element re-definition ignored: s45ds1_ex\n",
      "++++++ warning: implicit element re-definition ignored: cell_46\n",
      "++++++ warning: implicit element re-definition ignored: s46ds1_en\n",
      "++++++ warning: implicit element re-definition ignored: s46ds1_ex\n",
      "++++++ warning: implicit element re-definition ignored: cell_47\n",
      "++++++ warning: implicit element re-definition ignored: s47ds1_en\n",
      "++++++ warning: implicit element re-definition ignored: s47ds1_ex\n",
      "++++++ warning: implicit element re-definition ignored: cell_48\n",
      "++++++ warning: implicit element re-definition ignored: s48ds1_en\n",
      "++++++ warning: implicit element re-definition ignored: s48ds1_ex\n",
      "++++++ warning: implicit element re-definition ignored: cell_49\n",
      "++++++ warning: implicit element re-definition ignored: s49ds1_en\n",
      "++++++ warning: implicit element re-definition ignored: s49ds1_ex\n",
      "++++++ warning: implicit element re-definition ignored: cell_4a\n",
      "++++++ warning: implicit element re-definition ignored: s4ads1_en\n",
      "++++++ warning: implicit element re-definition ignored: s4ads1_ex\n",
      "++++++ warning: implicit element re-definition ignored: cell_4b\n",
      "++++++ warning: implicit element re-definition ignored: s4bds1_en\n",
      "++++++ warning: implicit element re-definition ignored: s4bds1_ex\n",
      "++++++ warning: implicit element re-definition ignored: cell_4c\n",
      "++++++ warning: implicit element re-definition ignored: s4cds1_en\n",
      "++++++ warning: implicit element re-definition ignored: s4cds1_ex\n",
      "++++++ warning: implicit element re-definition ignored: cell_4d\n",
      "++++++ warning: implicit element re-definition ignored: s4dds1_en\n",
      "++++++ warning: implicit element re-definition ignored: s4dds1_ex\n",
      "++++++ warning: implicit element re-definition ignored: cell_4e\n",
      "++++++ warning: implicit element re-definition ignored: s4ekm1\n",
      "++++++ warning: implicit element re-definition ignored: s4eds1_en\n",
      "++++++ warning: implicit element re-definition ignored: s4eds1_ex\n",
      "++++++ warning: implicit element re-definition ignored: sector_5\n",
      "++++++ warning: implicit element re-definition ignored: cell_51\n",
      "++++++ warning: implicit element re-definition ignored: cell_52\n",
      "++++++ warning: implicit element re-definition ignored: s52hcb1s_en\n",
      "++++++ warning: implicit element re-definition ignored: s52hcb1s_ex\n",
      "++++++ warning: implicit element re-definition ignored: cell_53\n",
      "++++++ warning: implicit element re-definition ignored: cell_54\n",
      "++++++ warning: implicit element re-definition ignored: s54km1\n",
      "++++++ warning: implicit element re-definition ignored: cell_55\n",
      "++++++ warning: implicit element re-definition ignored: s55ds1_en\n",
      "++++++ warning: implicit element re-definition ignored: s55ds1_ex\n",
      "++++++ warning: implicit element re-definition ignored: cell_56\n",
      "++++++ warning: implicit element re-definition ignored: s56ds1_en\n",
      "++++++ warning: implicit element re-definition ignored: s56ds1_ex\n",
      "++++++ warning: implicit element re-definition ignored: cell_57\n",
      "++++++ warning: implicit element re-definition ignored: s57ds1_en\n",
      "++++++ warning: implicit element re-definition ignored: s57ds1_ex\n",
      "++++++ warning: implicit element re-definition ignored: cell_58\n",
      "++++++ warning: implicit element re-definition ignored: s58ds1_en\n",
      "++++++ warning: implicit element re-definition ignored: s58ds1_ex\n",
      "++++++ warning: implicit element re-definition ignored: cell_59\n",
      "++++++ warning: implicit element re-definition ignored: s59ds1_en\n",
      "++++++ warning: implicit element re-definition ignored: s59ds1_ex\n",
      "++++++ warning: implicit element re-definition ignored: cell_5a\n",
      "++++++ warning: implicit element re-definition ignored: s5ads1_en\n",
      "++++++ warning: implicit element re-definition ignored: s5ads1_ex\n",
      "++++++ warning: implicit element re-definition ignored: cell_5b\n",
      "++++++ warning: implicit element re-definition ignored: s5bds1_en\n",
      "++++++ warning: implicit element re-definition ignored: s5bds1_ex\n",
      "++++++ warning: implicit element re-definition ignored: cell_5c\n",
      "++++++ warning: implicit element re-definition ignored: s5cds1_en\n",
      "++++++ warning: implicit element re-definition ignored: s5cds1_ex\n",
      "++++++ warning: implicit element re-definition ignored: cell_5d\n",
      "++++++ warning: implicit element re-definition ignored: s5dds1_en\n",
      "++++++ warning: implicit element re-definition ignored: s5dds1_ex\n",
      "++++++ warning: implicit element re-definition ignored: cell_5e\n",
      "++++++ warning: implicit element re-definition ignored: s5ekm1\n",
      "++++++ warning: implicit element re-definition ignored: s5eds1_en\n",
      "++++++ warning: implicit element re-definition ignored: s5eds1_ex\n",
      "++++++ warning: implicit element re-definition ignored: sector_6\n",
      "++++++ warning: implicit element re-definition ignored: cell_61\n",
      "++++++ warning: implicit element re-definition ignored: cell_62\n",
      "++++++ warning: implicit element re-definition ignored: cell_63\n",
      "++++++ warning: implicit element re-definition ignored: cell_64\n",
      "++++++ warning: implicit element re-definition ignored: s64km1\n",
      "++++++ warning: implicit element re-definition ignored: cell_65\n",
      "++++++ warning: implicit element re-definition ignored: s65ds1_en\n",
      "++++++ warning: implicit element re-definition ignored: s65ds1_ex\n",
      "++++++ warning: implicit element re-definition ignored: cell_66\n",
      "++++++ warning: implicit element re-definition ignored: s66ds1_en\n",
      "++++++ warning: implicit element re-definition ignored: s66ds1_ex\n",
      "++++++ warning: implicit element re-definition ignored: cell_67\n",
      "++++++ warning: implicit element re-definition ignored: s67ds1_en\n",
      "++++++ warning: implicit element re-definition ignored: s67ds1_ex\n",
      "++++++ warning: implicit element re-definition ignored: cell_68\n",
      "++++++ warning: implicit element re-definition ignored: s68ds1_en\n",
      "++++++ warning: implicit element re-definition ignored: s68ds1_ex\n",
      "++++++ warning: implicit element re-definition ignored: cell_69\n",
      "++++++ warning: implicit element re-definition ignored: s69ds1_en\n",
      "++++++ warning: implicit element re-definition ignored: s69ds1_ex\n",
      "++++++ warning: implicit element re-definition ignored: cell_6a\n",
      "++++++ warning: implicit element re-definition ignored: s6ads1_en\n",
      "++++++ warning: implicit element re-definition ignored: s6ads1_ex\n",
      "++++++ warning: implicit element re-definition ignored: cell_6b\n",
      "++++++ warning: implicit element re-definition ignored: s6bds1_en\n",
      "++++++ warning: implicit element re-definition ignored: s6bds1_ex\n",
      "++++++ warning: implicit element re-definition ignored: cell_6c\n",
      "++++++ warning: implicit element re-definition ignored: s6cds1_en\n",
      "++++++ warning: implicit element re-definition ignored: s6cds1_ex\n",
      "++++++ warning: implicit element re-definition ignored: cell_6d\n",
      "++++++ warning: implicit element re-definition ignored: s6dds1_en\n",
      "++++++ warning: implicit element re-definition ignored: s6dds1_ex\n",
      "++++++ warning: implicit element re-definition ignored: cell_6e\n",
      "++++++ warning: implicit element re-definition ignored: s6ekm1\n",
      "++++++ warning: implicit element re-definition ignored: s6eds1_en\n",
      "++++++ warning: implicit element re-definition ignored: s6eds1_ex\n",
      "++++++ warning: implicit element re-definition ignored: end\n"
     ]
    }
   ],
   "source": [
    "madx.call('./SIS100_RF_220618_9slices.thin.seq')"
   ]
  },
  {
   "cell_type": "code",
   "execution_count": 7,
   "metadata": {},
   "outputs": [],
   "source": [
    "from scipy.constants import physical_constants"
   ]
  },
  {
   "cell_type": "code",
   "execution_count": 8,
   "metadata": {},
   "outputs": [],
   "source": [
    "nmass = physical_constants['atomic mass constant energy equivalent in MeV'][0] * 1e-3\n",
    "nmass = 0.931494061 # MAD-X value"
   ]
  },
  {
   "cell_type": "code",
   "execution_count": 9,
   "metadata": {},
   "outputs": [
    {
     "data": {
      "text/plain": [
       "True"
      ]
     },
     "execution_count": 9,
     "metadata": {},
     "output_type": "execute_result"
    }
   ],
   "source": [
    "madx.command.beam(particle='ion', mass=238*nmass, charge=28, energy=238*0.2+238*nmass)"
   ]
  },
  {
   "cell_type": "code",
   "execution_count": 10,
   "metadata": {},
   "outputs": [
    {
     "name": "stdout",
     "output_type": "stream",
     "text": [
      "++++++ warning: ignored: attempt to redefine constant: lqd\n",
      "++++++ info: harmonic_number redefined\n",
      "++++++ info: cavity_voltage redefined\n",
      "++++++ info: k0sl_mke1 redefined\n",
      "++++++ info: k0sl_s51mk1e redefined\n",
      "++++++ info: k0sl_s52mk1e redefined\n",
      "++++++ info: k0sl_s53mk1e redefined\n",
      "++++++ info: k0sl_mke2 redefined\n",
      "++++++ info: k0sl_s51mk2e redefined\n",
      "++++++ info: k0sl_s52mk2e redefined\n",
      "++++++ info: k0sl_s53mk2e redefined\n",
      "++++++ info: k0sl_mke3 redefined\n",
      "++++++ info: k0sl_s51mk3e redefined\n",
      "++++++ info: k0sl_s53mk3e redefined\n",
      "++++++ info: kqd redefined\n",
      "++++++ info: kqf redefined\n",
      "++++++ info: k1nl_s00qd1d redefined\n",
      "++++++ info: k1nl_s00qd1f redefined\n",
      "++++++ info: k1nl_s00qd2f redefined\n",
      "++++++ info: k1nl_s52qd11 redefined\n",
      "++++++ info: k1nl_s52qd12 redefined\n",
      "++++++ info: k2nl_kse redefined\n",
      "++++++ info: k2nl_s14ks1e redefined\n",
      "++++++ info: k2nl_s24ks1e redefined\n",
      "++++++ info: k2nl_s34ks1e redefined\n",
      "++++++ info: k2nl_s44ks1e redefined\n",
      "++++++ info: k2nl_s54ks1e redefined\n",
      "++++++ info: k2nl_s64ks1e redefined\n",
      "++++++ info: k2nl_ksch redefined\n",
      "++++++ info: k2nl_kscv redefined\n",
      "++++++ info: k2nl_s16ks1ch redefined\n",
      "++++++ info: k2nl_s26ks1ch redefined\n",
      "++++++ info: k2nl_s36ks1ch redefined\n",
      "++++++ info: k2nl_s46ks1ch redefined\n",
      "++++++ info: k2nl_s56ks1ch redefined\n",
      "++++++ info: k2nl_s66ks1ch redefined\n",
      "++++++ info: k2nl_s18ks1ch redefined\n",
      "++++++ info: k2nl_s28ks1ch redefined\n",
      "++++++ info: k2nl_s38ks1ch redefined\n",
      "++++++ info: k2nl_s48ks1ch redefined\n",
      "++++++ info: k2nl_s58ks1ch redefined\n",
      "++++++ info: k2nl_s68ks1ch redefined\n",
      "++++++ info: k2nl_s1aks1ch redefined\n",
      "++++++ info: k2nl_s2aks1ch redefined\n",
      "++++++ info: k2nl_s3aks1ch redefined\n",
      "++++++ info: k2nl_s4aks1ch redefined\n",
      "++++++ info: k2nl_s5aks1ch redefined\n",
      "++++++ info: k2nl_s6aks1ch redefined\n",
      "++++++ info: k2nl_s1cks1ch redefined\n",
      "++++++ info: k2nl_s2cks1ch redefined\n",
      "++++++ info: k2nl_s3cks1ch redefined\n",
      "++++++ info: k2nl_s4cks1ch redefined\n",
      "++++++ info: k2nl_s5cks1ch redefined\n",
      "++++++ info: k2nl_s6cks1ch redefined\n",
      "++++++ info: k2nl_s15ks1cv redefined\n",
      "++++++ info: k2nl_s25ks1cv redefined\n",
      "++++++ info: k2nl_s35ks1cv redefined\n",
      "++++++ info: k2nl_s45ks1cv redefined\n",
      "++++++ info: k2nl_s55ks1cv redefined\n",
      "++++++ info: k2nl_s65ks1cv redefined\n",
      "++++++ info: k2nl_s17ks1cv redefined\n",
      "++++++ info: k2nl_s27ks1cv redefined\n",
      "++++++ info: k2nl_s37ks1cv redefined\n",
      "++++++ info: k2nl_s47ks1cv redefined\n",
      "++++++ info: k2nl_s57ks1cv redefined\n",
      "++++++ info: k2nl_s67ks1cv redefined\n",
      "++++++ info: k2nl_s1bks1cv redefined\n",
      "++++++ info: k2nl_s2bks1cv redefined\n",
      "++++++ info: k2nl_s3bks1cv redefined\n",
      "++++++ info: k2nl_s4bks1cv redefined\n",
      "++++++ info: k2nl_s5bks1cv redefined\n",
      "++++++ info: k2nl_s6bks1cv redefined\n"
     ]
    }
   ],
   "source": [
    "madx.call('./OpticsYEH_BeamParameters.str')"
   ]
  },
  {
   "cell_type": "code",
   "execution_count": 11,
   "metadata": {},
   "outputs": [],
   "source": [
    "#madx.call('Coll+Errors+BeamDistr.madx')"
   ]
  },
  {
   "cell_type": "code",
   "execution_count": 12,
   "metadata": {},
   "outputs": [],
   "source": [
    "#madx.call('Beam, sequence=SIS100RING, particle=U28, charge=charge_proj, mass=mass_proj, energy=energy_tot;')"
   ]
  },
  {
   "cell_type": "code",
   "execution_count": 13,
   "metadata": {},
   "outputs": [],
   "source": [
    "madx.use(sequence='sis100ring')"
   ]
  },
  {
   "cell_type": "code",
   "execution_count": 14,
   "metadata": {},
   "outputs": [],
   "source": [
    "#madx.call(file='track-noSpCh.madx')"
   ]
  },
  {
   "cell_type": "code",
   "execution_count": 15,
   "metadata": {},
   "outputs": [
    {
     "name": "stdout",
     "output_type": "stream",
     "text": [
      "START MATCHING\n",
      "\n",
      "number of sequences: 1\n",
      "sequence name: sis100ring\n",
      "number of variables:    2\n",
      "user given constraints: 2\n",
      "total constraints:      2\n",
      "\n",
      "START LMDIF:\n",
      "\n",
      "\n",
      "MATCH SUMMARY\n",
      "\n",
      "Node_Name                  Constraint   Type  Target Value       Final Value        Penalty\n",
      "--------------------------------------------------------------------------------------------------\n",
      "\n",
      "\n",
      "Final Penalty Function =   8.49283167e-16\n",
      "\n",
      "\n",
      "\n",
      "\n",
      "\n",
      "Variable                 Final Value  Initial Value Lower Limit  Upper Limit \n",
      "--------------------------------------------------------------------------------\n",
      "kqf                       2.80997e-01  2.81571e-01 -1.00000e+20  1.00000e+20\n",
      "kqd                      -2.79858e-01 -2.80616e-01 -1.00000e+20  1.00000e+20\n",
      "\n",
      "END MATCH SUMMARY\n",
      "\n",
      "VARIABLE \"TAR\" SET TO   8.49283167e-16\n"
     ]
    },
    {
     "data": {
      "text/plain": [
       "True"
      ]
     },
     "execution_count": 15,
     "metadata": {},
     "output_type": "execute_result"
    }
   ],
   "source": [
    "madx.input('''\n",
    "match, sequence=SIS100RING;\n",
    "global, sequence=SIS100RING, q1=18+0.84, q2=18+0.73;\n",
    "vary, name=kqf, step=0.00001;\n",
    "vary, name=kqd, step=0.00001;\n",
    "lmdif, calls=500, tolerance=1.0e-10;\n",
    "endmatch;\n",
    "''')"
   ]
  },
  {
   "cell_type": "code",
   "execution_count": 37,
   "metadata": {},
   "outputs": [
    {
     "name": "stdout",
     "output_type": "stream",
     "text": [
      "enter Twiss module\n",
      "\n",
      "++++++ table: summ\n",
      "\n",
      "            length             orbit5               alfa            gammatr \n",
      "            1083.6                 -0     0.003976364178        15.85831075 \n",
      "\n",
      "                q1                dq1            betxmax              dxmax \n",
      "       18.93447532       -39.84761629        20.36418065        2.974829662 \n",
      "\n",
      "             dxrms             xcomax             xcorms                 q2 \n",
      "       1.334406864                  0                  0        18.63571542 \n",
      "\n",
      "               dq2            betymax              dymax              dyrms \n",
      "      -39.79029215        21.84969014                  0                  0 \n",
      "\n",
      "            ycomax             ycorms             deltap            synch_1 \n",
      "                 0                  0                  0                  0 \n",
      "\n",
      "           synch_2            synch_3            synch_4            synch_5 \n",
      "                 0                  0                  0                  0 \n",
      "\n",
      "            nflips \n",
      "                 0 \n"
     ]
    }
   ],
   "source": [
    "twiss = madx.twiss();"
   ]
  },
  {
   "cell_type": "code",
   "execution_count": 18,
   "metadata": {},
   "outputs": [],
   "source": [
    "madx.use(sequence='SIS100RING')"
   ]
  },
  {
   "cell_type": "code",
   "execution_count": 19,
   "metadata": {},
   "outputs": [
    {
     "name": "stdout",
     "output_type": "stream",
     "text": [
      "++++++ info: seqedit - number of elements installed:  0\n",
      "++++++ info: seqedit - number of elements moved:      0\n",
      "++++++ info: seqedit - number of elements removed:    1631\n",
      "++++++ info: seqedit - number of elements replaced:   0\n",
      "++++++ warning: ignored, unknown command or element: (null)\n",
      "++++++ info: seqedit - number of elements installed:  0\n",
      "++++++ info: seqedit - number of elements moved:      0\n",
      "++++++ info: seqedit - number of elements removed:    272\n",
      "++++++ info: seqedit - number of elements replaced:   0\n"
     ]
    },
    {
     "data": {
      "text/plain": [
       "True"
      ]
     },
     "execution_count": 19,
     "metadata": {},
     "output_type": "execute_result"
    }
   ],
   "source": [
    "madx.input('''\n",
    "select, flag=seqedit, class=instrument;\n",
    "select, flag=seqedit, class=collimator;\n",
    "select, flag=seqedit, class=hmonitor;\n",
    "select, flag=seqedit, class=vmonitor;\n",
    "select, flag=seqedit, class=kicker;\n",
    "select, flag=seqedit, class=tkicker;\n",
    "select, flag=seqedit, class=dipedge;\n",
    "select, flag=seqedit, class=elseparator;\n",
    "\n",
    "seqedit, sequence=SIS100RING;\n",
    "    remove, element=selected;\n",
    "    flatten;\n",
    "endedit;\n",
    "\n",
    "select, flag=seqedit, class=marker;\n",
    "seqedit, sequence=SIS100RING;\n",
    "    remove, element=selected;\n",
    "    install, element=SIS100RING$START, s=0;\n",
    "    flatten;\n",
    "endedit;\n",
    "''')"
   ]
  },
  {
   "cell_type": "code",
   "execution_count": 20,
   "metadata": {},
   "outputs": [],
   "source": [
    "madx.use(sequence='SIS100RING')"
   ]
  },
  {
   "cell_type": "code",
   "execution_count": 59,
   "metadata": {},
   "outputs": [],
   "source": [
    "sis100 = madx.sequence.sis100ring"
   ]
  },
  {
   "cell_type": "code",
   "execution_count": 22,
   "metadata": {},
   "outputs": [
    {
     "data": {
      "text/plain": [
       "['marker', 'marker']"
      ]
     },
     "execution_count": 22,
     "metadata": {},
     "output_type": "execute_result"
    }
   ],
   "source": [
    "[f.name for f in map(lambda x: x.base_type, sis100.expanded_elements) \n",
    " if 'drift' != f.name and 'multipole' != f.name and 'rfcavity' != f.name]"
   ]
  },
  {
   "cell_type": "code",
   "execution_count": 72,
   "metadata": {},
   "outputs": [],
   "source": [
    "elements = pyst.Elements.from_mad(sis100)"
   ]
  },
  {
   "cell_type": "code",
   "execution_count": 25,
   "metadata": {},
   "outputs": [
    {
     "data": {
      "text/plain": [
       "3607"
      ]
     },
     "execution_count": 25,
     "metadata": {},
     "output_type": "execute_result"
    }
   ],
   "source": [
    "len(elements.get_elements())"
   ]
  },
  {
   "cell_type": "code",
   "execution_count": 73,
   "metadata": {},
   "outputs": [],
   "source": [
    "nturns = 2**16\n",
    "elements.BeamMonitor(num_stores=nturns);"
   ]
  },
  {
   "cell_type": "code",
   "execution_count": 74,
   "metadata": {},
   "outputs": [],
   "source": [
    "p0c = 238*0.2 * 1e9"
   ]
  },
  {
   "cell_type": "code",
   "execution_count": 75,
   "metadata": {},
   "outputs": [],
   "source": [
    "npart = 1\n",
    "particles = pyst.Particles.from_ref(npart, p0c=p0c)"
   ]
  },
  {
   "cell_type": "code",
   "execution_count": 76,
   "metadata": {},
   "outputs": [],
   "source": [
    "particles.x += 1e-6\n",
    "particles.y += 1e-6"
   ]
  },
  {
   "cell_type": "code",
   "execution_count": 77,
   "metadata": {},
   "outputs": [],
   "source": [
    "job = pyst.TrackJob(elements, particles)"
   ]
  },
  {
   "cell_type": "code",
   "execution_count": 78,
   "metadata": {},
   "outputs": [
    {
     "data": {
      "text/plain": [
       "0"
      ]
     },
     "execution_count": 78,
     "metadata": {},
     "output_type": "execute_result"
    }
   ],
   "source": [
    "job.track(nturns)"
   ]
  },
  {
   "cell_type": "code",
   "execution_count": 79,
   "metadata": {},
   "outputs": [],
   "source": [
    "rec_x = job.output.particles[0].x\n",
    "rec_y = job.output.particles[0].y"
   ]
  },
  {
   "cell_type": "code",
   "execution_count": 98,
   "metadata": {},
   "outputs": [
    {
     "data": {
      "text/plain": [
       "[<matplotlib.lines.Line2D at 0x7f45445a92e8>]"
      ]
     },
     "execution_count": 98,
     "metadata": {},
     "output_type": "execute_result"
    },
    {
     "data": {
      "image/png": "[encoded data removed]",
      "text/plain": [
       "<Figure size 432x288 with 1 Axes>"
      ]
     },
     "metadata": {},
     "output_type": "display_data"
    }
   ],
   "source": [
    "plt.plot(rec_x)\n",
    "plt.plot(rec_y)"
   ]
  },
  {
   "cell_type": "code",
   "execution_count": 81,
   "metadata": {},
   "outputs": [],
   "source": [
    "Qx = twiss.summary['q1']\n",
    "qx = Qx % 1\n",
    "qx = qx if qx < 0.5 else 1 - qx\n",
    "\n",
    "Qy = twiss.summary['q2']\n",
    "qy = Qy % 1\n",
    "qy = qy if qy < 0.5 else 1 - qy"
   ]
  },
  {
   "cell_type": "code",
   "execution_count": 107,
   "metadata": {},
   "outputs": [
    {
     "data": {
      "image/png": "[encoded data removed]",
      "text/plain": [
       "<Figure size 1080x360 with 2 Axes>"
      ]
     },
     "metadata": {},
     "output_type": "display_data"
    }
   ],
   "source": [
    "fig, ax = plt.subplots(1, 2, figsize=(15, 5))\n",
    "\n",
    "plt.sca(ax[0])\n",
    "plt.title('horizontal plane')\n",
    "plt.plot(\n",
    "    np.fft.rfftfreq(len(rec_x)),\n",
    "    np.abs(np.fft.rfft(rec_x)),\n",
    "    label=r'spectrum $x$ in PySTL'\n",
    ")\n",
    "plt.axvline(qx, color='darkorange', zorder=-1,\n",
    "            label='TWISS tune $(1-q_x)$')\n",
    "plt.xlim(qx - 0.0005, qx + 0.002)\n",
    "plt.legend()\n",
    "\n",
    "plt.sca(ax[1])\n",
    "plt.title('vertical plane')\n",
    "plt.plot(\n",
    "    np.fft.rfftfreq(len(rec_y)),\n",
    "    np.abs(np.fft.rfft(rec_y)),\n",
    "    label=r'spectrum $y$ in PySTL'\n",
    ")\n",
    "plt.axvline(qy, color='darkorange', zorder=-1,\n",
    "            label='TWISS tune $(1-q_y)$')\n",
    "plt.xlim(qy - 0.0005, qy + 0.002)\n",
    "plt.legend()\n",
    "\n",
    "plt.suptitle('SIS100: single particle tracking in PySixTrackLib', y=1.06)\n",
    "plt.savefig('./pystl_sis100_tunes.pdf', bbox_inches='tight')"
   ]
  },
  {
   "cell_type": "code",
   "execution_count": null,
   "metadata": {},
   "outputs": [],
   "source": []
  }
 ],
 "metadata": {
  "kernelspec": {
   "display_name": "Python 3",
   "language": "python",
   "name": "python3"
  },
  "language_info": {
   "codemirror_mode": {
    "name": "ipython",
    "version": 3
   },
   "file_extension": ".py",
   "mimetype": "text/x-python",
   "name": "python",
   "nbconvert_exporter": "python",
   "pygments_lexer": "ipython3",
   "version": "3.7.1"
  }
 },
 "nbformat": 4,
 "nbformat_minor": 2
}
