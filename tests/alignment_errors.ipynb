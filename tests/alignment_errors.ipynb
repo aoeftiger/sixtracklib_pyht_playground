{
 "cells": [
  {
   "cell_type": "code",
   "execution_count": 1,
   "metadata": {},
   "outputs": [],
   "source": [
    "import numpy as np\n",
    "import matplotlib.pyplot as plt\n",
    "%matplotlib inline\n",
    "\n",
    "import seaborn as sns\n",
    "sns.set_context('talk', font_scale=1.2, rc={'lines.linewidth': 3})\n",
    "sns.set_style('whitegrid',\n",
    "              {'grid.linestyle': ':', 'grid.color': 'red', 'axes.edgecolor': '0.5',\n",
    "               'axes.linewidth': 1.2, 'legend.frameon': True})"
   ]
  },
  {
   "cell_type": "code",
   "execution_count": 2,
   "metadata": {},
   "outputs": [],
   "source": [
    "from scipy.constants import m_p, c, e"
   ]
  },
  {
   "cell_type": "code",
   "execution_count": 3,
   "metadata": {},
   "outputs": [],
   "source": [
    "from cpymad.madx import Madx\n",
    "\n",
    "import sixtracklib as pyst\n",
    "import pysixtrack"
   ]
  },
  {
   "cell_type": "markdown",
   "metadata": {},
   "source": [
    "# I. MAD-X part"
   ]
  },
  {
   "cell_type": "code",
   "execution_count": 4,
   "metadata": {},
   "outputs": [
    {
     "name": "stdout",
     "output_type": "stream",
     "text": [
      "\n",
      "  ++++++++++++++++++++++++++++++++++++++++++++\n",
      "  +     MAD-X 5.05.01  (64 bit, Linux)       +\n",
      "  + Support: mad@cern.ch, http://cern.ch/mad +\n",
      "  + Release   date: 2019.06.07               +\n",
      "  + Execution date: 2019.10.09 18:22:30      +\n",
      "  ++++++++++++++++++++++++++++++++++++++++++++\n"
     ]
    }
   ],
   "source": [
    "madx = Madx()\n",
    "madx.options.echo = False\n",
    "madx.options.warn = False\n",
    "madx.options.info = False"
   ]
  },
  {
   "cell_type": "code",
   "execution_count": 5,
   "metadata": {},
   "outputs": [],
   "source": [
    "p0c = 1e9 # in eV\n",
    "Etot = np.sqrt(p0c**2 + (m_p/e)**2 * c**4) * 1e-9 # in GeV"
   ]
  },
  {
   "cell_type": "markdown",
   "metadata": {},
   "source": [
    "Define a simple sequence in MAD-X:"
   ]
  },
  {
   "cell_type": "code",
   "execution_count": 6,
   "metadata": {},
   "outputs": [],
   "source": [
    "madx.input('''\n",
    "qd: multipole, knl := {0, 0.1};\n",
    "\n",
    "line: sequence, l = 1;\n",
    "qd, at = 0.5;\n",
    "endsequence;\n",
    "''')\n",
    "\n",
    "madx.command.beam(particle='proton', energy=Etot) # energy in GeV\n",
    "\n",
    "madx.use(sequence='line')"
   ]
  },
  {
   "cell_type": "markdown",
   "metadata": {},
   "source": [
    "## I.1. track through `line` without tilt error:"
   ]
  },
  {
   "cell_type": "markdown",
   "metadata": {},
   "source": [
    "tracking:"
   ]
  },
  {
   "cell_type": "code",
   "execution_count": 7,
   "metadata": {},
   "outputs": [
    {
     "name": "stdout",
     "output_type": "stream",
     "text": [
      "enter TRACK module\n",
      "exit TRACK module\n",
      "\n"
     ]
    },
    {
     "data": {
      "text/plain": [
       "True"
      ]
     },
     "execution_count": 7,
     "metadata": {},
     "output_type": "execute_result"
    }
   ],
   "source": [
    "madx.command.track(onetable=True)\n",
    "madx.input('NPART=1;')\n",
    "madx.command.start(x=0.01, y=0.005)\n",
    "madx.command.run()\n",
    "madx.command.endtrack()"
   ]
  },
  {
   "cell_type": "markdown",
   "metadata": {},
   "source": [
    "relative change of $x$ coordinate:"
   ]
  },
  {
   "cell_type": "code",
   "execution_count": 8,
   "metadata": {},
   "outputs": [
    {
     "data": {
      "text/plain": [
       "0.9499999687499706"
      ]
     },
     "execution_count": 8,
     "metadata": {},
     "output_type": "execute_result"
    }
   ],
   "source": [
    "x_noerr = madx.table.trackone[1]['x'] / madx.table.trackone[0]['x']\n",
    "x_noerr"
   ]
  },
  {
   "cell_type": "markdown",
   "metadata": {},
   "source": [
    "## I.2. now track with tilt error:"
   ]
  },
  {
   "cell_type": "code",
   "execution_count": 9,
   "metadata": {},
   "outputs": [],
   "source": [
    "dpsi = 1.0"
   ]
  },
  {
   "cell_type": "markdown",
   "metadata": {},
   "source": [
    "Apply this `dpsi` tilt error to the quadrupole:"
   ]
  },
  {
   "cell_type": "code",
   "execution_count": 10,
   "metadata": {},
   "outputs": [
    {
     "data": {
      "text/plain": [
       "1.0"
      ]
     },
     "execution_count": 10,
     "metadata": {},
     "output_type": "execute_result"
    }
   ],
   "source": [
    "madx.select(flag='error', pattern='qd')\n",
    "madx.command.ealign(dpsi=dpsi)\n",
    "\n",
    "qd = madx.sequence.line.expanded_elements[2]\n",
    "\n",
    "qd.align_errors.dpsi"
   ]
  },
  {
   "cell_type": "markdown",
   "metadata": {},
   "source": [
    "tracking:"
   ]
  },
  {
   "cell_type": "code",
   "execution_count": 11,
   "metadata": {},
   "outputs": [
    {
     "name": "stdout",
     "output_type": "stream",
     "text": [
      "enter TRACK module\n",
      "exit TRACK module\n",
      "\n"
     ]
    },
    {
     "data": {
      "text/plain": [
       "True"
      ]
     },
     "execution_count": 11,
     "metadata": {},
     "output_type": "execute_result"
    }
   ],
   "source": [
    "madx.command.track(onetable=True)\n",
    "madx.input('NPART=1;')\n",
    "madx.command.start(x=0.01, y=0.005)\n",
    "madx.command.run()\n",
    "madx.command.endtrack()"
   ]
  },
  {
   "cell_type": "markdown",
   "metadata": {},
   "source": [
    "relative change of $x$ coordinate:"
   ]
  },
  {
   "cell_type": "code",
   "execution_count": 12,
   "metadata": {},
   "outputs": [
    {
     "data": {
      "text/plain": [
       "0.9980749049535305"
      ]
     },
     "execution_count": 12,
     "metadata": {},
     "output_type": "execute_result"
    }
   ],
   "source": [
    "x_err = madx.table.trackone[1]['x'] / madx.table.trackone[0]['x']\n",
    "x_err"
   ]
  },
  {
   "cell_type": "markdown",
   "metadata": {},
   "source": [
    "In comparison to no error:"
   ]
  },
  {
   "cell_type": "code",
   "execution_count": 13,
   "metadata": {},
   "outputs": [
    {
     "data": {
      "text/plain": [
       "1.0506051976683934"
      ]
     },
     "execution_count": 13,
     "metadata": {},
     "output_type": "execute_result"
    }
   ],
   "source": [
    "x_err / x_noerr"
   ]
  },
  {
   "cell_type": "markdown",
   "metadata": {},
   "source": [
    "$\\implies$ significant effect of `dpsi` tilt error on x coordinate"
   ]
  },
  {
   "cell_type": "markdown",
   "metadata": {},
   "source": [
    "# II. SixTrackLib part\n",
    "\n",
    "## II.1. without tilt error:"
   ]
  },
  {
   "cell_type": "code",
   "execution_count": 14,
   "metadata": {},
   "outputs": [],
   "source": [
    "elements = pyst.Elements.from_mad(madx.sequence.line, exact_drift=True)\n",
    "elements.BeamMonitor(num_stores=1);"
   ]
  },
  {
   "cell_type": "code",
   "execution_count": 15,
   "metadata": {},
   "outputs": [],
   "source": [
    "particles = pyst.Particles.from_ref(1, p0c=p0c)"
   ]
  },
  {
   "cell_type": "code",
   "execution_count": 16,
   "metadata": {},
   "outputs": [],
   "source": [
    "particles.x = 0.01\n",
    "particles.y = 0.005"
   ]
  },
  {
   "cell_type": "code",
   "execution_count": 17,
   "metadata": {},
   "outputs": [],
   "source": [
    "job = pyst.TrackJob(elements, particles)"
   ]
  },
  {
   "cell_type": "code",
   "execution_count": 18,
   "metadata": {},
   "outputs": [
    {
     "data": {
      "text/plain": [
       "<Particles at 128\n",
       "  num_particles:1\n",
       "  q0:[1.]\n",
       "  mass0:[9.38272081e+08]\n",
       "  beta0:[0.72925621]\n",
       "  gamma0:[1.46147393]\n",
       "  p0c:[1.e+09]\n",
       "  s:[1.]\n",
       "  x:[0.0095]\n",
       "  y:[0.00525]\n",
       "  px:[-0.001]\n",
       "  py:[0.0005]\n",
       "  zeta:[-3.12500293e-07]\n",
       "  psigma:[0.]\n",
       "  delta:[0.]\n",
       "  rpp:[1.]\n",
       "  rvv:[1.]\n",
       "  chi:[1.]\n",
       "  charge_ratio:[1.]\n",
       "  particle_id:[0]\n",
       "  at_element:[5]\n",
       "  at_turn:[0]\n",
       "  state:[1]\n",
       ">"
      ]
     },
     "execution_count": 18,
     "metadata": {},
     "output_type": "execute_result"
    }
   ],
   "source": [
    "job.track(1)\n",
    "\n",
    "job.collect()\n",
    "\n",
    "job.output.particles[0]"
   ]
  },
  {
   "cell_type": "code",
   "execution_count": 19,
   "metadata": {},
   "outputs": [
    {
     "data": {
      "text/plain": [
       "0.9499999687499706"
      ]
     },
     "execution_count": 19,
     "metadata": {},
     "output_type": "execute_result"
    }
   ],
   "source": [
    "particles.x[0] / 0.01"
   ]
  },
  {
   "cell_type": "markdown",
   "metadata": {},
   "source": [
    "Comparing to `x_noerr` from the MAD-X tracking above:"
   ]
  },
  {
   "cell_type": "code",
   "execution_count": 20,
   "metadata": {},
   "outputs": [
    {
     "data": {
      "text/plain": [
       "True"
      ]
     },
     "execution_count": 20,
     "metadata": {},
     "output_type": "execute_result"
    }
   ],
   "source": [
    "x_noerr == particles.x[0] / 0.01"
   ]
  },
  {
   "cell_type": "markdown",
   "metadata": {},
   "source": [
    "$\\implies$ `SixTrackLib` and `MAD-X` agree exactly on the tracking for the single particle!"
   ]
  },
  {
   "cell_type": "markdown",
   "metadata": {},
   "source": [
    "## II.2. with tilt error:"
   ]
  },
  {
   "cell_type": "markdown",
   "metadata": {},
   "source": [
    "Create Line in `PySixTrack` in order to manipulate it and add the `SRotation` element for the tilt:"
   ]
  },
  {
   "cell_type": "code",
   "execution_count": 21,
   "metadata": {},
   "outputs": [],
   "source": [
    "pysixtrack_elements, _ = pysixtrack.line.Line.from_madx_sequence(madx.sequence.line)"
   ]
  },
  {
   "cell_type": "code",
   "execution_count": 22,
   "metadata": {},
   "outputs": [
    {
     "data": {
      "text/plain": [
       "[Drift(length=0.0),\n",
       " Drift(length=0.5),\n",
       " Multipole(knl=[0.0, 0.1], ksl=[0.0], hxl=0.0, hyl=0, length=0.0),\n",
       " Drift(length=0.5),\n",
       " Drift(length=0.0)]"
      ]
     },
     "execution_count": 22,
     "metadata": {},
     "output_type": "execute_result"
    }
   ],
   "source": [
    "pysixtrack_elements.elements"
   ]
  },
  {
   "cell_type": "markdown",
   "metadata": {},
   "source": [
    "Define the tilt in `PySixTrack`:"
   ]
  },
  {
   "cell_type": "code",
   "execution_count": 23,
   "metadata": {},
   "outputs": [],
   "source": [
    "angle = dpsi * 180 / np.pi\n",
    "\n",
    "srot = pysixtrack.elements.SRotation(angle=angle)\n",
    "inv_srot = pysixtrack.elements.SRotation(angle=-angle)"
   ]
  },
  {
   "cell_type": "code",
   "execution_count": 24,
   "metadata": {},
   "outputs": [
    {
     "data": {
      "text/plain": [
       "[Drift(length=0.0),\n",
       " Drift(length=0.5),\n",
       " SRotation(angle=57.29577951308232),\n",
       " Multipole(knl=[0.0, 0.1], ksl=[0.0], hxl=0.0, hyl=0, length=0.0),\n",
       " SRotation(angle=-57.29577951308232),\n",
       " Drift(length=0.5),\n",
       " Drift(length=0.0)]"
      ]
     },
     "execution_count": 24,
     "metadata": {},
     "output_type": "execute_result"
    }
   ],
   "source": [
    "pysixtrack_elements.elements.insert(2, srot)\n",
    "pysixtrack_elements.elements.insert(4, inv_srot)\n",
    "pysixtrack_elements.elements"
   ]
  },
  {
   "cell_type": "markdown",
   "metadata": {},
   "source": [
    "Pass over to `SixTrackLib`:"
   ]
  },
  {
   "cell_type": "code",
   "execution_count": 25,
   "metadata": {},
   "outputs": [],
   "source": [
    "elements = pyst.Elements.from_line(pysixtrack_elements)\n",
    "elements.BeamMonitor(num_stores=1);"
   ]
  },
  {
   "cell_type": "code",
   "execution_count": 26,
   "metadata": {},
   "outputs": [],
   "source": [
    "particles = pyst.Particles.from_ref(1, p0c=p0c)"
   ]
  },
  {
   "cell_type": "code",
   "execution_count": 27,
   "metadata": {},
   "outputs": [],
   "source": [
    "particles.x = 0.01\n",
    "particles.y = 0.005"
   ]
  },
  {
   "cell_type": "code",
   "execution_count": 28,
   "metadata": {},
   "outputs": [],
   "source": [
    "job = pyst.TrackJob(elements, particles)"
   ]
  },
  {
   "cell_type": "code",
   "execution_count": 29,
   "metadata": {},
   "outputs": [
    {
     "data": {
      "text/plain": [
       "<Particles at 128\n",
       "  num_particles:1\n",
       "  q0:[1.]\n",
       "  mass0:[9.38272081e+08]\n",
       "  beta0:[0.72925621]\n",
       "  gamma0:[1.46147393]\n",
       "  p0c:[1.e+09]\n",
       "  s:[1.]\n",
       "  x:[0.00998075]\n",
       "  y:[0.00444131]\n",
       "  px:[-3.85018769e-05]\n",
       "  py:[-0.00111737]\n",
       "  zeta:[-3.125e-07]\n",
       "  psigma:[0.]\n",
       "  delta:[0.]\n",
       "  rpp:[1.]\n",
       "  rvv:[1.]\n",
       "  chi:[1.]\n",
       "  charge_ratio:[1.]\n",
       "  particle_id:[0]\n",
       "  at_element:[7]\n",
       "  at_turn:[0]\n",
       "  state:[1]\n",
       ">"
      ]
     },
     "execution_count": 29,
     "metadata": {},
     "output_type": "execute_result"
    }
   ],
   "source": [
    "job.track(1)\n",
    "\n",
    "job.collect()\n",
    "\n",
    "job.output.particles[0]"
   ]
  },
  {
   "cell_type": "code",
   "execution_count": 30,
   "metadata": {},
   "outputs": [
    {
     "data": {
      "text/plain": [
       "0.9980749061567152"
      ]
     },
     "execution_count": 30,
     "metadata": {},
     "output_type": "execute_result"
    }
   ],
   "source": [
    "particles.x[0] / 0.01"
   ]
  },
  {
   "cell_type": "markdown",
   "metadata": {},
   "source": [
    "Comparing to `x_err` from the MAD-X tracking above:"
   ]
  },
  {
   "cell_type": "code",
   "execution_count": 31,
   "metadata": {},
   "outputs": [
    {
     "data": {
      "text/plain": [
       "0.9980749049535305"
      ]
     },
     "execution_count": 31,
     "metadata": {},
     "output_type": "execute_result"
    }
   ],
   "source": [
    "x_err"
   ]
  },
  {
   "cell_type": "markdown",
   "metadata": {},
   "source": [
    "Almost identical..."
   ]
  }
 ],
 "metadata": {
  "kernelspec": {
   "display_name": "Python 3",
   "language": "python",
   "name": "python3"
  },
  "language_info": {
   "codemirror_mode": {
    "name": "ipython",
    "version": 3
   },
   "file_extension": ".py",
   "mimetype": "text/x-python",
   "name": "python",
   "nbconvert_exporter": "python",
   "pygments_lexer": "ipython3",
   "version": "3.7.3"
  }
 },
 "nbformat": 4,
 "nbformat_minor": 2
}
