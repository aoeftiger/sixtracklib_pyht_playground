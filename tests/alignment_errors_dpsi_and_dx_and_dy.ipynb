{
 "cells": [
  {
   "cell_type": "code",
   "execution_count": 1,
   "metadata": {},
   "outputs": [],
   "source": [
    "import numpy as np\n",
    "import matplotlib.pyplot as plt\n",
    "%matplotlib inline\n",
    "\n",
    "import seaborn as sns\n",
    "sns.set_context('talk', font_scale=1.2, rc={'lines.linewidth': 3})\n",
    "sns.set_style('whitegrid',\n",
    "              {'grid.linestyle': ':', 'grid.color': 'red', 'axes.edgecolor': '0.5',\n",
    "               'axes.linewidth': 1.2, 'legend.frameon': True})"
   ]
  },
  {
   "cell_type": "code",
   "execution_count": 2,
   "metadata": {},
   "outputs": [],
   "source": [
    "from scipy.constants import m_p, c, e"
   ]
  },
  {
   "cell_type": "code",
   "execution_count": 3,
   "metadata": {},
   "outputs": [],
   "source": [
    "from cpymad.madx import Madx\n",
    "\n",
    "import sixtracklib as pyst\n",
    "import pysixtrack"
   ]
  },
  {
   "cell_type": "markdown",
   "metadata": {},
   "source": [
    "# I. MAD-X part"
   ]
  },
  {
   "cell_type": "code",
   "execution_count": 4,
   "metadata": {},
   "outputs": [
    {
     "name": "stdout",
     "output_type": "stream",
     "text": [
      "\n",
      "  ++++++++++++++++++++++++++++++++++++++++++++\n",
      "  +     MAD-X 5.05.01  (64 bit, Linux)       +\n",
      "  + Support: mad@cern.ch, http://cern.ch/mad +\n",
      "  + Release   date: 2019.06.07               +\n",
      "  + Execution date: 2019.10.25 11:39:36      +\n",
      "  ++++++++++++++++++++++++++++++++++++++++++++\n"
     ]
    }
   ],
   "source": [
    "madx = Madx()\n",
    "madx.options.echo = False\n",
    "madx.options.warn = False\n",
    "madx.options.info = False"
   ]
  },
  {
   "cell_type": "code",
   "execution_count": 56,
   "metadata": {},
   "outputs": [],
   "source": [
    "p0c = 1e9 # in eV\n",
    "Etot = np.sqrt(p0c**2 + (m_p/e)**2 * c**4) * 1e-9 # in GeV"
   ]
  },
  {
   "cell_type": "markdown",
   "metadata": {},
   "source": [
    "Define a simple sequence in MAD-X with quadrupolar and sextupolar component:"
   ]
  },
  {
   "cell_type": "code",
   "execution_count": 57,
   "metadata": {},
   "outputs": [],
   "source": [
    "madx.input('''\n",
    "qd: multipole, knl := {0, 0.1, 2};\n",
    "\n",
    "line: sequence, l = 1;\n",
    "qd, at = 0.5;\n",
    "endsequence;\n",
    "''')\n",
    "\n",
    "madx.command.beam(particle='proton', energy=Etot) # energy in GeV\n",
    "\n",
    "madx.use(sequence='line')"
   ]
  },
  {
   "cell_type": "markdown",
   "metadata": {},
   "source": [
    "## I.1. track through `line` without errors:"
   ]
  },
  {
   "cell_type": "markdown",
   "metadata": {},
   "source": [
    "tracking:"
   ]
  },
  {
   "cell_type": "code",
   "execution_count": 58,
   "metadata": {},
   "outputs": [
    {
     "name": "stdout",
     "output_type": "stream",
     "text": [
      "enter TRACK module\n",
      "one pass is on\n",
      "exit TRACK module\n",
      "\n"
     ]
    },
    {
     "data": {
      "text/plain": [
       "True"
      ]
     },
     "execution_count": 58,
     "metadata": {},
     "output_type": "execute_result"
    }
   ],
   "source": [
    "madx.command.track(onetable=True, onepass=True)\n",
    "madx.command.start(x=0.01, y=0.005)\n",
    "madx.command.run()\n",
    "madx.command.endtrack()"
   ]
  },
  {
   "cell_type": "markdown",
   "metadata": {},
   "source": [
    "relative change of $x$ coordinate:"
   ]
  },
  {
   "cell_type": "code",
   "execution_count": 59,
   "metadata": {},
   "outputs": [
    {
     "data": {
      "text/plain": [
       "0.9462499592675317"
      ]
     },
     "execution_count": 59,
     "metadata": {},
     "output_type": "execute_result"
    }
   ],
   "source": [
    "x_noerr = madx.table.trackone[1]['x'] / madx.table.trackone[0]['x']\n",
    "x_noerr"
   ]
  },
  {
   "cell_type": "markdown",
   "metadata": {},
   "source": [
    "## I.2. now track with tilt and offset error:"
   ]
  },
  {
   "cell_type": "code",
   "execution_count": 60,
   "metadata": {},
   "outputs": [],
   "source": [
    "dpsi = np.pi/6\n",
    "dx = dy = 0.01"
   ]
  },
  {
   "cell_type": "markdown",
   "metadata": {},
   "source": [
    "Apply this `dpsi` tilt error to the quadrupole:"
   ]
  },
  {
   "cell_type": "code",
   "execution_count": 61,
   "metadata": {},
   "outputs": [
    {
     "data": {
      "text/plain": [
       "(0.5235987755982988, 0.01, 0.01)"
      ]
     },
     "execution_count": 61,
     "metadata": {},
     "output_type": "execute_result"
    }
   ],
   "source": [
    "madx.select(flag='error', pattern='qd')\n",
    "madx.command.ealign(dpsi=dpsi, dx=dx, dy=dy)\n",
    "\n",
    "qd = madx.sequence.line.expanded_elements[2]\n",
    "\n",
    "qd.align_errors.dpsi, qd.align_errors.dx, qd.align_errors.dy"
   ]
  },
  {
   "cell_type": "markdown",
   "metadata": {},
   "source": [
    "tracking:"
   ]
  },
  {
   "cell_type": "code",
   "execution_count": 62,
   "metadata": {},
   "outputs": [
    {
     "name": "stdout",
     "output_type": "stream",
     "text": [
      "enter TRACK module\n",
      "one pass is on\n",
      "exit TRACK module\n",
      "\n"
     ]
    },
    {
     "data": {
      "text/plain": [
       "True"
      ]
     },
     "execution_count": 62,
     "metadata": {},
     "output_type": "execute_result"
    }
   ],
   "source": [
    "madx.command.track(onetable=True, onepass=True)\n",
    "madx.command.start(x=0.01, y=0.005)\n",
    "madx.command.run()\n",
    "madx.command.endtrack()"
   ]
  },
  {
   "cell_type": "markdown",
   "metadata": {},
   "source": [
    "relative change of $x$ coordinate:"
   ]
  },
  {
   "cell_type": "code",
   "execution_count": 63,
   "metadata": {},
   "outputs": [
    {
     "data": {
      "text/plain": [
       "1.02165063767239"
      ]
     },
     "execution_count": 63,
     "metadata": {},
     "output_type": "execute_result"
    }
   ],
   "source": [
    "x_err = madx.table.trackone[1]['x'] / madx.table.trackone[0]['x']\n",
    "x_err"
   ]
  },
  {
   "cell_type": "markdown",
   "metadata": {},
   "source": [
    "In comparison to no error:"
   ]
  },
  {
   "cell_type": "code",
   "execution_count": 64,
   "metadata": {},
   "outputs": [
    {
     "data": {
      "text/plain": [
       "1.0796836794193618"
      ]
     },
     "execution_count": 64,
     "metadata": {},
     "output_type": "execute_result"
    }
   ],
   "source": [
    "x_err / x_noerr"
   ]
  },
  {
   "cell_type": "markdown",
   "metadata": {},
   "source": [
    "$\\implies$ significant effect of `dpsi` tilt and `dx` / `dy` offset error on x coordinate"
   ]
  },
  {
   "cell_type": "markdown",
   "metadata": {},
   "source": [
    "# II. SixTrackLib part\n",
    "\n",
    "## II.1. without tilt and offset error:"
   ]
  },
  {
   "cell_type": "code",
   "execution_count": 65,
   "metadata": {},
   "outputs": [],
   "source": [
    "elements = pyst.Elements.from_mad(madx.sequence.line, exact_drift=True)\n",
    "elements.BeamMonitor(num_stores=1);"
   ]
  },
  {
   "cell_type": "code",
   "execution_count": 66,
   "metadata": {},
   "outputs": [],
   "source": [
    "particles = pyst.Particles.from_ref(1, p0c=p0c)"
   ]
  },
  {
   "cell_type": "code",
   "execution_count": 67,
   "metadata": {},
   "outputs": [],
   "source": [
    "particles.x = 0.01\n",
    "particles.y = 0.005"
   ]
  },
  {
   "cell_type": "code",
   "execution_count": 68,
   "metadata": {},
   "outputs": [],
   "source": [
    "job = pyst.TrackJob(elements, particles)"
   ]
  },
  {
   "cell_type": "code",
   "execution_count": 69,
   "metadata": {},
   "outputs": [
    {
     "data": {
      "text/plain": [
       "<Particles at 128\n",
       "  num_particles:1\n",
       "  q0:[1.]\n",
       "  mass0:[9.38272081e+08]\n",
       "  beta0:[0.72925621]\n",
       "  gamma0:[1.46147393]\n",
       "  p0c:[1.e+09]\n",
       "  s:[1.]\n",
       "  x:[0.0094625]\n",
       "  y:[0.0053]\n",
       "  px:[-0.001075]\n",
       "  py:[0.0006]\n",
       "  zeta:[-3.78906681e-07]\n",
       "  psigma:[0.]\n",
       "  delta:[0.]\n",
       "  rpp:[1.]\n",
       "  rvv:[1.]\n",
       "  chi:[1.]\n",
       "  charge_ratio:[1.]\n",
       "  particle_id:[0]\n",
       "  at_element:[5]\n",
       "  at_turn:[0]\n",
       "  state:[1]\n",
       ">"
      ]
     },
     "execution_count": 69,
     "metadata": {},
     "output_type": "execute_result"
    }
   ],
   "source": [
    "job.track(1)\n",
    "\n",
    "job.collect()\n",
    "\n",
    "job.output.particles[0]"
   ]
  },
  {
   "cell_type": "code",
   "execution_count": 70,
   "metadata": {},
   "outputs": [
    {
     "data": {
      "text/plain": [
       "0.9462499592675317"
      ]
     },
     "execution_count": 70,
     "metadata": {},
     "output_type": "execute_result"
    }
   ],
   "source": [
    "particles.x[0] / 0.01"
   ]
  },
  {
   "cell_type": "markdown",
   "metadata": {},
   "source": [
    "Comparing to `x_noerr` from the MAD-X tracking above:"
   ]
  },
  {
   "cell_type": "code",
   "execution_count": 71,
   "metadata": {},
   "outputs": [
    {
     "data": {
      "text/plain": [
       "True"
      ]
     },
     "execution_count": 71,
     "metadata": {},
     "output_type": "execute_result"
    }
   ],
   "source": [
    "x_noerr == particles.x[0] / 0.01"
   ]
  },
  {
   "cell_type": "markdown",
   "metadata": {},
   "source": [
    "$\\implies$ `SixTrackLib` and `MAD-X` agree exactly on the tracking for the single particle!"
   ]
  },
  {
   "cell_type": "markdown",
   "metadata": {},
   "source": [
    "## II.2. with tilt and offset error:"
   ]
  },
  {
   "cell_type": "markdown",
   "metadata": {},
   "source": [
    "Create Line in `PySixTrack` in order to manipulate it. Then add the `SRotation` element for the tilt and `XYShift` element for the offset:"
   ]
  },
  {
   "cell_type": "code",
   "execution_count": 87,
   "metadata": {},
   "outputs": [],
   "source": [
    "pysixtrack_elements, _ = pysixtrack.line.Line.from_madx_sequence(\n",
    "    madx.sequence.line, exact_drift=True)"
   ]
  },
  {
   "cell_type": "code",
   "execution_count": 88,
   "metadata": {},
   "outputs": [
    {
     "data": {
      "text/plain": [
       "[DriftExact(length=0.0),\n",
       " DriftExact(length=0.5),\n",
       " Multipole(knl=[0.0, 0.1, 2.0], ksl=[0.0], hxl=0.0, hyl=0, length=0.0),\n",
       " DriftExact(length=0.5),\n",
       " DriftExact(length=0.0)]"
      ]
     },
     "execution_count": 88,
     "metadata": {},
     "output_type": "execute_result"
    }
   ],
   "source": [
    "pysixtrack_elements.elements"
   ]
  },
  {
   "cell_type": "markdown",
   "metadata": {},
   "source": [
    "Define the tilt in `PySixTrack`:"
   ]
  },
  {
   "cell_type": "code",
   "execution_count": 89,
   "metadata": {},
   "outputs": [],
   "source": [
    "angle = dpsi * 180 / np.pi\n",
    "\n",
    "srot = pysixtrack.elements.SRotation(angle=angle)\n",
    "inv_srot = pysixtrack.elements.SRotation(angle=-angle)"
   ]
  },
  {
   "cell_type": "code",
   "execution_count": 90,
   "metadata": {},
   "outputs": [
    {
     "data": {
      "text/plain": [
       "[DriftExact(length=0.0),\n",
       " DriftExact(length=0.5),\n",
       " SRotation(angle=29.999999999999996),\n",
       " Multipole(knl=[0.0, 0.1, 2.0], ksl=[0.0], hxl=0.0, hyl=0, length=0.0),\n",
       " SRotation(angle=-29.999999999999996),\n",
       " DriftExact(length=0.5),\n",
       " DriftExact(length=0.0)]"
      ]
     },
     "execution_count": 90,
     "metadata": {},
     "output_type": "execute_result"
    }
   ],
   "source": [
    "pysixtrack_elements.elements.insert(2, srot)\n",
    "pysixtrack_elements.elements.insert(4, inv_srot)\n",
    "pysixtrack_elements.elements"
   ]
  },
  {
   "cell_type": "markdown",
   "metadata": {},
   "source": [
    "Define the offset in `PySixTrack`:"
   ]
  },
  {
   "cell_type": "code",
   "execution_count": 91,
   "metadata": {},
   "outputs": [],
   "source": [
    "xyshift = pysixtrack.elements.XYShift(dx=dx, dy=dy)\n",
    "inv_xyshift = pysixtrack.elements.XYShift(dx=-dx, dy=-dy)"
   ]
  },
  {
   "cell_type": "code",
   "execution_count": 92,
   "metadata": {},
   "outputs": [
    {
     "data": {
      "text/plain": [
       "[DriftExact(length=0.0),\n",
       " DriftExact(length=0.5),\n",
       " XYShift(dx=0.01, dy=0.01),\n",
       " SRotation(angle=29.999999999999996),\n",
       " Multipole(knl=[0.0, 0.1, 2.0], ksl=[0.0], hxl=0.0, hyl=0, length=0.0),\n",
       " SRotation(angle=-29.999999999999996),\n",
       " XYShift(dx=-0.01, dy=-0.01),\n",
       " DriftExact(length=0.5),\n",
       " DriftExact(length=0.0)]"
      ]
     },
     "execution_count": 92,
     "metadata": {},
     "output_type": "execute_result"
    }
   ],
   "source": [
    "pysixtrack_elements.elements.insert(2, xyshift)\n",
    "pysixtrack_elements.elements.insert(6, inv_xyshift)\n",
    "pysixtrack_elements.elements"
   ]
  },
  {
   "cell_type": "markdown",
   "metadata": {},
   "source": [
    "Pass over to `SixTrackLib`:"
   ]
  },
  {
   "cell_type": "code",
   "execution_count": 93,
   "metadata": {},
   "outputs": [],
   "source": [
    "elements = pyst.Elements.from_line(pysixtrack_elements)\n",
    "elements.BeamMonitor(num_stores=1);"
   ]
  },
  {
   "cell_type": "code",
   "execution_count": 94,
   "metadata": {},
   "outputs": [],
   "source": [
    "particles = pyst.Particles.from_ref(1, p0c=p0c)"
   ]
  },
  {
   "cell_type": "code",
   "execution_count": 95,
   "metadata": {},
   "outputs": [],
   "source": [
    "particles.x = 0.01\n",
    "particles.y = 0.005"
   ]
  },
  {
   "cell_type": "code",
   "execution_count": 96,
   "metadata": {},
   "outputs": [],
   "source": [
    "job = pyst.TrackJob(elements, particles)"
   ]
  },
  {
   "cell_type": "code",
   "execution_count": 97,
   "metadata": {},
   "outputs": [
    {
     "data": {
      "text/plain": [
       "<Particles at 128\n",
       "  num_particles:1\n",
       "  q0:[1.]\n",
       "  mass0:[9.38272081e+08]\n",
       "  beta0:[0.72925621]\n",
       "  gamma0:[1.46147393]\n",
       "  p0c:[1.e+09]\n",
       "  s:[1.]\n",
       "  x:[0.01021651]\n",
       "  y:[0.0048875]\n",
       "  px:[0.00043301]\n",
       "  py:[-0.000225]\n",
       "  zeta:[-5.95312606e-08]\n",
       "  psigma:[0.]\n",
       "  delta:[0.]\n",
       "  rpp:[1.]\n",
       "  rvv:[1.]\n",
       "  chi:[1.]\n",
       "  charge_ratio:[1.]\n",
       "  particle_id:[0]\n",
       "  at_element:[9]\n",
       "  at_turn:[0]\n",
       "  state:[1]\n",
       ">"
      ]
     },
     "execution_count": 97,
     "metadata": {},
     "output_type": "execute_result"
    }
   ],
   "source": [
    "job.track(1)\n",
    "\n",
    "job.collect()\n",
    "\n",
    "job.output.particles[0]"
   ]
  },
  {
   "cell_type": "code",
   "execution_count": 98,
   "metadata": {},
   "outputs": [
    {
     "data": {
      "text/plain": [
       "1.0216506376723902"
      ]
     },
     "execution_count": 98,
     "metadata": {},
     "output_type": "execute_result"
    }
   ],
   "source": [
    "particles.x[0] / 0.01"
   ]
  },
  {
   "cell_type": "markdown",
   "metadata": {},
   "source": [
    "Comparing to `x_err` from the MAD-X tracking above, the relative error gives:"
   ]
  },
  {
   "cell_type": "code",
   "execution_count": 102,
   "metadata": {},
   "outputs": [
    {
     "data": {
      "text/plain": [
       "-2.1733907535252162e-16"
      ]
     },
     "execution_count": 102,
     "metadata": {},
     "output_type": "execute_result"
    }
   ],
   "source": [
    "(x_err - particles.x[0] / 0.01) / x_err"
   ]
  },
  {
   "cell_type": "markdown",
   "metadata": {},
   "source": [
    "$\\implies$ offset and tilt error at the same time work!"
   ]
  }
 ],
 "metadata": {
  "kernelspec": {
   "display_name": "Python 3",
   "language": "python",
   "name": "python3"
  },
  "language_info": {
   "codemirror_mode": {
    "name": "ipython",
    "version": 3
   },
   "file_extension": ".py",
   "mimetype": "text/x-python",
   "name": "python",
   "nbconvert_exporter": "python",
   "pygments_lexer": "ipython3",
   "version": "3.7.4"
  }
 },
 "nbformat": 4,
 "nbformat_minor": 2
}
