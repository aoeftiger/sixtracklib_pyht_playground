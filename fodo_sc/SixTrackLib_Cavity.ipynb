{
 "cells": [
  {
   "cell_type": "markdown",
   "metadata": {},
   "source": [
    "# Let's go"
   ]
  },
  {
   "cell_type": "code",
   "execution_count": 1,
   "metadata": {},
   "outputs": [],
   "source": [
    "import numpy as np\n",
    "import matplotlib as mpl\n",
    "from matplotlib import pyplot as plt\n",
    "%matplotlib inline\n",
    "\n",
    "import seaborn as sns\n",
    "sns.set_context('talk', font_scale=1.2, rc={'lines.linewidth': 3})\n",
    "sns.set_style('whitegrid',\n",
    "              {'grid.linestyle': ':', 'grid.color': 'red', 'axes.edgecolor': '0.5',\n",
    "               'axes.linewidth': 1.2, 'legend.frameon': True})"
   ]
  },
  {
   "cell_type": "code",
   "execution_count": 2,
   "metadata": {},
   "outputs": [],
   "source": [
    "from cpymad.madx import Madx\n",
    "\n",
    "import sixtracklib as pyst\n",
    "from sixtracklib import stcommon as st"
   ]
  },
  {
   "cell_type": "code",
   "execution_count": 3,
   "metadata": {},
   "outputs": [],
   "source": [
    "from scipy.constants import e, c, epsilon_0"
   ]
  },
  {
   "cell_type": "code",
   "execution_count": 4,
   "metadata": {},
   "outputs": [
    {
     "name": "stdout",
     "output_type": "stream",
     "text": [
      "PyHEADTAIL v1.13.5\n",
      "\n",
      "\n"
     ]
    },
    {
     "name": "stderr",
     "output_type": "stream",
     "text": [
      "/home/oeftiger/anaconda3/lib/python3.7/site-packages/skcuda/cublas.py:284: UserWarning: creating CUBLAS context to get version number\n",
      "  warnings.warn('creating CUBLAS context to get version number')\n"
     ]
    },
    {
     "name": "stdout",
     "output_type": "stream",
     "text": [
      "Warning: GPU is in principle available but no context has been initialized. Please import pycuda.autoinit at the beginning of your script before importing PyHEADTAIL if you want to use GPU functionality.\n",
      "\n"
     ]
    }
   ],
   "source": [
    "import sys\n",
    "sys.path = [\"/home/oeftiger/gsi/git/python3/PyHEADTAIL/\", \n",
    "            \"/home/oeftiger/gsi/git/\"] + sys.path\n",
    "\n",
    "try:\n",
    "    from PyHEADTAIL.trackers.rf_bucket import RFBucket\n",
    "except:\n",
    "    pass"
   ]
  },
  {
   "cell_type": "code",
   "execution_count": 5,
   "metadata": {},
   "outputs": [],
   "source": [
    "nmass = 0.931494061 # MAD-X value"
   ]
  },
  {
   "cell_type": "code",
   "execution_count": 6,
   "metadata": {},
   "outputs": [],
   "source": [
    "n_macroparticles = int(1e4)\n",
    "n_turns = 1024\n",
    "\n",
    "Qs = 1e-3\n",
    "bunch_length = 10e-9 # in [s]\n",
    "\n",
    "Ekin_per_nucleon = 100e6 # in eV\n",
    "\n",
    "circumference = 10\n",
    "\n",
    "A = 1#238\n",
    "Q = 1#28\n",
    "\n",
    "###\n",
    "\n",
    "mass = A * nmass * 1e9 * e / c**2 # in kg\n",
    "charge = Q * e # in Coul\n",
    "\n",
    "Ekin = Ekin_per_nucleon * A\n",
    "p0c = np.sqrt(Ekin**2 + 2*Ekin*mass/e * c**2) # in eV\n",
    "Etot = np.sqrt(p0c**2 + (mass/e)**2 * c**4) * 1e-9 # in GeV\n",
    "p0 = p0c / c * e\n",
    "gamma = np.sqrt(1 + (p0 / (mass * c))**2)\n",
    "beta = np.sqrt(1 - gamma**-2)\n",
    "\n",
    "sigma_z = beta * c * bunch_length / 4. # in [m]\n",
    "\n",
    "eta = -gamma**-2\n",
    "# Qs = np.sqrt(e * rf_voltage * 1 * -eta / (2 * np.pi * p0 * beta * c))\n",
    "rf_voltage = 2 * np.pi * p0 * beta * c * Qs**2 / (charge * 1 * -eta)\n",
    "beta_z = np.abs(eta) * circumference / (2 * np.pi * Qs)\n",
    "\n",
    "# beta_z = sigma_z / sigma_dp\n",
    "sigma_dp = sigma_z / beta_z\n",
    "epsn_z = sigma_z * sigma_dp * 4 * np.pi * p0 / e # sigma_z**2 * 4 * np.pi * p0 / (e * beta_z)"
   ]
  },
  {
   "cell_type": "code",
   "execution_count": 7,
   "metadata": {},
   "outputs": [
    {
     "name": "stdout",
     "output_type": "stream",
     "text": [
      "\n",
      "  ++++++++++++++++++++++++++++++++++++++++++++\n",
      "  +     MAD-X 5.05.01  (64 bit, Linux)       +\n",
      "  + Support: mad@cern.ch, http://cern.ch/mad +\n",
      "  + Release   date: 2019.06.07               +\n",
      "  + Execution date: 2019.08.22 18:35:55      +\n",
      "  ++++++++++++++++++++++++++++++++++++++++++++\n"
     ]
    }
   ],
   "source": [
    "madx = Madx()\n",
    "madx.options.echo = False"
   ]
  },
  {
   "cell_type": "code",
   "execution_count": 8,
   "metadata": {},
   "outputs": [
    {
     "data": {
      "text/plain": [
       "True"
      ]
     },
     "execution_count": 8,
     "metadata": {},
     "output_type": "execute_result"
    }
   ],
   "source": [
    "madx.input('''\n",
    "kqd := -0.1;\n",
    "kqf := 0.1;\n",
    "v := 0;\n",
    "\n",
    "qd: multipole, knl := {0, kqd/2.};\n",
    "qf: multipole, knl := {0, kqf};\n",
    "rf: rfcavity, volt := v, harmon = 1, lag = 0; //, lag = 0.5;\n",
    "\n",
    "fodo: sequence, l = ''' + str(circumference) + ''';\n",
    "qd, at = 0;\n",
    "qf, at = 5;\n",
    "rf, at = 5;\n",
    "qd, at = 10;\n",
    "endsequence;\n",
    "''')"
   ]
  },
  {
   "cell_type": "code",
   "execution_count": 9,
   "metadata": {},
   "outputs": [
    {
     "data": {
      "text/plain": [
       "True"
      ]
     },
     "execution_count": 9,
     "metadata": {},
     "output_type": "execute_result"
    }
   ],
   "source": [
    "madx.command.beam(particle='ion', mass=A * nmass, charge=Q, energy=Etot) # energy in GeV"
   ]
  },
  {
   "cell_type": "code",
   "execution_count": 10,
   "metadata": {},
   "outputs": [],
   "source": [
    "madx.use(sequence='fodo')"
   ]
  },
  {
   "cell_type": "code",
   "execution_count": 11,
   "metadata": {},
   "outputs": [
    {
     "name": "stdout",
     "output_type": "stream",
     "text": [
      "++++++ info: v redefined\n"
     ]
    },
    {
     "data": {
      "text/plain": [
       "True"
      ]
     },
     "execution_count": 11,
     "metadata": {},
     "output_type": "execute_result"
    }
   ],
   "source": [
    "madx.input('v := {}'.format(rf_voltage * 1e-6)) # MV"
   ]
  },
  {
   "cell_type": "code",
   "execution_count": 12,
   "metadata": {},
   "outputs": [
    {
     "name": "stdout",
     "output_type": "stream",
     "text": [
      "enter Twiss module\n",
      "\n",
      "++++++ table: summ\n",
      "\n",
      "            length             orbit5               alfa            gammatr \n",
      "                10                 -0    8.048713384e-06        352.4818578 \n",
      "\n",
      "                q1                dq1            betxmax              dxmax \n",
      "     0.08043062326        -0.19134103        25.81988897                  0 \n",
      "\n",
      "             dxrms             xcomax             xcorms                 q2 \n",
      "                 0                  0                  0      0.08043062326 \n",
      "\n",
      "               dq2            betymax              dymax              dyrms \n",
      "       -0.19134103        25.81988897                 -0                  0 \n",
      "\n",
      "            ycomax             ycorms             deltap            synch_1 \n",
      "                 0                  0                  0                  0 \n",
      "\n",
      "           synch_2            synch_3            synch_4            synch_5 \n",
      "                 0                  0                  0                  0 \n",
      "\n",
      "            nflips \n",
      "                 0 \n"
     ]
    }
   ],
   "source": [
    "madx.twiss();"
   ]
  },
  {
   "cell_type": "markdown",
   "metadata": {},
   "source": [
    "# on the GPU"
   ]
  },
  {
   "cell_type": "code",
   "execution_count": 13,
   "metadata": {},
   "outputs": [],
   "source": [
    "pyst_beam = pyst.Particles.from_ref(num_particles=n_macroparticles, p0c=p0c)"
   ]
  },
  {
   "cell_type": "code",
   "execution_count": 14,
   "metadata": {},
   "outputs": [],
   "source": [
    "elements = pyst.Elements.from_mad(madx.sequence.FODO, exact_drift=True)"
   ]
  },
  {
   "cell_type": "code",
   "execution_count": 15,
   "metadata": {},
   "outputs": [],
   "source": [
    "elements.BeamMonitor(num_stores=n_turns);"
   ]
  },
  {
   "cell_type": "code",
   "execution_count": 16,
   "metadata": {},
   "outputs": [],
   "source": [
    "trackjob = pyst.CudaTrackJob(elements, pyst_beam)"
   ]
  },
  {
   "cell_type": "code",
   "execution_count": 17,
   "metadata": {},
   "outputs": [],
   "source": [
    "pyst_beam.zeta[:] = np.random.uniform(-3, 3, size=n_macroparticles)"
   ]
  },
  {
   "cell_type": "code",
   "execution_count": 18,
   "metadata": {},
   "outputs": [
    {
     "data": {
      "text/plain": [
       "<BeamMonitor at 400\n",
       "  num_stores:1024\n",
       "  start:0\n",
       "  skip:1\n",
       "  out_address:139986631782544\n",
       "  max_particle_id:9999\n",
       "  min_particle_id:0\n",
       "  is_rolling:0\n",
       "  is_turn_ordered:1\n",
       ">"
      ]
     },
     "execution_count": 18,
     "metadata": {},
     "output_type": "execute_result"
    }
   ],
   "source": [
    "elements.get_elements()[-1]"
   ]
  },
  {
   "cell_type": "code",
   "execution_count": 19,
   "metadata": {},
   "outputs": [
    {
     "data": {
      "text/plain": [
       "<sixtracklib.cuda.CudaTrackJob at 0x7f520023a588>"
      ]
     },
     "execution_count": 19,
     "metadata": {},
     "output_type": "execute_result"
    }
   ],
   "source": [
    "trackjob.track_until(n_turns)"
   ]
  },
  {
   "cell_type": "code",
   "execution_count": 20,
   "metadata": {},
   "outputs": [
    {
     "data": {
      "text/plain": [
       "<sixtracklib.cuda.CudaTrackJob at 0x7f520023a588>"
      ]
     },
     "execution_count": 20,
     "metadata": {},
     "output_type": "execute_result"
    }
   ],
   "source": [
    "trackjob.collect()"
   ]
  },
  {
   "cell_type": "code",
   "execution_count": 21,
   "metadata": {},
   "outputs": [],
   "source": [
    "z = trackjob.output.particles[0].zeta\n",
    "dp = trackjob.output.particles[0].delta"
   ]
  },
  {
   "cell_type": "code",
   "execution_count": 22,
   "metadata": {},
   "outputs": [
    {
     "data": {
      "image/png": "[encoded data removed]",
      "text/plain": [
       "<Figure size 432x288 with 2 Axes>"
      ]
     },
     "metadata": {
      "needs_background": "light"
     },
     "output_type": "display_data"
    }
   ],
   "source": [
    "try:\n",
    "    rfb = RFBucket(circumference, gamma, mass, charge, [0], 0, [1], [rf_voltage], [np.pi])\n",
    "\n",
    "    plz = np.linspace(*rfb.interval, num=100)\n",
    "    pldp = np.linspace(-0.003, 0.003, num=100)\n",
    "    ZZ, DPP = np.meshgrid(plz, pldp)\n",
    "    HH = rfb.hamiltonian(ZZ, DPP, make_convex=True)\n",
    "    plt.contourf(ZZ, DPP, HH, 20, alpha=0.6)\n",
    "    plt.colorbar()\n",
    "    plt.contour(ZZ, DPP, HH, levels=[0], colors='magenta', linewidths=2)\n",
    "except:\n",
    "    pass\n",
    "\n",
    "for i in range(100):\n",
    "    plt.scatter(z[i::n_macroparticles], dp[i::n_macroparticles], s=10, marker='.')\n",
    "plt.xlabel(r'$z$')\n",
    "plt.ylabel(r'$\\delta$');"
   ]
  },
  {
   "cell_type": "code",
   "execution_count": 23,
   "metadata": {},
   "outputs": [
    {
     "data": {
      "text/plain": [
       "<sixtracklib.cuda.CudaTrackJob at 0x7f520023a588>"
      ]
     },
     "execution_count": 23,
     "metadata": {},
     "output_type": "execute_result"
    }
   ],
   "source": [
    "trackjob.collectBeamElements()"
   ]
  },
  {
   "cell_type": "code",
   "execution_count": 24,
   "metadata": {},
   "outputs": [
    {
     "data": {
      "text/plain": [
       "<BeamMonitor at 400\n",
       "  num_stores:1024\n",
       "  start:0\n",
       "  skip:1\n",
       "  out_address:139984828891264\n",
       "  max_particle_id:0\n",
       "  min_particle_id:0\n",
       "  is_rolling:0\n",
       "  is_turn_ordered:1\n",
       ">"
      ]
     },
     "execution_count": 24,
     "metadata": {},
     "output_type": "execute_result"
    }
   ],
   "source": [
    "elements.get_elements()[-1]"
   ]
  },
  {
   "cell_type": "markdown",
   "metadata": {},
   "source": [
    "$\\implies$ max_particle_id is 0"
   ]
  },
  {
   "cell_type": "markdown",
   "metadata": {},
   "source": [
    "# on the CPU"
   ]
  },
  {
   "cell_type": "code",
   "execution_count": 25,
   "metadata": {},
   "outputs": [],
   "source": [
    "del pyst_beam, elements, trackjob"
   ]
  },
  {
   "cell_type": "code",
   "execution_count": 26,
   "metadata": {},
   "outputs": [],
   "source": [
    "pyst_beam = pyst.Particles.from_ref(num_particles=n_macroparticles, p0c=p0c, q0=Q, mass0=mass * c**2/e)"
   ]
  },
  {
   "cell_type": "code",
   "execution_count": 27,
   "metadata": {},
   "outputs": [],
   "source": [
    "elements = pyst.Elements.from_mad(madx.sequence.FODO, exact_drift=True)"
   ]
  },
  {
   "cell_type": "code",
   "execution_count": 28,
   "metadata": {},
   "outputs": [],
   "source": [
    "elements.BeamMonitor(num_stores=n_turns);"
   ]
  },
  {
   "cell_type": "code",
   "execution_count": 29,
   "metadata": {},
   "outputs": [],
   "source": [
    "trackjob = pyst.TrackJob(elements, pyst_beam)"
   ]
  },
  {
   "cell_type": "code",
   "execution_count": 30,
   "metadata": {},
   "outputs": [],
   "source": [
    "pyst_beam.zeta[:] = np.random.uniform(-3, 3, size=n_macroparticles)"
   ]
  },
  {
   "cell_type": "code",
   "execution_count": 31,
   "metadata": {},
   "outputs": [
    {
     "data": {
      "text/plain": [
       "<BeamMonitor at 400\n",
       "  num_stores:1024\n",
       "  start:0\n",
       "  skip:1\n",
       "  out_address:139982907240592\n",
       "  max_particle_id:9999\n",
       "  min_particle_id:0\n",
       "  is_rolling:0\n",
       "  is_turn_ordered:1\n",
       ">"
      ]
     },
     "execution_count": 31,
     "metadata": {},
     "output_type": "execute_result"
    }
   ],
   "source": [
    "elements.get_elements()[-1]"
   ]
  },
  {
   "cell_type": "code",
   "execution_count": 32,
   "metadata": {},
   "outputs": [
    {
     "data": {
      "text/plain": [
       "0"
      ]
     },
     "execution_count": 32,
     "metadata": {},
     "output_type": "execute_result"
    }
   ],
   "source": [
    "trackjob.track(n_turns)"
   ]
  },
  {
   "cell_type": "code",
   "execution_count": 33,
   "metadata": {},
   "outputs": [],
   "source": [
    "trackjob.collect()"
   ]
  },
  {
   "cell_type": "code",
   "execution_count": 34,
   "metadata": {},
   "outputs": [],
   "source": [
    "z = trackjob.output.particles[0].zeta\n",
    "dp = trackjob.output.particles[0].delta"
   ]
  },
  {
   "cell_type": "code",
   "execution_count": 35,
   "metadata": {},
   "outputs": [
    {
     "data": {
      "image/png": "[encoded data removed]",
      "text/plain": [
       "<Figure size 432x288 with 2 Axes>"
      ]
     },
     "metadata": {
      "needs_background": "light"
     },
     "output_type": "display_data"
    }
   ],
   "source": [
    "try:\n",
    "    rfb = RFBucket(circumference, gamma, mass, charge, [0], 0, [1], [rf_voltage], [np.pi])\n",
    "\n",
    "    plz = np.linspace(*rfb.interval, num=100)\n",
    "    pldp = np.linspace(-0.003, 0.003, num=100)\n",
    "    ZZ, DPP = np.meshgrid(plz, pldp)\n",
    "    HH = rfb.hamiltonian(ZZ, DPP, make_convex=True)\n",
    "    plt.contourf(ZZ, DPP, HH, 20, alpha=0.6)\n",
    "    plt.colorbar()\n",
    "    plt.contour(ZZ, DPP, HH, levels=[0], colors='magenta', linewidths=2)\n",
    "except:\n",
    "    pass\n",
    "\n",
    "for i in range(100):\n",
    "    plt.scatter(z[i::n_macroparticles], dp[i::n_macroparticles], s=10, marker='.')\n",
    "plt.xlabel(r'$z$')\n",
    "plt.ylabel(r'$\\delta$');"
   ]
  },
  {
   "cell_type": "code",
   "execution_count": 36,
   "metadata": {},
   "outputs": [
    {
     "data": {
      "text/plain": [
       "0.001"
      ]
     },
     "execution_count": 36,
     "metadata": {},
     "output_type": "execute_result"
    }
   ],
   "source": [
    "rfb.Q_s"
   ]
  },
  {
   "cell_type": "code",
   "execution_count": 37,
   "metadata": {},
   "outputs": [
    {
     "data": {
      "text/plain": [
       "array([1.10735442, 1.10735442, 1.10735442, ..., 1.10735442, 1.10735442,\n",
       "       1.10735442])"
      ]
     },
     "execution_count": 37,
     "metadata": {},
     "output_type": "execute_result"
    }
   ],
   "source": [
    "pyst_beam.gamma0"
   ]
  },
  {
   "cell_type": "code",
   "execution_count": 38,
   "metadata": {},
   "outputs": [
    {
     "data": {
      "text/plain": [
       "1.1073544150057657"
      ]
     },
     "execution_count": 38,
     "metadata": {},
     "output_type": "execute_result"
    }
   ],
   "source": [
    "gamma"
   ]
  },
  {
   "cell_type": "code",
   "execution_count": 39,
   "metadata": {},
   "outputs": [
    {
     "data": {
      "text/plain": [
       "array([1., 1., 1., ..., 1., 1., 1.])"
      ]
     },
     "execution_count": 39,
     "metadata": {},
     "output_type": "execute_result"
    }
   ],
   "source": [
    "pyst_beam.q0"
   ]
  },
  {
   "cell_type": "code",
   "execution_count": 40,
   "metadata": {},
   "outputs": [
    {
     "data": {
      "text/plain": [
       "array([9.31494061e+08, 9.31494061e+08, 9.31494061e+08, ...,\n",
       "       9.31494061e+08, 9.31494061e+08, 9.31494061e+08])"
      ]
     },
     "execution_count": 40,
     "metadata": {},
     "output_type": "execute_result"
    }
   ],
   "source": [
    "pyst_beam.mass0"
   ]
  },
  {
   "cell_type": "code",
   "execution_count": 41,
   "metadata": {},
   "outputs": [
    {
     "data": {
      "text/plain": [
       "'9.314941e+08'"
      ]
     },
     "execution_count": 41,
     "metadata": {},
     "output_type": "execute_result"
    }
   ],
   "source": [
    "\"%e\"%(mass * c**2/e)"
   ]
  },
  {
   "cell_type": "code",
   "execution_count": 42,
   "metadata": {},
   "outputs": [
    {
     "data": {
      "text/plain": [
       "array([1., 1., 1., ..., 1., 1., 1.])"
      ]
     },
     "execution_count": 42,
     "metadata": {},
     "output_type": "execute_result"
    }
   ],
   "source": [
    "pyst_beam.chi"
   ]
  },
  {
   "cell_type": "code",
   "execution_count": 43,
   "metadata": {},
   "outputs": [
    {
     "data": {
      "text/plain": [
       "array([1., 1., 1., ..., 1., 1., 1.])"
      ]
     },
     "execution_count": 43,
     "metadata": {},
     "output_type": "execute_result"
    }
   ],
   "source": [
    "pyst_beam.charge_ratio"
   ]
  },
  {
   "cell_type": "markdown",
   "metadata": {},
   "source": [
    "# Version of SixTrackLib:"
   ]
  },
  {
   "cell_type": "code",
   "execution_count": 44,
   "metadata": {},
   "outputs": [
    {
     "name": "stdout",
     "output_type": "stream",
     "text": [
      "commit 19fb4bd7fba65e308b5f657ed2db13d38e8d3169\r\n",
      "Author: Adrian Oeftiger <a.oeftiger@gsi.de>\r\n",
      "Date:   Fri Aug 16 14:00:39 2019 +0200\r\n",
      "\r\n",
      "    python beam_elements: fixing bug in temporary Element.from_mad\r\n",
      "\r\n",
      "commit cabf84888326e4370df79582a2ab9fc5953aa1c2\r\n",
      "Merge: 6ba286e a6ee576\r\n",
      "Author: Martin Schwinzerl <martin.schwinzerl@cern.ch>\r\n",
      "Date:   Sun Jul 28 15:49:01 2019 +0200\r\n",
      "\r\n",
      "    Merge pull request #90 from giadarol/master\r\n",
      "    \r\n",
      "    thank you for the merge request.\r\n",
      "    Verified that all unit-tests pass. I've opened an issues concerning the missing C++ bindings and the upcoming changes to handling kernels with disabled beam-fields support as #91 and #92 respectively.\r\n",
      "\r\n"
     ]
    }
   ],
   "source": [
    "!cd /home/oeftiger/gsi/git/sixtracklib_aoeftiger/ && git log | head -16"
   ]
  }
 ],
 "metadata": {
  "kernelspec": {
   "display_name": "Python 3",
   "language": "python",
   "name": "python3"
  },
  "language_info": {
   "codemirror_mode": {
    "name": "ipython",
    "version": 3
   },
   "file_extension": ".py",
   "mimetype": "text/x-python",
   "name": "python",
   "nbconvert_exporter": "python",
   "pygments_lexer": "ipython3",
   "version": "3.7.3"
  }
 },
 "nbformat": 4,
 "nbformat_minor": 2
}
