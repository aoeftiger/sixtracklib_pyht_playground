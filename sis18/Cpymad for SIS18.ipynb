{
 "cells": [
  {
   "cell_type": "code",
   "execution_count": 1,
   "metadata": {},
   "outputs": [],
   "source": [
    "import numpy as np\n",
    "import matplotlib.pyplot as plt\n",
    "%matplotlib inline\n",
    "\n",
    "from scipy.constants import e, m_p, c"
   ]
  },
  {
   "cell_type": "code",
   "execution_count": 2,
   "metadata": {},
   "outputs": [
    {
     "name": "stdout",
     "output_type": "stream",
     "text": [
      "! Element definitions:\r\n",
      "! ------------------- horizontal quadrupole ----------------------------\r\n",
      "QS1F: QUADRUPOLE, L=1.04, K1=0.282632;\r\n",
      "QS2D: QUADRUPOLE, L=1.04, K1=-0.492;\r\n",
      "QS3T: QUADRUPOLE, L = 0.4804, K1 = 0.656;\r\n",
      "!---------------------  DRIFT SPACES DEFINITION  ---------------------\r\n",
      "DR1: DRIFT, L=0.6450000;\r\n",
      "DR2: DRIFT, L=0.9700000;\r\n",
      "DR3: DRIFT, L=6.8390117;\r\n",
      "DR4: DRIFT, L=0.6000000;\r\n",
      "DR5: DRIFT, L=0.7098000;\r\n",
      "DR6: DRIFT, L=0.4998000;\r\n",
      "!--------------------------  BENDING MAGNET ---------------------------\r\n",
      "ALPHA  := 15 * 1/57.2958;\r\n",
      "LL  := 150 * 1/57.2958;\r\n",
      "RB: SBEND, L=2.6175, ANGLE=ALPHA;\r\n",
      "\r\n",
      "! ---------------------------  LINE DEFINITION --------------------------\r\n",
      "! Sections without injection devices, steeres and position monitors\r\n",
      "CELLA: LINE=(DR1, RB, DR2, RB, DR3, QS1F, DR4, QS2D, DR5, QS3T, DR6);\r\n",
      "\r\n",
      "FODO: LINE = (12*CELLA);\r\n",
      "\r\n",
      "\r\n",
      "RETURN;\r\n"
     ]
    }
   ],
   "source": [
    "!cat madx/sis18.lat"
   ]
  },
  {
   "cell_type": "code",
   "execution_count": 3,
   "metadata": {},
   "outputs": [],
   "source": [
    "from cpymad.madx import Madx"
   ]
  },
  {
   "cell_type": "code",
   "execution_count": 4,
   "metadata": {},
   "outputs": [
    {
     "name": "stdout",
     "output_type": "stream",
     "text": [
      "\n",
      "  ++++++++++++++++++++++++++++++++++++++++++++\n",
      "  +     MAD-X 5.04.02  (64 bit, Linux)       +\n",
      "  + Support: mad@cern.ch, http://cern.ch/mad +\n",
      "  + Release   date: 2018.10.03               +\n",
      "  + Execution date: 2019.05.20 14:43:32      +\n",
      "  ++++++++++++++++++++++++++++++++++++++++++++\n"
     ]
    }
   ],
   "source": [
    "madx = Madx()\n",
    "madx.options.echo = False\n",
    "madx.options.info = False # avoiding output in tracking, makes a huge timing difference!!!"
   ]
  },
  {
   "cell_type": "code",
   "execution_count": 5,
   "metadata": {},
   "outputs": [],
   "source": [
    "madx.call(file=\"madx/sis18.lat\")"
   ]
  },
  {
   "cell_type": "code",
   "execution_count": 6,
   "metadata": {},
   "outputs": [],
   "source": [
    "p0c = 6 * 1e9 # in eV\n",
    "Etot = np.sqrt(p0c**2 + (m_p/e)**2 * c**4) * 1e-9 # in GeV"
   ]
  },
  {
   "cell_type": "code",
   "execution_count": 7,
   "metadata": {},
   "outputs": [
    {
     "data": {
      "text/plain": [
       "6.072919767202941"
      ]
     },
     "execution_count": 7,
     "metadata": {},
     "output_type": "execute_result"
    }
   ],
   "source": [
    "Etot"
   ]
  },
  {
   "cell_type": "code",
   "execution_count": 8,
   "metadata": {},
   "outputs": [
    {
     "data": {
      "text/plain": [
       "True"
      ]
     },
     "execution_count": 8,
     "metadata": {},
     "output_type": "execute_result"
    }
   ],
   "source": [
    "madx.command.beam(particle='proton', energy=str(Etot)) # energy in GeV"
   ]
  },
  {
   "cell_type": "code",
   "execution_count": 9,
   "metadata": {},
   "outputs": [],
   "source": [
    "madx.use(sequence=\"FODO\")"
   ]
  },
  {
   "cell_type": "code",
   "execution_count": 10,
   "metadata": {},
   "outputs": [
    {
     "name": "stdout",
     "output_type": "stream",
     "text": [
      "enter Twiss module\n",
      "\n",
      "++++++ table: summ\n",
      "\n",
      "            length             orbit5               alfa            gammatr \n",
      "       216.7081404                 -0      0.03859362031        5.090286657 \n",
      "\n",
      "                q1                dq1            betxmax              dxmax \n",
      "       4.577501457       -4.130454489        15.39960299        2.438781128 \n",
      "\n",
      "             dxrms             xcomax             xcorms                 q2 \n",
      "        1.87333493                  0                  0        2.718992979 \n",
      "\n",
      "               dq2            betymax              dymax              dyrms \n",
      "      -6.521429582         29.6324848                  0                  0 \n",
      "\n",
      "            ycomax             ycorms             deltap            synch_1 \n",
      "                 0                  0                  0                  0 \n",
      "\n",
      "           synch_2            synch_3            synch_4            synch_5 \n",
      "                 0                  0                  0                  0 \n",
      "\n",
      "            nflips \n",
      "                 0 \n"
     ]
    }
   ],
   "source": [
    "madx.twiss();"
   ]
  },
  {
   "cell_type": "code",
   "execution_count": 11,
   "metadata": {},
   "outputs": [],
   "source": [
    "assert madx.command.select(\n",
    "    flag='MAKETHIN',\n",
    "    CLASS='QUADRUPOLE',\n",
    "    SLICE='8',\n",
    ")\n",
    "\n",
    "assert madx.command.select(\n",
    "    flag='MAKETHIN',\n",
    "    class_='SBEND',\n",
    "    slice_='8',\n",
    ")\n",
    "\n",
    "assert madx.command.select(\n",
    "    flag='MAKETHIN',\n",
    "    class_='RBEND',\n",
    "    slice_='8',\n",
    ")"
   ]
  },
  {
   "cell_type": "code",
   "execution_count": 12,
   "metadata": {},
   "outputs": [
    {
     "name": "stdout",
     "output_type": "stream",
     "text": [
      "makethin: style chosen : teapot\n",
      "makethin: slicing sequence : fodo\n"
     ]
    },
    {
     "data": {
      "text/plain": [
       "True"
      ]
     },
     "execution_count": 12,
     "metadata": {},
     "output_type": "execute_result"
    }
   ],
   "source": [
    "madx.command.makethin(\n",
    "    makedipedge=False,\n",
    "    style='teapot',\n",
    "    sequence='FODO',\n",
    ")"
   ]
  },
  {
   "cell_type": "code",
   "execution_count": 13,
   "metadata": {},
   "outputs": [],
   "source": [
    "madx.use(sequence=\"FODO\") # important in order to consistently use thin lense lattice!"
   ]
  },
  {
   "cell_type": "code",
   "execution_count": 14,
   "metadata": {},
   "outputs": [
    {
     "name": "stdout",
     "output_type": "stream",
     "text": [
      "enter Twiss module\n",
      "\n",
      "++++++ table: summ\n",
      "\n",
      "            length             orbit5               alfa            gammatr \n",
      "       216.7081404                 -0      0.03859155172         5.09042308 \n",
      "\n",
      "                q1                dq1            betxmax              dxmax \n",
      "       4.577598169       -4.337325087        15.52637808        2.457595991 \n",
      "\n",
      "             dxrms             xcomax             xcorms                 q2 \n",
      "       1.851915623                  0                  0        2.718441832 \n",
      "\n",
      "               dq2            betymax              dymax              dyrms \n",
      "       -6.04407507        33.60548239                  0                  0 \n",
      "\n",
      "            ycomax             ycorms             deltap            synch_1 \n",
      "                 0                  0                  0                  0 \n",
      "\n",
      "           synch_2            synch_3            synch_4            synch_5 \n",
      "                 0                  0                  0                  0 \n",
      "\n",
      "            nflips \n",
      "                 0 \n"
     ]
    }
   ],
   "source": [
    "twiss = madx.twiss()"
   ]
  },
  {
   "cell_type": "code",
   "execution_count": 15,
   "metadata": {},
   "outputs": [
    {
     "data": {
      "image/png": "[encoded data removed]",
      "text/plain": [
       "<Figure size 432x288 with 1 Axes>"
      ]
     },
     "metadata": {
      "needs_background": "light"
     },
     "output_type": "display_data"
    }
   ],
   "source": [
    "plt.plot(twiss['s'], twiss['betx'])\n",
    "plt.plot(twiss['s'], twiss['bety']);"
   ]
  },
  {
   "cell_type": "code",
   "execution_count": 18,
   "metadata": {},
   "outputs": [
    {
     "data": {
      "text/plain": [
       "542"
      ]
     },
     "execution_count": 18,
     "metadata": {},
     "output_type": "execute_result"
    }
   ],
   "source": [
    "len(madx.sequence.fodo.elements)"
   ]
  },
  {
   "cell_type": "markdown",
   "metadata": {},
   "source": [
    "# Timing of MAD-X Tracking\n",
    "\n",
    "On the Dell Latitude 5290 with intel i5-8250U we benchmark:"
   ]
  },
  {
   "cell_type": "code",
   "execution_count": 19,
   "metadata": {},
   "outputs": [],
   "source": [
    "import time\n",
    "class Timer(object):\n",
    "    def __init__(self):\n",
    "        self.interval = 0\n",
    "\n",
    "    def __enter__(self):\n",
    "        self.t0 = time.time()\n",
    "        return self\n",
    "\n",
    "    def __exit__(self, *args, **kwargs):\n",
    "        self.t1 = time.time()\n",
    "        self.interval = self.t1 - self.t0\n",
    "        return False"
   ]
  },
  {
   "cell_type": "code",
   "execution_count": 20,
   "metadata": {},
   "outputs": [],
   "source": [
    "def prepare_track(npart):\n",
    "    madx.command.track(onetable=True)\n",
    "    madx.input('NPART={:d};'.format(npart))\n",
    "    madx.input('''\n",
    "N=0; WHILE (N<NPART) {\n",
    "    XS = 1e-6/(N+1);\n",
    "    START, X=XS;\n",
    "    N = N+1;\n",
    "    ! VALUE, N;\n",
    "}\n",
    "''')\n",
    "\n",
    "def run_track(nturns):\n",
    "    madx.command.run(turns=nturns, ffile=nturns)\n",
    "\n",
    "def tear_down():\n",
    "    madx.command.endtrack()\n",
    "\n",
    "def timeit(npart, nturns, repeat=1):\n",
    "    res = 0\n",
    "    for i in range(repeat):\n",
    "        prepare_track(npart)\n",
    "        with Timer() as t:\n",
    "            run_track(nturns)\n",
    "            tear_down()\n",
    "        res = (res * i + t.interval) / (i + 1)\n",
    "\n",
    "    print ('The job took {:.3f} s for {} particles and {} turns (mean of {} loops).'.format(\n",
    "        res, npart, nturns, repeat))"
   ]
  },
  {
   "cell_type": "markdown",
   "metadata": {},
   "source": [
    "### result for $1$ turn and $1\\times 10^5$ particles:"
   ]
  },
  {
   "cell_type": "code",
   "execution_count": 21,
   "metadata": {},
   "outputs": [
    {
     "name": "stdout",
     "output_type": "stream",
     "text": [
      "enter TRACK module\n",
      "exit TRACK module\n",
      "\n",
      "The job took 1.520 s for 100000 particles and 1 turns (mean of 1 loops).\n"
     ]
    }
   ],
   "source": [
    "timeit(npart=100000, nturns=1)"
   ]
  },
  {
   "cell_type": "markdown",
   "metadata": {},
   "source": [
    "### result for $1\\times 10^5$ turns and $1$ particle:"
   ]
  },
  {
   "cell_type": "code",
   "execution_count": 22,
   "metadata": {},
   "outputs": [
    {
     "name": "stdout",
     "output_type": "stream",
     "text": [
      "enter TRACK module\n",
      "exit TRACK module\n",
      "\n",
      "The job took 186.685 s for 1 particles and 100000 turns (mean of 1 loops).\n"
     ]
    }
   ],
   "source": [
    "timeit(npart=1, nturns=int(1e5))"
   ]
  },
  {
   "cell_type": "markdown",
   "metadata": {},
   "source": [
    "### result for $1$ turn and $1\\times 10^6$ particles:"
   ]
  },
  {
   "cell_type": "code",
   "execution_count": 21,
   "metadata": {},
   "outputs": [
    {
     "name": "stdout",
     "output_type": "stream",
     "text": [
      "enter TRACK module\n",
      "exit TRACK module\n",
      "\n",
      "The job took 20.720 s for 1000000 particles and 1 turns (mean of 1 loops).\n"
     ]
    }
   ],
   "source": [
    "timeit(npart=int(1e6), nturns=1)"
   ]
  },
  {
   "cell_type": "markdown",
   "metadata": {},
   "source": [
    ".\n",
    "\n",
    ".\n",
    "\n",
    ".\n",
    "\n",
    ".\n",
    "\n",
    ".\n",
    "\n",
    ".\n",
    "\n",
    "# disregard: slow timings with `madx.options.info == True`\n",
    "\n",
    "===="
   ]
  },
  {
   "cell_type": "markdown",
   "metadata": {},
   "source": [
    "### for $1\\times 10^6$ particles:"
   ]
  },
  {
   "cell_type": "code",
   "execution_count": 23,
   "metadata": {},
   "outputs": [
    {
     "data": {
      "text/plain": [
       "234.40291285514832"
      ]
     },
     "execution_count": 23,
     "metadata": {},
     "output_type": "execute_result"
    }
   ],
   "source": [
    "t.interval"
   ]
  },
  {
   "cell_type": "markdown",
   "metadata": {},
   "source": [
    "### for $1\\times 10^5$ particles:"
   ]
  },
  {
   "cell_type": "code",
   "execution_count": 22,
   "metadata": {},
   "outputs": [
    {
     "data": {
      "text/plain": [
       "22.97009015083313"
      ]
     },
     "execution_count": 22,
     "metadata": {},
     "output_type": "execute_result"
    }
   ],
   "source": [
    "t.interval"
   ]
  },
  {
   "cell_type": "code",
   "execution_count": 21,
   "metadata": {},
   "outputs": [
    {
     "data": {
      "text/plain": [
       "23.105098009109497"
      ]
     },
     "execution_count": 21,
     "metadata": {},
     "output_type": "execute_result"
    }
   ],
   "source": [
    "t.interval"
   ]
  },
  {
   "cell_type": "markdown",
   "metadata": {},
   "source": [
    "### for $1$ particle and $1\\times 10^5$ turns:"
   ]
  },
  {
   "cell_type": "code",
   "execution_count": 33,
   "metadata": {},
   "outputs": [
    {
     "data": {
      "text/plain": [
       "247.38382005691528"
      ]
     },
     "execution_count": 33,
     "metadata": {},
     "output_type": "execute_result"
    }
   ],
   "source": [
    "t.interval"
   ]
  },
  {
   "cell_type": "markdown",
   "metadata": {},
   "source": [
    "### checking the output:"
   ]
  },
  {
   "cell_type": "code",
   "execution_count": 23,
   "metadata": {},
   "outputs": [
    {
     "data": {
      "text/plain": [
       "True"
      ]
     },
     "execution_count": 23,
     "metadata": {},
     "output_type": "execute_result"
    }
   ],
   "source": [
    "madx.input('WRITE, TABLE=TRACKSUMM, FILE=tracksumm.dat;')"
   ]
  }
 ],
 "metadata": {
  "kernelspec": {
   "display_name": "Python 3",
   "language": "python",
   "name": "python3"
  },
  "language_info": {
   "codemirror_mode": {
    "name": "ipython",
    "version": 3
   },
   "file_extension": ".py",
   "mimetype": "text/x-python",
   "name": "python",
   "nbconvert_exporter": "python",
   "pygments_lexer": "ipython3",
   "version": "3.7.3"
  }
 },
 "nbformat": 4,
 "nbformat_minor": 2
}
