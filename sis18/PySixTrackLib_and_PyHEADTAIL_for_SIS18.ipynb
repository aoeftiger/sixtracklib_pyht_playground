{
 "cells": [
  {
   "cell_type": "code",
   "execution_count": 1,
   "metadata": {},
   "outputs": [],
   "source": [
    "import numpy as np\n",
    "from matplotlib import pyplot as plt\n",
    "%matplotlib inline\n",
    "\n",
    "import seaborn as sns\n",
    "sns.set_context('talk', font_scale=1.2, rc={'lines.linewidth': 3})\n",
    "sns.set_style('whitegrid',\n",
    "              {'grid.linestyle': ':', 'grid.color': 'red', 'axes.edgecolor': '0.5',\n",
    "               'axes.linewidth': 1.2, 'legend.frameon': True})"
   ]
  },
  {
   "cell_type": "code",
   "execution_count": 2,
   "metadata": {},
   "outputs": [],
   "source": [
    "import pysixtracklib as pyst\n",
    "from pysixtracklib import stcommon as st"
   ]
  },
  {
   "cell_type": "code",
   "execution_count": 3,
   "metadata": {},
   "outputs": [],
   "source": [
    "from cpymad.madx import Madx"
   ]
  },
  {
   "cell_type": "code",
   "execution_count": 4,
   "metadata": {},
   "outputs": [],
   "source": [
    "from scipy.constants import e, m_p, c"
   ]
  },
  {
   "cell_type": "code",
   "execution_count": 5,
   "metadata": {},
   "outputs": [],
   "source": [
    "import sys\n",
    "sys.path = [\"/home/HPC/oeftiger/PyHEADTAIL_py3/python3/PyHEADTAIL/\", \n",
    "            \"/home/HPC/oeftiger/PyHEADTAIL_py3/\"] + sys.path"
   ]
  },
  {
   "cell_type": "code",
   "execution_count": 6,
   "metadata": {},
   "outputs": [],
   "source": [
    "import time"
   ]
  },
  {
   "cell_type": "code",
   "execution_count": 7,
   "metadata": {},
   "outputs": [],
   "source": [
    "from pycuda.autoinit import context\n",
    "from pycuda import gpuarray as gp"
   ]
  },
  {
   "cell_type": "code",
   "execution_count": 8,
   "metadata": {},
   "outputs": [
    {
     "name": "stdout",
     "output_type": "stream",
     "text": [
      "PyHEADTAIL v1.13.1\n",
      "\n",
      "\n",
      "PyPIC v2.4.1\n",
      "Info: cusolver_Rf not found. GPU finite difference solver not available.\n"
     ]
    }
   ],
   "source": [
    "from PyHEADTAIL.general.element import Element\n",
    "from PyHEADTAIL.particles.generators import generate_Gaussian6DTwiss\n",
    "\n",
    "from PyHEADTAIL.particles.slicing import UniformBinSlicer\n",
    "from PyHEADTAIL.spacecharge.pypic_factory import create_3dmesh_from_beam\n",
    "from PyHEADTAIL.spacecharge.pypic_spacecharge import (\n",
    "    SpaceChargePIC, SpaceChargePIC_Adaptive25D)\n",
    "\n",
    "from PyHEADTAIL.general.contextmanager import GPU"
   ]
  },
  {
   "cell_type": "code",
   "execution_count": 9,
   "metadata": {},
   "outputs": [],
   "source": [
    "from PyPIC.GPU.poisson_solver.FFT_solver import GPUFFTPoissonSolver_2_5D\n",
    "from PyPIC.GPU.pypic import PyPIC_GPU\n",
    "\n",
    "# not necessary but nice: memory pool sharing between PyHEADTAIL and PyPIC\n",
    "try:\n",
    "    from PyHEADTAIL.gpu.gpu_utils import memory_pool\n",
    "except:\n",
    "    memory_pool = None"
   ]
  },
  {
   "cell_type": "markdown",
   "metadata": {},
   "source": [
    "$\\implies$ for the moment for protons"
   ]
  },
  {
   "cell_type": "code",
   "execution_count": 10,
   "metadata": {},
   "outputs": [],
   "source": [
    "n_macroparticles = int(1e4)\n",
    "n_slices_sc = 32\n",
    "\n",
    "# fixed field map for space charge\n",
    "n_mesh_nodes = 128\n",
    "n_mesh_sigma = 5\n",
    "\n",
    "intensity = 1.3e11\n",
    "epsn_x = epsn_y = 3e-6 # in [m.rad]\n",
    "sigma_z = 0.23 # in [m]\n",
    "\n",
    "p0c = 6 * 1e9 # in eV\n",
    "\n",
    "Etot = np.sqrt(p0c**2 + (m_p/e)**2 * c**4) * 1e-9 # in GeV\n",
    "p0 = p0c / c * e\n",
    "gamma = np.sqrt(1 + (p0 / (m_p * c))**2)\n",
    "beta = np.sqrt(1 - gamma**-2)\n",
    "beta_z = 1 #np.abs(eta) * circumference / (2 * np.pi * Qs)\n",
    "epsn_z = sigma_z**2 * 4 * np.pi * p0 / (e * beta_z)"
   ]
  },
  {
   "cell_type": "code",
   "execution_count": 11,
   "metadata": {},
   "outputs": [],
   "source": [
    "def provide_pycuda_array(ptr):\n",
    "    return gp.GPUArray(n_macroparticles, dtype=np.float64, gpudata=ptr)"
   ]
  },
  {
   "cell_type": "markdown",
   "metadata": {},
   "source": [
    "# Preparing lattice"
   ]
  },
  {
   "cell_type": "code",
   "execution_count": 12,
   "metadata": {},
   "outputs": [
    {
     "name": "stdout",
     "output_type": "stream",
     "text": [
      "\n",
      "  ++++++++++++++++++++++++++++++++++++++++++++\n",
      "  +     MAD-X 5.05.01  (64 bit, Linux)       +\n",
      "  + Support: mad@cern.ch, http://cern.ch/mad +\n",
      "  + Release   date: 2019.06.07               +\n",
      "  + Execution date: 2019.06.25 14:59:10      +\n",
      "  ++++++++++++++++++++++++++++++++++++++++++++\n"
     ]
    }
   ],
   "source": [
    "madx = Madx()\n",
    "madx.options.echo = False"
   ]
  },
  {
   "cell_type": "code",
   "execution_count": 13,
   "metadata": {},
   "outputs": [],
   "source": [
    "madx.call(file=\"sis18_thin.seq\")"
   ]
  },
  {
   "cell_type": "code",
   "execution_count": 14,
   "metadata": {},
   "outputs": [
    {
     "data": {
      "text/plain": [
       "True"
      ]
     },
     "execution_count": 14,
     "metadata": {},
     "output_type": "execute_result"
    }
   ],
   "source": [
    "madx.command.beam(particle='proton', energy=str(Etot)) # energy in GeV"
   ]
  },
  {
   "cell_type": "code",
   "execution_count": 15,
   "metadata": {},
   "outputs": [],
   "source": [
    "madx.use(sequence=\"FODO\")"
   ]
  },
  {
   "cell_type": "code",
   "execution_count": 16,
   "metadata": {},
   "outputs": [
    {
     "name": "stdout",
     "output_type": "stream",
     "text": [
      "enter Twiss module\n",
      "  \n",
      "iteration:   1 error:   0.000000E+00 deltap:   0.000000E+00\n",
      "orbit:   0.000000E+00  0.000000E+00  0.000000E+00  0.000000E+00  0.000000E+00  0.000000E+00\n",
      "\n",
      "++++++ table: summ\n",
      "\n",
      "            length             orbit5               alfa            gammatr \n",
      "       216.7081404                 -0      0.03859155171         5.09042308 \n",
      "\n",
      "                q1                dq1            betxmax              dxmax \n",
      "       4.577598169       -4.337325087        15.52637808        2.457595991 \n",
      "\n",
      "             dxrms             xcomax             xcorms                 q2 \n",
      "       1.851915623                  0                  0        2.718441832 \n",
      "\n",
      "               dq2            betymax              dymax              dyrms \n",
      "       -6.04407507        33.60548239                  0                  0 \n",
      "\n",
      "            ycomax             ycorms             deltap            synch_1 \n",
      "                 0                  0                  0                  0 \n",
      "\n",
      "           synch_2            synch_3            synch_4            synch_5 \n",
      "                 0                  0                  0                  0 \n",
      "\n",
      "            nflips \n",
      "                 0 \n"
     ]
    }
   ],
   "source": [
    "twiss = madx.twiss();"
   ]
  },
  {
   "cell_type": "code",
   "execution_count": 17,
   "metadata": {},
   "outputs": [],
   "source": [
    "circumference = twiss.summary.length\n",
    "assert circumference == twiss['s'][-1]"
   ]
  },
  {
   "cell_type": "markdown",
   "metadata": {},
   "source": [
    "Injecting SC markers a la Hannes:"
   ]
  },
  {
   "cell_type": "code",
   "execution_count": 18,
   "metadata": {},
   "outputs": [
    {
     "data": {
      "text/plain": [
       "2.1670814039999997"
      ]
     },
     "execution_count": 18,
     "metadata": {},
     "output_type": "execute_result"
    }
   ],
   "source": [
    "n_scnodes = 5*20 #12*20\n",
    "l_target = circumference / n_scnodes\n",
    "l_target"
   ]
  },
  {
   "cell_type": "code",
   "execution_count": 19,
   "metadata": {},
   "outputs": [
    {
     "name": "stdout",
     "output_type": "stream",
     "text": [
      "s                  =        8.871664737 ;\n",
      "s                  =        11.03874614 ;\n",
      "s                  =        13.20582755 ;\n",
      "s                  =        26.93067644 ;\n",
      "s                  =        29.09775784 ;\n",
      "s                  =        31.26483925 ;\n",
      "s                  =        44.98968814 ;\n",
      "s                  =        47.15676954 ;\n",
      "s                  =        49.32385095 ;\n",
      "s                  =        63.04869984 ;\n",
      "s                  =        65.21578124 ;\n",
      "s                  =        67.38286265 ;\n",
      "s                  =        81.10771154 ;\n",
      "s                  =        83.27479294 ;\n",
      "s                  =        85.44187435 ;\n",
      "s                  =        99.16672324 ;\n",
      "s                  =        101.3338046 ;\n",
      "s                  =         103.500886 ;\n",
      "s                  =        117.2257349 ;\n",
      "s                  =        119.3928163 ;\n",
      "s                  =        121.5598977 ;\n",
      "s                  =        135.2847466 ;\n",
      "s                  =         137.451828 ;\n",
      "s                  =        139.6189094 ;\n",
      "s                  =        153.3437583 ;\n",
      "s                  =        155.5108397 ;\n",
      "s                  =        157.6779211 ;\n",
      "s                  =          171.40277 ;\n",
      "s                  =        173.5698514 ;\n",
      "s                  =        175.7369328 ;\n",
      "s                  =        189.4617817 ;\n",
      "s                  =        191.6288631 ;\n",
      "s                  =        193.7959445 ;\n",
      "s                  =        207.5207934 ;\n",
      "s                  =        209.6878748 ;\n",
      "s                  =        211.8549562 ;\n",
      "++++++ info: seqedit - number of elements installed:  36\n",
      "++++++ info: seqedit - number of elements moved:      0\n",
      "++++++ info: seqedit - number of elements removed:    0\n",
      "++++++ info: seqedit - number of elements replaced:   0\n"
     ]
    },
    {
     "data": {
      "text/plain": [
       "True"
      ]
     },
     "execution_count": 19,
     "metadata": {},
     "output_type": "execute_result"
    }
   ],
   "source": [
    "madx.input(\"\"\"\n",
    "myvalue(xx,yy,zz): macro = {myval = table(xx,yy,zz);};\n",
    "\n",
    "sc_placeholder : Marker; \n",
    "option, -info;\n",
    "l_target = \"\"\" + str(l_target) + \"\"\";\n",
    "l_fuzz = l_target/2.;\n",
    "rows = table(twiss,tablelength);\n",
    "seqedit, sequence=FODO;\n",
    "while(i<rows){\n",
    "    i = i+1;\n",
    "    exec, myvalue(twiss,l,$i);\n",
    "    length = myval;\n",
    "    if(length > l_target + l_fuzz){\n",
    "        ! value, length;\n",
    "        l_remaining = length;\n",
    "        exec, myvalue(twiss,s,$i);\n",
    "        s = myval - length;\n",
    "        while (l_remaining > l_target){\n",
    "            s = s + l_target;\n",
    "            value, s;\n",
    "            install, element=sc_placeholder, at=s;\n",
    "            l_remaining = l_remaining - l_target;\n",
    "        }\n",
    "    }\n",
    "}\n",
    "flatten;\n",
    "option, info;\n",
    "endedit;\n",
    "\"\"\")"
   ]
  },
  {
   "cell_type": "code",
   "execution_count": 20,
   "metadata": {},
   "outputs": [],
   "source": [
    "madx.use(sequence='FODO')"
   ]
  },
  {
   "cell_type": "markdown",
   "metadata": {},
   "source": [
    "# Preparing PyHEADTAIL beam"
   ]
  },
  {
   "cell_type": "code",
   "execution_count": 21,
   "metadata": {},
   "outputs": [],
   "source": [
    "D_x_0 = twiss['dx'][0] * beta\n",
    "D_y_0 = twiss['dy'][0] * beta\n",
    "\n",
    "pyht_beam = generate_Gaussian6DTwiss(\n",
    "    n_macroparticles, intensity, e, m_p, circumference, gamma,\n",
    "    twiss['alfx'][0], twiss['alfy'][0], twiss['betx'][0], twiss['bety'][0],\n",
    "    beta_z, epsn_x, epsn_y, epsn_z, \n",
    "    dispersion_x=D_x_0 if D_x_0 else None,\n",
    "    dispersion_y=D_y_0 if D_y_0 else None,\n",
    ")"
   ]
  },
  {
   "cell_type": "markdown",
   "metadata": {},
   "source": [
    "# Preparing PySTL for GPU"
   ]
  },
  {
   "cell_type": "code",
   "execution_count": 22,
   "metadata": {},
   "outputs": [],
   "source": [
    "pyst_beam = pyst.Particles.from_ref(num_particles=n_macroparticles, p0c=p0c)"
   ]
  },
  {
   "cell_type": "code",
   "execution_count": 23,
   "metadata": {},
   "outputs": [],
   "source": [
    "elements = pyst.Elements.from_mad(madx.sequence.FODO, exact_drift=True)"
   ]
  },
  {
   "cell_type": "code",
   "execution_count": null,
   "metadata": {},
   "outputs": [],
   "source": [
    "assert (\n",
    "    len(elements.get_elements()) // 2 + 1 == \n",
    "    len(madx.sequence.FODO.elements)\n",
    "), ( \n",
    "    \"Did not generate the same number of PySixTrackLib \"\n",
    "    \"lattice elements as there are in the MAD-X lattice! \"\n",
    "    \"This will mess up the computation of SC node lengths...\"\n",
    ")"
   ]
  },
  {
   "cell_type": "code",
   "execution_count": null,
   "metadata": {},
   "outputs": [],
   "source": [
    "elements.BeamMonitor();"
   ]
  },
  {
   "cell_type": "code",
   "execution_count": null,
   "metadata": {},
   "outputs": [],
   "source": [
    "trackjob = pyst.CudaTrackJob(elements, pyst_beam, until_turn_elem_by_elem=True)"
   ]
  },
  {
   "cell_type": "code",
   "execution_count": null,
   "metadata": {},
   "outputs": [],
   "source": [
    "class TrackSixTrackLib(Element):\n",
    "    def __init__(self, trackjob, i_start, i_end, context=context):\n",
    "        self.trackjob = trackjob\n",
    "        self.context = context\n",
    "        \n",
    "        self.i_start = i_start\n",
    "        self.i_end = i_end\n",
    "        n_elements = len(elements.get_elements())\n",
    "        self.is_last_element = i_end == n_elements\n",
    "        \n",
    "        trackjob.fetch_particle_addresses()\n",
    "        assert trackjob.last_status_success\n",
    "        ptr = trackjob.get_particle_addresses() # particleset==0 is default\n",
    "        \n",
    "        self._x = provide_pycuda_array(ptr.contents.x)\n",
    "        self._px = provide_pycuda_array(ptr.contents.px)\n",
    "        self._y = provide_pycuda_array(ptr.contents.y)\n",
    "        self._py = provide_pycuda_array(ptr.contents.py)\n",
    "        self._z = provide_pycuda_array(ptr.contents.zeta)\n",
    "        self._delta = provide_pycuda_array(ptr.contents.delta)\n",
    "\n",
    "    def track(self, beam):\n",
    "        # pass arrays and convert units\n",
    "        self.pyht_to_stlib(beam)\n",
    "        # track in SixTrackLib\n",
    "        trackjob.track_line(self.i_start, self.i_end, \n",
    "                            finish_turn=self.is_last_element)\n",
    "        self.context.synchronize()\n",
    "        assert trackjob.last_track_status_success\n",
    "        # pass arrays back (converting units back)\n",
    "        self.stlib_to_pyht(beam)\n",
    "\n",
    "    def pyht_to_stlib(self, beam):\n",
    "        self._x[:] = beam.x\n",
    "        self._px[:] = beam.xp\n",
    "        self._y[:] = beam.y\n",
    "        self._py[:] = beam.yp\n",
    "        self._z[:] = beam.z\n",
    "        self._delta[:] = beam.dp\n",
    "\n",
    "    def stlib_to_pyht(self, beam):\n",
    "        beam.x = self._x\n",
    "        beam.xp = self._px\n",
    "        beam.y = self._y\n",
    "        beam.yp = self._py\n",
    "        beam.z = self._z\n",
    "        beam.dp = self._delta"
   ]
  },
  {
   "cell_type": "markdown",
   "metadata": {},
   "source": [
    "# Preparing Tracking lattice"
   ]
  },
  {
   "cell_type": "code",
   "execution_count": null,
   "metadata": {},
   "outputs": [],
   "source": [
    "idx_mad_sc = [i for i, name in enumerate(madx.sequence.FODO.element_names()) \n",
    "              if 'sc_placeholder' in name]\n",
    "sc_optics = {\n",
    "    'beta_x': twiss['betx'][idx_mad_sc],\n",
    "    'beta_y': twiss['bety'][idx_mad_sc],\n",
    "    'x': twiss['x'][idx_mad_sc],\n",
    "    'y': twiss['y'][idx_mad_sc],\n",
    "    's': twiss['s'][idx_mad_sc]\n",
    "}"
   ]
  },
  {
   "cell_type": "code",
   "execution_count": null,
   "metadata": {},
   "outputs": [],
   "source": [
    "sig_x = np.sqrt(sc_optics['beta_x'].max() * epsn_x / (beta * gamma))\n",
    "sig_y = np.sqrt(sc_optics['beta_y'].max() * epsn_y / (beta * gamma))"
   ]
  },
  {
   "cell_type": "code",
   "execution_count": null,
   "metadata": {},
   "outputs": [],
   "source": [
    "slicer_sc = UniformBinSlicer(n_slices_sc, n_sigma_z=4) #z_cuts=slicing_interval)"
   ]
  },
  {
   "cell_type": "code",
   "execution_count": null,
   "metadata": {},
   "outputs": [],
   "source": [
    "mesh_3d = create_3dmesh_from_beam(pyht_beam, [n_mesh_nodes]*2, [n_mesh_sigma]*2, \n",
    "                                  slices=pyht_beam.get_slices(slicer_sc))"
   ]
  },
  {
   "cell_type": "code",
   "execution_count": null,
   "metadata": {},
   "outputs": [],
   "source": [
    "poissonsolver = GPUFFTPoissonSolver_2_5D(mesh_3d, context=context, save_memory=False)\n",
    "pypic_algorithm = PyPIC_GPU(mesh_3d, poissonsolver, context=context, \n",
    "                            memory_pool=memory_pool)"
   ]
  },
  {
   "cell_type": "code",
   "execution_count": null,
   "metadata": {},
   "outputs": [
    {
     "data": {
      "text/plain": [
       "216.7081404"
      ]
     },
     "execution_count": 33,
     "metadata": {},
     "output_type": "execute_result"
    }
   ],
   "source": [
    "circumference"
   ]
  },
  {
   "cell_type": "code",
   "execution_count": null,
   "metadata": {},
   "outputs": [
    {
     "data": {
      "text/plain": [
       "216.7081404"
      ]
     },
     "execution_count": 34,
     "metadata": {},
     "output_type": "execute_result"
    }
   ],
   "source": [
    "sum(el.length for el in elements.get_elements() if isinstance(el, pyst.DriftExact))"
   ]
  },
  {
   "cell_type": "code",
   "execution_count": null,
   "metadata": {},
   "outputs": [],
   "source": [
    "one_turn_map = []\n",
    "\n",
    "i_last = 1\n",
    "length_covered = 0\n",
    "for i_curr, el in enumerate(elements.get_elements()[:-1]):\n",
    "    if not isinstance(el, pyst.DriftExact):\n",
    "        continue\n",
    "    length_covered += el.length\n",
    "    \n",
    "    #i_curr == 0 or \n",
    "    if el.length != 0: # only inject SC node at markers (for SC)\n",
    "        continue\n",
    "    \n",
    "    pyst_node = TrackSixTrackLib(trackjob, i_last, i_curr + 1)# - 1)\n",
    "    one_turn_map.append(pyst_node)\n",
    "    \n",
    "    sc_node = SpaceChargePIC(length_covered, pypic_algorithm)\n",
    "    one_turn_map.append(sc_node)\n",
    "    \n",
    "    i_last = i_curr\n",
    "    length_covered = 0\n",
    "\n",
    "# assert pyst_node.i_end == len(elements.get_elements()) - 3\n",
    "assert el._offset == elements.get_elements()[-2]._offset\n",
    "assert isinstance(el, pyst.DriftExact)\n",
    "assert el.length == 0\n",
    "\n",
    "pyst_node.is_last_element = True"
   ]
  },
  {
   "cell_type": "markdown",
   "metadata": {},
   "source": [
    "# Cross-check single-particle tracking model physics\n",
    "\n",
    "Comparing split `TrackSixTrackLib.track` vs. `trackjob.track_elem_by_elem`"
   ]
  },
  {
   "cell_type": "markdown",
   "metadata": {},
   "source": [
    "## run in one go with `track_elem_by_elem`"
   ]
  },
  {
   "cell_type": "code",
   "execution_count": null,
   "metadata": {},
   "outputs": [],
   "source": [
    "D_x_0 = twiss['dx'][0] * beta\n",
    "D_y_0 = twiss['dy'][0] * beta\n",
    "\n",
    "np.random.seed(0)\n",
    "\n",
    "pyht_beam = generate_Gaussian6DTwiss(\n",
    "    n_macroparticles, intensity, e, m_p, circumference, gamma,\n",
    "    twiss['alfx'][0], twiss['alfy'][0], twiss['betx'][0], twiss['bety'][0],\n",
    "    beta_z, epsn_x, epsn_y, epsn_z, \n",
    "    dispersion_x=D_x_0 if D_x_0 else None,\n",
    "    dispersion_y=D_y_0 if D_y_0 else None,\n",
    ")"
   ]
  },
  {
   "cell_type": "code",
   "execution_count": null,
   "metadata": {},
   "outputs": [],
   "source": [
    "with GPU(pyht_beam):\n",
    "    pyst_node.pyht_to_stlib(pyht_beam)"
   ]
  },
  {
   "cell_type": "code",
   "execution_count": null,
   "metadata": {},
   "outputs": [],
   "source": [
    "trackjob.track_elem_by_elem(np.max(pyst_beam.at_turn) + 1)"
   ]
  },
  {
   "cell_type": "code",
   "execution_count": null,
   "metadata": {},
   "outputs": [],
   "source": [
    "trackjob.last_track_status_success"
   ]
  },
  {
   "cell_type": "code",
   "execution_count": null,
   "metadata": {},
   "outputs": [],
   "source": [
    "trackjob.collect()"
   ]
  },
  {
   "cell_type": "code",
   "execution_count": null,
   "metadata": {},
   "outputs": [],
   "source": [
    "x_pystl = trackjob.output.particles[0].x\n",
    "y_pystl = trackjob.output.particles[0].y\n",
    "\n",
    "x_pystl = x_pystl[0::n_macroparticles]#[1:][::2]\n",
    "y_pystl = y_pystl[0::n_macroparticles]#[1:][::2]"
   ]
  },
  {
   "cell_type": "code",
   "execution_count": null,
   "metadata": {},
   "outputs": [],
   "source": [
    "s_positions_all = []\n",
    "for el in elements.get_elements():\n",
    "    if isinstance(el, pyst.DriftExact):\n",
    "        s_positions_all.append(el.length)\n",
    "    else:\n",
    "        s_positions_all.append(0)\n",
    "s_positions_all = np.cumsum(s_positions_all)"
   ]
  },
  {
   "cell_type": "code",
   "execution_count": null,
   "metadata": {
    "scrolled": true
   },
   "outputs": [],
   "source": [
    "plt.plot(s_positions_all[0::2], x_pystl[0::2])\n",
    "plt.twinx()\n",
    "plt.grid(False)\n",
    "plt.plot(s_positions_all[0::2], y_pystl[0::2], color='orange')"
   ]
  },
  {
   "cell_type": "markdown",
   "metadata": {},
   "source": [
    "## run piecewise with `TrackSixTrackLib`"
   ]
  },
  {
   "cell_type": "code",
   "execution_count": null,
   "metadata": {},
   "outputs": [],
   "source": [
    "one_turn_map_sp = [m for m in one_turn_map if isinstance(m, TrackSixTrackLib)]\n",
    "s_positions = np.cumsum([0] + list(m.length for m in one_turn_map if isinstance(m, SpaceChargePIC)))"
   ]
  },
  {
   "cell_type": "code",
   "execution_count": null,
   "metadata": {},
   "outputs": [],
   "source": [
    "D_x_0 = twiss['dx'][0] * beta\n",
    "D_y_0 = twiss['dy'][0] * beta\n",
    "\n",
    "np.random.seed(0)\n",
    "\n",
    "pyht_beam = generate_Gaussian6DTwiss(\n",
    "    n_macroparticles, intensity, e, m_p, circumference, gamma,\n",
    "    twiss['alfx'][0], twiss['alfy'][0], twiss['betx'][0], twiss['bety'][0],\n",
    "    beta_z, epsn_x, epsn_y, epsn_z, \n",
    "    dispersion_x=D_x_0 if D_x_0 else None,\n",
    "    dispersion_y=D_y_0 if D_y_0 else None,\n",
    ")"
   ]
  },
  {
   "cell_type": "code",
   "execution_count": null,
   "metadata": {},
   "outputs": [],
   "source": [
    "with GPU(pyht_beam):\n",
    "    one_turn_map_sp[0].pyht_to_stlib(pyht_beam)"
   ]
  },
  {
   "cell_type": "code",
   "execution_count": null,
   "metadata": {},
   "outputs": [],
   "source": [
    "rec_x = np.empty(len(s_positions), dtype=float)\n",
    "rec_y = np.empty_like(rec_x)\n",
    "\n",
    "rec_x[0] = pyht_beam.x[0]\n",
    "rec_y[0] = pyht_beam.y[0]\n",
    "\n",
    "with GPU(pyht_beam):\n",
    "    for i, m in enumerate(one_turn_map_sp):\n",
    "        m.track(pyht_beam)\n",
    "        context.synchronize()\n",
    "        \n",
    "        rec_x[i+1] = pyht_beam.x[0].get()\n",
    "        rec_y[i+1] = pyht_beam.y[0].get()"
   ]
  },
  {
   "cell_type": "code",
   "execution_count": null,
   "metadata": {
    "scrolled": true
   },
   "outputs": [],
   "source": [
    "plt.plot(s_positions, rec_x)\n",
    "plt.twinx()\n",
    "plt.grid(False)\n",
    "plt.plot(s_positions, rec_y, color='orange')"
   ]
  },
  {
   "cell_type": "markdown",
   "metadata": {},
   "source": [
    "## comparison"
   ]
  },
  {
   "cell_type": "code",
   "execution_count": null,
   "metadata": {
    "scrolled": false
   },
   "outputs": [],
   "source": [
    "plt.figure(figsize=(15, 8))\n",
    "plt.plot(s_positions_all[0::2], x_pystl[0::2], label='PySTL elem_by_elem')\n",
    "plt.plot(s_positions, rec_x, '.', label='TrackSixTrackLib')\n",
    "plt.legend();"
   ]
  },
  {
   "cell_type": "markdown",
   "metadata": {},
   "source": [
    "# Timing"
   ]
  },
  {
   "cell_type": "code",
   "execution_count": null,
   "metadata": {},
   "outputs": [],
   "source": [
    "t0 = time.time()\n",
    "\n",
    "for m in one_turn_map:\n",
    "    m.track(pyht_beam)\n",
    "    \n",
    "t1 = time.time()"
   ]
  },
  {
   "cell_type": "code",
   "execution_count": null,
   "metadata": {},
   "outputs": [],
   "source": [
    "t1 - t0"
   ]
  },
  {
   "cell_type": "code",
   "execution_count": null,
   "metadata": {},
   "outputs": [],
   "source": [
    "stats = %prun -r -q   for m in one_turn_map: m.track(pyht_beam)"
   ]
  },
  {
   "cell_type": "code",
   "execution_count": null,
   "metadata": {},
   "outputs": [],
   "source": [
    "stats.sort_stats(2).print_stats(20)"
   ]
  },
  {
   "cell_type": "code",
   "execution_count": null,
   "metadata": {},
   "outputs": [],
   "source": [
    "stats = %prun -r -q for m in one_turn_map_sp: m.track(pyht_beam)"
   ]
  },
  {
   "cell_type": "code",
   "execution_count": null,
   "metadata": {},
   "outputs": [],
   "source": [
    "stats.sort_stats(2).print_stats(20)"
   ]
  }
 ],
 "metadata": {
  "kernelspec": {
   "display_name": "Python 3",
   "language": "python",
   "name": "python3"
  },
  "language_info": {
   "codemirror_mode": {
    "name": "ipython",
    "version": 3
   },
   "file_extension": ".py",
   "mimetype": "text/x-python",
   "name": "python",
   "nbconvert_exporter": "python",
   "pygments_lexer": "ipython3",
   "version": "3.7.3"
  }
 },
 "nbformat": 4,
 "nbformat_minor": 2
}
