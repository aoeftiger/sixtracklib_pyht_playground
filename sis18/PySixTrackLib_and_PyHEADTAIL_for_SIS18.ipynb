{
 "cells": [
  {
   "cell_type": "code",
   "execution_count": 1,
   "metadata": {},
   "outputs": [],
   "source": [
    "import numpy as np\n",
    "from matplotlib import pyplot as plt\n",
    "%matplotlib inline\n",
    "\n",
    "import seaborn as sns\n",
    "sns.set_context('talk', font_scale=1.2, rc={'lines.linewidth': 3})\n",
    "sns.set_style('whitegrid',\n",
    "              {'grid.linestyle': ':', 'grid.color': 'red', 'axes.edgecolor': '0.5',\n",
    "               'axes.linewidth': 1.2, 'legend.frameon': True})"
   ]
  },
  {
   "cell_type": "code",
   "execution_count": 2,
   "metadata": {},
   "outputs": [],
   "source": [
    "import pysixtracklib as pyst\n",
    "from pysixtracklib import stcommon as st"
   ]
  },
  {
   "cell_type": "code",
   "execution_count": 3,
   "metadata": {},
   "outputs": [],
   "source": [
    "from cpymad.madx import Madx"
   ]
  },
  {
   "cell_type": "code",
   "execution_count": 4,
   "metadata": {},
   "outputs": [],
   "source": [
    "from scipy.constants import e, m_p, c"
   ]
  },
  {
   "cell_type": "code",
   "execution_count": 5,
   "metadata": {},
   "outputs": [],
   "source": [
    "import sys\n",
    "sys.path = [\"/home/HPC/oeftiger/PyHEADTAIL_py3/python3/PyHEADTAIL/\", \n",
    "            \"/home/HPC/oeftiger/PyHEADTAIL_py3/\"] + sys.path"
   ]
  },
  {
   "cell_type": "code",
   "execution_count": 6,
   "metadata": {},
   "outputs": [],
   "source": [
    "import time"
   ]
  },
  {
   "cell_type": "code",
   "execution_count": 7,
   "metadata": {},
   "outputs": [],
   "source": [
    "from pycuda.autoinit import context\n",
    "from pycuda import gpuarray as gp"
   ]
  },
  {
   "cell_type": "code",
   "execution_count": 8,
   "metadata": {},
   "outputs": [
    {
     "name": "stdout",
     "output_type": "stream",
     "text": [
      "PyHEADTAIL v1.13.1\n",
      "\n",
      "\n",
      "PyPIC v2.4.1\n",
      "Info: cusolver_Rf not found. GPU finite difference solver not available.\n"
     ]
    }
   ],
   "source": [
    "from PyHEADTAIL.general.element import Element\n",
    "from PyHEADTAIL.particles.generators import generate_Gaussian6DTwiss\n",
    "\n",
    "from PyHEADTAIL.particles.slicing import UniformBinSlicer\n",
    "from PyHEADTAIL.spacecharge.pypic_factory import create_3dmesh_from_beam\n",
    "from PyHEADTAIL.spacecharge.pypic_spacecharge import (\n",
    "    SpaceChargePIC, SpaceChargePIC_Adaptive25D)\n",
    "\n",
    "from PyHEADTAIL.general.contextmanager import GPU"
   ]
  },
  {
   "cell_type": "code",
   "execution_count": 9,
   "metadata": {},
   "outputs": [],
   "source": [
    "from PyPIC.GPU.poisson_solver.FFT_solver import GPUFFTPoissonSolver_2_5D\n",
    "from PyPIC.GPU.pypic import PyPIC_GPU\n",
    "\n",
    "# not necessary but nice: memory pool sharing between PyHEADTAIL and PyPIC\n",
    "try:\n",
    "    from PyHEADTAIL.gpu.gpu_utils import memory_pool\n",
    "except:\n",
    "    memory_pool = None"
   ]
  },
  {
   "cell_type": "markdown",
   "metadata": {},
   "source": [
    "$\\implies$ for the moment for protons"
   ]
  },
  {
   "cell_type": "code",
   "execution_count": 10,
   "metadata": {},
   "outputs": [],
   "source": [
    "n_macroparticles = int(1e4)\n",
    "n_slices_sc = 32\n",
    "\n",
    "# fixed field map for space charge\n",
    "n_mesh_nodes = 128\n",
    "n_mesh_sigma = 5\n",
    "\n",
    "intensity = 1.3e11\n",
    "epsn_x = epsn_y = 3e-6 # in [m.rad]\n",
    "sigma_z = 0.23 # in [m]\n",
    "\n",
    "p0c = 6 * 1e9 # in eV\n",
    "\n",
    "Etot = np.sqrt(p0c**2 + (m_p/e)**2 * c**4) * 1e-9 # in GeV\n",
    "p0 = p0c / c * e\n",
    "gamma = np.sqrt(1 + (p0 / (m_p * c))**2)\n",
    "beta = np.sqrt(1 - gamma**-2)\n",
    "beta_z = 1 #np.abs(eta) * circumference / (2 * np.pi * Qs)\n",
    "epsn_z = sigma_z**2 * 4 * np.pi * p0 / (e * beta_z)"
   ]
  },
  {
   "cell_type": "code",
   "execution_count": 11,
   "metadata": {},
   "outputs": [],
   "source": [
    "def provide_pycuda_array(ptr):\n",
    "    return gp.GPUArray(n_macroparticles, dtype=np.float64, gpudata=ptr)"
   ]
  },
  {
   "cell_type": "markdown",
   "metadata": {},
   "source": [
    "# Preparing lattice"
   ]
  },
  {
   "cell_type": "code",
   "execution_count": 12,
   "metadata": {},
   "outputs": [
    {
     "name": "stdout",
     "output_type": "stream",
     "text": [
      "\n",
      "  ++++++++++++++++++++++++++++++++++++++++++++\n",
      "  +     MAD-X 5.05.01  (64 bit, Linux)       +\n",
      "  + Support: mad@cern.ch, http://cern.ch/mad +\n",
      "  + Release   date: 2019.06.07               +\n",
      "  + Execution date: 2019.06.25 16:34:45      +\n",
      "  ++++++++++++++++++++++++++++++++++++++++++++\n"
     ]
    }
   ],
   "source": [
    "madx = Madx()\n",
    "madx.options.echo = False"
   ]
  },
  {
   "cell_type": "code",
   "execution_count": 13,
   "metadata": {},
   "outputs": [],
   "source": [
    "madx.call(file=\"sis18_thin.seq\")"
   ]
  },
  {
   "cell_type": "code",
   "execution_count": 14,
   "metadata": {},
   "outputs": [
    {
     "data": {
      "text/plain": [
       "True"
      ]
     },
     "execution_count": 14,
     "metadata": {},
     "output_type": "execute_result"
    }
   ],
   "source": [
    "madx.command.beam(particle='proton', energy=str(Etot)) # energy in GeV"
   ]
  },
  {
   "cell_type": "code",
   "execution_count": 15,
   "metadata": {},
   "outputs": [],
   "source": [
    "madx.use(sequence=\"FODO\")"
   ]
  },
  {
   "cell_type": "code",
   "execution_count": 16,
   "metadata": {},
   "outputs": [
    {
     "name": "stdout",
     "output_type": "stream",
     "text": [
      "enter Twiss module\n",
      "  \n",
      "iteration:   1 error:   0.000000E+00 deltap:   0.000000E+00\n",
      "orbit:   0.000000E+00  0.000000E+00  0.000000E+00  0.000000E+00  0.000000E+00  0.000000E+00\n",
      "\n",
      "++++++ table: summ\n",
      "\n",
      "            length             orbit5               alfa            gammatr \n",
      "       216.7081404                 -0      0.03859155171         5.09042308 \n",
      "\n",
      "                q1                dq1            betxmax              dxmax \n",
      "       4.577598169       -4.337325087        15.52637808        2.457595991 \n",
      "\n",
      "             dxrms             xcomax             xcorms                 q2 \n",
      "       1.851915623                  0                  0        2.718441832 \n",
      "\n",
      "               dq2            betymax              dymax              dyrms \n",
      "       -6.04407507        33.60548239                  0                  0 \n",
      "\n",
      "            ycomax             ycorms             deltap            synch_1 \n",
      "                 0                  0                  0                  0 \n",
      "\n",
      "           synch_2            synch_3            synch_4            synch_5 \n",
      "                 0                  0                  0                  0 \n",
      "\n",
      "            nflips \n",
      "                 0 \n"
     ]
    }
   ],
   "source": [
    "twiss = madx.twiss();"
   ]
  },
  {
   "cell_type": "code",
   "execution_count": 17,
   "metadata": {},
   "outputs": [],
   "source": [
    "circumference = twiss.summary.length\n",
    "assert circumference == twiss['s'][-1]"
   ]
  },
  {
   "cell_type": "markdown",
   "metadata": {},
   "source": [
    "Injecting SC markers a la Hannes:"
   ]
  },
  {
   "cell_type": "code",
   "execution_count": 18,
   "metadata": {},
   "outputs": [
    {
     "data": {
      "text/plain": [
       "2.1670814039999997"
      ]
     },
     "execution_count": 18,
     "metadata": {},
     "output_type": "execute_result"
    }
   ],
   "source": [
    "n_scnodes = 5*20 #12*20\n",
    "l_target = circumference / n_scnodes\n",
    "l_target"
   ]
  },
  {
   "cell_type": "code",
   "execution_count": 19,
   "metadata": {},
   "outputs": [
    {
     "name": "stdout",
     "output_type": "stream",
     "text": [
      "s                  =        8.871664737 ;\n",
      "s                  =        11.03874614 ;\n",
      "s                  =        13.20582755 ;\n",
      "s                  =        26.93067644 ;\n",
      "s                  =        29.09775784 ;\n",
      "s                  =        31.26483925 ;\n",
      "s                  =        44.98968814 ;\n",
      "s                  =        47.15676954 ;\n",
      "s                  =        49.32385095 ;\n",
      "s                  =        63.04869984 ;\n",
      "s                  =        65.21578124 ;\n",
      "s                  =        67.38286265 ;\n",
      "s                  =        81.10771154 ;\n",
      "s                  =        83.27479294 ;\n",
      "s                  =        85.44187435 ;\n",
      "s                  =        99.16672324 ;\n",
      "s                  =        101.3338046 ;\n",
      "s                  =         103.500886 ;\n",
      "s                  =        117.2257349 ;\n",
      "s                  =        119.3928163 ;\n",
      "s                  =        121.5598977 ;\n",
      "s                  =        135.2847466 ;\n",
      "s                  =         137.451828 ;\n",
      "s                  =        139.6189094 ;\n",
      "s                  =        153.3437583 ;\n",
      "s                  =        155.5108397 ;\n",
      "s                  =        157.6779211 ;\n",
      "s                  =          171.40277 ;\n",
      "s                  =        173.5698514 ;\n",
      "s                  =        175.7369328 ;\n",
      "s                  =        189.4617817 ;\n",
      "s                  =        191.6288631 ;\n",
      "s                  =        193.7959445 ;\n",
      "s                  =        207.5207934 ;\n",
      "s                  =        209.6878748 ;\n",
      "s                  =        211.8549562 ;\n",
      "++++++ info: seqedit - number of elements installed:  36\n",
      "++++++ info: seqedit - number of elements moved:      0\n",
      "++++++ info: seqedit - number of elements removed:    0\n",
      "++++++ info: seqedit - number of elements replaced:   0\n"
     ]
    },
    {
     "data": {
      "text/plain": [
       "True"
      ]
     },
     "execution_count": 19,
     "metadata": {},
     "output_type": "execute_result"
    }
   ],
   "source": [
    "madx.input(\"\"\"\n",
    "myvalue(xx,yy,zz): macro = {myval = table(xx,yy,zz);};\n",
    "\n",
    "sc_placeholder : Marker; \n",
    "option, -info;\n",
    "l_target = \"\"\" + str(l_target) + \"\"\";\n",
    "l_fuzz = l_target/2.;\n",
    "rows = table(twiss,tablelength);\n",
    "seqedit, sequence=FODO;\n",
    "while(i<rows){\n",
    "    i = i+1;\n",
    "    exec, myvalue(twiss,l,$i);\n",
    "    length = myval;\n",
    "    if(length > l_target + l_fuzz){\n",
    "        ! value, length;\n",
    "        l_remaining = length;\n",
    "        exec, myvalue(twiss,s,$i);\n",
    "        s = myval - length;\n",
    "        while (l_remaining > l_target){\n",
    "            s = s + l_target;\n",
    "            value, s;\n",
    "            install, element=sc_placeholder, at=s;\n",
    "            l_remaining = l_remaining - l_target;\n",
    "        }\n",
    "    }\n",
    "}\n",
    "flatten;\n",
    "option, info;\n",
    "endedit;\n",
    "\"\"\")"
   ]
  },
  {
   "cell_type": "code",
   "execution_count": 20,
   "metadata": {},
   "outputs": [],
   "source": [
    "madx.use(sequence='FODO')"
   ]
  },
  {
   "cell_type": "markdown",
   "metadata": {},
   "source": [
    "# Preparing PyHEADTAIL beam"
   ]
  },
  {
   "cell_type": "code",
   "execution_count": 21,
   "metadata": {},
   "outputs": [],
   "source": [
    "D_x_0 = twiss['dx'][0] * beta\n",
    "D_y_0 = twiss['dy'][0] * beta\n",
    "\n",
    "pyht_beam = generate_Gaussian6DTwiss(\n",
    "    n_macroparticles, intensity, e, m_p, circumference, gamma,\n",
    "    twiss['alfx'][0], twiss['alfy'][0], twiss['betx'][0], twiss['bety'][0],\n",
    "    beta_z, epsn_x, epsn_y, epsn_z, \n",
    "    dispersion_x=D_x_0 if D_x_0 else None,\n",
    "    dispersion_y=D_y_0 if D_y_0 else None,\n",
    ")"
   ]
  },
  {
   "cell_type": "markdown",
   "metadata": {},
   "source": [
    "# Preparing PySTL for GPU"
   ]
  },
  {
   "cell_type": "code",
   "execution_count": 22,
   "metadata": {},
   "outputs": [],
   "source": [
    "pyst_beam = pyst.Particles.from_ref(num_particles=n_macroparticles, p0c=p0c)"
   ]
  },
  {
   "cell_type": "code",
   "execution_count": 23,
   "metadata": {},
   "outputs": [],
   "source": [
    "elements = pyst.Elements.from_mad(madx.sequence.FODO, exact_drift=True)"
   ]
  },
  {
   "cell_type": "code",
   "execution_count": 24,
   "metadata": {},
   "outputs": [],
   "source": [
    "assert (\n",
    "    len(elements.get_elements()) // 2 + 1 == \n",
    "    len(madx.sequence.FODO.elements)\n",
    "), ( \n",
    "    \"Did not generate the same number of PySixTrackLib \"\n",
    "    \"lattice elements as there are in the MAD-X lattice! \"\n",
    "    \"This will mess up the computation of SC node lengths...\"\n",
    ")"
   ]
  },
  {
   "cell_type": "code",
   "execution_count": 25,
   "metadata": {},
   "outputs": [],
   "source": [
    "elements.BeamMonitor();"
   ]
  },
  {
   "cell_type": "code",
   "execution_count": 26,
   "metadata": {},
   "outputs": [],
   "source": [
    "trackjob = pyst.CudaTrackJob(elements, pyst_beam, until_turn_elem_by_elem=True)"
   ]
  },
  {
   "cell_type": "code",
   "execution_count": 27,
   "metadata": {},
   "outputs": [],
   "source": [
    "from pycuda.driver import memcpy_atoa, memcpy_dtod, memcpy_dtod_async"
   ]
  },
  {
   "cell_type": "code",
   "execution_count": 28,
   "metadata": {},
   "outputs": [],
   "source": [
    "class TrackSixTrackLib(Element):\n",
    "    def __init__(self, trackjob, i_start, i_end, context=context):\n",
    "        self.trackjob = trackjob\n",
    "        self.context = context\n",
    "        \n",
    "        self.i_start = i_start\n",
    "        self.i_end = i_end\n",
    "        n_elements = len(elements.get_elements())\n",
    "        self.is_last_element = i_end == n_elements\n",
    "        \n",
    "        trackjob.fetch_particle_addresses()\n",
    "        assert trackjob.last_status_success\n",
    "        ptr = trackjob.get_particle_addresses() # particleset==0 is default\n",
    "        \n",
    "        self._x = provide_pycuda_array(ptr.contents.x)\n",
    "        self._px = provide_pycuda_array(ptr.contents.px)\n",
    "        self._y = provide_pycuda_array(ptr.contents.y)\n",
    "        self._py = provide_pycuda_array(ptr.contents.py)\n",
    "        self._z = provide_pycuda_array(ptr.contents.zeta)\n",
    "        self._delta = provide_pycuda_array(ptr.contents.delta)\n",
    "\n",
    "    def track(self, beam):\n",
    "        # pass arrays and convert units\n",
    "        self.pyht_to_stlib(beam)\n",
    "        # track in SixTrackLib\n",
    "        trackjob.track_line(self.i_start, self.i_end, \n",
    "                            finish_turn=self.is_last_element)\n",
    "        self.context.synchronize()\n",
    "        assert trackjob.last_track_status_success\n",
    "        # pass arrays back (converting units back)\n",
    "        self.stlib_to_pyht(beam)\n",
    "\n",
    "    def pyht_to_stlib(self, beam):\n",
    "        self.memcpy(self._x, beam.x)\n",
    "        self.memcpy(self._px, beam.xp)\n",
    "        self.memcpy(self._y, beam.y)\n",
    "        self.memcpy(self._py, beam.yp)\n",
    "        self.memcpy(self._z, beam.z)\n",
    "        self.memcpy(self._delta, beam.dp)\n",
    "        self.context.synchronize()\n",
    "\n",
    "    @staticmethod\n",
    "    def memcpy(dest, src):\n",
    "        '''device memory copy with pycuda from src GPUArray to dest GPUArray.'''\n",
    "#         dest[:] = src\n",
    "#         memcpy_atoa(dest, 0, src, 0, len(src))\n",
    "        memcpy_dtod_async(dest.gpudata, src.gpudata, len(src))\n",
    "    \n",
    "    def stlib_to_pyht(self, beam):\n",
    "        beam.x = self._x\n",
    "        beam.xp = self._px\n",
    "        beam.y = self._y\n",
    "        beam.yp = self._py\n",
    "        beam.z = self._z\n",
    "        beam.dp = self._delta"
   ]
  },
  {
   "cell_type": "markdown",
   "metadata": {},
   "source": [
    "# Preparing Tracking lattice"
   ]
  },
  {
   "cell_type": "code",
   "execution_count": 29,
   "metadata": {},
   "outputs": [],
   "source": [
    "idx_mad_sc = [i for i, name in enumerate(madx.sequence.FODO.element_names()) \n",
    "              if 'sc_placeholder' in name]\n",
    "sc_optics = {\n",
    "    'beta_x': twiss['betx'][idx_mad_sc],\n",
    "    'beta_y': twiss['bety'][idx_mad_sc],\n",
    "    'x': twiss['x'][idx_mad_sc],\n",
    "    'y': twiss['y'][idx_mad_sc],\n",
    "    's': twiss['s'][idx_mad_sc]\n",
    "}"
   ]
  },
  {
   "cell_type": "code",
   "execution_count": 30,
   "metadata": {},
   "outputs": [],
   "source": [
    "sig_x = np.sqrt(sc_optics['beta_x'].max() * epsn_x / (beta * gamma))\n",
    "sig_y = np.sqrt(sc_optics['beta_y'].max() * epsn_y / (beta * gamma))"
   ]
  },
  {
   "cell_type": "code",
   "execution_count": 31,
   "metadata": {},
   "outputs": [],
   "source": [
    "slicer_sc = UniformBinSlicer(n_slices_sc, n_sigma_z=4) #z_cuts=slicing_interval)"
   ]
  },
  {
   "cell_type": "code",
   "execution_count": 32,
   "metadata": {},
   "outputs": [],
   "source": [
    "mesh_3d = create_3dmesh_from_beam(pyht_beam, [n_mesh_nodes]*2, [n_mesh_sigma]*2, \n",
    "                                  slices=pyht_beam.get_slices(slicer_sc))"
   ]
  },
  {
   "cell_type": "code",
   "execution_count": 33,
   "metadata": {},
   "outputs": [],
   "source": [
    "poissonsolver = GPUFFTPoissonSolver_2_5D(mesh_3d, context=context, save_memory=False)\n",
    "pypic_algorithm = PyPIC_GPU(mesh_3d, poissonsolver, context=context, \n",
    "                            memory_pool=memory_pool)"
   ]
  },
  {
   "cell_type": "code",
   "execution_count": 34,
   "metadata": {},
   "outputs": [
    {
     "data": {
      "text/plain": [
       "216.7081404"
      ]
     },
     "execution_count": 34,
     "metadata": {},
     "output_type": "execute_result"
    }
   ],
   "source": [
    "circumference"
   ]
  },
  {
   "cell_type": "code",
   "execution_count": 35,
   "metadata": {},
   "outputs": [
    {
     "data": {
      "text/plain": [
       "216.7081404"
      ]
     },
     "execution_count": 35,
     "metadata": {},
     "output_type": "execute_result"
    }
   ],
   "source": [
    "sum(el.length for el in elements.get_elements() if isinstance(el, pyst.DriftExact))"
   ]
  },
  {
   "cell_type": "code",
   "execution_count": 36,
   "metadata": {},
   "outputs": [],
   "source": [
    "one_turn_map = []\n",
    "\n",
    "i_last = 1\n",
    "length_covered = 0\n",
    "for i_curr, el in enumerate(elements.get_elements()[:-1]):\n",
    "    if not isinstance(el, pyst.DriftExact):\n",
    "        continue\n",
    "    length_covered += el.length\n",
    "    \n",
    "    #i_curr == 0 or \n",
    "    if el.length != 0: # only inject SC node at markers (for SC)\n",
    "        continue\n",
    "    \n",
    "    pyst_node = TrackSixTrackLib(trackjob, i_last, i_curr + 1)# - 1)\n",
    "    one_turn_map.append(pyst_node)\n",
    "    \n",
    "    sc_node = SpaceChargePIC(length_covered, pypic_algorithm)\n",
    "    one_turn_map.append(sc_node)\n",
    "    \n",
    "    i_last = i_curr\n",
    "    length_covered = 0\n",
    "\n",
    "# assert pyst_node.i_end == len(elements.get_elements()) - 3\n",
    "assert el._offset == elements.get_elements()[-2]._offset\n",
    "assert isinstance(el, pyst.DriftExact)\n",
    "assert el.length == 0\n",
    "\n",
    "pyst_node.is_last_element = True"
   ]
  },
  {
   "cell_type": "markdown",
   "metadata": {},
   "source": [
    "# Cross-check single-particle tracking model physics\n",
    "\n",
    "Comparing split `TrackSixTrackLib.track` vs. `trackjob.track_elem_by_elem`"
   ]
  },
  {
   "cell_type": "markdown",
   "metadata": {},
   "source": [
    "## run in one go with `track_elem_by_elem`"
   ]
  },
  {
   "cell_type": "code",
   "execution_count": 37,
   "metadata": {},
   "outputs": [],
   "source": [
    "D_x_0 = twiss['dx'][0] * beta\n",
    "D_y_0 = twiss['dy'][0] * beta\n",
    "\n",
    "np.random.seed(0)\n",
    "\n",
    "pyht_beam = generate_Gaussian6DTwiss(\n",
    "    n_macroparticles, intensity, e, m_p, circumference, gamma,\n",
    "    twiss['alfx'][0], twiss['alfy'][0], twiss['betx'][0], twiss['bety'][0],\n",
    "    beta_z, epsn_x, epsn_y, epsn_z, \n",
    "    dispersion_x=D_x_0 if D_x_0 else None,\n",
    "    dispersion_y=D_y_0 if D_y_0 else None,\n",
    ")"
   ]
  },
  {
   "cell_type": "code",
   "execution_count": 38,
   "metadata": {},
   "outputs": [],
   "source": [
    "with GPU(pyht_beam):\n",
    "    pyst_node.pyht_to_stlib(pyht_beam)"
   ]
  },
  {
   "cell_type": "code",
   "execution_count": 39,
   "metadata": {},
   "outputs": [
    {
     "data": {
      "text/plain": [
       "<pysixtracklib.cuda.CudaTrackJob at 0x7fcea80f1898>"
      ]
     },
     "execution_count": 39,
     "metadata": {},
     "output_type": "execute_result"
    }
   ],
   "source": [
    "trackjob.track_elem_by_elem(np.max(pyst_beam.at_turn) + 1)"
   ]
  },
  {
   "cell_type": "code",
   "execution_count": 40,
   "metadata": {},
   "outputs": [
    {
     "data": {
      "text/plain": [
       "True"
      ]
     },
     "execution_count": 40,
     "metadata": {},
     "output_type": "execute_result"
    }
   ],
   "source": [
    "trackjob.last_track_status_success"
   ]
  },
  {
   "cell_type": "code",
   "execution_count": 41,
   "metadata": {},
   "outputs": [
    {
     "data": {
      "text/plain": [
       "<pysixtracklib.cuda.CudaTrackJob at 0x7fcea80f1898>"
      ]
     },
     "execution_count": 41,
     "metadata": {},
     "output_type": "execute_result"
    }
   ],
   "source": [
    "trackjob.collect()"
   ]
  },
  {
   "cell_type": "code",
   "execution_count": 42,
   "metadata": {},
   "outputs": [],
   "source": [
    "x_pystl = trackjob.output.particles[0].x\n",
    "y_pystl = trackjob.output.particles[0].y\n",
    "\n",
    "x_pystl = x_pystl[0::n_macroparticles]#[1:][::2]\n",
    "y_pystl = y_pystl[0::n_macroparticles]#[1:][::2]"
   ]
  },
  {
   "cell_type": "code",
   "execution_count": 43,
   "metadata": {},
   "outputs": [],
   "source": [
    "s_positions_all = []\n",
    "for el in elements.get_elements():\n",
    "    if isinstance(el, pyst.DriftExact):\n",
    "        s_positions_all.append(el.length)\n",
    "    else:\n",
    "        s_positions_all.append(0)\n",
    "s_positions_all = np.cumsum(s_positions_all)"
   ]
  },
  {
   "cell_type": "code",
   "execution_count": 44,
   "metadata": {
    "scrolled": true
   },
   "outputs": [
    {
     "data": {
      "text/plain": [
       "[<matplotlib.lines.Line2D at 0x7fcea00ab5c0>]"
      ]
     },
     "execution_count": 44,
     "metadata": {},
     "output_type": "execute_result"
    },
    {
     "data": {
      "image/png": "[encoded data removed]",
      "text/plain": [
       "<Figure size 432x288 with 2 Axes>"
      ]
     },
     "metadata": {
      "needs_background": "light"
     },
     "output_type": "display_data"
    }
   ],
   "source": [
    "plt.plot(s_positions_all[0::2], x_pystl[0::2])\n",
    "plt.twinx()\n",
    "plt.grid(False)\n",
    "plt.plot(s_positions_all[0::2], y_pystl[0::2], color='orange')"
   ]
  },
  {
   "cell_type": "markdown",
   "metadata": {},
   "source": [
    "## run piecewise with `TrackSixTrackLib`"
   ]
  },
  {
   "cell_type": "code",
   "execution_count": 45,
   "metadata": {},
   "outputs": [],
   "source": [
    "one_turn_map_sp = [m for m in one_turn_map if isinstance(m, TrackSixTrackLib)]\n",
    "s_positions = np.cumsum([0] + list(m.length for m in one_turn_map if isinstance(m, SpaceChargePIC)))"
   ]
  },
  {
   "cell_type": "code",
   "execution_count": 46,
   "metadata": {},
   "outputs": [],
   "source": [
    "D_x_0 = twiss['dx'][0] * beta\n",
    "D_y_0 = twiss['dy'][0] * beta\n",
    "\n",
    "np.random.seed(0)\n",
    "\n",
    "pyht_beam = generate_Gaussian6DTwiss(\n",
    "    n_macroparticles, intensity, e, m_p, circumference, gamma,\n",
    "    twiss['alfx'][0], twiss['alfy'][0], twiss['betx'][0], twiss['bety'][0],\n",
    "    beta_z, epsn_x, epsn_y, epsn_z, \n",
    "    dispersion_x=D_x_0 if D_x_0 else None,\n",
    "    dispersion_y=D_y_0 if D_y_0 else None,\n",
    ")"
   ]
  },
  {
   "cell_type": "code",
   "execution_count": 47,
   "metadata": {},
   "outputs": [],
   "source": [
    "with GPU(pyht_beam):\n",
    "    one_turn_map_sp[0].pyht_to_stlib(pyht_beam)"
   ]
  },
  {
   "cell_type": "code",
   "execution_count": 48,
   "metadata": {},
   "outputs": [],
   "source": [
    "rec_x = np.empty(len(s_positions), dtype=float)\n",
    "rec_y = np.empty_like(rec_x)\n",
    "\n",
    "rec_x[0] = pyht_beam.x[0]\n",
    "rec_y[0] = pyht_beam.y[0]\n",
    "\n",
    "with GPU(pyht_beam):\n",
    "    for i, m in enumerate(one_turn_map_sp):\n",
    "        m.track(pyht_beam)\n",
    "        context.synchronize()\n",
    "        \n",
    "        rec_x[i+1] = pyht_beam.x[0].get()\n",
    "        rec_y[i+1] = pyht_beam.y[0].get()"
   ]
  },
  {
   "cell_type": "code",
   "execution_count": 49,
   "metadata": {
    "scrolled": true
   },
   "outputs": [
    {
     "data": {
      "text/plain": [
       "[<matplotlib.lines.Line2D at 0x7fcea006bef0>]"
      ]
     },
     "execution_count": 49,
     "metadata": {},
     "output_type": "execute_result"
    },
    {
     "data": {
      "image/png": "[encoded data removed]",
      "text/plain": [
       "<Figure size 432x288 with 2 Axes>"
      ]
     },
     "metadata": {
      "needs_background": "light"
     },
     "output_type": "display_data"
    }
   ],
   "source": [
    "plt.plot(s_positions, rec_x)\n",
    "plt.twinx()\n",
    "plt.grid(False)\n",
    "plt.plot(s_positions, rec_y, color='orange')"
   ]
  },
  {
   "cell_type": "markdown",
   "metadata": {},
   "source": [
    "## comparison"
   ]
  },
  {
   "cell_type": "code",
   "execution_count": 50,
   "metadata": {
    "scrolled": false
   },
   "outputs": [
    {
     "data": {
      "image/png": "[encoded data removed]",
      "text/plain": [
       "<Figure size 1080x576 with 1 Axes>"
      ]
     },
     "metadata": {
      "needs_background": "light"
     },
     "output_type": "display_data"
    }
   ],
   "source": [
    "plt.figure(figsize=(15, 8))\n",
    "plt.plot(s_positions_all[0::2], x_pystl[0::2], label='PySTL elem_by_elem')\n",
    "plt.plot(s_positions, rec_x, '.', label='TrackSixTrackLib')\n",
    "plt.legend();"
   ]
  },
  {
   "cell_type": "markdown",
   "metadata": {},
   "source": [
    "# Timing for $10^4$ macro-particles"
   ]
  },
  {
   "cell_type": "code",
   "execution_count": 51,
   "metadata": {},
   "outputs": [],
   "source": [
    "t0 = time.time()\n",
    "\n",
    "with GPU(pyht_beam):\n",
    "    for m in one_turn_map:\n",
    "        m.track(pyht_beam)\n",
    "    \n",
    "t1 = time.time()"
   ]
  },
  {
   "cell_type": "code",
   "execution_count": 52,
   "metadata": {},
   "outputs": [
    {
     "data": {
      "text/plain": [
       "2.408567428588867"
      ]
     },
     "execution_count": 52,
     "metadata": {},
     "output_type": "execute_result"
    }
   ],
   "source": [
    "t1 - t0"
   ]
  },
  {
   "cell_type": "code",
   "execution_count": 53,
   "metadata": {},
   "outputs": [
    {
     "name": "stdout",
     "output_type": "stream",
     "text": [
      " "
     ]
    }
   ],
   "source": [
    "with GPU(pyht_beam):\n",
    "    stats = %prun -r -q   for m in one_turn_map: m.track(pyht_beam)"
   ]
  },
  {
   "cell_type": "code",
   "execution_count": 54,
   "metadata": {},
   "outputs": [
    {
     "name": "stdout",
     "output_type": "stream",
     "text": [
      "         83793 function calls (83009 primitive calls) in 1.420 seconds\n",
      "\n",
      "   Ordered by: cumulative time\n",
      "   List reduced from 99 to 20 due to restriction <20>\n",
      "\n",
      "   ncalls  tottime  percall  cumtime  percall filename:lineno(function)\n",
      "        1    0.000    0.000    1.420    1.420 {built-in method builtins.exec}\n",
      "        1    0.001    0.001    1.420    1.420 <string>:1(<module>)\n",
      "       98    0.006    0.000    0.980    0.010 pypic_spacecharge.py:82(track)\n",
      "       98    0.172    0.002    0.925    0.009 pypic.py:676(pic_solve)\n",
      "       98    0.287    0.003    0.439    0.004 <ipython-input-28-2e4f057bb429>:22(track)\n",
      "       98    0.000    0.000    0.366    0.004 pypic.py:537(poisson_solve)\n",
      "       98    0.007    0.000    0.365    0.004 FFT_solver.py:382(poisson_solve)\n",
      "       98    0.197    0.002    0.303    0.003 FFT_solver.py:375(_solve_kernel_fast)\n",
      "       98    0.001    0.000    0.197    0.002 pypic.py:550(get_electric_fields)\n",
      "      686    0.002    0.000    0.175    0.000 contextmanager.py:82(_patch_binop)\n",
      "       98    0.151    0.002    0.164    0.002 gradient.py:57(_gradient)\n",
      "       98    0.119    0.001    0.151    0.002 pypic.py:385(particles_to_mesh)\n",
      "       98    0.143    0.001    0.149    0.002 <ipython-input-28-2e4f057bb429>:33(pyht_to_stlib)\n",
      "     1666    0.117    0.000    0.149    0.000 gpuarray.py:162(__init__)\n",
      "      490    0.001    0.000    0.140    0.000 gpuarray.py:485(__mul__)\n",
      "      980    0.003    0.000    0.128    0.000 gpuarray.py:412(_new_like_me)\n",
      "     1078    0.004    0.000    0.068    0.000 gpuarray.py:351(_axpbz)\n",
      "     1764    0.034    0.000    0.044    0.000 driver.py:493(function_prepared_async_call)\n",
      "     2352    0.005    0.000    0.042    0.000 __init__.py:575(wrapper)\n",
      "      980    0.001    0.000    0.035    0.000 gpuarray.py:225(flags)\n",
      "\n",
      "\n"
     ]
    },
    {
     "data": {
      "text/plain": [
       "<pstats.Stats at 0x7fce68303048>"
      ]
     },
     "execution_count": 54,
     "metadata": {},
     "output_type": "execute_result"
    }
   ],
   "source": [
    "stats.sort_stats(2).print_stats(20)"
   ]
  },
  {
   "cell_type": "code",
   "execution_count": 55,
   "metadata": {},
   "outputs": [
    {
     "name": "stdout",
     "output_type": "stream",
     "text": [
      " "
     ]
    }
   ],
   "source": [
    "with GPU(pyht_beam):\n",
    "    stats = %prun -r -q for m in one_turn_map_sp: m.track(pyht_beam)"
   ]
  },
  {
   "cell_type": "code",
   "execution_count": 56,
   "metadata": {},
   "outputs": [
    {
     "name": "stdout",
     "output_type": "stream",
     "text": [
      "         2845 function calls (2257 primitive calls) in 0.367 seconds\n",
      "\n",
      "   Ordered by: cumulative time\n",
      "\n",
      "   ncalls  tottime  percall  cumtime  percall filename:lineno(function)\n",
      "        1    0.000    0.000    0.367    0.367 {built-in method builtins.exec}\n",
      "        1    0.000    0.000    0.367    0.367 <string>:1(<module>)\n",
      "       98    0.230    0.002    0.367    0.004 <ipython-input-28-2e4f057bb429>:22(track)\n",
      "       98    0.129    0.001    0.135    0.001 <ipython-input-28-2e4f057bb429>:33(pyht_to_stlib)\n",
      "      588    0.005    0.000    0.006    0.000 <ipython-input-28-2e4f057bb429>:42(memcpy)\n",
      "       98    0.002    0.000    0.002    0.000 trackjob.py:487(track_line)\n",
      " 1176/588    0.000    0.000    0.001    0.000 {built-in method builtins.len}\n",
      "      588    0.000    0.000    0.000    0.000 gpuarray.py:605(__len__)\n",
      "       98    0.000    0.000    0.000    0.000 <ipython-input-28-2e4f057bb429>:49(stlib_to_pyht)\n",
      "       98    0.000    0.000    0.000    0.000 trackjob.py:337(last_track_status_success)\n",
      "        1    0.000    0.000    0.000    0.000 {method 'disable' of '_lsprof.Profiler' objects}\n",
      "\n",
      "\n"
     ]
    },
    {
     "data": {
      "text/plain": [
       "<pstats.Stats at 0x7fce682b3c50>"
      ]
     },
     "execution_count": 56,
     "metadata": {},
     "output_type": "execute_result"
    }
   ],
   "source": [
    "stats.sort_stats(2).print_stats(20)"
   ]
  },
  {
   "cell_type": "markdown",
   "metadata": {},
   "source": [
    ".\n",
    "\n",
    ".\n",
    "\n",
    ".\n",
    "\n",
    "============================================================================================================\n",
    "\n",
    "$\\implies$ `PySTL` single-particle tracking takes **0.37s** out of **1.4s**, the rest is due to `PyHEADTAIL` / `PyPIC` with the space charge kicks.\n",
    "\n",
    "============================================================================================================\n",
    "\n",
    ".\n",
    "\n",
    "."
   ]
  },
  {
   "cell_type": "code",
   "execution_count": 57,
   "metadata": {},
   "outputs": [],
   "source": [
    "%load_ext line_profiler"
   ]
  },
  {
   "cell_type": "code",
   "execution_count": 58,
   "metadata": {},
   "outputs": [],
   "source": [
    "with GPU(pyht_beam):\n",
    "    stats = %lprun -r -f TrackSixTrackLib.track   for m in one_turn_map_sp: m.track(pyht_beam)"
   ]
  },
  {
   "cell_type": "code",
   "execution_count": 59,
   "metadata": {},
   "outputs": [
    {
     "name": "stdout",
     "output_type": "stream",
     "text": [
      "Timer unit: 1e-06 s\n",
      "\n",
      "Total time: 0.359431 s\n",
      "File: <ipython-input-28-2e4f057bb429>\n",
      "Function: track at line 22\n",
      "\n",
      "Line #      Hits         Time  Per Hit   % Time  Line Contents\n",
      "==============================================================\n",
      "    22                                               def track(self, beam):\n",
      "    23                                                   # pass arrays and convert units\n",
      "    24        98     133615.0   1363.4     37.2          self.pyht_to_stlib(beam)\n",
      "    25                                                   # track in SixTrackLib\n",
      "    26        98        147.0      1.5      0.0          trackjob.track_line(self.i_start, self.i_end, \n",
      "    27        98       1745.0     17.8      0.5                              finish_turn=self.is_last_element)\n",
      "    28        98     223221.0   2277.8     62.1          self.context.synchronize()\n",
      "    29        98        284.0      2.9      0.1          assert trackjob.last_track_status_success\n",
      "    30                                                   # pass arrays back (converting units back)\n",
      "    31        98        419.0      4.3      0.1          self.stlib_to_pyht(beam)\n",
      "\n"
     ]
    }
   ],
   "source": [
    "stats.print_stats()"
   ]
  },
  {
   "cell_type": "markdown",
   "metadata": {},
   "source": [
    "# Timing for $10^6$ instead of $10^4$ macro-particles"
   ]
  },
  {
   "cell_type": "code",
   "execution_count": 60,
   "metadata": {},
   "outputs": [],
   "source": [
    "n_macroparticles = int(1e6)"
   ]
  },
  {
   "cell_type": "code",
   "execution_count": 61,
   "metadata": {},
   "outputs": [],
   "source": [
    "D_x_0 = twiss['dx'][0] * beta\n",
    "D_y_0 = twiss['dy'][0] * beta\n",
    "\n",
    "np.random.seed(0)\n",
    "\n",
    "pyht_beam = generate_Gaussian6DTwiss(\n",
    "    n_macroparticles, intensity, e, m_p, circumference, gamma,\n",
    "    twiss['alfx'][0], twiss['alfy'][0], twiss['betx'][0], twiss['bety'][0],\n",
    "    beta_z, epsn_x, epsn_y, epsn_z, \n",
    "    dispersion_x=D_x_0 if D_x_0 else None,\n",
    "    dispersion_y=D_y_0 if D_y_0 else None,\n",
    ")"
   ]
  },
  {
   "cell_type": "code",
   "execution_count": 62,
   "metadata": {},
   "outputs": [],
   "source": [
    "del trackjob, pyst_beam"
   ]
  },
  {
   "cell_type": "code",
   "execution_count": 63,
   "metadata": {},
   "outputs": [],
   "source": [
    "pyst_beam = pyst.Particles.from_ref(num_particles=n_macroparticles, p0c=p0c)"
   ]
  },
  {
   "cell_type": "code",
   "execution_count": 64,
   "metadata": {},
   "outputs": [],
   "source": [
    "trackjob = pyst.CudaTrackJob(elements, pyst_beam)"
   ]
  },
  {
   "cell_type": "code",
   "execution_count": 65,
   "metadata": {},
   "outputs": [],
   "source": [
    "for m in one_turn_map_sp:\n",
    "    m.trackjob = trackjob"
   ]
  },
  {
   "cell_type": "code",
   "execution_count": 66,
   "metadata": {},
   "outputs": [
    {
     "name": "stdout",
     "output_type": "stream",
     "text": [
      " "
     ]
    }
   ],
   "source": [
    "with GPU(pyht_beam):\n",
    "    stats = %prun -r -q   for m in one_turn_map: m.track(pyht_beam)"
   ]
  },
  {
   "cell_type": "code",
   "execution_count": 67,
   "metadata": {},
   "outputs": [
    {
     "name": "stdout",
     "output_type": "stream",
     "text": [
      "         83793 function calls (83009 primitive calls) in 1.509 seconds\n",
      "\n",
      "   Ordered by: cumulative time\n",
      "   List reduced from 99 to 20 due to restriction <20>\n",
      "\n",
      "   ncalls  tottime  percall  cumtime  percall filename:lineno(function)\n",
      "        1    0.000    0.000    1.509    1.509 {built-in method builtins.exec}\n",
      "        1    0.001    0.001    1.509    1.509 <string>:1(<module>)\n",
      "       98    0.006    0.000    0.962    0.010 pypic_spacecharge.py:82(track)\n",
      "       98    0.149    0.002    0.899    0.009 pypic.py:676(pic_solve)\n",
      "       98    0.411    0.004    0.546    0.006 <ipython-input-28-2e4f057bb429>:22(track)\n",
      "       98    0.000    0.000    0.385    0.004 pypic.py:537(poisson_solve)\n",
      "       98    0.008    0.000    0.384    0.004 FFT_solver.py:382(poisson_solve)\n",
      "       98    0.197    0.002    0.315    0.003 FFT_solver.py:375(_solve_kernel_fast)\n",
      "      686    0.003    0.000    0.195    0.000 contextmanager.py:82(_patch_binop)\n",
      "       98    0.001    0.000    0.177    0.002 pypic.py:550(get_electric_fields)\n",
      "     1666    0.130    0.000    0.165    0.000 gpuarray.py:162(__init__)\n",
      "      490    0.002    0.000    0.157    0.000 gpuarray.py:485(__mul__)\n",
      "       98    0.107    0.001    0.144    0.001 pypic.py:385(particles_to_mesh)\n",
      "      980    0.004    0.000    0.142    0.000 gpuarray.py:412(_new_like_me)\n",
      "       98    0.126    0.001    0.141    0.001 gradient.py:57(_gradient)\n",
      "       98    0.125    0.001    0.132    0.001 <ipython-input-28-2e4f057bb429>:33(pyht_to_stlib)\n",
      "     1078    0.005    0.000    0.077    0.000 gpuarray.py:351(_axpbz)\n",
      "     1764    0.038    0.000    0.049    0.000 driver.py:493(function_prepared_async_call)\n",
      "     2352    0.006    0.000    0.048    0.000 __init__.py:575(wrapper)\n",
      "      980    0.001    0.000    0.039    0.000 gpuarray.py:225(flags)\n",
      "\n",
      "\n"
     ]
    },
    {
     "data": {
      "text/plain": [
       "<pstats.Stats at 0x7fce682b3ba8>"
      ]
     },
     "execution_count": 67,
     "metadata": {},
     "output_type": "execute_result"
    }
   ],
   "source": [
    "stats.sort_stats(2).print_stats(20)"
   ]
  },
  {
   "cell_type": "code",
   "execution_count": 68,
   "metadata": {},
   "outputs": [
    {
     "name": "stdout",
     "output_type": "stream",
     "text": [
      " "
     ]
    }
   ],
   "source": [
    "with GPU(pyht_beam):\n",
    "    stats = %prun -r -q for m in one_turn_map_sp: m.track(pyht_beam)"
   ]
  },
  {
   "cell_type": "code",
   "execution_count": 69,
   "metadata": {},
   "outputs": [
    {
     "name": "stdout",
     "output_type": "stream",
     "text": [
      "         2845 function calls (2257 primitive calls) in 0.567 seconds\n",
      "\n",
      "   Ordered by: cumulative time\n",
      "\n",
      "   ncalls  tottime  percall  cumtime  percall filename:lineno(function)\n",
      "        1    0.000    0.000    0.567    0.567 {built-in method builtins.exec}\n",
      "        1    0.000    0.000    0.567    0.567 <string>:1(<module>)\n",
      "       98    0.406    0.004    0.567    0.006 <ipython-input-28-2e4f057bb429>:22(track)\n",
      "       98    0.152    0.002    0.158    0.002 <ipython-input-28-2e4f057bb429>:33(pyht_to_stlib)\n",
      "      588    0.006    0.000    0.006    0.000 <ipython-input-28-2e4f057bb429>:42(memcpy)\n",
      "       98    0.002    0.000    0.002    0.000 trackjob.py:487(track_line)\n",
      " 1176/588    0.000    0.000    0.001    0.000 {built-in method builtins.len}\n",
      "      588    0.000    0.000    0.001    0.000 gpuarray.py:605(__len__)\n",
      "       98    0.000    0.000    0.000    0.000 <ipython-input-28-2e4f057bb429>:49(stlib_to_pyht)\n",
      "       98    0.000    0.000    0.000    0.000 trackjob.py:337(last_track_status_success)\n",
      "        1    0.000    0.000    0.000    0.000 {method 'disable' of '_lsprof.Profiler' objects}\n",
      "\n",
      "\n"
     ]
    },
    {
     "data": {
      "text/plain": [
       "<pstats.Stats at 0x7fce68309518>"
      ]
     },
     "execution_count": 69,
     "metadata": {},
     "output_type": "execute_result"
    }
   ],
   "source": [
    "stats.sort_stats(2).print_stats(20)"
   ]
  },
  {
   "cell_type": "code",
   "execution_count": 70,
   "metadata": {},
   "outputs": [],
   "source": [
    "with GPU(pyht_beam):\n",
    "    stats = %lprun -r -f TrackSixTrackLib.track   for m in one_turn_map_sp: m.track(pyht_beam)"
   ]
  },
  {
   "cell_type": "code",
   "execution_count": 71,
   "metadata": {},
   "outputs": [
    {
     "name": "stdout",
     "output_type": "stream",
     "text": [
      "Timer unit: 1e-06 s\n",
      "\n",
      "Total time: 0.569405 s\n",
      "File: <ipython-input-28-2e4f057bb429>\n",
      "Function: track at line 22\n",
      "\n",
      "Line #      Hits         Time  Per Hit   % Time  Line Contents\n",
      "==============================================================\n",
      "    22                                               def track(self, beam):\n",
      "    23                                                   # pass arrays and convert units\n",
      "    24        98     157739.0   1609.6     27.7          self.pyht_to_stlib(beam)\n",
      "    25                                                   # track in SixTrackLib\n",
      "    26        98        165.0      1.7      0.0          trackjob.track_line(self.i_start, self.i_end, \n",
      "    27        98       1829.0     18.7      0.3                              finish_turn=self.is_last_element)\n",
      "    28        98     409108.0   4174.6     71.8          self.context.synchronize()\n",
      "    29        98        208.0      2.1      0.0          assert trackjob.last_track_status_success\n",
      "    30                                                   # pass arrays back (converting units back)\n",
      "    31        98        356.0      3.6      0.1          self.stlib_to_pyht(beam)\n",
      "\n"
     ]
    }
   ],
   "source": [
    "stats.print_stats()"
   ]
  },
  {
   "cell_type": "markdown",
   "metadata": {},
   "source": [
    ".\n",
    "\n",
    ".\n",
    "\n",
    ".\n",
    "\n",
    "============================================================================================================\n",
    "\n",
    "$\\implies$ `PySTL` single-particle tracking takes **0.57s** out of **1.5s**, the rest is due to `PyHEADTAIL` / `PyPIC` with the space charge kicks.\n",
    "\n",
    "============================================================================================================\n",
    "\n",
    ".\n",
    "\n",
    "."
   ]
  }
 ],
 "metadata": {
  "kernelspec": {
   "display_name": "Python 3",
   "language": "python",
   "name": "python3"
  },
  "language_info": {
   "codemirror_mode": {
    "name": "ipython",
    "version": 3
   },
   "file_extension": ".py",
   "mimetype": "text/x-python",
   "name": "python",
   "nbconvert_exporter": "python",
   "pygments_lexer": "ipython3",
   "version": "3.7.3"
  }
 },
 "nbformat": 4,
 "nbformat_minor": 2
}
